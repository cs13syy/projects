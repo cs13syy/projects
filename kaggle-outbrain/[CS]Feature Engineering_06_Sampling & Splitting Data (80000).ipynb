{
 "cells": [
  {
   "cell_type": "markdown",
   "metadata": {},
   "source": [
    "## Sampling & Splitting Data"
   ]
  },
  {
   "cell_type": "markdown",
   "metadata": {},
   "source": [
    "## Part A: 분석을 위한 환경 설정"
   ]
  },
  {
   "cell_type": "markdown",
   "metadata": {},
   "source": [
    "### 모듈/패키지 로드"
   ]
  },
  {
   "cell_type": "code",
   "execution_count": 1,
   "metadata": {},
   "outputs": [],
   "source": [
    "evaluation = True\n",
    "evaluation_verbose = False\n",
    "\n",
    "OUTPUT_BUCKET_FOLDER = \"gs://cap-18/output/\"\n",
    "DATA_BUCKET_FOLDER = \"gs://cap-18/data/\""
   ]
  },
  {
   "cell_type": "code",
   "execution_count": 2,
   "metadata": {},
   "outputs": [],
   "source": [
    "from IPython.display import display"
   ]
  },
  {
   "cell_type": "code",
   "execution_count": 3,
   "metadata": {},
   "outputs": [],
   "source": [
    "from pyspark.sql.types import *\n",
    "import pyspark.sql.functions as F\n",
    "from pyspark.ml.linalg import Vectors, SparseVector, VectorUDT"
   ]
  },
  {
   "cell_type": "code",
   "execution_count": 4,
   "metadata": {},
   "outputs": [],
   "source": [
    "from IPython.core.interactiveshell import InteractiveShell \n",
    "InteractiveShell.ast_node_interactivity = \"all\" # 한 셀(cell)에서의 코드 실행 결과가 다 보이도록 설정"
   ]
  },
  {
   "cell_type": "code",
   "execution_count": 5,
   "metadata": {},
   "outputs": [],
   "source": [
    "import numpy as np\n",
    "import scipy.sparse"
   ]
  },
  {
   "cell_type": "code",
   "execution_count": 6,
   "metadata": {},
   "outputs": [],
   "source": [
    "import warnings \n",
    "warnings.filterwarnings('ignore') # warning 메시지 반환되지 않도록 설정"
   ]
  },
  {
   "cell_type": "code",
   "execution_count": 7,
   "metadata": {},
   "outputs": [],
   "source": [
    "import math\n",
    "import datetime\n",
    "import time\n",
    "import itertools"
   ]
  },
  {
   "cell_type": "code",
   "execution_count": 8,
   "metadata": {},
   "outputs": [],
   "source": [
    "import pickle"
   ]
  },
  {
   "cell_type": "code",
   "execution_count": 9,
   "metadata": {},
   "outputs": [],
   "source": [
    "import random\n",
    "random.seed(42)"
   ]
  },
  {
   "cell_type": "code",
   "execution_count": 11,
   "metadata": {},
   "outputs": [],
   "source": [
    "import pandas as pd\n",
    "%matplotlib inline"
   ]
  },
  {
   "cell_type": "markdown",
   "metadata": {},
   "source": [
    "## Part B: 변수별 결측치 확인"
   ]
  },
  {
   "cell_type": "code",
   "execution_count": 8,
   "metadata": {},
   "outputs": [],
   "source": [
    "# 테이블 로드\n",
    "train_valid_merged_df = spark.read.parquet(\"gs://cap-18/output/train_subset_final\")"
   ]
  },
  {
   "cell_type": "code",
   "execution_count": 12,
   "metadata": {},
   "outputs": [],
   "source": [
    "## cf) 판다스 데이터 프레임 구조 깨지지 않게 보기:\n",
    "pd.set_option('display.max_columns', 100)"
   ]
  },
  {
   "cell_type": "code",
   "execution_count": 10,
   "metadata": {},
   "outputs": [],
   "source": [
    "documents_categories_schema = StructType(\n",
    "                    [StructField(\"document_id_cat\", IntegerType(), True),\n",
    "                    StructField(\"category_id\", IntegerType(), True),                    \n",
    "                    StructField(\"confidence_level_cat\", FloatType(), True)]\n",
    "                    )\n",
    "\n",
    "documents_categories_df = spark.read.schema(documents_categories_schema).options(header='true', inferschema='false', nullValue='\\\\N') \\\n",
    "                .csv(DATA_BUCKET_FOLDER+\"documents_categories.csv\") \\\n",
    "                .alias('documents_categories').cache()\n",
    "    \n",
    "documents_categories_grouped_df = documents_categories_df.groupBy('document_id_cat') \\\n",
    "                                            .agg(F.collect_list('category_id').alias('category_id_list'),\n",
    "                                                 F.collect_list('confidence_level_cat').alias('confidence_level_cat_list')) \\\n",
    "                                            .withColumn('dummyDocumentsCategory', F.lit(1)) \\\n",
    "                                            .alias('documents_categories_grouped')"
   ]
  },
  {
   "cell_type": "code",
   "execution_count": 13,
   "metadata": {},
   "outputs": [],
   "source": [
    "documents_topics_schema = StructType(\n",
    "                    [StructField(\"document_id_top\", IntegerType(), True),\n",
    "                    StructField(\"topic_id\", IntegerType(), True),                    \n",
    "                    StructField(\"confidence_level_top\", FloatType(), True)]\n",
    "                    )\n",
    "\n",
    "documents_topics_df = spark.read.schema(documents_topics_schema).options(header='true', inferschema='false', nullValue='\\\\N') \\\n",
    "                .csv(DATA_BUCKET_FOLDER+\"documents_topics.csv\")  \\\n",
    "                .alias('documents_topics').cache()\n",
    "    \n",
    "documents_topics_grouped_df = documents_topics_df.groupBy('document_id_top') \\\n",
    "                                            .agg(F.collect_list('topic_id').alias('topic_id_list'),\n",
    "                                                 F.collect_list('confidence_level_top').alias('confidence_level_top_list')) \\\n",
    "                                            .withColumn('dummyDocumentsTopics', F.lit(1)) \\\n",
    "                                            .alias('documents_topics_grouped')"
   ]
  },
  {
   "cell_type": "markdown",
   "metadata": {},
   "source": [
    "다음의 코드로 변수별 결측치를 한번에 확인할 수 있다."
   ]
  },
  {
   "cell_type": "code",
   "execution_count": 14,
   "metadata": {},
   "outputs": [],
   "source": [
    "## cf) 판다스 100행까지 보기:\n",
    "pd.set_option('display.max_rows', 100)"
   ]
  },
  {
   "cell_type": "code",
   "execution_count": 19,
   "metadata": {},
   "outputs": [
    {
     "data": {
      "text/html": [
       "<div>\n",
       "<style scoped>\n",
       "    .dataframe tbody tr th:only-of-type {\n",
       "        vertical-align: middle;\n",
       "    }\n",
       "\n",
       "    .dataframe tbody tr th {\n",
       "        vertical-align: top;\n",
       "    }\n",
       "\n",
       "    .dataframe thead th {\n",
       "        text-align: right;\n",
       "    }\n",
       "</style>\n",
       "<table border=\"1\" class=\"dataframe\">\n",
       "  <thead>\n",
       "    <tr style=\"text-align: right;\">\n",
       "      <th></th>\n",
       "      <th>0</th>\n",
       "    </tr>\n",
       "  </thead>\n",
       "  <tbody>\n",
       "    <tr>\n",
       "      <th>display_id</th>\n",
       "      <td>0</td>\n",
       "    </tr>\n",
       "    <tr>\n",
       "      <th>ad_id</th>\n",
       "      <td>0</td>\n",
       "    </tr>\n",
       "    <tr>\n",
       "      <th>label</th>\n",
       "      <td>0</td>\n",
       "    </tr>\n",
       "    <tr>\n",
       "      <th>doc_id</th>\n",
       "      <td>0</td>\n",
       "    </tr>\n",
       "    <tr>\n",
       "      <th>is_leak</th>\n",
       "      <td>0</td>\n",
       "    </tr>\n",
       "    <tr>\n",
       "      <th>event_weekend</th>\n",
       "      <td>0</td>\n",
       "    </tr>\n",
       "    <tr>\n",
       "      <th>user_views</th>\n",
       "      <td>55311626</td>\n",
       "    </tr>\n",
       "    <tr>\n",
       "      <th>ad_views</th>\n",
       "      <td>33833186</td>\n",
       "    </tr>\n",
       "    <tr>\n",
       "      <th>doc_views</th>\n",
       "      <td>52700407</td>\n",
       "    </tr>\n",
       "    <tr>\n",
       "      <th>doc_event_hour</th>\n",
       "      <td>0</td>\n",
       "    </tr>\n",
       "    <tr>\n",
       "      <th>pop_ad_id</th>\n",
       "      <td>1501513</td>\n",
       "    </tr>\n",
       "    <tr>\n",
       "      <th>pop_ad_id_conf</th>\n",
       "      <td>1501513</td>\n",
       "    </tr>\n",
       "    <tr>\n",
       "      <th>pop_ad_id_conf_multipl</th>\n",
       "      <td>1501513</td>\n",
       "    </tr>\n",
       "    <tr>\n",
       "      <th>pop_document_id</th>\n",
       "      <td>567008</td>\n",
       "    </tr>\n",
       "    <tr>\n",
       "      <th>pop_document_id_conf</th>\n",
       "      <td>567008</td>\n",
       "    </tr>\n",
       "    <tr>\n",
       "      <th>pop_document_id_conf_multipl</th>\n",
       "      <td>567008</td>\n",
       "    </tr>\n",
       "    <tr>\n",
       "      <th>pop_publisher_id</th>\n",
       "      <td>53234319</td>\n",
       "    </tr>\n",
       "    <tr>\n",
       "      <th>pop_publisher_id_conf</th>\n",
       "      <td>53234319</td>\n",
       "    </tr>\n",
       "    <tr>\n",
       "      <th>pop_publisher_id_conf_multipl</th>\n",
       "      <td>53234319</td>\n",
       "    </tr>\n",
       "    <tr>\n",
       "      <th>pop_advertiser_id</th>\n",
       "      <td>38189</td>\n",
       "    </tr>\n",
       "    <tr>\n",
       "      <th>pop_advertiser_id_conf</th>\n",
       "      <td>38189</td>\n",
       "    </tr>\n",
       "    <tr>\n",
       "      <th>pop_advertiser_id_conf_multipl</th>\n",
       "      <td>38189</td>\n",
       "    </tr>\n",
       "    <tr>\n",
       "      <th>pop_campaign_id</th>\n",
       "      <td>214394</td>\n",
       "    </tr>\n",
       "    <tr>\n",
       "      <th>pop_campaign_id_conf</th>\n",
       "      <td>214394</td>\n",
       "    </tr>\n",
       "    <tr>\n",
       "      <th>pop_campaign_id_conf_multipl</th>\n",
       "      <td>214394</td>\n",
       "    </tr>\n",
       "    <tr>\n",
       "      <th>pop_doc_event_doc_ad</th>\n",
       "      <td>43315606</td>\n",
       "    </tr>\n",
       "    <tr>\n",
       "      <th>pop_doc_event_doc_ad_conf</th>\n",
       "      <td>43315606</td>\n",
       "    </tr>\n",
       "    <tr>\n",
       "      <th>pop_doc_event_doc_ad_conf_multipl</th>\n",
       "      <td>43315606</td>\n",
       "    </tr>\n",
       "    <tr>\n",
       "      <th>pop_source_id</th>\n",
       "      <td>74740</td>\n",
       "    </tr>\n",
       "    <tr>\n",
       "      <th>pop_source_id_conf</th>\n",
       "      <td>74740</td>\n",
       "    </tr>\n",
       "    <tr>\n",
       "      <th>pop_source_id_conf_multipl</th>\n",
       "      <td>74740</td>\n",
       "    </tr>\n",
       "    <tr>\n",
       "      <th>pop_source_id_country</th>\n",
       "      <td>170382</td>\n",
       "    </tr>\n",
       "    <tr>\n",
       "      <th>pop_source_id_country_conf</th>\n",
       "      <td>170382</td>\n",
       "    </tr>\n",
       "    <tr>\n",
       "      <th>pop_source_id_country_conf_multipl</th>\n",
       "      <td>170382</td>\n",
       "    </tr>\n",
       "    <tr>\n",
       "      <th>pop_topic_id</th>\n",
       "      <td>887349</td>\n",
       "    </tr>\n",
       "    <tr>\n",
       "      <th>pop_topic_id_conf</th>\n",
       "      <td>887349</td>\n",
       "    </tr>\n",
       "    <tr>\n",
       "      <th>pop_topic_id_conf_multipl</th>\n",
       "      <td>887349</td>\n",
       "    </tr>\n",
       "    <tr>\n",
       "      <th>pop_category_id</th>\n",
       "      <td>80508</td>\n",
       "    </tr>\n",
       "    <tr>\n",
       "      <th>pop_category_id_conf</th>\n",
       "      <td>80508</td>\n",
       "    </tr>\n",
       "    <tr>\n",
       "      <th>pop_category_id_conf_multipl</th>\n",
       "      <td>80508</td>\n",
       "    </tr>\n",
       "    <tr>\n",
       "      <th>pop_category_id_country</th>\n",
       "      <td>85803</td>\n",
       "    </tr>\n",
       "    <tr>\n",
       "      <th>pop_category_id_country_conf</th>\n",
       "      <td>85803</td>\n",
       "    </tr>\n",
       "    <tr>\n",
       "      <th>pop_category_id_country_conf_multipl</th>\n",
       "      <td>85803</td>\n",
       "    </tr>\n",
       "    <tr>\n",
       "      <th>doc_event_publisher_id</th>\n",
       "      <td>1776</td>\n",
       "    </tr>\n",
       "    <tr>\n",
       "      <th>doc_event_source_id</th>\n",
       "      <td>7480739</td>\n",
       "    </tr>\n",
       "    <tr>\n",
       "      <th>event_hour</th>\n",
       "      <td>0</td>\n",
       "    </tr>\n",
       "    <tr>\n",
       "      <th>event_platform</th>\n",
       "      <td>30</td>\n",
       "    </tr>\n",
       "    <tr>\n",
       "      <th>traffic_source</th>\n",
       "      <td>195463</td>\n",
       "    </tr>\n",
       "    <tr>\n",
       "      <th>is_train</th>\n",
       "      <td>0</td>\n",
       "    </tr>\n",
       "    <tr>\n",
       "      <th>uuid</th>\n",
       "      <td>0</td>\n",
       "    </tr>\n",
       "    <tr>\n",
       "      <th>view_doc_id</th>\n",
       "      <td>0</td>\n",
       "    </tr>\n",
       "    <tr>\n",
       "      <th>platform_event</th>\n",
       "      <td>30</td>\n",
       "    </tr>\n",
       "    <tr>\n",
       "      <th>event_country</th>\n",
       "      <td>0</td>\n",
       "    </tr>\n",
       "    <tr>\n",
       "      <th>day_event</th>\n",
       "      <td>0</td>\n",
       "    </tr>\n",
       "    <tr>\n",
       "      <th>ad_doc_id</th>\n",
       "      <td>0</td>\n",
       "    </tr>\n",
       "    <tr>\n",
       "      <th>campaign_id</th>\n",
       "      <td>0</td>\n",
       "    </tr>\n",
       "    <tr>\n",
       "      <th>advertiser_id</th>\n",
       "      <td>0</td>\n",
       "    </tr>\n",
       "    <tr>\n",
       "      <th>ad_category_id</th>\n",
       "      <td>80508</td>\n",
       "    </tr>\n",
       "    <tr>\n",
       "      <th>ad_category_conf</th>\n",
       "      <td>80508</td>\n",
       "    </tr>\n",
       "    <tr>\n",
       "      <th>ad_topic_id</th>\n",
       "      <td>887349</td>\n",
       "    </tr>\n",
       "    <tr>\n",
       "      <th>ad_topic_conf</th>\n",
       "      <td>887349</td>\n",
       "    </tr>\n",
       "    <tr>\n",
       "      <th>document_id_cat</th>\n",
       "      <td>3830600</td>\n",
       "    </tr>\n",
       "    <tr>\n",
       "      <th>view_category_id</th>\n",
       "      <td>3830600</td>\n",
       "    </tr>\n",
       "    <tr>\n",
       "      <th>view_category_conf</th>\n",
       "      <td>3830600</td>\n",
       "    </tr>\n",
       "    <tr>\n",
       "      <th>document_id_top</th>\n",
       "      <td>8558654</td>\n",
       "    </tr>\n",
       "    <tr>\n",
       "      <th>view_topic_id</th>\n",
       "      <td>8558654</td>\n",
       "    </tr>\n",
       "    <tr>\n",
       "      <th>view_topic_conf</th>\n",
       "      <td>8558654</td>\n",
       "    </tr>\n",
       "    <tr>\n",
       "      <th>timestamp_event</th>\n",
       "      <td>0</td>\n",
       "    </tr>\n",
       "    <tr>\n",
       "      <th>ad_source_id</th>\n",
       "      <td>59406</td>\n",
       "    </tr>\n",
       "    <tr>\n",
       "      <th>ad_publisher_id</th>\n",
       "      <td>53233366</td>\n",
       "    </tr>\n",
       "  </tbody>\n",
       "</table>\n",
       "</div>"
      ],
      "text/plain": [
       "                                             0\n",
       "display_id                                   0\n",
       "ad_id                                        0\n",
       "label                                        0\n",
       "doc_id                                       0\n",
       "is_leak                                      0\n",
       "event_weekend                                0\n",
       "user_views                            55311626\n",
       "ad_views                              33833186\n",
       "doc_views                             52700407\n",
       "doc_event_hour                               0\n",
       "pop_ad_id                              1501513\n",
       "pop_ad_id_conf                         1501513\n",
       "pop_ad_id_conf_multipl                 1501513\n",
       "pop_document_id                         567008\n",
       "pop_document_id_conf                    567008\n",
       "pop_document_id_conf_multipl            567008\n",
       "pop_publisher_id                      53234319\n",
       "pop_publisher_id_conf                 53234319\n",
       "pop_publisher_id_conf_multipl         53234319\n",
       "pop_advertiser_id                        38189\n",
       "pop_advertiser_id_conf                   38189\n",
       "pop_advertiser_id_conf_multipl           38189\n",
       "pop_campaign_id                         214394\n",
       "pop_campaign_id_conf                    214394\n",
       "pop_campaign_id_conf_multipl            214394\n",
       "pop_doc_event_doc_ad                  43315606\n",
       "pop_doc_event_doc_ad_conf             43315606\n",
       "pop_doc_event_doc_ad_conf_multipl     43315606\n",
       "pop_source_id                            74740\n",
       "pop_source_id_conf                       74740\n",
       "pop_source_id_conf_multipl               74740\n",
       "pop_source_id_country                   170382\n",
       "pop_source_id_country_conf              170382\n",
       "pop_source_id_country_conf_multipl      170382\n",
       "pop_topic_id                            887349\n",
       "pop_topic_id_conf                       887349\n",
       "pop_topic_id_conf_multipl               887349\n",
       "pop_category_id                          80508\n",
       "pop_category_id_conf                     80508\n",
       "pop_category_id_conf_multipl             80508\n",
       "pop_category_id_country                  85803\n",
       "pop_category_id_country_conf             85803\n",
       "pop_category_id_country_conf_multipl     85803\n",
       "doc_event_publisher_id                    1776\n",
       "doc_event_source_id                    7480739\n",
       "event_hour                                   0\n",
       "event_platform                              30\n",
       "traffic_source                          195463\n",
       "is_train                                     0\n",
       "uuid                                         0\n",
       "view_doc_id                                  0\n",
       "platform_event                              30\n",
       "event_country                                0\n",
       "day_event                                    0\n",
       "ad_doc_id                                    0\n",
       "campaign_id                                  0\n",
       "advertiser_id                                0\n",
       "ad_category_id                           80508\n",
       "ad_category_conf                         80508\n",
       "ad_topic_id                             887349\n",
       "ad_topic_conf                           887349\n",
       "document_id_cat                        3830600\n",
       "view_category_id                       3830600\n",
       "view_category_conf                     3830600\n",
       "document_id_top                        8558654\n",
       "view_topic_id                          8558654\n",
       "view_topic_conf                        8558654\n",
       "timestamp_event                              0\n",
       "ad_source_id                             59406\n",
       "ad_publisher_id                       53233366"
      ]
     },
     "execution_count": 19,
     "metadata": {},
     "output_type": "execute_result"
    }
   ],
   "source": [
    "# train_valid_merged_df.select([F.count(F.when(F.isnan(c) | F.col(c).isNull(), c)).alias(c) for c in train_valid_merged_df.columns]).toPandas().transpose()"
   ]
  },
  {
   "cell_type": "markdown",
   "metadata": {},
   "source": [
    "`user_views`, `ad_views`, `doc_views`는 참조할 사전 데이터가 없는 경우에 발생하기 때문에 1로 채워넣었다."
   ]
  },
  {
   "cell_type": "code",
   "execution_count": 15,
   "metadata": {},
   "outputs": [],
   "source": [
    "train_imputing_df = train_valid_merged_df"
   ]
  },
  {
   "cell_type": "code",
   "execution_count": 16,
   "metadata": {},
   "outputs": [],
   "source": [
    "train_imputing_df = train_imputing_df.na.fill({'user_views': 1, 'ad_views': 1, 'doc_views': 1})"
   ]
  },
  {
   "cell_type": "markdown",
   "metadata": {},
   "source": [
    "`traffic_source`와 `platform_event`는 최빈값인 1로 채우자."
   ]
  },
  {
   "cell_type": "code",
   "execution_count": 17,
   "metadata": {},
   "outputs": [],
   "source": [
    "train_imputing_df = train_imputing_df.na.fill({'traffic_source': 1, 'platform_event': 1})"
   ]
  },
  {
   "cell_type": "code",
   "execution_count": 18,
   "metadata": {},
   "outputs": [],
   "source": [
    "train_imputing_df = train_imputing_df.withColumnRenamed('doc_event_source_id', 'view_source_id') \\\n",
    "                                    .withColumnRenamed('doc_event_publisher_id', 'view_publisher_id') \\\n",
    "                                    .drop('platform_event')"
   ]
  },
  {
   "cell_type": "code",
   "execution_count": 19,
   "metadata": {},
   "outputs": [
    {
     "data": {
      "text/plain": [
       "['display_id',\n",
       " 'ad_id',\n",
       " 'label',\n",
       " 'doc_id',\n",
       " 'is_leak',\n",
       " 'event_weekend',\n",
       " 'user_views',\n",
       " 'ad_views',\n",
       " 'doc_views',\n",
       " 'doc_event_hour',\n",
       " 'pop_ad_id',\n",
       " 'pop_ad_id_conf',\n",
       " 'pop_ad_id_conf_multipl',\n",
       " 'pop_document_id',\n",
       " 'pop_document_id_conf',\n",
       " 'pop_document_id_conf_multipl',\n",
       " 'pop_publisher_id',\n",
       " 'pop_publisher_id_conf',\n",
       " 'pop_publisher_id_conf_multipl',\n",
       " 'pop_advertiser_id',\n",
       " 'pop_advertiser_id_conf',\n",
       " 'pop_advertiser_id_conf_multipl',\n",
       " 'pop_campaign_id',\n",
       " 'pop_campaign_id_conf',\n",
       " 'pop_campaign_id_conf_multipl',\n",
       " 'pop_doc_event_doc_ad',\n",
       " 'pop_doc_event_doc_ad_conf',\n",
       " 'pop_doc_event_doc_ad_conf_multipl',\n",
       " 'pop_source_id',\n",
       " 'pop_source_id_conf',\n",
       " 'pop_source_id_conf_multipl',\n",
       " 'pop_source_id_country',\n",
       " 'pop_source_id_country_conf',\n",
       " 'pop_source_id_country_conf_multipl',\n",
       " 'pop_topic_id',\n",
       " 'pop_topic_id_conf',\n",
       " 'pop_topic_id_conf_multipl',\n",
       " 'pop_category_id',\n",
       " 'pop_category_id_conf',\n",
       " 'pop_category_id_conf_multipl',\n",
       " 'pop_category_id_country',\n",
       " 'pop_category_id_country_conf',\n",
       " 'pop_category_id_country_conf_multipl',\n",
       " 'view_publisher_id',\n",
       " 'view_source_id',\n",
       " 'event_hour',\n",
       " 'event_platform',\n",
       " 'traffic_source',\n",
       " 'is_train',\n",
       " 'uuid',\n",
       " 'view_doc_id',\n",
       " 'event_country',\n",
       " 'day_event',\n",
       " 'ad_doc_id',\n",
       " 'campaign_id',\n",
       " 'advertiser_id',\n",
       " 'ad_category_id',\n",
       " 'ad_category_conf',\n",
       " 'ad_topic_id',\n",
       " 'ad_topic_conf',\n",
       " 'document_id_cat',\n",
       " 'view_category_id',\n",
       " 'view_category_conf',\n",
       " 'document_id_top',\n",
       " 'view_topic_id',\n",
       " 'view_topic_conf',\n",
       " 'timestamp_event',\n",
       " 'ad_source_id',\n",
       " 'ad_publisher_id']"
      ]
     },
     "execution_count": 19,
     "metadata": {},
     "output_type": "execute_result"
    }
   ],
   "source": [
    "train_imputing_df.columns"
   ]
  },
  {
   "cell_type": "markdown",
   "metadata": {},
   "source": [
    "pop-으로 시작하는 CTR과 그 외 범주형 변수의 결측치는 알려지지 않음(U: Unknown)으로 대체하자."
   ]
  },
  {
   "cell_type": "code",
   "execution_count": 20,
   "metadata": {},
   "outputs": [],
   "source": [
    "train_imputing_df = train_imputing_df.na.fill({'ad_publisher_id': 'U', 'ad_source_id': 'U', 'view_topic_id': 'U',\n",
    "                                              'view_category_id': 'U', 'ad_topic_id': 'U', 'ad_category_id': 'U', 'view_category_conf' : 'U', \n",
    "                                               'ad_topic_conf' : 'U', 'ad_category_conf': 'U',\n",
    "                                              'view_publisher_id' : 'U', 'view_source_id' : 'U',\n",
    "                                              'pop_category_id_country_conf_multipl' : 'U',\n",
    "                                              'pop_category_id_country_conf' : 'U',\n",
    "                                               'pop_category_id_country' : 'U',\n",
    "                                               'pop_category_id_conf_multipl' : 'U',\n",
    "                                               'pop_category_id_conf' : 'U',\n",
    "                                               'pop_category_id' : 'U',\n",
    "                                               'pop_topic_id_conf_multipl' : 'U',\n",
    "                                               'pop_topic_id_conf' : 'U',\n",
    "                                               'pop_topic_id' : 'U',\n",
    "                                               'pop_source_id_country_conf_multipl' : 'U',\n",
    "                                               'pop_source_id_country_conf' : 'U',\n",
    "                                               'pop_source_id_country' : 'U',\n",
    "                                               'pop_source_id_conf_multipl' : 'U',\n",
    "                                               'pop_source_id_conf' : 'U',\n",
    "                                               'pop_source_id' : 'U',\n",
    "                                               'pop_doc_event_doc_ad_conf_multipl' : 'U',\n",
    "                                               'pop_doc_event_doc_ad_conf' : 'U',\n",
    "                                               'pop_doc_event_doc_ad' : 'U',\n",
    "                                               'pop_campaign_id_conf_multipl' : 'U',\n",
    "                                               'pop_campaign_id_conf' : 'U',\n",
    "                                               'pop_campaign_id' : 'U',\n",
    "                                               'pop_advertiser_id_conf_multipl' : 'U',\n",
    "                                               'pop_advertiser_id_conf' : 'U',\n",
    "                                               'pop_advertiser_id' : 'U',\n",
    "                                               'pop_publisher_id_conf_multipl' : 'U',\n",
    "                                               'pop_publisher_id_conf' : 'U',\n",
    "                                               'pop_publisher_id' : 'U',\n",
    "                                               'pop_document_id_conf_multipl' : 'U',\n",
    "                                               'pop_document_id_conf' : 'U',\n",
    "                                               'pop_document_id' : 'U',\n",
    "                                               'pop_ad_id_conf_multipl' : 'U',\n",
    "                                               'pop_ad_id_conf' : 'U',\n",
    "                                               'pop_ad_id' : 'U'\n",
    "                                              })\n",
    "\n",
    "# ad_publisher_id 유난히 NA가 많음 => 확인 필요 => okay. 원래 데이터에서도 그렇다.\n",
    "# document_id_top, document_id_cat 삭제 => okay. Feature Enginnering_05 코드에 반영하였음. 재실행 시 해당 변수가 사라져 있을 것!"
   ]
  },
  {
   "cell_type": "markdown",
   "metadata": {},
   "source": [
    "## train set과 valid set 나누기\n",
    "train set과 valid set 선언, size 확인<br>\n",
    "train set, valid set을 timestamp_event 순서대로 정렬<br>\n",
    "monotonically_increasing_id 사용하여 index 컬럼 생성<br>\n",
    "train set은 순서대로 80000개 끊어서 샘플 데이터(train_merged_df_sample) 생성<br>\n",
    "valid set은 순서대로 36653개 끊어서 샘플 데이터(valid_merged_df_sample) 생성"
   ]
  },
  {
   "cell_type": "code",
   "execution_count": 21,
   "metadata": {},
   "outputs": [],
   "source": [
    "train_merged_df = train_imputing_df.filter(train_imputing_df.is_train == 1)\n",
    "valid_merged_df = train_imputing_df.filter(train_imputing_df.is_train == 0)"
   ]
  },
  {
   "cell_type": "code",
   "execution_count": 23,
   "metadata": {},
   "outputs": [
    {
     "name": "stdout",
     "output_type": "stream",
     "text": [
      "59761474\n",
      "27380257\n",
      "87141731\n"
     ]
    }
   ],
   "source": [
    "print(train_merged_df.count()) # 68.58%\n",
    "print(valid_merged_df.count()) # 31.42%\n",
    "print(train_imputing_df.count())"
   ]
  },
  {
   "cell_type": "markdown",
   "metadata": {},
   "source": [
    "train"
   ]
  },
  {
   "cell_type": "code",
   "execution_count": 22,
   "metadata": {},
   "outputs": [],
   "source": [
    "train_merged_df_ordered = train_merged_df.orderBy(\"timestamp_event\")"
   ]
  },
  {
   "cell_type": "code",
   "execution_count": 23,
   "metadata": {},
   "outputs": [],
   "source": [
    "from pyspark.sql.functions import monotonically_increasing_id\n",
    "train_merged_df_ordered_index = train_merged_df_ordered.withColumn(\"index\", monotonically_increasing_id())"
   ]
  },
  {
   "cell_type": "code",
   "execution_count": 24,
   "metadata": {},
   "outputs": [],
   "source": [
    "train_merged_df_sample = train_merged_df_ordered_index.filter(train_merged_df_ordered_index.index < 80000)"
   ]
  },
  {
   "cell_type": "code",
   "execution_count": 27,
   "metadata": {},
   "outputs": [
    {
     "data": {
      "text/plain": [
       "80000"
      ]
     },
     "execution_count": 27,
     "metadata": {},
     "output_type": "execute_result"
    }
   ],
   "source": [
    "train_merged_df_sample.count() # 80000 / 59761474 = 0.00133865507"
   ]
  },
  {
   "cell_type": "markdown",
   "metadata": {},
   "source": [
    "valid"
   ]
  },
  {
   "cell_type": "code",
   "execution_count": 25,
   "metadata": {},
   "outputs": [],
   "source": [
    "valid_merged_df_ordered = valid_merged_df.orderBy(\"timestamp_event\")\n",
    "valid_merged_df_ordered_index = valid_merged_df_ordered.withColumn(\"index\", monotonically_increasing_id())"
   ]
  },
  {
   "cell_type": "code",
   "execution_count": 26,
   "metadata": {},
   "outputs": [],
   "source": [
    "valid_merged_df_sample = valid_merged_df_ordered_index.filter(valid_merged_df_ordered_index.index < 36653)"
   ]
  },
  {
   "cell_type": "code",
   "execution_count": 30,
   "metadata": {},
   "outputs": [
    {
     "data": {
      "text/plain": [
       "36653"
      ]
     },
     "execution_count": 30,
     "metadata": {},
     "output_type": "execute_result"
    }
   ],
   "source": [
    "valid_merged_df_sample.count() # 27380257 * 0.00133865507 = 36652.719851"
   ]
  },
  {
   "cell_type": "markdown",
   "metadata": {},
   "source": [
    "## train set, valid set에서 필요 없는 컬럼 버리기"
   ]
  },
  {
   "cell_type": "code",
   "execution_count": 27,
   "metadata": {},
   "outputs": [
    {
     "data": {
      "text/plain": [
       "['display_id',\n",
       " 'ad_id',\n",
       " 'label',\n",
       " 'doc_id',\n",
       " 'is_leak',\n",
       " 'event_weekend',\n",
       " 'user_views',\n",
       " 'ad_views',\n",
       " 'doc_views',\n",
       " 'doc_event_hour',\n",
       " 'pop_ad_id',\n",
       " 'pop_ad_id_conf',\n",
       " 'pop_ad_id_conf_multipl',\n",
       " 'pop_document_id',\n",
       " 'pop_document_id_conf',\n",
       " 'pop_document_id_conf_multipl',\n",
       " 'pop_publisher_id',\n",
       " 'pop_publisher_id_conf',\n",
       " 'pop_publisher_id_conf_multipl',\n",
       " 'pop_advertiser_id',\n",
       " 'pop_advertiser_id_conf',\n",
       " 'pop_advertiser_id_conf_multipl',\n",
       " 'pop_campaign_id',\n",
       " 'pop_campaign_id_conf',\n",
       " 'pop_campaign_id_conf_multipl',\n",
       " 'pop_doc_event_doc_ad',\n",
       " 'pop_doc_event_doc_ad_conf',\n",
       " 'pop_doc_event_doc_ad_conf_multipl',\n",
       " 'pop_source_id',\n",
       " 'pop_source_id_conf',\n",
       " 'pop_source_id_conf_multipl',\n",
       " 'pop_source_id_country',\n",
       " 'pop_source_id_country_conf',\n",
       " 'pop_source_id_country_conf_multipl',\n",
       " 'pop_topic_id',\n",
       " 'pop_topic_id_conf',\n",
       " 'pop_topic_id_conf_multipl',\n",
       " 'pop_category_id',\n",
       " 'pop_category_id_conf',\n",
       " 'pop_category_id_conf_multipl',\n",
       " 'pop_category_id_country',\n",
       " 'pop_category_id_country_conf',\n",
       " 'pop_category_id_country_conf_multipl',\n",
       " 'view_publisher_id',\n",
       " 'view_source_id',\n",
       " 'event_hour',\n",
       " 'event_platform',\n",
       " 'traffic_source',\n",
       " 'is_train',\n",
       " 'uuid',\n",
       " 'view_doc_id',\n",
       " 'event_country',\n",
       " 'day_event',\n",
       " 'ad_doc_id',\n",
       " 'campaign_id',\n",
       " 'advertiser_id',\n",
       " 'ad_category_id',\n",
       " 'ad_category_conf',\n",
       " 'ad_topic_id',\n",
       " 'ad_topic_conf',\n",
       " 'document_id_cat',\n",
       " 'view_category_id',\n",
       " 'view_category_conf',\n",
       " 'document_id_top',\n",
       " 'view_topic_id',\n",
       " 'view_topic_conf',\n",
       " 'timestamp_event',\n",
       " 'ad_source_id',\n",
       " 'ad_publisher_id',\n",
       " 'index']"
      ]
     },
     "execution_count": 27,
     "metadata": {},
     "output_type": "execute_result"
    }
   ],
   "source": [
    "train_merged_df_sample.columns"
   ]
  },
  {
   "cell_type": "code",
   "execution_count": 28,
   "metadata": {},
   "outputs": [],
   "source": [
    "drop_cols = ['display_id', 'ad_id', 'doc_id', 'doc_event_hour', 'pop_ad_id_conf', 'pop_ad_id_conf_multipl', 'pop_document_id_conf', 'pop_document_id_conf_multipl', 'pop_publisher_id_conf', 'pop_publisher_id_conf_multipl', 'pop_advertiser_id_conf', 'pop_advertiser_id_conf_multipl', 'pop_campaign_id_conf', 'pop_campaign_id_conf_multipl', 'pop_doc_event_doc_ad_conf', 'pop_doc_event_doc_ad_conf_multipl', 'pop_source_id_conf', 'pop_source_id_conf_multipl', 'pop_source_id_country', 'pop_source_id_country_conf', 'pop_source_id_country_conf_multipl', 'pop_topic_id_conf', 'pop_topic_id_conf_multipl', 'pop_category_id_conf', 'pop_category_id_conf_multipl', 'pop_category_id_country', 'pop_category_id_country_conf', 'pop_category_id_country_conf_multipl', 'campaign_id', 'is_train', 'uuid', 'day_event', 'view_doc_id', 'ad_doc_id', 'ad_category_conf', 'ad_topic_conf', 'view_category_conf', 'view_topic_conf', 'document_id_cat', 'document_id_top', 'timestamp_event', 'index']\n",
    "train_merged_df_sample = train_merged_df_sample.drop('display_id', 'ad_id', 'doc_id', 'doc_event_hour', 'pop_ad_id_conf', 'pop_ad_id_conf_multipl', 'pop_document_id_conf', 'pop_document_id_conf_multipl', 'pop_publisher_id_conf', 'pop_publisher_id_conf_multipl', 'pop_advertiser_id_conf', 'pop_advertiser_id_conf_multipl', 'pop_campaign_id_conf', 'pop_campaign_id_conf_multipl', 'pop_doc_event_doc_ad_conf', 'pop_doc_event_doc_ad_conf_multipl', 'pop_source_id_conf', 'pop_source_id_conf_multipl', 'pop_source_id_country', 'pop_source_id_country_conf', 'pop_source_id_country_conf_multipl', 'pop_topic_id_conf', 'pop_topic_id_conf_multipl', 'pop_category_id_conf', 'pop_category_id_conf_multipl', 'pop_category_id_country', 'pop_category_id_country_conf', 'pop_category_id_country_conf_multipl', 'campaign_id', 'is_train', 'uuid', 'day_event', 'view_doc_id', 'ad_doc_id', 'ad_category_conf', 'ad_topic_conf', 'view_category_conf', 'view_topic_conf', 'document_id_cat', 'document_id_top', 'timestamp_event', 'index')\n",
    "valid_merged_df_sample = valid_merged_df_sample.drop('display_id', 'ad_id', 'doc_id', 'doc_event_hour', 'pop_ad_id_conf', 'pop_ad_id_conf_multipl', 'pop_document_id_conf', 'pop_document_id_conf_multipl', 'pop_publisher_id_conf', 'pop_publisher_id_conf_multipl', 'pop_advertiser_id_conf', 'pop_advertiser_id_conf_multipl', 'pop_campaign_id_conf', 'pop_campaign_id_conf_multipl', 'pop_doc_event_doc_ad_conf', 'pop_doc_event_doc_ad_conf_multipl', 'pop_source_id_conf', 'pop_source_id_conf_multipl', 'pop_source_id_country', 'pop_source_id_country_conf', 'pop_source_id_country_conf_multipl', 'pop_topic_id_conf', 'pop_topic_id_conf_multipl', 'pop_category_id_conf', 'pop_category_id_conf_multipl', 'pop_category_id_country', 'pop_category_id_country_conf', 'pop_category_id_country_conf_multipl', 'campaign_id', 'is_train', 'uuid', 'day_event', 'view_doc_id', 'ad_doc_id', 'ad_category_conf', 'ad_topic_conf', 'view_category_conf', 'view_topic_conf', 'document_id_cat', 'document_id_top', 'timestamp_event', 'index')"
   ]
  },
  {
   "cell_type": "code",
   "execution_count": 29,
   "metadata": {},
   "outputs": [
    {
     "name": "stdout",
     "output_type": "stream",
     "text": [
      "70\n",
      "28\n"
     ]
    }
   ],
   "source": [
    "print(len(train_merged_df_ordered_index.columns)) # 71\n",
    "print(len(train_merged_df_sample.columns)) # 48"
   ]
  },
  {
   "cell_type": "code",
   "execution_count": 30,
   "metadata": {},
   "outputs": [
    {
     "data": {
      "text/plain": [
       "['label',\n",
       " 'is_leak',\n",
       " 'event_weekend',\n",
       " 'user_views',\n",
       " 'ad_views',\n",
       " 'doc_views',\n",
       " 'pop_ad_id',\n",
       " 'pop_document_id',\n",
       " 'pop_publisher_id',\n",
       " 'pop_advertiser_id',\n",
       " 'pop_campaign_id',\n",
       " 'pop_doc_event_doc_ad',\n",
       " 'pop_source_id',\n",
       " 'pop_topic_id',\n",
       " 'pop_category_id',\n",
       " 'view_publisher_id',\n",
       " 'view_source_id',\n",
       " 'event_hour',\n",
       " 'event_platform',\n",
       " 'traffic_source',\n",
       " 'event_country',\n",
       " 'advertiser_id',\n",
       " 'ad_category_id',\n",
       " 'ad_topic_id',\n",
       " 'view_category_id',\n",
       " 'view_topic_id',\n",
       " 'ad_source_id',\n",
       " 'ad_publisher_id']"
      ]
     },
     "execution_count": 30,
     "metadata": {},
     "output_type": "execute_result"
    }
   ],
   "source": [
    "train_merged_df_sample.columns"
   ]
  },
  {
   "cell_type": "code",
   "execution_count": 31,
   "metadata": {},
   "outputs": [
    {
     "data": {
      "text/plain": [
       "[Row(label=0, is_leak=-1, event_weekend=0, user_views=1, ad_views=1, doc_views=1, pop_ad_id=0.032326001673936844, pop_document_id=0.03453899919986725, pop_publisher_id=None, pop_advertiser_id=0.04069000110030174, pop_campaign_id=0.034035999327898026, pop_doc_event_doc_ad=None, pop_source_id=0.03703000023961067, pop_topic_id=0.1357100009918213, pop_category_id=0.11432000249624252, view_publisher_id=24, view_source_id=6482, event_hour=6, event_platform=3, traffic_source=1, event_country='US', advertiser_id=1919, ad_category_id='1503', ad_topic_id='138', view_category_id='1203', view_topic_id='285', ad_source_id=8064, ad_publisher_id=None)]"
      ]
     },
     "execution_count": 31,
     "metadata": {},
     "output_type": "execute_result"
    }
   ],
   "source": [
    "train_merged_df_sample.take(1)"
   ]
  },
  {
   "cell_type": "code",
   "execution_count": 32,
   "metadata": {},
   "outputs": [
    {
     "data": {
      "text/plain": [
       "28"
      ]
     },
     "execution_count": 32,
     "metadata": {},
     "output_type": "execute_result"
    }
   ],
   "source": [
    "len(train_merged_df_sample.columns)"
   ]
  },
  {
   "cell_type": "code",
   "execution_count": 33,
   "metadata": {},
   "outputs": [
    {
     "name": "stdout",
     "output_type": "stream",
     "text": [
      "CPU times: user 16 ms, sys: 0 ns, total: 16 ms\n",
      "Wall time: 53.3 s\n"
     ]
    }
   ],
   "source": [
    "%time train_merged_df_sample.write.csv(\"gs://capstone-02/output/train-80000\")"
   ]
  },
  {
   "cell_type": "code",
   "execution_count": 36,
   "metadata": {},
   "outputs": [
    {
     "name": "stdout",
     "output_type": "stream",
     "text": [
      "CPU times: user 4 ms, sys: 4 ms, total: 8 ms\n",
      "Wall time: 20 s\n"
     ]
    }
   ],
   "source": [
    "%time valid_merged_df_sample.write.csv(\"gs://capstone-02/output/valid-80000\")"
   ]
  }
 ],
 "metadata": {
  "kernelspec": {
   "display_name": "Python 3",
   "language": "python",
   "name": "python3"
  },
  "language_info": {
   "codemirror_mode": {
    "name": "ipython",
    "version": 3
   },
   "file_extension": ".py",
   "mimetype": "text/x-python",
   "name": "python",
   "nbconvert_exporter": "python",
   "pygments_lexer": "ipython3",
   "version": "3.5.5"
  }
 },
 "nbformat": 4,
 "nbformat_minor": 2
}
