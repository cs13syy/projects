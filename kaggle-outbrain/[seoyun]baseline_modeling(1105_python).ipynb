{
 "cells": [
  {
   "cell_type": "markdown",
   "metadata": {},
   "source": [
    "# load package and data"
   ]
  },
  {
   "cell_type": "code",
   "execution_count": 1,
   "metadata": {},
   "outputs": [],
   "source": [
    "import google.datalab.storage as storage\n",
    "import pandas as pd\n",
    "import numpy as np\n",
    "import matplotlib.pyplot as plt\n",
    "import seaborn as sns\n",
    "from io import BytesIO\n",
    "from google.datalab import Context\n",
    "import random, string\n",
    "\n",
    "p = sns.color_palette()"
   ]
  },
  {
   "cell_type": "code",
   "execution_count": 2,
   "metadata": {},
   "outputs": [
    {
     "name": "stdout",
     "output_type": "stream",
     "text": [
      "clicks_test.csv\n",
      "clicks_train.csv\n",
      "dis_ad_ctr.csv\n",
      "dis_several_ads.csv\n",
      "documents_categories.csv\n",
      "documents_entities.csv\n",
      "documents_meta.csv\n",
      "documents_topics.csv\n",
      "events.csv\n",
      "page_views_sample.csv\n",
      "promoted_content.csv\n",
      "sample_submission.csv\n"
     ]
    }
   ],
   "source": [
    "shared_bucket = storage.Bucket('capstone-01')\n",
    "for obj in shared_bucket.objects():\n",
    "  if obj.key.find('/') < 0:\n",
    "    print(obj.key) # Bucket 내에 포함된 데이터 셋 확인"
   ]
  },
  {
   "cell_type": "markdown",
   "metadata": {},
   "source": [
    "# clicks_train & clicks_test"
   ]
  },
  {
   "cell_type": "code",
   "execution_count": 3,
   "metadata": {},
   "outputs": [
    {
     "data": {
      "text/html": [
       "<div>\n",
       "<style scoped>\n",
       "    .dataframe tbody tr th:only-of-type {\n",
       "        vertical-align: middle;\n",
       "    }\n",
       "\n",
       "    .dataframe tbody tr th {\n",
       "        vertical-align: top;\n",
       "    }\n",
       "\n",
       "    .dataframe thead th {\n",
       "        text-align: right;\n",
       "    }\n",
       "</style>\n",
       "<table border=\"1\" class=\"dataframe\">\n",
       "  <thead>\n",
       "    <tr style=\"text-align: right;\">\n",
       "      <th></th>\n",
       "      <th>display_id</th>\n",
       "      <th>ad_id</th>\n",
       "    </tr>\n",
       "  </thead>\n",
       "  <tbody>\n",
       "    <tr>\n",
       "      <th>0</th>\n",
       "      <td>16874594</td>\n",
       "      <td>66758</td>\n",
       "    </tr>\n",
       "    <tr>\n",
       "      <th>1</th>\n",
       "      <td>16874594</td>\n",
       "      <td>150083</td>\n",
       "    </tr>\n",
       "    <tr>\n",
       "      <th>2</th>\n",
       "      <td>16874594</td>\n",
       "      <td>162754</td>\n",
       "    </tr>\n",
       "    <tr>\n",
       "      <th>3</th>\n",
       "      <td>16874594</td>\n",
       "      <td>170392</td>\n",
       "    </tr>\n",
       "    <tr>\n",
       "      <th>4</th>\n",
       "      <td>16874594</td>\n",
       "      <td>172888</td>\n",
       "    </tr>\n",
       "  </tbody>\n",
       "</table>\n",
       "</div>"
      ],
      "text/plain": [
       "   display_id   ad_id\n",
       "0    16874594   66758\n",
       "1    16874594  150083\n",
       "2    16874594  162754\n",
       "3    16874594  170392\n",
       "4    16874594  172888"
      ]
     },
     "execution_count": 3,
     "metadata": {},
     "output_type": "execute_result"
    }
   ],
   "source": [
    "my_bucket = storage.Bucket('capstone-01')\n",
    "\n",
    "clicks_test = my_bucket.object('clicks_test.csv')\n",
    "uri = clicks_test.uri\n",
    "%gcs read --object $uri --variable c_test\n",
    "clicks_test = pd.read_csv(BytesIO(c_test))\n",
    "clicks_test.head(5)"
   ]
  },
  {
   "cell_type": "code",
   "execution_count": 4,
   "metadata": {},
   "outputs": [
    {
     "data": {
      "text/html": [
       "<div>\n",
       "<style scoped>\n",
       "    .dataframe tbody tr th:only-of-type {\n",
       "        vertical-align: middle;\n",
       "    }\n",
       "\n",
       "    .dataframe tbody tr th {\n",
       "        vertical-align: top;\n",
       "    }\n",
       "\n",
       "    .dataframe thead th {\n",
       "        text-align: right;\n",
       "    }\n",
       "</style>\n",
       "<table border=\"1\" class=\"dataframe\">\n",
       "  <thead>\n",
       "    <tr style=\"text-align: right;\">\n",
       "      <th></th>\n",
       "      <th>display_id</th>\n",
       "      <th>ad_id</th>\n",
       "      <th>clicked</th>\n",
       "    </tr>\n",
       "  </thead>\n",
       "  <tbody>\n",
       "    <tr>\n",
       "      <th>0</th>\n",
       "      <td>1</td>\n",
       "      <td>42337</td>\n",
       "      <td>0</td>\n",
       "    </tr>\n",
       "    <tr>\n",
       "      <th>1</th>\n",
       "      <td>1</td>\n",
       "      <td>139684</td>\n",
       "      <td>0</td>\n",
       "    </tr>\n",
       "    <tr>\n",
       "      <th>2</th>\n",
       "      <td>1</td>\n",
       "      <td>144739</td>\n",
       "      <td>1</td>\n",
       "    </tr>\n",
       "    <tr>\n",
       "      <th>3</th>\n",
       "      <td>1</td>\n",
       "      <td>156824</td>\n",
       "      <td>0</td>\n",
       "    </tr>\n",
       "    <tr>\n",
       "      <th>4</th>\n",
       "      <td>1</td>\n",
       "      <td>279295</td>\n",
       "      <td>0</td>\n",
       "    </tr>\n",
       "  </tbody>\n",
       "</table>\n",
       "</div>"
      ],
      "text/plain": [
       "   display_id   ad_id  clicked\n",
       "0           1   42337        0\n",
       "1           1  139684        0\n",
       "2           1  144739        1\n",
       "3           1  156824        0\n",
       "4           1  279295        0"
      ]
     },
     "execution_count": 4,
     "metadata": {},
     "output_type": "execute_result"
    }
   ],
   "source": [
    "clicks_train = my_bucket.object('clicks_train.csv')\n",
    "uri = clicks_train.uri\n",
    "%gcs read --object $uri --variable c_test\n",
    "clicks_train = pd.read_csv(BytesIO(c_test))\n",
    "clicks_train.head(5)"
   ]
  },
  {
   "cell_type": "markdown",
   "metadata": {},
   "source": [
    "# cilcks_train의 ad_id를 ctr 내림차순으로 정렬 (views 5 이상) "
   ]
  },
  {
   "cell_type": "code",
   "execution_count": 5,
   "metadata": {},
   "outputs": [
    {
     "name": "stdout",
     "output_type": "stream",
     "text": [
      "   ad_id  display_id  clicked       0      1\n",
      "0      1           2        0  0.0000   0.00\n",
      "1      2          22        1  0.0455   4.55\n",
      "2      3         161       11  0.0683   6.83\n",
      "3      4          32        4  0.1250  12.50\n",
      "4      5           1        0  0.0000   0.00\n"
     ]
    }
   ],
   "source": [
    "# ad_id별 views, clicks, ctr, ctr.percent 구하기\n",
    "views = clicks_train.groupby('ad_id')['display_id'].count()\n",
    "clicks = clicks_train.groupby('ad_id')['clicked'].sum()\n",
    "ctr = round(clicks/views, 4)\n",
    "ctr.percent = ctr * 100\n",
    "\n",
    "# ad_id별 views, clicks, ctr, ctr.percent 테이블 만들기\n",
    "ad_info = pd.concat([views, clicks, ctr, ctr.percent], axis=1)\n",
    "ad_info.reset_index(level=['ad_id'], inplace=True) # group_by 후 index였던 ad_id를 컬럼으로 보내기\n",
    "print(ad_info.head())"
   ]
  },
  {
   "cell_type": "code",
   "execution_count": 6,
   "metadata": {},
   "outputs": [
    {
     "name": "stdout",
     "output_type": "stream",
     "text": [
      "         ad_id  views  clicks  ctr  ctr.percent\n",
      "478949  548019      1       1  1.0        100.0\n",
      "396495  439589      1       1  1.0        100.0\n",
      "438221  486459      1       1  1.0        100.0\n",
      "396501  439599      1       1  1.0        100.0\n",
      "470153  530339      1       1  1.0        100.0\n"
     ]
    }
   ],
   "source": [
    "# 컬럼명 변경\n",
    "ad_info.columns = ['ad_id', 'views', 'clicks', 'ctr', 'ctr.percent']\n",
    "\n",
    "# ctr 순으로 내림차순 정렬\n",
    "ad_info_desc = ad_info.sort_values('ctr', ascending=False)\n",
    "print(ad_info_desc.head())"
   ]
  },
  {
   "cell_type": "code",
   "execution_count": 7,
   "metadata": {},
   "outputs": [
    {
     "name": "stdout",
     "output_type": "stream",
     "text": [
      "(255975, 5)\n",
      "         ad_id  views  clicks  ctr  ctr.percent\n",
      "45667    50785      5       5  1.0        100.0\n",
      "472699  534762      5       5  1.0        100.0\n",
      "355855  395356      7       7  1.0        100.0\n",
      "355353  394799      5       5  1.0        100.0\n",
      "230817  259272      5       5  1.0        100.0\n"
     ]
    }
   ],
   "source": [
    "# CTR 신뢰도를 높이기 위해, views 수 5개 이상인 것만 추출\n",
    "ad_info_views_over5 = ad_info[ad_info['views'] >= 5].sort_values('ctr', ascending=False)\n",
    "print(ad_info_views_over5.shape) # (255975, 4)\n",
    "print(ad_info_views_over5.head())"
   ]
  },
  {
   "cell_type": "markdown",
   "metadata": {},
   "source": [
    "# click_train의 ad_id의 ctr을 clicks_test에 복붙하자"
   ]
  },
  {
   "cell_type": "code",
   "execution_count": 8,
   "metadata": {},
   "outputs": [
    {
     "name": "stdout",
     "output_type": "stream",
     "text": [
      "   display_id   ad_id    views   clicks     ctr  ctr.percent\n",
      "0    16874594   66758   5642.0    373.0  0.0661         6.61\n",
      "1    16874594  150083  77514.0   5261.0  0.0679         6.79\n",
      "2    16874594  162754  66599.0  15919.0  0.2390        23.90\n",
      "3    16874594  170392  15054.0   5261.0  0.3495        34.95\n",
      "4    16874594  172888  15081.0   5162.0  0.3423        34.23\n",
      "(32225162, 2)\n",
      "(32225162, 6)\n",
      "(1510415, 6)\n"
     ]
    }
   ],
   "source": [
    "# 혹시 모르니까 ad_info_unq로 복사\n",
    "ad_info_unq = ad_info_views_over5\n",
    "\n",
    "# clicks_test와 ad_info_unq(clicks_train의 ad 정보)를 merge\n",
    "click_test_with_ad_info = pd.merge(clicks_test, ad_info_unq, on='ad_id', how='left')\n",
    "print(click_test_with_ad_info.shape)\n",
    "print(click_test_with_ad_info.head())\n",
    "\n",
    "# merge한 데이터에서 NaN 있나 확인\n",
    "nan_rows = click_test_with_ad_info[click_test_with_ad_info['views'].isnull()]\n",
    "print(nan_rows.shape)\n",
    "prtin(clicks_test.shape)\n",
    "\n",
    "# NaN의 비율 = 4.69%\n",
    "1510415/32225162*100"
   ]
  },
  {
   "cell_type": "code",
   "execution_count": 24,
   "metadata": {},
   "outputs": [
    {
     "name": "stdout",
     "output_type": "stream",
     "text": [
      "(31116698,)\n"
     ]
    }
   ],
   "source": [
    "# clicks_train, click_test 각각의 ad_id의 unique 값 비교\n",
    "train_ad = clicks_train['ad_id'].unique()\n",
    "test_ad = clicks_test['ad_id'].unique()\n",
    "# print(train_ad.shape) # clicks_train의 ad_id unique 개수 = 478950\n",
    "# print(test_ad.shape) # clicks_test의 ad_id unique 개수 = 381385\n",
    "inter = np.intersect1d(test_ad, train_ad) # 둘의 교집합 inter\n",
    "# print(inter.shape) # clicks_train, clicks_test 공통으로 가지고 있는 unique한 ad_id의 개수 = 316035\n",
    "\n",
    "# clicks_train, click_test 전체 ad_id 비교 (unique 아니라 all)\n",
    "train_ad = clicks_train['ad_id']\n",
    "test_ad = clicks_test['ad_id']\n",
    "inter = test_ad[test_ad.isin(train_ad)]\n",
    "print(inter.shape) # 둘이 겹치는 ad_id 개수가 31116698"
   ]
  },
  {
   "cell_type": "code",
   "execution_count": 25,
   "metadata": {},
   "outputs": [
    {
     "data": {
      "text/plain": [
       "96.47044401761181"
      ]
     },
     "execution_count": 25,
     "metadata": {},
     "output_type": "execute_result"
    }
   ],
   "source": [
    "# test set에 있는 ad 중에 train set에도 있는 비율은? \n",
    "316035/381385*100 # unique 기준 82.8%\n",
    "31116698/32255162*100 # 전체 기준 96%"
   ]
  },
  {
   "cell_type": "code",
   "execution_count": 10,
   "metadata": {},
   "outputs": [
    {
     "name": "stdout",
     "output_type": "stream",
     "text": [
      "          display_id   ad_id  ctr\n",
      "13286893    19447550  436833  1.0\n",
      "13253671    19441198  436833  1.0\n",
      "5540386     17949678  393472  1.0\n",
      "19996662    20752263  395356  1.0\n",
      "25203137    21758924  156796  1.0\n"
     ]
    }
   ],
   "source": [
    "# 아까 merge한 데이터를 ctr 내림차순으로 정렬\n",
    "click_test_with_ad_info_desc = click_test_with_ad_info.sort_values('ctr', ascending=False)\n",
    "ready_for_submission = click_test_with_ad_info_desc[['display_id', 'ad_id', 'ctr']]\n",
    "print(ready_for_submission.head())"
   ]
  },
  {
   "cell_type": "code",
   "execution_count": 12,
   "metadata": {},
   "outputs": [
    {
     "name": "stdout",
     "output_type": "stream",
     "text": [
      "\n",
      "\n",
      "Updates are available for some Cloud SDK components.  To install them,\n",
      "please run:\n",
      "  $ gcloud components update\n",
      "\n",
      "Copying file://dis_ad_ctr.csv [Content-Type=text/csv]...\n",
      "==> NOTE: You are uploading one or more large file(s), which would run          \n",
      "significantly faster if you enable parallel composite uploads. This\n",
      "feature can be enabled by editing the\n",
      "\"parallel_composite_upload_threshold\" value in your .boto\n",
      "configuration file. However, note that if you do this large files will\n",
      "be uploaded as `composite objects\n",
      "<https://cloud.google.com/storage/docs/composite-objects>`_,which\n",
      "means that any user who downloads such objects will need to have a\n",
      "compiled crcmod installed (see \"gsutil help crcmod\"). This is because\n",
      "without a compiled crcmod, computing checksums on composite objects is\n",
      "so slow that gsutil disables downloads of composite objects.\n",
      "\n",
      "\\ [1 files][685.5 MiB/685.5 MiB]                                                \n",
      "Operation completed over 1 objects/685.5 MiB.                                    \n"
     ]
    }
   ],
   "source": [
    "# clicks_test에서 'display_id', 'ad_id', 'ctr' 세 컬럼을 갖는 데이터를 'dis_ad_ctr.csv'로 저장\n",
    "ready_for_submission.to_csv('dis_ad_ctr.csv', index = False)\n",
    "!gsutil cp 'dis_ad_ctr.csv' 'gs://capstone-01/dis_ad_ctr.csv'"
   ]
  },
  {
   "cell_type": "markdown",
   "metadata": {},
   "source": [
    "# display_id 별로 ad_id 묶어서 최종 submission 파일 만들자"
   ]
  },
  {
   "cell_type": "code",
   "execution_count": 11,
   "metadata": {},
   "outputs": [
    {
     "name": "stdout",
     "output_type": "stream",
     "text": [
      "<class 'pandas.core.series.Series'>\n"
     ]
    }
   ],
   "source": [
    "# clicks_test에서 display_id 별로 ad_id를 묶고(groupby), 그 ad_id들이 담긴 list를 한 컬럼 만들어서 ready_for_submission_group에 저장\n",
    "ready_for_submission_group = ready_for_submission.groupby('display_id')['ad_id'].apply(list)\n",
    "print(type(ready_for_submission_group))"
   ]
  },
  {
   "cell_type": "code",
   "execution_count": 34,
   "metadata": {},
   "outputs": [
    {
     "name": "stdout",
     "output_type": "stream",
     "text": [
      "<class 'pandas.core.frame.DataFrame'>\n",
      "<class 'pandas.core.frame.DataFrame'>\n",
      "   display_id                                              ad_id\n",
      "0    16874594    [170392, 172888, 162754, 150083, 66758, 180797]\n",
      "1    16874595                              [8846, 143982, 30609]\n",
      "2    16874596  [289915, 11430, 289122, 132820, 57197, 153260,...\n",
      "3    16874597  [305790, 285834, 143981, 182039, 155945, 18096...\n",
      "4    16874598                    [145937, 335632, 67292, 250082]\n",
      "5    16874599    [173130, 91681, 213116, 210516, 296295, 163776]\n",
      "6    16874600        [30682, 2150, 57591, 70529, 133050, 114836]\n",
      "7    16874601     [190713, 92003, 129490, 14082, 140942, 118470]\n",
      "8    16874602           [154918, 281563, 269017, 131316, 268548]\n",
      "9    16874603                    [163139, 156050, 44460, 140423]\n",
      "Copying file://dis_several_ads.csv [Content-Type=text/csv]...\n",
      "==> NOTE: You are uploading one or more large file(s), which would run          \n",
      "significantly faster if you enable parallel composite uploads. This\n",
      "feature can be enabled by editing the\n",
      "\"parallel_composite_upload_threshold\" value in your .boto\n",
      "configuration file. However, note that if you do this large files will\n",
      "be uploaded as `composite objects\n",
      "<https://cloud.google.com/storage/docs/composite-objects>`_,which\n",
      "means that any user who downloads such objects will need to have a\n",
      "compiled crcmod installed (see \"gsutil help crcmod\"). This is because\n",
      "without a compiled crcmod, computing checksums on composite objects is\n",
      "so slow that gsutil disables downloads of composite objects.\n",
      "\n",
      "\\ [1 files][309.1 MiB/309.1 MiB]                                                \n",
      "Operation completed over 1 objects/309.1 MiB.                                    \n"
     ]
    }
   ],
   "source": [
    "# pandas series를 dataframe으로 변경\n",
    "ready_for_submission_group_new = ready_for_submission_group.to_frame()\n",
    "print(type(ready_for_submission_group_new))\n",
    "# row name으로 들어가 있는 display_id를 열로 추가\n",
    "ready_for_submission_group_new.reset_index(level=['display_id'], inplace=True)\n",
    "print(type(ready_for_submission_group_new))\n",
    "\n",
    "# csv 저장 전 데이터 살펴보기\n",
    "print(ready_for_submission_group_new.head(10))\n",
    "\n",
    "# display_id와 그에 해당하는 ad_id들이 CTR 내림차순으로 정렬된 리스트를 가지고 있는 ready_for_submission_group_new를 'dis_several_ads.csv'로 저장\n",
    "ready_for_submission_group_new.to_csv('dis_several_ads.csv', index = False)\n",
    "!gsutil cp 'dis_several_ads.csv' 'gs://capstone-01/dis_several_ads.csv'"
   ]
  },
  {
   "cell_type": "markdown",
   "metadata": {},
   "source": [
    "# ad_id들이 CTR 내림차순으로 잘 정렬되었는지 확인하자"
   ]
  },
  {
   "cell_type": "code",
   "execution_count": 33,
   "metadata": {},
   "outputs": [
    {
     "data": {
      "text/html": [
       "<div>\n",
       "<style scoped>\n",
       "    .dataframe tbody tr th:only-of-type {\n",
       "        vertical-align: middle;\n",
       "    }\n",
       "\n",
       "    .dataframe tbody tr th {\n",
       "        vertical-align: top;\n",
       "    }\n",
       "\n",
       "    .dataframe thead th {\n",
       "        text-align: right;\n",
       "    }\n",
       "</style>\n",
       "<table border=\"1\" class=\"dataframe\">\n",
       "  <thead>\n",
       "    <tr style=\"text-align: right;\">\n",
       "      <th></th>\n",
       "      <th>display_id</th>\n",
       "      <th>ad_id</th>\n",
       "      <th>ctr</th>\n",
       "    </tr>\n",
       "  </thead>\n",
       "  <tbody>\n",
       "    <tr>\n",
       "      <th>3</th>\n",
       "      <td>16874594</td>\n",
       "      <td>170392</td>\n",
       "      <td>0.3495</td>\n",
       "    </tr>\n",
       "    <tr>\n",
       "      <th>4</th>\n",
       "      <td>16874594</td>\n",
       "      <td>172888</td>\n",
       "      <td>0.3423</td>\n",
       "    </tr>\n",
       "    <tr>\n",
       "      <th>2</th>\n",
       "      <td>16874594</td>\n",
       "      <td>162754</td>\n",
       "      <td>0.2390</td>\n",
       "    </tr>\n",
       "    <tr>\n",
       "      <th>1</th>\n",
       "      <td>16874594</td>\n",
       "      <td>150083</td>\n",
       "      <td>0.0679</td>\n",
       "    </tr>\n",
       "    <tr>\n",
       "      <th>0</th>\n",
       "      <td>16874594</td>\n",
       "      <td>66758</td>\n",
       "      <td>0.0661</td>\n",
       "    </tr>\n",
       "    <tr>\n",
       "      <th>5</th>\n",
       "      <td>16874594</td>\n",
       "      <td>180797</td>\n",
       "      <td>0.0288</td>\n",
       "    </tr>\n",
       "  </tbody>\n",
       "</table>\n",
       "</div>"
      ],
      "text/plain": [
       "   display_id   ad_id     ctr\n",
       "3    16874594  170392  0.3495\n",
       "4    16874594  172888  0.3423\n",
       "2    16874594  162754  0.2390\n",
       "1    16874594  150083  0.0679\n",
       "0    16874594   66758  0.0661\n",
       "5    16874594  180797  0.0288"
      ]
     },
     "execution_count": 33,
     "metadata": {},
     "output_type": "execute_result"
    }
   ],
   "source": [
    "# CTR 내림차순으로 잘 정렬되었나 확인하기\n",
    "# \"dis_ad_ctr.csv\"에서 display_id가 16874594인 애들만 뽑아서 봤더니 CTR 내림차순으로 정렬되어 있더라!\n",
    "ready_for_submission[ready_for_submission['display_id']==16874594]"
   ]
  }
 ],
 "metadata": {
  "kernelspec": {
   "display_name": "Python 3",
   "language": "python",
   "name": "python3"
  },
  "language_info": {
   "codemirror_mode": {
    "name": "ipython",
    "version": 3
   },
   "file_extension": ".py",
   "mimetype": "text/x-python",
   "name": "python",
   "nbconvert_exporter": "python",
   "pygments_lexer": "ipython3",
   "version": "3.5.5"
  }
 },
 "nbformat": 4,
 "nbformat_minor": 2
}
