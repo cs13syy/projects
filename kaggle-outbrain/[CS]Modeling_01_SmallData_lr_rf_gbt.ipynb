{
 "cells": [
  {
   "cell_type": "markdown",
   "metadata": {},
   "source": [
    "## import package"
   ]
  },
  {
   "cell_type": "code",
   "execution_count": null,
   "metadata": {},
   "outputs": [],
   "source": [
    "from IPython.display import display\n",
    "from pyspark.sql.types import *\n",
    "import pyspark.sql.functions as F\n",
    "from pyspark.ml.linalg import Vectors, SparseVector, VectorUDT"
   ]
  },
  {
   "cell_type": "code",
   "execution_count": 57,
   "metadata": {},
   "outputs": [],
   "source": [
    "import numpy as np\n",
    "import scipy.sparse\n",
    "import math\n",
    "import datetime\n",
    "import time\n",
    "import itertools\n",
    "import pandas as pd\n",
    "%matplotlib inline"
   ]
  },
  {
   "cell_type": "markdown",
   "metadata": {},
   "source": [
    "## load data"
   ]
  },
  {
   "cell_type": "code",
   "execution_count": 58,
   "metadata": {},
   "outputs": [],
   "source": [
    "# train set, validation set 불러오기\n",
    "train = spark.read.format('csv').option(\"header\", \"true\").load('gs://capstone-03/data/train_sample.csv')\n",
    "valid = spark.read.format('csv').option(\"header\", \"true\").load('gs://capstone-03/data/validation_sample.csv')\n",
    "# 버킷에서 csv 불러오기 -> df = spark.read.format(\"csv\").option(\"header\", \"true\").load(\"csvfile.csv\")"
   ]
  },
  {
   "cell_type": "code",
   "execution_count": 37,
   "metadata": {},
   "outputs": [
    {
     "name": "stdout",
     "output_type": "stream",
     "text": [
      "(102091, 31)\n",
      "(25656, 31)\n"
     ]
    }
   ],
   "source": [
    "# print((train.count(), len(train.columns)))\n",
    "# print((valid.count(), len(valid.columns)))"
   ]
  },
  {
   "cell_type": "code",
   "execution_count": 59,
   "metadata": {},
   "outputs": [],
   "source": [
    "# train set, validation set 합치기\n",
    "union = train.union(valid)"
   ]
  },
  {
   "cell_type": "code",
   "execution_count": 8,
   "metadata": {},
   "outputs": [
    {
     "name": "stdout",
     "output_type": "stream",
     "text": [
      "(127747, 31)\n"
     ]
    }
   ],
   "source": [
    "# print((union.count(), len(union.columns)))"
   ]
  },
  {
   "cell_type": "code",
   "execution_count": 60,
   "metadata": {},
   "outputs": [
    {
     "name": "stdout",
     "output_type": "stream",
     "text": [
      "root\n",
      " |-- display_id: string (nullable = true)\n",
      " |-- ad_id: string (nullable = true)\n",
      " |-- label: string (nullable = true)\n",
      " |-- is_leak: string (nullable = true)\n",
      " |-- weekend: string (nullable = true)\n",
      " |-- view_publisher_id: string (nullable = true)\n",
      " |-- view_source_id: string (nullable = true)\n",
      " |-- hour: string (nullable = true)\n",
      " |-- platform: string (nullable = true)\n",
      " |-- traffic_source: string (nullable = true)\n",
      " |-- is_train: string (nullable = true)\n",
      " |-- country: string (nullable = true)\n",
      " |-- day_event: string (nullable = true)\n",
      " |-- campaign_id: string (nullable = true)\n",
      " |-- advertiser_id: string (nullable = true)\n",
      " |-- ad_category_id: string (nullable = true)\n",
      " |-- ad_topic_id: string (nullable = true)\n",
      " |-- view_category_id: string (nullable = true)\n",
      " |-- view_topic_id: string (nullable = true)\n",
      " |-- timestamp_event: string (nullable = true)\n",
      " |-- ad_source_id: string (nullable = true)\n",
      " |-- ad_publisher_id: string (nullable = true)\n",
      " |-- pop_ad_id: string (nullable = true)\n",
      " |-- pop_ad_doc_id: string (nullable = true)\n",
      " |-- pop_ad_publisher_id: string (nullable = true)\n",
      " |-- pop_advertiser_id: string (nullable = true)\n",
      " |-- pop_campaign_id: string (nullable = true)\n",
      " |-- pop_view_doc_ad_doc: string (nullable = true)\n",
      " |-- pop_ad_source_id: string (nullable = true)\n",
      " |-- pop_ad_topic_id: string (nullable = true)\n",
      " |-- pop_ad_category_id: string (nullable = true)\n",
      "\n"
     ]
    }
   ],
   "source": [
    "train_raw_df = union\n",
    "train_raw_df.printSchema()\n",
    "# print((train_raw_df.count(), len(train_raw_df.columns)))"
   ]
  },
  {
   "cell_type": "code",
   "execution_count": 6,
   "metadata": {},
   "outputs": [
    {
     "data": {
      "text/html": [
       "<div>\n",
       "<style scoped>\n",
       "    .dataframe tbody tr th:only-of-type {\n",
       "        vertical-align: middle;\n",
       "    }\n",
       "\n",
       "    .dataframe tbody tr th {\n",
       "        vertical-align: top;\n",
       "    }\n",
       "\n",
       "    .dataframe thead th {\n",
       "        text-align: right;\n",
       "    }\n",
       "</style>\n",
       "<table border=\"1\" class=\"dataframe\">\n",
       "  <thead>\n",
       "    <tr style=\"text-align: right;\">\n",
       "      <th></th>\n",
       "      <th>0</th>\n",
       "      <th>1</th>\n",
       "      <th>2</th>\n",
       "      <th>3</th>\n",
       "      <th>4</th>\n",
       "    </tr>\n",
       "  </thead>\n",
       "  <tbody>\n",
       "    <tr>\n",
       "      <th>display_id</th>\n",
       "      <td>11269</td>\n",
       "      <td>17083</td>\n",
       "      <td>3720</td>\n",
       "      <td>14821</td>\n",
       "      <td>1775</td>\n",
       "    </tr>\n",
       "    <tr>\n",
       "      <th>ad_id</th>\n",
       "      <td>3190</td>\n",
       "      <td>36415</td>\n",
       "      <td>36625</td>\n",
       "      <td>36415</td>\n",
       "      <td>35998</td>\n",
       "    </tr>\n",
       "    <tr>\n",
       "      <th>label</th>\n",
       "      <td>0</td>\n",
       "      <td>1</td>\n",
       "      <td>0</td>\n",
       "      <td>0</td>\n",
       "      <td>0</td>\n",
       "    </tr>\n",
       "    <tr>\n",
       "      <th>is_leak</th>\n",
       "      <td>-1</td>\n",
       "      <td>-1</td>\n",
       "      <td>-1</td>\n",
       "      <td>-1</td>\n",
       "      <td>0</td>\n",
       "    </tr>\n",
       "    <tr>\n",
       "      <th>weekend</th>\n",
       "      <td>0</td>\n",
       "      <td>0</td>\n",
       "      <td>0</td>\n",
       "      <td>0</td>\n",
       "      <td>0</td>\n",
       "    </tr>\n",
       "    <tr>\n",
       "      <th>view_publisher_id</th>\n",
       "      <td>180</td>\n",
       "      <td>450</td>\n",
       "      <td>40</td>\n",
       "      <td>3</td>\n",
       "      <td>221</td>\n",
       "    </tr>\n",
       "    <tr>\n",
       "      <th>view_source_id</th>\n",
       "      <td>U</td>\n",
       "      <td>7736</td>\n",
       "      <td>1248</td>\n",
       "      <td>3841</td>\n",
       "      <td>844</td>\n",
       "    </tr>\n",
       "    <tr>\n",
       "      <th>hour</th>\n",
       "      <td>6</td>\n",
       "      <td>4</td>\n",
       "      <td>5</td>\n",
       "      <td>5</td>\n",
       "      <td>6</td>\n",
       "    </tr>\n",
       "    <tr>\n",
       "      <th>platform</th>\n",
       "      <td>2</td>\n",
       "      <td>1</td>\n",
       "      <td>1</td>\n",
       "      <td>1</td>\n",
       "      <td>1</td>\n",
       "    </tr>\n",
       "    <tr>\n",
       "      <th>traffic_source</th>\n",
       "      <td>1</td>\n",
       "      <td>1</td>\n",
       "      <td>2</td>\n",
       "      <td>2</td>\n",
       "      <td>1</td>\n",
       "    </tr>\n",
       "    <tr>\n",
       "      <th>is_train</th>\n",
       "      <td>1</td>\n",
       "      <td>1</td>\n",
       "      <td>1</td>\n",
       "      <td>1</td>\n",
       "      <td>0</td>\n",
       "    </tr>\n",
       "    <tr>\n",
       "      <th>country</th>\n",
       "      <td>US</td>\n",
       "      <td>U</td>\n",
       "      <td>U</td>\n",
       "      <td>U</td>\n",
       "      <td>US</td>\n",
       "    </tr>\n",
       "    <tr>\n",
       "      <th>day_event</th>\n",
       "      <td>0</td>\n",
       "      <td>0</td>\n",
       "      <td>0</td>\n",
       "      <td>0</td>\n",
       "      <td>0</td>\n",
       "    </tr>\n",
       "    <tr>\n",
       "      <th>campaign_id</th>\n",
       "      <td>460</td>\n",
       "      <td>1048</td>\n",
       "      <td>1049</td>\n",
       "      <td>1048</td>\n",
       "      <td>1049</td>\n",
       "    </tr>\n",
       "    <tr>\n",
       "      <th>advertiser_id</th>\n",
       "      <td>551</td>\n",
       "      <td>823</td>\n",
       "      <td>823</td>\n",
       "      <td>823</td>\n",
       "      <td>823</td>\n",
       "    </tr>\n",
       "    <tr>\n",
       "      <th>ad_category_id</th>\n",
       "      <td>1513</td>\n",
       "      <td>1706</td>\n",
       "      <td>1706</td>\n",
       "      <td>1706</td>\n",
       "      <td>1706</td>\n",
       "    </tr>\n",
       "    <tr>\n",
       "      <th>ad_topic_id</th>\n",
       "      <td>U</td>\n",
       "      <td>269</td>\n",
       "      <td>269</td>\n",
       "      <td>269</td>\n",
       "      <td>269</td>\n",
       "    </tr>\n",
       "    <tr>\n",
       "      <th>view_category_id</th>\n",
       "      <td>1403</td>\n",
       "      <td>1706</td>\n",
       "      <td>1706</td>\n",
       "      <td>1706</td>\n",
       "      <td>1706</td>\n",
       "    </tr>\n",
       "    <tr>\n",
       "      <th>view_topic_id</th>\n",
       "      <td>262</td>\n",
       "      <td>143</td>\n",
       "      <td>269</td>\n",
       "      <td>20</td>\n",
       "      <td>269</td>\n",
       "    </tr>\n",
       "    <tr>\n",
       "      <th>timestamp_event</th>\n",
       "      <td>783178</td>\n",
       "      <td>1201855</td>\n",
       "      <td>255343</td>\n",
       "      <td>1035065</td>\n",
       "      <td>123971</td>\n",
       "    </tr>\n",
       "    <tr>\n",
       "      <th>ad_source_id</th>\n",
       "      <td>2566</td>\n",
       "      <td>6214</td>\n",
       "      <td>6214</td>\n",
       "      <td>6214</td>\n",
       "      <td>6214</td>\n",
       "    </tr>\n",
       "    <tr>\n",
       "      <th>ad_publisher_id</th>\n",
       "      <td>415</td>\n",
       "      <td>U</td>\n",
       "      <td>U</td>\n",
       "      <td>U</td>\n",
       "      <td>U</td>\n",
       "    </tr>\n",
       "    <tr>\n",
       "      <th>pop_ad_id</th>\n",
       "      <td>2</td>\n",
       "      <td>2</td>\n",
       "      <td>2</td>\n",
       "      <td>3</td>\n",
       "      <td>3</td>\n",
       "    </tr>\n",
       "    <tr>\n",
       "      <th>pop_ad_doc_id</th>\n",
       "      <td>2</td>\n",
       "      <td>2</td>\n",
       "      <td>2</td>\n",
       "      <td>2</td>\n",
       "      <td>2</td>\n",
       "    </tr>\n",
       "    <tr>\n",
       "      <th>pop_ad_publisher_id</th>\n",
       "      <td>U</td>\n",
       "      <td>U</td>\n",
       "      <td>U</td>\n",
       "      <td>U</td>\n",
       "      <td>U</td>\n",
       "    </tr>\n",
       "    <tr>\n",
       "      <th>pop_advertiser_id</th>\n",
       "      <td>2</td>\n",
       "      <td>2</td>\n",
       "      <td>2</td>\n",
       "      <td>2</td>\n",
       "      <td>2</td>\n",
       "    </tr>\n",
       "    <tr>\n",
       "      <th>pop_campaign_id</th>\n",
       "      <td>2</td>\n",
       "      <td>1</td>\n",
       "      <td>2</td>\n",
       "      <td>2</td>\n",
       "      <td>2</td>\n",
       "    </tr>\n",
       "    <tr>\n",
       "      <th>pop_view_doc_ad_doc</th>\n",
       "      <td>2</td>\n",
       "      <td>1</td>\n",
       "      <td>U</td>\n",
       "      <td>U</td>\n",
       "      <td>U</td>\n",
       "    </tr>\n",
       "    <tr>\n",
       "      <th>pop_ad_source_id</th>\n",
       "      <td>2</td>\n",
       "      <td>2</td>\n",
       "      <td>2</td>\n",
       "      <td>2</td>\n",
       "      <td>2</td>\n",
       "    </tr>\n",
       "    <tr>\n",
       "      <th>pop_ad_topic_id</th>\n",
       "      <td>4</td>\n",
       "      <td>4</td>\n",
       "      <td>4</td>\n",
       "      <td>4</td>\n",
       "      <td>4</td>\n",
       "    </tr>\n",
       "    <tr>\n",
       "      <th>pop_ad_category_id</th>\n",
       "      <td>2</td>\n",
       "      <td>2</td>\n",
       "      <td>2</td>\n",
       "      <td>2</td>\n",
       "      <td>2</td>\n",
       "    </tr>\n",
       "  </tbody>\n",
       "</table>\n",
       "</div>"
      ],
      "text/plain": [
       "                          0        1       2        3       4\n",
       "display_id            11269    17083    3720    14821    1775\n",
       "ad_id                  3190    36415   36625    36415   35998\n",
       "label                     0        1       0        0       0\n",
       "is_leak                  -1       -1      -1       -1       0\n",
       "weekend                   0        0       0        0       0\n",
       "view_publisher_id       180      450      40        3     221\n",
       "view_source_id            U     7736    1248     3841     844\n",
       "hour                      6        4       5        5       6\n",
       "platform                  2        1       1        1       1\n",
       "traffic_source            1        1       2        2       1\n",
       "is_train                  1        1       1        1       0\n",
       "country                  US        U       U        U      US\n",
       "day_event                 0        0       0        0       0\n",
       "campaign_id             460     1048    1049     1048    1049\n",
       "advertiser_id           551      823     823      823     823\n",
       "ad_category_id         1513     1706    1706     1706    1706\n",
       "ad_topic_id               U      269     269      269     269\n",
       "view_category_id       1403     1706    1706     1706    1706\n",
       "view_topic_id           262      143     269       20     269\n",
       "timestamp_event      783178  1201855  255343  1035065  123971\n",
       "ad_source_id           2566     6214    6214     6214    6214\n",
       "ad_publisher_id         415        U       U        U       U\n",
       "pop_ad_id                 2        2       2        3       3\n",
       "pop_ad_doc_id             2        2       2        2       2\n",
       "pop_ad_publisher_id       U        U       U        U       U\n",
       "pop_advertiser_id         2        2       2        2       2\n",
       "pop_campaign_id           2        1       2        2       2\n",
       "pop_view_doc_ad_doc       2        1       U        U       U\n",
       "pop_ad_source_id          2        2       2        2       2\n",
       "pop_ad_topic_id           4        4       4        4       4\n",
       "pop_ad_category_id        2        2       2        2       2"
      ]
     },
     "execution_count": 6,
     "metadata": {},
     "output_type": "execute_result"
    }
   ],
   "source": [
    "pd.DataFrame(train_raw_df.take(5), columns=train_raw_df.columns).transpose()"
   ]
  },
  {
   "cell_type": "code",
   "execution_count": 61,
   "metadata": {},
   "outputs": [
    {
     "name": "stdout",
     "output_type": "stream",
     "text": [
      "root\n",
      " |-- display_id: string (nullable = true)\n",
      " |-- ad_id: string (nullable = true)\n",
      " |-- ClickOrNot: string (nullable = true)\n",
      " |-- is_leak: string (nullable = true)\n",
      " |-- view_publisher_id: string (nullable = true)\n",
      " |-- view_source_id: string (nullable = true)\n",
      " |-- hour: string (nullable = true)\n",
      " |-- platform: string (nullable = true)\n",
      " |-- traffic_source: string (nullable = true)\n",
      " |-- is_train: string (nullable = true)\n",
      " |-- country: string (nullable = true)\n",
      " |-- campaign_id: string (nullable = true)\n",
      " |-- advertiser_id: string (nullable = true)\n",
      " |-- ad_category_id: string (nullable = true)\n",
      " |-- ad_topic_id: string (nullable = true)\n",
      " |-- view_category_id: string (nullable = true)\n",
      " |-- view_topic_id: string (nullable = true)\n",
      " |-- ad_source_id: string (nullable = true)\n",
      " |-- ad_publisher_id: string (nullable = true)\n",
      " |-- pop_ad_id: string (nullable = true)\n",
      " |-- pop_ad_doc_id: string (nullable = true)\n",
      " |-- pop_ad_publisher_id: string (nullable = true)\n",
      " |-- pop_advertiser_id: string (nullable = true)\n",
      " |-- pop_campaign_id: string (nullable = true)\n",
      " |-- pop_view_doc_ad_doc: string (nullable = true)\n",
      " |-- pop_ad_source_id: string (nullable = true)\n",
      " |-- pop_ad_topic_id: string (nullable = true)\n",
      " |-- pop_ad_category_id: string (nullable = true)\n",
      "\n",
      "(127747, 28)\n"
     ]
    }
   ],
   "source": [
    "# 'weekend', 'day_event', 'timestamp_event' 제외 ('weekend'는 레벨이 하나라서, 시간 변수는 필요 없어서) \n",
    "train_raw_df = train_raw_df.select([c for c in train_raw_df.columns if c not in {'weekend', 'day_event', 'timestamp_event'}])\n",
    "train_raw_df = train_raw_df.withColumnRenamed(\"label\", \"ClickOrNot\")\n",
    "train_raw_df.printSchema()\n",
    "print((train_raw_df.count(), len(train_raw_df.columns))) # (127747, 28)\n",
    "# 원하는 컬럼 제외하고 셀렉하는 방법 -> df.select([c for c in df.columns if c not in {'column_1', 'column_2', 'column_3'}])"
   ]
  },
  {
   "cell_type": "markdown",
   "metadata": {},
   "source": [
    "## feature engineering - numeric"
   ]
  },
  {
   "cell_type": "code",
   "execution_count": null,
   "metadata": {},
   "outputs": [],
   "source": [
    "# numeric_features 없음, 이 코드 건너뛰기\n",
    "# numeric_features = [t[0] for t in df.dtypes if t[1] == 'int'] # numeric features 이름 저장\n",
    "# df.select(numeric_features).describe().toPandas().transpose()"
   ]
  },
  {
   "cell_type": "markdown",
   "metadata": {},
   "source": [
    "## feature engineering - categorical"
   ]
  },
  {
   "cell_type": "code",
   "execution_count": 62,
   "metadata": {},
   "outputs": [],
   "source": [
    "from pyspark.ml.feature import OneHotEncoderEstimator, StringIndexer, VectorAssembler\n",
    "categoricalColumns = ['view_publisher_id', 'view_source_id', 'hour', 'platform', 'traffic_source', 'country', 'campaign_id', 'advertiser_id', 'ad_category_id', 'ad_topic_id', 'view_category_id', 'view_topic_id', 'ad_source_id', 'ad_publisher_id', 'pop_ad_id', 'pop_ad_doc_id', 'pop_ad_publisher_id', 'pop_advertiser_id', 'pop_campaign_id', 'pop_view_doc_ad_doc', 'pop_ad_source_id', 'pop_ad_topic_id', 'pop_ad_category_id']\n",
    "# categoricalColumns : 23개\n",
    "# 31 - 23 = 8 ('display_id', 'ad_id', 'ClickOrNot', 'is_leak', 'is_train', 'weekend', 'day_event', 'timestamp_event')\n",
    "stages = []"
   ]
  },
  {
   "cell_type": "code",
   "execution_count": 63,
   "metadata": {},
   "outputs": [],
   "source": [
    "for categoricalCol in categoricalColumns:\n",
    "    stringIndexer = StringIndexer(inputCol = categoricalCol, outputCol = categoricalCol + 'Index')\n",
    "    encoder = OneHotEncoderEstimator(inputCols=[stringIndexer.getOutputCol()], outputCols=[categoricalCol + \"classVec\"])\n",
    "    stages += [stringIndexer, encoder]"
   ]
  },
  {
   "cell_type": "markdown",
   "metadata": {},
   "source": [
    "## feature engineering - label"
   ]
  },
  {
   "cell_type": "code",
   "execution_count": 64,
   "metadata": {},
   "outputs": [],
   "source": [
    "label_stringIdx = StringIndexer(inputCol = 'ClickOrNot', outputCol = 'label')\n",
    "stages += [label_stringIdx]"
   ]
  },
  {
   "cell_type": "markdown",
   "metadata": {},
   "source": [
    "## feature engineering - assembler (categorical)"
   ]
  },
  {
   "cell_type": "code",
   "execution_count": 65,
   "metadata": {},
   "outputs": [],
   "source": [
    "assemblerInputs = [c + \"classVec\" for c in categoricalColumns]\n",
    "assembler = VectorAssembler(inputCols=assemblerInputs, outputCol=\"features\")\n",
    "stages += [assembler]"
   ]
  },
  {
   "cell_type": "markdown",
   "metadata": {},
   "source": [
    "## feature engineering - assembler (numeric)"
   ]
  },
  {
   "cell_type": "code",
   "execution_count": null,
   "metadata": {},
   "outputs": [],
   "source": [
    "# numeric_features 없음, 이 코드 건너뛰기\n",
    "# numericCols = []\n",
    "# assemblerInputs = [c + \"classVec\" for c in categoricalColumns] + numericCols\n",
    "# assembler = VectorAssembler(inputCols=assemblerInputs, outputCol=\"features\")\n",
    "# stages += [assembler]"
   ]
  },
  {
   "cell_type": "markdown",
   "metadata": {},
   "source": [
    "## pipeline"
   ]
  },
  {
   "cell_type": "code",
   "execution_count": 66,
   "metadata": {},
   "outputs": [],
   "source": [
    "from pyspark.ml import Pipeline\n",
    "pipeline = Pipeline(stages = stages)\n",
    "pipelineModel = pipeline.fit(train_raw_df)\n",
    "train_transform_df = pipelineModel.transform(train_raw_df)\n",
    "cols = train_raw_df.columns\n",
    "selectedCols = ['label', 'features'] + cols\n",
    "train_selected_df = train_transform_df.select(selectedCols)"
   ]
  },
  {
   "cell_type": "code",
   "execution_count": 16,
   "metadata": {},
   "outputs": [
    {
     "name": "stdout",
     "output_type": "stream",
     "text": [
      "root\n",
      " |-- label: double (nullable = false)\n",
      " |-- features: vector (nullable = true)\n",
      " |-- display_id: string (nullable = true)\n",
      " |-- ad_id: string (nullable = true)\n",
      " |-- ClickOrNot: string (nullable = true)\n",
      " |-- is_leak: string (nullable = true)\n",
      " |-- view_publisher_id: string (nullable = true)\n",
      " |-- view_source_id: string (nullable = true)\n",
      " |-- hour: string (nullable = true)\n",
      " |-- platform: string (nullable = true)\n",
      " |-- traffic_source: string (nullable = true)\n",
      " |-- is_train: string (nullable = true)\n",
      " |-- country: string (nullable = true)\n",
      " |-- campaign_id: string (nullable = true)\n",
      " |-- advertiser_id: string (nullable = true)\n",
      " |-- ad_category_id: string (nullable = true)\n",
      " |-- ad_topic_id: string (nullable = true)\n",
      " |-- view_category_id: string (nullable = true)\n",
      " |-- view_topic_id: string (nullable = true)\n",
      " |-- ad_source_id: string (nullable = true)\n",
      " |-- ad_publisher_id: string (nullable = true)\n",
      " |-- pop_ad_id: string (nullable = true)\n",
      " |-- pop_ad_doc_id: string (nullable = true)\n",
      " |-- pop_ad_publisher_id: string (nullable = true)\n",
      " |-- pop_advertiser_id: string (nullable = true)\n",
      " |-- pop_campaign_id: string (nullable = true)\n",
      " |-- pop_view_doc_ad_doc: string (nullable = true)\n",
      " |-- pop_ad_source_id: string (nullable = true)\n",
      " |-- pop_ad_topic_id: string (nullable = true)\n",
      " |-- pop_ad_category_id: string (nullable = true)\n",
      "\n",
      "(127747, 30)\n"
     ]
    }
   ],
   "source": [
    "train_selected_df.printSchema()\n",
    "print((train_selected_df.count(), len(train_selected_df.columns))) # 28 -> 30 : new columns('label', 'features') are added"
   ]
  },
  {
   "cell_type": "code",
   "execution_count": 17,
   "metadata": {},
   "outputs": [
    {
     "data": {
      "text/html": [
       "<div>\n",
       "<style scoped>\n",
       "    .dataframe tbody tr th:only-of-type {\n",
       "        vertical-align: middle;\n",
       "    }\n",
       "\n",
       "    .dataframe tbody tr th {\n",
       "        vertical-align: top;\n",
       "    }\n",
       "\n",
       "    .dataframe thead th {\n",
       "        text-align: right;\n",
       "    }\n",
       "</style>\n",
       "<table border=\"1\" class=\"dataframe\">\n",
       "  <thead>\n",
       "    <tr style=\"text-align: right;\">\n",
       "      <th></th>\n",
       "      <th>0</th>\n",
       "      <th>1</th>\n",
       "      <th>2</th>\n",
       "      <th>3</th>\n",
       "      <th>4</th>\n",
       "    </tr>\n",
       "  </thead>\n",
       "  <tbody>\n",
       "    <tr>\n",
       "      <th>label</th>\n",
       "      <td>0</td>\n",
       "      <td>1</td>\n",
       "      <td>0</td>\n",
       "      <td>0</td>\n",
       "      <td>0</td>\n",
       "    </tr>\n",
       "    <tr>\n",
       "      <th>features</th>\n",
       "      <td>(0.0, 0.0, 0.0, 0.0, 0.0, 0.0, 0.0, 0.0, 0.0, ...</td>\n",
       "      <td>(0.0, 0.0, 0.0, 0.0, 0.0, 1.0, 0.0, 0.0, 0.0, ...</td>\n",
       "      <td>(0.0, 0.0, 0.0, 0.0, 0.0, 0.0, 0.0, 0.0, 0.0, ...</td>\n",
       "      <td>(0.0, 0.0, 0.0, 0.0, 0.0, 0.0, 0.0, 0.0, 0.0, ...</td>\n",
       "      <td>(0.0, 0.0, 0.0, 0.0, 0.0, 0.0, 0.0, 0.0, 0.0, ...</td>\n",
       "    </tr>\n",
       "    <tr>\n",
       "      <th>display_id</th>\n",
       "      <td>11269</td>\n",
       "      <td>17083</td>\n",
       "      <td>3720</td>\n",
       "      <td>14821</td>\n",
       "      <td>1775</td>\n",
       "    </tr>\n",
       "    <tr>\n",
       "      <th>ad_id</th>\n",
       "      <td>3190</td>\n",
       "      <td>36415</td>\n",
       "      <td>36625</td>\n",
       "      <td>36415</td>\n",
       "      <td>35998</td>\n",
       "    </tr>\n",
       "    <tr>\n",
       "      <th>ClickOrNot</th>\n",
       "      <td>0</td>\n",
       "      <td>1</td>\n",
       "      <td>0</td>\n",
       "      <td>0</td>\n",
       "      <td>0</td>\n",
       "    </tr>\n",
       "    <tr>\n",
       "      <th>is_leak</th>\n",
       "      <td>-1</td>\n",
       "      <td>-1</td>\n",
       "      <td>-1</td>\n",
       "      <td>-1</td>\n",
       "      <td>0</td>\n",
       "    </tr>\n",
       "    <tr>\n",
       "      <th>view_publisher_id</th>\n",
       "      <td>180</td>\n",
       "      <td>450</td>\n",
       "      <td>40</td>\n",
       "      <td>3</td>\n",
       "      <td>221</td>\n",
       "    </tr>\n",
       "    <tr>\n",
       "      <th>view_source_id</th>\n",
       "      <td>U</td>\n",
       "      <td>7736</td>\n",
       "      <td>1248</td>\n",
       "      <td>3841</td>\n",
       "      <td>844</td>\n",
       "    </tr>\n",
       "    <tr>\n",
       "      <th>hour</th>\n",
       "      <td>6</td>\n",
       "      <td>4</td>\n",
       "      <td>5</td>\n",
       "      <td>5</td>\n",
       "      <td>6</td>\n",
       "    </tr>\n",
       "    <tr>\n",
       "      <th>platform</th>\n",
       "      <td>2</td>\n",
       "      <td>1</td>\n",
       "      <td>1</td>\n",
       "      <td>1</td>\n",
       "      <td>1</td>\n",
       "    </tr>\n",
       "    <tr>\n",
       "      <th>traffic_source</th>\n",
       "      <td>1</td>\n",
       "      <td>1</td>\n",
       "      <td>2</td>\n",
       "      <td>2</td>\n",
       "      <td>1</td>\n",
       "    </tr>\n",
       "    <tr>\n",
       "      <th>is_train</th>\n",
       "      <td>1</td>\n",
       "      <td>1</td>\n",
       "      <td>1</td>\n",
       "      <td>1</td>\n",
       "      <td>0</td>\n",
       "    </tr>\n",
       "    <tr>\n",
       "      <th>country</th>\n",
       "      <td>US</td>\n",
       "      <td>U</td>\n",
       "      <td>U</td>\n",
       "      <td>U</td>\n",
       "      <td>US</td>\n",
       "    </tr>\n",
       "    <tr>\n",
       "      <th>campaign_id</th>\n",
       "      <td>460</td>\n",
       "      <td>1048</td>\n",
       "      <td>1049</td>\n",
       "      <td>1048</td>\n",
       "      <td>1049</td>\n",
       "    </tr>\n",
       "    <tr>\n",
       "      <th>advertiser_id</th>\n",
       "      <td>551</td>\n",
       "      <td>823</td>\n",
       "      <td>823</td>\n",
       "      <td>823</td>\n",
       "      <td>823</td>\n",
       "    </tr>\n",
       "    <tr>\n",
       "      <th>ad_category_id</th>\n",
       "      <td>1513</td>\n",
       "      <td>1706</td>\n",
       "      <td>1706</td>\n",
       "      <td>1706</td>\n",
       "      <td>1706</td>\n",
       "    </tr>\n",
       "    <tr>\n",
       "      <th>ad_topic_id</th>\n",
       "      <td>U</td>\n",
       "      <td>269</td>\n",
       "      <td>269</td>\n",
       "      <td>269</td>\n",
       "      <td>269</td>\n",
       "    </tr>\n",
       "    <tr>\n",
       "      <th>view_category_id</th>\n",
       "      <td>1403</td>\n",
       "      <td>1706</td>\n",
       "      <td>1706</td>\n",
       "      <td>1706</td>\n",
       "      <td>1706</td>\n",
       "    </tr>\n",
       "    <tr>\n",
       "      <th>view_topic_id</th>\n",
       "      <td>262</td>\n",
       "      <td>143</td>\n",
       "      <td>269</td>\n",
       "      <td>20</td>\n",
       "      <td>269</td>\n",
       "    </tr>\n",
       "    <tr>\n",
       "      <th>ad_source_id</th>\n",
       "      <td>2566</td>\n",
       "      <td>6214</td>\n",
       "      <td>6214</td>\n",
       "      <td>6214</td>\n",
       "      <td>6214</td>\n",
       "    </tr>\n",
       "    <tr>\n",
       "      <th>ad_publisher_id</th>\n",
       "      <td>415</td>\n",
       "      <td>U</td>\n",
       "      <td>U</td>\n",
       "      <td>U</td>\n",
       "      <td>U</td>\n",
       "    </tr>\n",
       "    <tr>\n",
       "      <th>pop_ad_id</th>\n",
       "      <td>2</td>\n",
       "      <td>2</td>\n",
       "      <td>2</td>\n",
       "      <td>3</td>\n",
       "      <td>3</td>\n",
       "    </tr>\n",
       "    <tr>\n",
       "      <th>pop_ad_doc_id</th>\n",
       "      <td>2</td>\n",
       "      <td>2</td>\n",
       "      <td>2</td>\n",
       "      <td>2</td>\n",
       "      <td>2</td>\n",
       "    </tr>\n",
       "    <tr>\n",
       "      <th>pop_ad_publisher_id</th>\n",
       "      <td>U</td>\n",
       "      <td>U</td>\n",
       "      <td>U</td>\n",
       "      <td>U</td>\n",
       "      <td>U</td>\n",
       "    </tr>\n",
       "    <tr>\n",
       "      <th>pop_advertiser_id</th>\n",
       "      <td>2</td>\n",
       "      <td>2</td>\n",
       "      <td>2</td>\n",
       "      <td>2</td>\n",
       "      <td>2</td>\n",
       "    </tr>\n",
       "    <tr>\n",
       "      <th>pop_campaign_id</th>\n",
       "      <td>2</td>\n",
       "      <td>1</td>\n",
       "      <td>2</td>\n",
       "      <td>2</td>\n",
       "      <td>2</td>\n",
       "    </tr>\n",
       "    <tr>\n",
       "      <th>pop_view_doc_ad_doc</th>\n",
       "      <td>2</td>\n",
       "      <td>1</td>\n",
       "      <td>U</td>\n",
       "      <td>U</td>\n",
       "      <td>U</td>\n",
       "    </tr>\n",
       "    <tr>\n",
       "      <th>pop_ad_source_id</th>\n",
       "      <td>2</td>\n",
       "      <td>2</td>\n",
       "      <td>2</td>\n",
       "      <td>2</td>\n",
       "      <td>2</td>\n",
       "    </tr>\n",
       "    <tr>\n",
       "      <th>pop_ad_topic_id</th>\n",
       "      <td>4</td>\n",
       "      <td>4</td>\n",
       "      <td>4</td>\n",
       "      <td>4</td>\n",
       "      <td>4</td>\n",
       "    </tr>\n",
       "    <tr>\n",
       "      <th>pop_ad_category_id</th>\n",
       "      <td>2</td>\n",
       "      <td>2</td>\n",
       "      <td>2</td>\n",
       "      <td>2</td>\n",
       "      <td>2</td>\n",
       "    </tr>\n",
       "  </tbody>\n",
       "</table>\n",
       "</div>"
      ],
      "text/plain": [
       "                                                                     0  \\\n",
       "label                                                                0   \n",
       "features             (0.0, 0.0, 0.0, 0.0, 0.0, 0.0, 0.0, 0.0, 0.0, ...   \n",
       "display_id                                                       11269   \n",
       "ad_id                                                             3190   \n",
       "ClickOrNot                                                           0   \n",
       "is_leak                                                             -1   \n",
       "view_publisher_id                                                  180   \n",
       "view_source_id                                                       U   \n",
       "hour                                                                 6   \n",
       "platform                                                             2   \n",
       "traffic_source                                                       1   \n",
       "is_train                                                             1   \n",
       "country                                                             US   \n",
       "campaign_id                                                        460   \n",
       "advertiser_id                                                      551   \n",
       "ad_category_id                                                    1513   \n",
       "ad_topic_id                                                          U   \n",
       "view_category_id                                                  1403   \n",
       "view_topic_id                                                      262   \n",
       "ad_source_id                                                      2566   \n",
       "ad_publisher_id                                                    415   \n",
       "pop_ad_id                                                            2   \n",
       "pop_ad_doc_id                                                        2   \n",
       "pop_ad_publisher_id                                                  U   \n",
       "pop_advertiser_id                                                    2   \n",
       "pop_campaign_id                                                      2   \n",
       "pop_view_doc_ad_doc                                                  2   \n",
       "pop_ad_source_id                                                     2   \n",
       "pop_ad_topic_id                                                      4   \n",
       "pop_ad_category_id                                                   2   \n",
       "\n",
       "                                                                     1  \\\n",
       "label                                                                1   \n",
       "features             (0.0, 0.0, 0.0, 0.0, 0.0, 1.0, 0.0, 0.0, 0.0, ...   \n",
       "display_id                                                       17083   \n",
       "ad_id                                                            36415   \n",
       "ClickOrNot                                                           1   \n",
       "is_leak                                                             -1   \n",
       "view_publisher_id                                                  450   \n",
       "view_source_id                                                    7736   \n",
       "hour                                                                 4   \n",
       "platform                                                             1   \n",
       "traffic_source                                                       1   \n",
       "is_train                                                             1   \n",
       "country                                                              U   \n",
       "campaign_id                                                       1048   \n",
       "advertiser_id                                                      823   \n",
       "ad_category_id                                                    1706   \n",
       "ad_topic_id                                                        269   \n",
       "view_category_id                                                  1706   \n",
       "view_topic_id                                                      143   \n",
       "ad_source_id                                                      6214   \n",
       "ad_publisher_id                                                      U   \n",
       "pop_ad_id                                                            2   \n",
       "pop_ad_doc_id                                                        2   \n",
       "pop_ad_publisher_id                                                  U   \n",
       "pop_advertiser_id                                                    2   \n",
       "pop_campaign_id                                                      1   \n",
       "pop_view_doc_ad_doc                                                  1   \n",
       "pop_ad_source_id                                                     2   \n",
       "pop_ad_topic_id                                                      4   \n",
       "pop_ad_category_id                                                   2   \n",
       "\n",
       "                                                                     2  \\\n",
       "label                                                                0   \n",
       "features             (0.0, 0.0, 0.0, 0.0, 0.0, 0.0, 0.0, 0.0, 0.0, ...   \n",
       "display_id                                                        3720   \n",
       "ad_id                                                            36625   \n",
       "ClickOrNot                                                           0   \n",
       "is_leak                                                             -1   \n",
       "view_publisher_id                                                   40   \n",
       "view_source_id                                                    1248   \n",
       "hour                                                                 5   \n",
       "platform                                                             1   \n",
       "traffic_source                                                       2   \n",
       "is_train                                                             1   \n",
       "country                                                              U   \n",
       "campaign_id                                                       1049   \n",
       "advertiser_id                                                      823   \n",
       "ad_category_id                                                    1706   \n",
       "ad_topic_id                                                        269   \n",
       "view_category_id                                                  1706   \n",
       "view_topic_id                                                      269   \n",
       "ad_source_id                                                      6214   \n",
       "ad_publisher_id                                                      U   \n",
       "pop_ad_id                                                            2   \n",
       "pop_ad_doc_id                                                        2   \n",
       "pop_ad_publisher_id                                                  U   \n",
       "pop_advertiser_id                                                    2   \n",
       "pop_campaign_id                                                      2   \n",
       "pop_view_doc_ad_doc                                                  U   \n",
       "pop_ad_source_id                                                     2   \n",
       "pop_ad_topic_id                                                      4   \n",
       "pop_ad_category_id                                                   2   \n",
       "\n",
       "                                                                     3  \\\n",
       "label                                                                0   \n",
       "features             (0.0, 0.0, 0.0, 0.0, 0.0, 0.0, 0.0, 0.0, 0.0, ...   \n",
       "display_id                                                       14821   \n",
       "ad_id                                                            36415   \n",
       "ClickOrNot                                                           0   \n",
       "is_leak                                                             -1   \n",
       "view_publisher_id                                                    3   \n",
       "view_source_id                                                    3841   \n",
       "hour                                                                 5   \n",
       "platform                                                             1   \n",
       "traffic_source                                                       2   \n",
       "is_train                                                             1   \n",
       "country                                                              U   \n",
       "campaign_id                                                       1048   \n",
       "advertiser_id                                                      823   \n",
       "ad_category_id                                                    1706   \n",
       "ad_topic_id                                                        269   \n",
       "view_category_id                                                  1706   \n",
       "view_topic_id                                                       20   \n",
       "ad_source_id                                                      6214   \n",
       "ad_publisher_id                                                      U   \n",
       "pop_ad_id                                                            3   \n",
       "pop_ad_doc_id                                                        2   \n",
       "pop_ad_publisher_id                                                  U   \n",
       "pop_advertiser_id                                                    2   \n",
       "pop_campaign_id                                                      2   \n",
       "pop_view_doc_ad_doc                                                  U   \n",
       "pop_ad_source_id                                                     2   \n",
       "pop_ad_topic_id                                                      4   \n",
       "pop_ad_category_id                                                   2   \n",
       "\n",
       "                                                                     4  \n",
       "label                                                                0  \n",
       "features             (0.0, 0.0, 0.0, 0.0, 0.0, 0.0, 0.0, 0.0, 0.0, ...  \n",
       "display_id                                                        1775  \n",
       "ad_id                                                            35998  \n",
       "ClickOrNot                                                           0  \n",
       "is_leak                                                              0  \n",
       "view_publisher_id                                                  221  \n",
       "view_source_id                                                     844  \n",
       "hour                                                                 6  \n",
       "platform                                                             1  \n",
       "traffic_source                                                       1  \n",
       "is_train                                                             0  \n",
       "country                                                             US  \n",
       "campaign_id                                                       1049  \n",
       "advertiser_id                                                      823  \n",
       "ad_category_id                                                    1706  \n",
       "ad_topic_id                                                        269  \n",
       "view_category_id                                                  1706  \n",
       "view_topic_id                                                      269  \n",
       "ad_source_id                                                      6214  \n",
       "ad_publisher_id                                                      U  \n",
       "pop_ad_id                                                            3  \n",
       "pop_ad_doc_id                                                        2  \n",
       "pop_ad_publisher_id                                                  U  \n",
       "pop_advertiser_id                                                    2  \n",
       "pop_campaign_id                                                      2  \n",
       "pop_view_doc_ad_doc                                                  U  \n",
       "pop_ad_source_id                                                     2  \n",
       "pop_ad_topic_id                                                      4  \n",
       "pop_ad_category_id                                                   2  "
      ]
     },
     "execution_count": 17,
     "metadata": {},
     "output_type": "execute_result"
    }
   ],
   "source": [
    "pd.DataFrame(train_selected_df.take(5), columns=train_selected_df.columns).transpose()"
   ]
  },
  {
   "cell_type": "code",
   "execution_count": 122,
   "metadata": {},
   "outputs": [
    {
     "data": {
      "text/plain": [
       "pyspark.sql.dataframe.DataFrame"
      ]
     },
     "execution_count": 122,
     "metadata": {},
     "output_type": "execute_result"
    }
   ],
   "source": [
    "# print(type(train_selected_df))"
   ]
  },
  {
   "cell_type": "markdown",
   "metadata": {},
   "source": [
    "## train, valid split"
   ]
  },
  {
   "cell_type": "code",
   "execution_count": 67,
   "metadata": {},
   "outputs": [],
   "source": [
    "train = train_selected_df.filter(train_selected_df.is_train==1)\n",
    "valid = train_selected_df.filter(train_selected_df.is_train==0)"
   ]
  },
  {
   "cell_type": "code",
   "execution_count": 20,
   "metadata": {},
   "outputs": [
    {
     "name": "stdout",
     "output_type": "stream",
     "text": [
      "Training Dataset Count: 102608\n",
      "Validation Dataset Count: 25139\n"
     ]
    }
   ],
   "source": [
    "# print(\"Training Dataset Count: \" + str(train.count()))\n",
    "# print(\"Validation Dataset Count: \" + str(valid.count()))"
   ]
  },
  {
   "cell_type": "markdown",
   "metadata": {},
   "source": [
    "## logistic regression model"
   ]
  },
  {
   "cell_type": "markdown",
   "metadata": {},
   "source": [
    "### logistic regression - training"
   ]
  },
  {
   "cell_type": "code",
   "execution_count": 68,
   "metadata": {},
   "outputs": [],
   "source": [
    "from pyspark.ml.classification import LogisticRegression\n",
    "lr = LogisticRegression(featuresCol = 'features', labelCol = 'label', maxIter=10) # x는 'features', y는 'label'\n",
    "lrModel = lr.fit(train) # 로지스틱 회귀 모델 트레이닝 시키기"
   ]
  },
  {
   "cell_type": "code",
   "execution_count": 69,
   "metadata": {},
   "outputs": [
    {
     "data": {
      "image/png": "[encoded data removed]",
      "text/plain": [
       "<matplotlib.figure.Figure at 0x7f34085a2a10>"
      ]
     },
     "metadata": {},
     "output_type": "display_data"
    }
   ],
   "source": [
    "# coef\n",
    "import matplotlib.pyplot as plt\n",
    "beta = np.sort(lrModel.coefficients)\n",
    "plt.plot(beta)\n",
    "plt.ylabel('Beta Coefficients')\n",
    "plt.show()\n",
    "# 회귀 계수가 13625개, 값은 -6.5~8.7 사이에 분포"
   ]
  },
  {
   "cell_type": "code",
   "execution_count": 24,
   "metadata": {},
   "outputs": [
    {
     "name": "stdout",
     "output_type": "stream",
     "text": [
      "13625\n",
      "-6.486982679522038\n",
      "8.705998096293454\n"
     ]
    }
   ],
   "source": [
    "# print(len(beta))\n",
    "# print(min(beta))\n",
    "# print(max(beta))"
   ]
  },
  {
   "cell_type": "code",
   "execution_count": 70,
   "metadata": {},
   "outputs": [
    {
     "data": {
      "image/png": "[encoded data removed]",
      "text/plain": [
       "<matplotlib.figure.Figure at 0x7f340a8f44d0>"
      ]
     },
     "metadata": {},
     "output_type": "display_data"
    }
   ],
   "source": [
    "# ROC curve\n",
    "trainingSummary = lrModel.summary\n",
    "roc = trainingSummary.roc.toPandas()\n",
    "plt.plot(roc['FPR'],roc['TPR'])\n",
    "plt.ylabel('False Positive Rate')\n",
    "plt.xlabel('True Positive Rate')\n",
    "plt.title('ROC Curve')\n",
    "plt.show()"
   ]
  },
  {
   "cell_type": "code",
   "execution_count": 71,
   "metadata": {},
   "outputs": [
    {
     "data": {
      "image/png": "[encoded data removed]",
      "text/plain": [
       "<matplotlib.figure.Figure at 0x7f3409efc810>"
      ]
     },
     "metadata": {},
     "output_type": "display_data"
    },
    {
     "name": "stdout",
     "output_type": "stream",
     "text": [
      "Training set areaUnderROC: 0.801262169733\n"
     ]
    }
   ],
   "source": [
    "# precision and recall\n",
    "pr = trainingSummary.pr.toPandas()\n",
    "plt.plot(pr['recall'],pr['precision'])\n",
    "plt.ylabel('Precision')\n",
    "plt.xlabel('Recall')\n",
    "plt.show()\n",
    "print('Training set areaUnderROC: ' + str(trainingSummary.areaUnderROC))"
   ]
  },
  {
   "cell_type": "markdown",
   "metadata": {},
   "source": [
    "### logistic regression - validation"
   ]
  },
  {
   "cell_type": "code",
   "execution_count": 73,
   "metadata": {},
   "outputs": [
    {
     "name": "stdout",
     "output_type": "stream",
     "text": [
      "root\n",
      " |-- label: double (nullable = false)\n",
      " |-- features: vector (nullable = true)\n",
      " |-- display_id: string (nullable = true)\n",
      " |-- ad_id: string (nullable = true)\n",
      " |-- ClickOrNot: string (nullable = true)\n",
      " |-- is_leak: string (nullable = true)\n",
      " |-- view_publisher_id: string (nullable = true)\n",
      " |-- view_source_id: string (nullable = true)\n",
      " |-- hour: string (nullable = true)\n",
      " |-- platform: string (nullable = true)\n",
      " |-- traffic_source: string (nullable = true)\n",
      " |-- is_train: string (nullable = true)\n",
      " |-- country: string (nullable = true)\n",
      " |-- campaign_id: string (nullable = true)\n",
      " |-- advertiser_id: string (nullable = true)\n",
      " |-- ad_category_id: string (nullable = true)\n",
      " |-- ad_topic_id: string (nullable = true)\n",
      " |-- view_category_id: string (nullable = true)\n",
      " |-- view_topic_id: string (nullable = true)\n",
      " |-- ad_source_id: string (nullable = true)\n",
      " |-- ad_publisher_id: string (nullable = true)\n",
      " |-- pop_ad_id: string (nullable = true)\n",
      " |-- pop_ad_doc_id: string (nullable = true)\n",
      " |-- pop_ad_publisher_id: string (nullable = true)\n",
      " |-- pop_advertiser_id: string (nullable = true)\n",
      " |-- pop_campaign_id: string (nullable = true)\n",
      " |-- pop_view_doc_ad_doc: string (nullable = true)\n",
      " |-- pop_ad_source_id: string (nullable = true)\n",
      " |-- pop_ad_topic_id: string (nullable = true)\n",
      " |-- pop_ad_category_id: string (nullable = true)\n",
      " |-- rawPrediction: vector (nullable = true)\n",
      " |-- probability: vector (nullable = true)\n",
      " |-- prediction: double (nullable = false)\n",
      "\n"
     ]
    }
   ],
   "source": [
    "# preditction\n",
    "lrPredictions = lrModel.transform(valid)\n",
    "lrPredictions.printSchema()"
   ]
  },
  {
   "cell_type": "code",
   "execution_count": 32,
   "metadata": {},
   "outputs": [
    {
     "name": "stdout",
     "output_type": "stream",
     "text": [
      "+----------+------+--------------------+----------+--------------------+\n",
      "|display_id| ad_id|       rawPrediction|prediction|         probability|\n",
      "+----------+------+--------------------+----------+--------------------+\n",
      "|      1775| 35998|[5.23780525173780...|       0.0|[0.99471616487600...|\n",
      "|      2647| 36851|[5.57349752987941...|       0.0|[0.99621718756373...|\n",
      "|      2923|  9147|[1.30623847779134...|       0.0|[0.78688303637737...|\n",
      "|      5176| 56685|[4.10702816272170...|       0.0|[0.98380982704511...|\n",
      "|      7838| 15936|[2.87891090066663...|       0.0|[0.94679402680588...|\n",
      "|      2685| 15937|[3.05264816581340...|       0.0|[0.95489671779980...|\n",
      "|      3636| 13363|[3.68314857822083...|       0.0|[0.97547301550894...|\n",
      "|       410| 14546|[4.94762525707173...|       0.0|[0.99294980793434...|\n",
      "|      7065|126860|[0.38342614505913...|       0.0|[0.59469918096868...|\n",
      "|      7319|126860|[0.22249915571416...|       0.0|[0.55539643984005...|\n",
      "+----------+------+--------------------+----------+--------------------+\n",
      "only showing top 10 rows\n",
      "\n"
     ]
    }
   ],
   "source": [
    "# lrPredictions.select('display_id', 'ad_id', 'rawPrediction', 'prediction', 'probability').show(10)"
   ]
  },
  {
   "cell_type": "code",
   "execution_count": 74,
   "metadata": {},
   "outputs": [
    {
     "name": "stdout",
     "output_type": "stream",
     "text": [
      "('Validation Area Under ROC', 0.7100529246454454)\n"
     ]
    }
   ],
   "source": [
    "# evaluation\n",
    "from pyspark.ml.evaluation import BinaryClassificationEvaluator\n",
    "evaluator = BinaryClassificationEvaluator()\n",
    "print('Validation Area Under ROC', evaluator.evaluate(lrPredictions))"
   ]
  },
  {
   "cell_type": "code",
   "execution_count": 75,
   "metadata": {},
   "outputs": [],
   "source": [
    "# display_id, ad_id, probability를 셀렉해 logistic_final_df에 저장\n",
    "logistic_final_df = lrPredictions.select('display_id', 'ad_id', 'probability')\n",
    "# spark dataframe을 pandas dataframe으로 변환\n",
    "logistic_final_pd = logistic_final_df.toPandas()"
   ]
  },
  {
   "cell_type": "code",
   "execution_count": 76,
   "metadata": {},
   "outputs": [],
   "source": [
    "# probability는 [0일 확률, 1일 확률]로 되어 있다 -> 1일 확률만 뽑아 'clickprob' 열에 저장하자\n",
    "\n",
    "# 일단 copy해서 'clickprob' 열 생성해놓자\n",
    "logistic_final_pd['clickprob'] = logistic_final_pd.probability \n",
    "\n",
    "# for문 돌려서 1일 확률만 뽑아 'clickprob' 열에 저장하자\n",
    "for i in range(len(logistic_final_pd)): # for문\n",
    "    logistic_final_pd.clickprob[i] = logistic_final_pd.probability[i][1]"
   ]
  },
  {
   "cell_type": "code",
   "execution_count": 77,
   "metadata": {},
   "outputs": [
    {
     "data": {
      "text/html": [
       "<div>\n",
       "<style scoped>\n",
       "    .dataframe tbody tr th:only-of-type {\n",
       "        vertical-align: middle;\n",
       "    }\n",
       "\n",
       "    .dataframe tbody tr th {\n",
       "        vertical-align: top;\n",
       "    }\n",
       "\n",
       "    .dataframe thead th {\n",
       "        text-align: right;\n",
       "    }\n",
       "</style>\n",
       "<table border=\"1\" class=\"dataframe\">\n",
       "  <thead>\n",
       "    <tr style=\"text-align: right;\">\n",
       "      <th></th>\n",
       "      <th>display_id</th>\n",
       "      <th>ad_id</th>\n",
       "      <th>probability</th>\n",
       "      <th>clickprob</th>\n",
       "    </tr>\n",
       "  </thead>\n",
       "  <tbody>\n",
       "    <tr>\n",
       "      <th>0</th>\n",
       "      <td>1775</td>\n",
       "      <td>35998</td>\n",
       "      <td>[0.9947161648760094, 0.005283835123990557]</td>\n",
       "      <td>0.00528384</td>\n",
       "    </tr>\n",
       "    <tr>\n",
       "      <th>1</th>\n",
       "      <td>2647</td>\n",
       "      <td>36851</td>\n",
       "      <td>[0.996217187563732, 0.003782812436267944]</td>\n",
       "      <td>0.00378281</td>\n",
       "    </tr>\n",
       "    <tr>\n",
       "      <th>2</th>\n",
       "      <td>2923</td>\n",
       "      <td>9147</td>\n",
       "      <td>[0.7868830363773703, 0.21311696362262975]</td>\n",
       "      <td>0.213117</td>\n",
       "    </tr>\n",
       "    <tr>\n",
       "      <th>3</th>\n",
       "      <td>5176</td>\n",
       "      <td>56685</td>\n",
       "      <td>[0.9838098270451137, 0.01619017295488634]</td>\n",
       "      <td>0.0161902</td>\n",
       "    </tr>\n",
       "    <tr>\n",
       "      <th>4</th>\n",
       "      <td>7838</td>\n",
       "      <td>15936</td>\n",
       "      <td>[0.9467940268058844, 0.05320597319411551]</td>\n",
       "      <td>0.053206</td>\n",
       "    </tr>\n",
       "  </tbody>\n",
       "</table>\n",
       "</div>"
      ],
      "text/plain": [
       "  display_id  ad_id                                 probability   clickprob\n",
       "0       1775  35998  [0.9947161648760094, 0.005283835123990557]  0.00528384\n",
       "1       2647  36851   [0.996217187563732, 0.003782812436267944]  0.00378281\n",
       "2       2923   9147   [0.7868830363773703, 0.21311696362262975]    0.213117\n",
       "3       5176  56685   [0.9838098270451137, 0.01619017295488634]   0.0161902\n",
       "4       7838  15936   [0.9467940268058844, 0.05320597319411551]    0.053206"
      ]
     },
     "execution_count": 77,
     "metadata": {},
     "output_type": "execute_result"
    }
   ],
   "source": [
    "# clickprob 열이 잘 생성되었다\n",
    "logistic_final_pd.head(5)"
   ]
  },
  {
   "cell_type": "code",
   "execution_count": 84,
   "metadata": {},
   "outputs": [
    {
     "name": "stdout",
     "output_type": "stream",
     "text": [
      "Copying file://logistic_final_pd.csv [Content-Type=text/csv]...\n",
      "/ [1 files][787.9 KiB/787.9 KiB]                                                \n",
      "Operation completed over 1 objects/787.9 KiB.                                    \n"
     ]
    }
   ],
   "source": [
    "# 'display_id', 'ad_id', 'clickprob'만 저장해야지\n",
    "logistic_final_pd = logistic_final_pd[['display_id', 'ad_id', 'clickprob']]\n",
    "\n",
    "# csv 파일로 bucket에 저장하자\n",
    "from io import BytesIO\n",
    "logistic_final_pd.to_csv('logistic_final_pd.csv', index=False)\n",
    "!gsutil cp 'logistic_final_pd.csv' 'gs://capstone-03/output/logistic_final_pd.csv'"
   ]
  },
  {
   "cell_type": "markdown",
   "metadata": {},
   "source": [
    "## logistic regression 결과를 submission 해보려고 했으나 실패!"
   ]
  },
  {
   "cell_type": "code",
   "execution_count": 91,
   "metadata": {},
   "outputs": [],
   "source": [
    "# clicks_test 불러오기\n",
    "%gcs read --object gs://capstone-01/data/clicks_test.csv --variable test_file\n",
    "clicks_test = pd.read_csv(BytesIO(test_file))"
   ]
  },
  {
   "cell_type": "code",
   "execution_count": 92,
   "metadata": {},
   "outputs": [],
   "source": [
    "# clicks_test와 logistic_final_pd를 2개의 키('display_id', 'ad_id')로 merge\n",
    "new_df = pd.merge(clicks_test, logistic_final_pd, how='left', left_on=['display_id', 'ad_id'], right_on=['display_id', 'ad_id'])"
   ]
  },
  {
   "cell_type": "code",
   "execution_count": 97,
   "metadata": {},
   "outputs": [
    {
     "name": "stdout",
     "output_type": "stream",
     "text": [
      "(32225162, 3)\n",
      "(32225162, 2)\n"
     ]
    }
   ],
   "source": [
    "# merge한 데이터에서 NaN 있나 확인\n",
    "nan_rows = new_df[new_df['clickprob'].isnull()]\n",
    "print(nan_rows.shape)\n",
    "print(clicks_test.shape)\n",
    "# NaN의 비율 = 100% -> 실패!"
   ]
  },
  {
   "cell_type": "markdown",
   "metadata": {},
   "source": [
    "## decision tree"
   ]
  },
  {
   "cell_type": "code",
   "execution_count": 98,
   "metadata": {},
   "outputs": [
    {
     "name": "stdout",
     "output_type": "stream",
     "text": [
      "+----------+------+----------+--------------------+\n",
      "|display_id| ad_id|prediction|         probability|\n",
      "+----------+------+----------+--------------------+\n",
      "|      1775| 35998|       0.0|[0.79164539188154...|\n",
      "|      2647| 36851|       0.0|[0.79164539188154...|\n",
      "|      2923|  9147|       0.0|[0.79164539188154...|\n",
      "|      5176| 56685|       0.0|[0.79164539188154...|\n",
      "|      7838| 15936|       0.0|[0.79164539188154...|\n",
      "|      2685| 15937|       0.0|[0.79164539188154...|\n",
      "|      3636| 13363|       0.0|[0.79164539188154...|\n",
      "|       410| 14546|       0.0|[0.79164539188154...|\n",
      "|      7065|126860|       0.0|[0.79164539188154...|\n",
      "|      7319|126860|       0.0|[0.79164539188154...|\n",
      "+----------+------+----------+--------------------+\n",
      "only showing top 10 rows\n",
      "\n"
     ]
    }
   ],
   "source": [
    "from pyspark.ml.classification import DecisionTreeClassifier\n",
    "dt = DecisionTreeClassifier(featuresCol = 'features', labelCol = 'label', maxDepth = 3)\n",
    "dtModel = dt.fit(train)\n",
    "dtPredictions = dtModel.transform(valid)\n",
    "dtPredictions.select('display_id', 'ad_id', 'prediction', 'probability').show(10)"
   ]
  },
  {
   "cell_type": "code",
   "execution_count": 99,
   "metadata": {},
   "outputs": [
    {
     "name": "stdout",
     "output_type": "stream",
     "text": [
      "Test Area Under ROC: 0.539490273354\n"
     ]
    }
   ],
   "source": [
    "evaluator = BinaryClassificationEvaluator()\n",
    "print(\"Test Area Under ROC: \" + str(evaluator.evaluate(dtPredictions, {evaluator.metricName: \"areaUnderROC\"})))"
   ]
  },
  {
   "cell_type": "markdown",
   "metadata": {},
   "source": [
    "## random forest"
   ]
  },
  {
   "cell_type": "code",
   "execution_count": 100,
   "metadata": {},
   "outputs": [
    {
     "name": "stdout",
     "output_type": "stream",
     "text": [
      "+----------+------+----------+--------------------+\n",
      "|display_id| ad_id|prediction|         probability|\n",
      "+----------+------+----------+--------------------+\n",
      "|      1775| 35998|       0.0|[0.80342497028599...|\n",
      "|      2647| 36851|       0.0|[0.80342497028599...|\n",
      "|      2923|  9147|       0.0|[0.80527748469677...|\n",
      "|      5176| 56685|       0.0|[0.80342497028599...|\n",
      "|      7838| 15936|       0.0|[0.82046959481776...|\n",
      "|      2685| 15937|       0.0|[0.82046959481776...|\n",
      "|      3636| 13363|       0.0|[0.82302627209531...|\n",
      "|       410| 14546|       0.0|[0.80527748469677...|\n",
      "|      7065|126860|       0.0|[0.80342497028599...|\n",
      "|      7319|126860|       0.0|[0.80342497028599...|\n",
      "+----------+------+----------+--------------------+\n",
      "only showing top 10 rows\n",
      "\n",
      "CPU times: user 8 ms, sys: 0 ns, total: 8 ms\n",
      "Wall time: 1.01 s\n"
     ]
    }
   ],
   "source": [
    "from pyspark.ml.classification import RandomForestClassifier\n",
    "rf = RandomForestClassifier(featuresCol = 'features', labelCol = 'label')\n",
    "rfModel = rf.fit(train)\n",
    "rfPredictions = rfModel.transform(valid)\n",
    "%time rfPredictions.select('display_id', 'ad_id', 'prediction', 'probability').show(10)"
   ]
  },
  {
   "cell_type": "code",
   "execution_count": null,
   "metadata": {},
   "outputs": [],
   "source": [
    "predictions.select(\"prediction\", \"label\", \"features\").show(5)"
   ]
  },
  {
   "cell_type": "code",
   "execution_count": 101,
   "metadata": {},
   "outputs": [
    {
     "name": "stdout",
     "output_type": "stream",
     "text": [
      "Test Area Under ROC: 0.632269354264\n"
     ]
    }
   ],
   "source": [
    "evaluator = BinaryClassificationEvaluator()\n",
    "print(\"Test Area Under ROC: \" + str(evaluator.evaluate(rfPredictions, {evaluator.metricName: \"areaUnderROC\"})))"
   ]
  },
  {
   "cell_type": "markdown",
   "metadata": {},
   "source": [
    "## gradient-boosted tree"
   ]
  },
  {
   "cell_type": "code",
   "execution_count": 102,
   "metadata": {},
   "outputs": [
    {
     "name": "stdout",
     "output_type": "stream",
     "text": [
      "+----------+------+----------+--------------------+\n",
      "|display_id| ad_id|prediction|         probability|\n",
      "+----------+------+----------+--------------------+\n",
      "|      1775| 35998|       0.0|[0.80395678992433...|\n",
      "|      2647| 36851|       0.0|[0.80395678992433...|\n",
      "|      2923|  9147|       0.0|[0.77506175842256...|\n",
      "|      5176| 56685|       0.0|[0.80395678992433...|\n",
      "|      7838| 15936|       0.0|[0.81917736982482...|\n",
      "|      2685| 15937|       0.0|[0.81917736982482...|\n",
      "|      3636| 13363|       0.0|[0.81917736982482...|\n",
      "|       410| 14546|       0.0|[0.80395678992433...|\n",
      "|      7065|126860|       0.0|[0.80395678992433...|\n",
      "|      7319|126860|       0.0|[0.80395678992433...|\n",
      "+----------+------+----------+--------------------+\n",
      "only showing top 10 rows\n",
      "\n",
      "CPU times: user 8 ms, sys: 0 ns, total: 8 ms\n",
      "Wall time: 1.66 s\n"
     ]
    }
   ],
   "source": [
    "from pyspark.ml.classification import GBTClassifier\n",
    "gbt = GBTClassifier(maxIter=10)\n",
    "gbtModel = gbt.fit(train)\n",
    "gbtPredictions = gbtModel.transform(valid)\n",
    "%time gbtPredictions.select('display_id', 'ad_id', 'prediction', 'probability').show(10)"
   ]
  },
  {
   "cell_type": "code",
   "execution_count": 103,
   "metadata": {},
   "outputs": [
    {
     "name": "stdout",
     "output_type": "stream",
     "text": [
      "Test Area Under ROC: 0.641810725197\n"
     ]
    }
   ],
   "source": [
    "evaluator = BinaryClassificationEvaluator()\n",
    "print(\"Test Area Under ROC: \" + str(evaluator.evaluate(gbtPredictions, {evaluator.metricName: \"areaUnderROC\"})))"
   ]
  },
  {
   "cell_type": "code",
   "execution_count": null,
   "metadata": {},
   "outputs": [],
   "source": [
    "# 시간 체크 -> 안 돌아가!!\n",
    "import datetime\n",
    "start_time = time.time()\n",
    "\n",
    "# tuning parameter : best param 찾는 과정 있음\n",
    "from pyspark.ml.tuning import ParamGridBuilder, CrossValidator\n",
    "paramGrid = (ParamGridBuilder()\n",
    "             .addGrid(gbt.maxDepth, [2, 4, 6])\n",
    "             .addGrid(gbt.maxBins, [20, 60])\n",
    "             .addGrid(gbt.maxIter, [10, 20])\n",
    "             .build())\n",
    "cv = CrossValidator(estimator=gbt, estimatorParamMaps=paramGrid, evaluator=evaluator, numFolds=5)\n",
    "# Run cross validations. This can take about 6 minutes since it is training over 20 trees!\n",
    "cvModel = cv.fit(train)\n",
    "cvPredictions = cvModel.transform(valid)\n",
    "evaluator.evaluate(cvPredictions)\n",
    "\n",
    "print(\"--- %s seconds ---\" % (time.time() - start_time))"
   ]
  }
 ],
 "metadata": {
  "kernelspec": {
   "display_name": "Python 2",
   "language": "python",
   "name": "python2"
  },
  "language_info": {
   "codemirror_mode": {
    "name": "ipython",
    "version": 2
   },
   "file_extension": ".py",
   "mimetype": "text/x-python",
   "name": "python",
   "nbconvert_exporter": "python",
   "pygments_lexer": "ipython2",
   "version": "2.7.15"
  }
 },
 "nbformat": 4,
 "nbformat_minor": 2
}
