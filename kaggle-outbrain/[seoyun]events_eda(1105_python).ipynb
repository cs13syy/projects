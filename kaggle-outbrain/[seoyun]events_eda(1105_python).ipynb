{
 "cells": [
  {
   "cell_type": "markdown",
   "metadata": {},
   "source": [
    "## load package"
   ]
  },
  {
   "cell_type": "code",
   "execution_count": 7,
   "metadata": {},
   "outputs": [],
   "source": [
    "import google.datalab.storage as storage\n",
    "import pandas as pd\n",
    "import numpy as np\n",
    "import matplotlib.pyplot as plt\n",
    "import seaborn as sns\n",
    "from io import BytesIO\n",
    "from google.datalab import Context\n",
    "import random, string\n",
    "import warnings\n",
    "\n",
    "p = sns.color_palette()"
   ]
  },
  {
   "cell_type": "markdown",
   "metadata": {},
   "source": [
    "## load data"
   ]
  },
  {
   "cell_type": "code",
   "execution_count": 8,
   "metadata": {},
   "outputs": [
    {
     "name": "stderr",
     "output_type": "stream",
     "text": [
      "/usr/local/envs/py3env/lib/python3.5/site-packages/IPython/core/interactiveshell.py:2785: DtypeWarning: Columns (4) have mixed types. Specify dtype option on import or set low_memory=False.\n",
      "  interactivity=interactivity, compiler=compiler, result=result)\n"
     ]
    },
    {
     "data": {
      "text/html": [
       "<div>\n",
       "<style scoped>\n",
       "    .dataframe tbody tr th:only-of-type {\n",
       "        vertical-align: middle;\n",
       "    }\n",
       "\n",
       "    .dataframe tbody tr th {\n",
       "        vertical-align: top;\n",
       "    }\n",
       "\n",
       "    .dataframe thead th {\n",
       "        text-align: right;\n",
       "    }\n",
       "</style>\n",
       "<table border=\"1\" class=\"dataframe\">\n",
       "  <thead>\n",
       "    <tr style=\"text-align: right;\">\n",
       "      <th></th>\n",
       "      <th>display_id</th>\n",
       "      <th>uuid</th>\n",
       "      <th>document_id</th>\n",
       "      <th>timestamp</th>\n",
       "      <th>platform</th>\n",
       "      <th>geo_location</th>\n",
       "    </tr>\n",
       "  </thead>\n",
       "  <tbody>\n",
       "    <tr>\n",
       "      <th>0</th>\n",
       "      <td>1</td>\n",
       "      <td>cb8c55702adb93</td>\n",
       "      <td>379743</td>\n",
       "      <td>61</td>\n",
       "      <td>3</td>\n",
       "      <td>US&gt;SC&gt;519</td>\n",
       "    </tr>\n",
       "    <tr>\n",
       "      <th>1</th>\n",
       "      <td>2</td>\n",
       "      <td>79a85fa78311b9</td>\n",
       "      <td>1794259</td>\n",
       "      <td>81</td>\n",
       "      <td>2</td>\n",
       "      <td>US&gt;CA&gt;807</td>\n",
       "    </tr>\n",
       "    <tr>\n",
       "      <th>2</th>\n",
       "      <td>3</td>\n",
       "      <td>822932ce3d8757</td>\n",
       "      <td>1179111</td>\n",
       "      <td>182</td>\n",
       "      <td>2</td>\n",
       "      <td>US&gt;MI&gt;505</td>\n",
       "    </tr>\n",
       "    <tr>\n",
       "      <th>3</th>\n",
       "      <td>4</td>\n",
       "      <td>85281d0a49f7ac</td>\n",
       "      <td>1777797</td>\n",
       "      <td>234</td>\n",
       "      <td>2</td>\n",
       "      <td>US&gt;WV&gt;564</td>\n",
       "    </tr>\n",
       "    <tr>\n",
       "      <th>4</th>\n",
       "      <td>5</td>\n",
       "      <td>8d0daef4bf5b56</td>\n",
       "      <td>252458</td>\n",
       "      <td>338</td>\n",
       "      <td>2</td>\n",
       "      <td>SG&gt;00</td>\n",
       "    </tr>\n",
       "  </tbody>\n",
       "</table>\n",
       "</div>"
      ],
      "text/plain": [
       "   display_id            uuid  document_id  timestamp platform geo_location\n",
       "0           1  cb8c55702adb93       379743         61        3    US>SC>519\n",
       "1           2  79a85fa78311b9      1794259         81        2    US>CA>807\n",
       "2           3  822932ce3d8757      1179111        182        2    US>MI>505\n",
       "3           4  85281d0a49f7ac      1777797        234        2    US>WV>564\n",
       "4           5  8d0daef4bf5b56       252458        338        2        SG>00"
      ]
     },
     "execution_count": 8,
     "metadata": {},
     "output_type": "execute_result"
    }
   ],
   "source": [
    "my_bucket = storage.Bucket('capstone-01/data')\n",
    "events = my_bucket.object('events.csv')\n",
    "uri = events.uri\n",
    "%gcs read --object $uri --variable c_test\n",
    "events = pd.read_csv(BytesIO(c_test))\n",
    "events.head(5)"
   ]
  },
  {
   "cell_type": "markdown",
   "metadata": {},
   "source": [
    "## shape and colnames"
   ]
  },
  {
   "cell_type": "code",
   "execution_count": 5,
   "metadata": {},
   "outputs": [
    {
     "name": "stdout",
     "output_type": "stream",
     "text": [
      "(23120126, 6)\n",
      "['display_id', 'uuid', 'document_id', 'timestamp', 'platform', 'geo_location']\n",
      "(23120126,)\n",
      "(19794967,)\n",
      "(894060,)\n"
     ]
    }
   ],
   "source": [
    "# events의 행렬 개수\n",
    "print(events.shape)\n",
    "\n",
    "# events의 컬럼명\n",
    "events_col = events.columns.tolist()\n",
    "print(events_col)\n",
    "\n",
    "# events의 display_id, uuid, document_id의 unique 개수\n",
    "print(events['display_id'].unique().shape)\n",
    "print(events['uuid'].unique().shape)\n",
    "print(events['document_id'].unique().shape)"
   ]
  },
  {
   "cell_type": "markdown",
   "metadata": {},
   "source": [
    "## display_id"
   ]
  },
  {
   "cell_type": "code",
   "execution_count": 6,
   "metadata": {},
   "outputs": [
    {
     "name": "stdout",
     "output_type": "stream",
     "text": [
      "display_id\n",
      "1           1\n",
      "15413422    1\n",
      "15413421    1\n",
      "15413420    1\n",
      "15413419    1\n",
      "Name: display_id, dtype: int64\n",
      "23120126\n"
     ]
    }
   ],
   "source": [
    "# display_id는 전부 다 unique한 값\n",
    "dis_counts = events.groupby('display_id')['display_id'].count().sort_values()\n",
    "print(dis_counts.head())\n",
    "print(len(events.display_id.unique()))"
   ]
  },
  {
   "cell_type": "markdown",
   "metadata": {},
   "source": [
    "## uuid"
   ]
  },
  {
   "cell_type": "code",
   "execution_count": 4,
   "metadata": {},
   "outputs": [
    {
     "name": "stdout",
     "output_type": "stream",
     "text": [
      "uuid\n",
      "ef7761dd22277c    38\n",
      "45d23867dbe3b3    38\n",
      "c0bd502c7a479f    42\n",
      "2759b057797f02    46\n",
      "b88553e3a2aa29    49\n",
      "Name: uuid, dtype: int64\n",
      "Users that appear less than 2 times: 88.42%\n",
      "Users that appear less than 5 times: 99.51%\n",
      "Users that appear less than 10 times: 99.96%\n"
     ]
    },
    {
     "name": "stderr",
     "output_type": "stream",
     "text": [
      "/usr/local/envs/py3env/lib/python3.5/site-packages/matplotlib/font_manager.py:1320: UserWarning: findfont: Font family ['sans-serif'] not found. Falling back to DejaVu Sans\n",
      "  (prop.get_family(), self.defaultFamily[fontext]))\n"
     ]
    },
    {
     "data": {
      "image/png": "[encoded data removed]",
      "text/plain": [
       "<matplotlib.figure.Figure at 0x7f53275167b8>"
      ]
     },
     "metadata": {},
     "output_type": "display_data"
    }
   ],
   "source": [
    "# unique user id 개수 확인\n",
    "uuid_counts = events.groupby('uuid')['uuid'].count().sort_values()\n",
    "print(uuid_counts.tail())\n",
    "\n",
    "for i in [2, 5, 10]:\n",
    "    print('Users that appear less than {} times: {}%'.format(i, round((uuid_counts<i).mean() * 100, 2)))\n",
    "    \n",
    "# 시각화\n",
    "plt.figure(figsize=(12,4))\n",
    "plt.hist(uuid_counts.values, bins=50, log=True)\n",
    "plt.xlabel('Number of times user appeared in set', fontsize=12)\n",
    "plt.ylabel('log(Count of users)', fontsize=12)\n",
    "plt.show()"
   ]
  },
  {
   "cell_type": "code",
   "execution_count": 9,
   "metadata": {},
   "outputs": [
    {
     "name": "stdout",
     "output_type": "stream",
     "text": [
      "(19794967,)\n",
      "uuid\n",
      "ef7761dd22277c    38\n",
      "45d23867dbe3b3    38\n",
      "c0bd502c7a479f    42\n",
      "2759b057797f02    46\n",
      "b88553e3a2aa29    49\n",
      "Name: display_id, dtype: int64\n"
     ]
    }
   ],
   "source": [
    "uuid_displayid_counts = events.groupby('uuid')['display_id'].count().sort_values()\n",
    "print(uuid_displayid_counts.shape)\n",
    "print(uuid_displayid_counts.tail())"
   ]
  },
  {
   "cell_type": "markdown",
   "metadata": {},
   "source": [
    "## document_id"
   ]
  },
  {
   "cell_type": "code",
   "execution_count": 8,
   "metadata": {},
   "outputs": [
    {
     "name": "stdout",
     "output_type": "stream",
     "text": [
      "894060\n",
      "0.03867020447898943\n",
      "       display_id            uuid  document_id  timestamp platform  \\\n",
      "18636       18637  decd617870973b      1027695    1316276        1   \n",
      "27307       27308  58e12ee1cd8a17      1027695    1977635        2   \n",
      "38083       38084  f23ce7c665ce5a      1027695    2862938        2   \n",
      "63790       63791  1eb996e9b374c9      1027695    5183875        1   \n",
      "66112       66113  6fe70cadf3ddda      1027695    5408387        2   \n",
      "\n",
      "      geo_location  \n",
      "18636    US>IA>725  \n",
      "27307    US>MD>511  \n",
      "38083    US>CA>803  \n",
      "63790    US>CT>533  \n",
      "66112    US>CA>862  \n"
     ]
    }
   ],
   "source": [
    "# document_id의 unique 개수는 894,060 (전체의 3.8%)\n",
    "doc_counts = events.groupby('document_id')['document_id'].count().sort_values()\n",
    "print(len(events.document_id.unique()))\n",
    "print(len(events.document_id.unique())/23120126)\n",
    "\n",
    "# 동일한 document_id라도 사용자(uuid)에 따라 display_id가 다름\n",
    "doc_example = events[events.document_id == 1027695]\n",
    "print(doc_example.head())"
   ]
  },
  {
   "cell_type": "markdown",
   "metadata": {},
   "source": [
    "## platform"
   ]
  },
  {
   "cell_type": "code",
   "execution_count": 9,
   "metadata": {},
   "outputs": [
    {
     "name": "stdout",
     "output_type": "stream",
     "text": [
      "2     10684579\n",
      "1      8747280\n",
      "3      3032907\n",
      "2       291699\n",
      "1       279988\n",
      "3        83668\n",
      "\\N           5\n",
      "Name: platform, dtype: int64\n",
      "\n",
      "Unique values of platform: [3 2 1 '2' '1' '3' '\\\\N']\n"
     ]
    },
    {
     "data": {
      "text/plain": [
       "Text(0,0.5,'Occurence count')"
      ]
     },
     "execution_count": 9,
     "metadata": {},
     "output_type": "execute_result"
    },
    {
     "data": {
      "image/png": "[encoded data removed]",
      "text/plain": [
       "<matplotlib.figure.Figure at 0x7f4776107128>"
      ]
     },
     "metadata": {},
     "output_type": "display_data"
    }
   ],
   "source": [
    "# 경고 메시지 무시\n",
    "warnings.filterwarnings(action='ignore')\n",
    "\n",
    "# 플랫폼 별 개수 확인\n",
    "plat = events.platform.value_counts()\n",
    "print(plat)\n",
    "print('\\nUnique values of platform:', events.platform.unique())\n",
    "\n",
    "# 플랫폼 명을 모두 str 타입으로 변경\n",
    "events.platform = events.platform.astype(str)\n",
    "plat = events.platform.value_counts()\n",
    "\n",
    "# 시각화\n",
    "plt.figure(figsize=(12,4))\n",
    "sns.barplot(plat.index, plat.values, alpha=0.8, color=p[2])\n",
    "plt.xlabel('Platform', fontsize=12)\n",
    "plt.ylabel('Occurence count', fontsize=12)"
   ]
  },
  {
   "cell_type": "markdown",
   "metadata": {},
   "source": [
    "## geo_location"
   ]
  },
  {
   "cell_type": "code",
   "execution_count": 3,
   "metadata": {},
   "outputs": [
    {
     "name": "stdout",
     "output_type": "stream",
     "text": [
      "(231,)\n",
      "['US' 'SG' 'GB' 'AU' 'IN' 'PR' 'CA' 'PH' 'ZA' 'AE' 'JP' 'KR' 'GN' 'ID'\n",
      " 'NZ' 'TW' 'OM' 'IL' 'TT' 'MX' 'HK' 'FR' 'SE' 'AT' 'FI' 'RU' 'QA' 'MY'\n",
      " 'IE' 'VN' 'GR' 'DE' 'PY' 'TH' 'CO' 'EU' 'GT' 'BO' 'NG' 'JM' 'BG' 'FJ'\n",
      " 'NL' 'CN' 'LK' 'LV' 'CH' 'BR' 'LB' 'NO' 'DK' 'TZ' 'AR' 'PK' 'DZ' 'CZ'\n",
      " 'IT' 'KW' 'GU' 'CL' 'FX' 'SV' 'RO' 'SA' 'CR' 'GH' 'KE' 'RS' 'PA' 'KH'\n",
      " 'TR' 'ES' 'UG' 'BE' 'BD' 'JE' 'PG' 'SR' 'MT' 'AN' 'VE' 'PE' 'HU' 'MK'\n",
      " 'AD' 'UA' 'LT' 'BN' 'BZ' 'EC' 'GY' 'BY' 'NC' 'HR' 'SI' 'VI' 'AW' 'SC'\n",
      " 'NP' 'BH' 'AP' 'PL' 'MO' 'MW' 'IS' 'MV' 'HN' 'HT' 'BW' 'DO' 'MA' 'BS'\n",
      " 'CM' 'CY' 'MD' 'BB' 'AG' 'ET' 'MU' 'EG' 'SB' 'JO' 'ZW' 'KZ' 'LC' 'CI'\n",
      " 'LS' 'SK' 'AO' 'ZM' 'BM' 'ER' 'UY' 'AM' 'AS' 'IQ' 'GE' 'NI' 'BF' 'CD'\n",
      " 'PT' 'GM' 'LU' 'AL' 'NA' 'A1' 'BA' 'GI' 'EE' 'SZ' 'ME' 'RE' 'BT' 'MN'\n",
      " '--' 'PW' 'LR' nan 'MP' 'TN' 'TC' 'IM' 'NE' 'MF' 'PS' 'GA' 'MQ' 'CK' 'SO'\n",
      " 'FM' 'A2' 'RW' 'VU' 'KN' 'MC' 'KY' 'MZ' 'VG' 'AF' 'GG' 'LY' 'AZ' 'UZ'\n",
      " 'GP' 'BJ' 'GQ' 'SL' 'TL' 'LA' 'TG' 'KG' 'TM' 'SN' 'YE' 'TO' 'PF' 'MH'\n",
      " 'WS' 'BI' 'MS' 'CG' 'MG' 'TD' 'DJ' 'FO' 'VA' 'AX' 'MR' 'VC' 'GD' 'KI'\n",
      " 'CV' 'DM' 'ML' 'FK' 'SM' 'LI' 'TJ' 'YT' 'PM' 'AI' 'GL' 'NR' 'GF' 'ST'\n",
      " 'CF' 'GW' 'NU' 'TV' 'KM' 'IO']\n"
     ]
    }
   ],
   "source": [
    "events_geo = events.geo_location.str[:2]\n",
    "events_geo_unq = events_geo.unique()\n",
    "print(events_geo_unq.shape)\n",
    "print(events_geo_unq)"
   ]
  },
  {
   "cell_type": "code",
   "execution_count": 4,
   "metadata": {},
   "outputs": [
    {
     "name": "stdout",
     "output_type": "stream",
     "text": [
      "    display_id            uuid  document_id  timestamp platform geo_location\n",
      "0            1  cb8c55702adb93       379743         61        3    US>SC>519\n",
      "1            2  79a85fa78311b9      1794259         81        2    US>CA>807\n",
      "2            3  822932ce3d8757      1179111        182        2    US>MI>505\n",
      "3            4  85281d0a49f7ac      1777797        234        2    US>WV>564\n",
      "5            6  7765b4faae4ad4      1773517        395        3    US>OH>510\n",
      "6            7  2cc3f6457d16da      1149661        602        2    US>MT>762\n",
      "7            8  166fc654d73c98      1330329        638        2    US>PA>566\n",
      "8            9  9dddccf70f6067      1772126        667        1    US>FL>528\n",
      "9           10  b09a0e92aa4d17       157455        693        1           US\n",
      "10          11  602e210c5831e5      1773230        710        3    US>IL>675\n",
      "18595452\n",
      "0.80429717381298\n"
     ]
    }
   ],
   "source": [
    "events_usa = events[events.geo_location.str[:2] == 'US']\n",
    "print(events_usa.head(10))\n",
    "print(len(events_usa)) # 18595452\n",
    "print(18595452/23120126)\n",
    "# US가 전체 데이터의 80%를 차지한다"
   ]
  },
  {
   "cell_type": "code",
   "execution_count": 5,
   "metadata": {},
   "outputs": [
    {
     "data": {
      "text/html": [
       "<div>\n",
       "<style scoped>\n",
       "    .dataframe tbody tr th:only-of-type {\n",
       "        vertical-align: middle;\n",
       "    }\n",
       "\n",
       "    .dataframe tbody tr th {\n",
       "        vertical-align: top;\n",
       "    }\n",
       "\n",
       "    .dataframe thead th {\n",
       "        text-align: right;\n",
       "    }\n",
       "</style>\n",
       "<table border=\"1\" class=\"dataframe\">\n",
       "  <thead>\n",
       "    <tr style=\"text-align: right;\">\n",
       "      <th></th>\n",
       "      <th>StateName</th>\n",
       "      <th>UserCount</th>\n",
       "      <th>CumulativePercentage</th>\n",
       "    </tr>\n",
       "  </thead>\n",
       "  <tbody>\n",
       "    <tr>\n",
       "      <th>0</th>\n",
       "      <td>California</td>\n",
       "      <td>2395278.0</td>\n",
       "      <td>13.436487</td>\n",
       "    </tr>\n",
       "    <tr>\n",
       "      <th>1</th>\n",
       "      <td>Texas</td>\n",
       "      <td>1645323.0</td>\n",
       "      <td>22.666047</td>\n",
       "    </tr>\n",
       "    <tr>\n",
       "      <th>2</th>\n",
       "      <td>Florida</td>\n",
       "      <td>1128279.0</td>\n",
       "      <td>28.995211</td>\n",
       "    </tr>\n",
       "    <tr>\n",
       "      <th>3</th>\n",
       "      <td>New York</td>\n",
       "      <td>1105926.0</td>\n",
       "      <td>35.198984</td>\n",
       "    </tr>\n",
       "    <tr>\n",
       "      <th>4</th>\n",
       "      <td>Pennsylvania</td>\n",
       "      <td>784612.0</td>\n",
       "      <td>39.600322</td>\n",
       "    </tr>\n",
       "    <tr>\n",
       "      <th>5</th>\n",
       "      <td>Illinois</td>\n",
       "      <td>745661.0</td>\n",
       "      <td>43.783162</td>\n",
       "    </tr>\n",
       "    <tr>\n",
       "      <th>6</th>\n",
       "      <td>Ohio</td>\n",
       "      <td>633699.0</td>\n",
       "      <td>47.337943</td>\n",
       "    </tr>\n",
       "    <tr>\n",
       "      <th>7</th>\n",
       "      <td>Michigan</td>\n",
       "      <td>623564.0</td>\n",
       "      <td>50.835871</td>\n",
       "    </tr>\n",
       "    <tr>\n",
       "      <th>8</th>\n",
       "      <td>North Carolina</td>\n",
       "      <td>597003.0</td>\n",
       "      <td>54.184803</td>\n",
       "    </tr>\n",
       "    <tr>\n",
       "      <th>9</th>\n",
       "      <td>New Jersey</td>\n",
       "      <td>537440.0</td>\n",
       "      <td>57.199612</td>\n",
       "    </tr>\n",
       "    <tr>\n",
       "      <th>10</th>\n",
       "      <td>Georgia</td>\n",
       "      <td>528729.0</td>\n",
       "      <td>60.165556</td>\n",
       "    </tr>\n",
       "    <tr>\n",
       "      <th>11</th>\n",
       "      <td>Virginia</td>\n",
       "      <td>520956.0</td>\n",
       "      <td>63.087897</td>\n",
       "    </tr>\n",
       "    <tr>\n",
       "      <th>12</th>\n",
       "      <td>Washington</td>\n",
       "      <td>432731.0</td>\n",
       "      <td>65.515334</td>\n",
       "    </tr>\n",
       "    <tr>\n",
       "      <th>13</th>\n",
       "      <td>Massachusetts</td>\n",
       "      <td>423000.0</td>\n",
       "      <td>67.888183</td>\n",
       "    </tr>\n",
       "    <tr>\n",
       "      <th>14</th>\n",
       "      <td>Arizona</td>\n",
       "      <td>378966.0</td>\n",
       "      <td>70.014021</td>\n",
       "    </tr>\n",
       "    <tr>\n",
       "      <th>15</th>\n",
       "      <td>Maryland</td>\n",
       "      <td>359724.0</td>\n",
       "      <td>72.031919</td>\n",
       "    </tr>\n",
       "    <tr>\n",
       "      <th>16</th>\n",
       "      <td>Colorado</td>\n",
       "      <td>345236.0</td>\n",
       "      <td>73.968545</td>\n",
       "    </tr>\n",
       "    <tr>\n",
       "      <th>17</th>\n",
       "      <td>Minnesota</td>\n",
       "      <td>311927.0</td>\n",
       "      <td>75.718323</td>\n",
       "    </tr>\n",
       "    <tr>\n",
       "      <th>18</th>\n",
       "      <td>Tennessee</td>\n",
       "      <td>303689.0</td>\n",
       "      <td>77.421888</td>\n",
       "    </tr>\n",
       "    <tr>\n",
       "      <th>19</th>\n",
       "      <td>Wisconsin</td>\n",
       "      <td>291747.0</td>\n",
       "      <td>79.058465</td>\n",
       "    </tr>\n",
       "    <tr>\n",
       "      <th>20</th>\n",
       "      <td>Missouri</td>\n",
       "      <td>290877.0</td>\n",
       "      <td>80.690160</td>\n",
       "    </tr>\n",
       "    <tr>\n",
       "      <th>21</th>\n",
       "      <td>Indiana</td>\n",
       "      <td>266973.0</td>\n",
       "      <td>82.187765</td>\n",
       "    </tr>\n",
       "    <tr>\n",
       "      <th>22</th>\n",
       "      <td>Oregon</td>\n",
       "      <td>260209.0</td>\n",
       "      <td>83.647426</td>\n",
       "    </tr>\n",
       "    <tr>\n",
       "      <th>23</th>\n",
       "      <td>Connecticut</td>\n",
       "      <td>219261.0</td>\n",
       "      <td>84.877387</td>\n",
       "    </tr>\n",
       "    <tr>\n",
       "      <th>24</th>\n",
       "      <td>Alabama</td>\n",
       "      <td>213932.0</td>\n",
       "      <td>86.077454</td>\n",
       "    </tr>\n",
       "    <tr>\n",
       "      <th>25</th>\n",
       "      <td>South Carolina</td>\n",
       "      <td>206991.0</td>\n",
       "      <td>87.238585</td>\n",
       "    </tr>\n",
       "    <tr>\n",
       "      <th>26</th>\n",
       "      <td>Kentucky</td>\n",
       "      <td>182070.0</td>\n",
       "      <td>88.259920</td>\n",
       "    </tr>\n",
       "    <tr>\n",
       "      <th>27</th>\n",
       "      <td>Louisiana</td>\n",
       "      <td>181903.0</td>\n",
       "      <td>89.280319</td>\n",
       "    </tr>\n",
       "    <tr>\n",
       "      <th>28</th>\n",
       "      <td>Oklahoma</td>\n",
       "      <td>150365.0</td>\n",
       "      <td>90.123802</td>\n",
       "    </tr>\n",
       "    <tr>\n",
       "      <th>29</th>\n",
       "      <td>Iowa</td>\n",
       "      <td>143605.0</td>\n",
       "      <td>90.929365</td>\n",
       "    </tr>\n",
       "    <tr>\n",
       "      <th>30</th>\n",
       "      <td>Kansas</td>\n",
       "      <td>142806.0</td>\n",
       "      <td>91.730446</td>\n",
       "    </tr>\n",
       "    <tr>\n",
       "      <th>31</th>\n",
       "      <td>Utah</td>\n",
       "      <td>139593.0</td>\n",
       "      <td>92.513503</td>\n",
       "    </tr>\n",
       "    <tr>\n",
       "      <th>32</th>\n",
       "      <td>Nevada</td>\n",
       "      <td>138275.0</td>\n",
       "      <td>93.289167</td>\n",
       "    </tr>\n",
       "    <tr>\n",
       "      <th>33</th>\n",
       "      <td>Mississippi</td>\n",
       "      <td>107735.0</td>\n",
       "      <td>93.893514</td>\n",
       "    </tr>\n",
       "    <tr>\n",
       "      <th>34</th>\n",
       "      <td>District of Columbia</td>\n",
       "      <td>106562.0</td>\n",
       "      <td>94.491281</td>\n",
       "    </tr>\n",
       "    <tr>\n",
       "      <th>35</th>\n",
       "      <td>Nebraska</td>\n",
       "      <td>106380.0</td>\n",
       "      <td>95.088028</td>\n",
       "    </tr>\n",
       "    <tr>\n",
       "      <th>36</th>\n",
       "      <td>Arkansas</td>\n",
       "      <td>101745.0</td>\n",
       "      <td>95.658774</td>\n",
       "    </tr>\n",
       "    <tr>\n",
       "      <th>37</th>\n",
       "      <td>New Mexico</td>\n",
       "      <td>92545.0</td>\n",
       "      <td>96.177912</td>\n",
       "    </tr>\n",
       "    <tr>\n",
       "      <th>38</th>\n",
       "      <td>Hawaii</td>\n",
       "      <td>82223.0</td>\n",
       "      <td>96.639148</td>\n",
       "    </tr>\n",
       "    <tr>\n",
       "      <th>39</th>\n",
       "      <td>New Hampshire</td>\n",
       "      <td>71553.0</td>\n",
       "      <td>97.040529</td>\n",
       "    </tr>\n",
       "    <tr>\n",
       "      <th>40</th>\n",
       "      <td>Delaware</td>\n",
       "      <td>70580.0</td>\n",
       "      <td>97.436453</td>\n",
       "    </tr>\n",
       "    <tr>\n",
       "      <th>41</th>\n",
       "      <td>West Virginia</td>\n",
       "      <td>69734.0</td>\n",
       "      <td>97.827631</td>\n",
       "    </tr>\n",
       "    <tr>\n",
       "      <th>42</th>\n",
       "      <td>Idaho</td>\n",
       "      <td>69638.0</td>\n",
       "      <td>98.218271</td>\n",
       "    </tr>\n",
       "    <tr>\n",
       "      <th>43</th>\n",
       "      <td>Maine</td>\n",
       "      <td>62438.0</td>\n",
       "      <td>98.568521</td>\n",
       "    </tr>\n",
       "    <tr>\n",
       "      <th>44</th>\n",
       "      <td>Rhode Island</td>\n",
       "      <td>49204.0</td>\n",
       "      <td>98.844534</td>\n",
       "    </tr>\n",
       "    <tr>\n",
       "      <th>45</th>\n",
       "      <td>Montana</td>\n",
       "      <td>42716.0</td>\n",
       "      <td>99.084153</td>\n",
       "    </tr>\n",
       "    <tr>\n",
       "      <th>46</th>\n",
       "      <td>Alaska</td>\n",
       "      <td>38516.0</td>\n",
       "      <td>99.300211</td>\n",
       "    </tr>\n",
       "    <tr>\n",
       "      <th>47</th>\n",
       "      <td>South Dakota</td>\n",
       "      <td>36643.0</td>\n",
       "      <td>99.505763</td>\n",
       "    </tr>\n",
       "    <tr>\n",
       "      <th>48</th>\n",
       "      <td>North Dakota</td>\n",
       "      <td>34799.0</td>\n",
       "      <td>99.700970</td>\n",
       "    </tr>\n",
       "    <tr>\n",
       "      <th>49</th>\n",
       "      <td>Vermont</td>\n",
       "      <td>28466.0</td>\n",
       "      <td>99.860653</td>\n",
       "    </tr>\n",
       "  </tbody>\n",
       "</table>\n",
       "</div>"
      ],
      "text/plain": [
       "               StateName  UserCount  CumulativePercentage\n",
       "0             California  2395278.0             13.436487\n",
       "1                  Texas  1645323.0             22.666047\n",
       "2                Florida  1128279.0             28.995211\n",
       "3               New York  1105926.0             35.198984\n",
       "4           Pennsylvania   784612.0             39.600322\n",
       "5               Illinois   745661.0             43.783162\n",
       "6                   Ohio   633699.0             47.337943\n",
       "7               Michigan   623564.0             50.835871\n",
       "8         North Carolina   597003.0             54.184803\n",
       "9             New Jersey   537440.0             57.199612\n",
       "10               Georgia   528729.0             60.165556\n",
       "11              Virginia   520956.0             63.087897\n",
       "12            Washington   432731.0             65.515334\n",
       "13         Massachusetts   423000.0             67.888183\n",
       "14               Arizona   378966.0             70.014021\n",
       "15              Maryland   359724.0             72.031919\n",
       "16              Colorado   345236.0             73.968545\n",
       "17             Minnesota   311927.0             75.718323\n",
       "18             Tennessee   303689.0             77.421888\n",
       "19             Wisconsin   291747.0             79.058465\n",
       "20              Missouri   290877.0             80.690160\n",
       "21               Indiana   266973.0             82.187765\n",
       "22                Oregon   260209.0             83.647426\n",
       "23           Connecticut   219261.0             84.877387\n",
       "24               Alabama   213932.0             86.077454\n",
       "25        South Carolina   206991.0             87.238585\n",
       "26              Kentucky   182070.0             88.259920\n",
       "27             Louisiana   181903.0             89.280319\n",
       "28              Oklahoma   150365.0             90.123802\n",
       "29                  Iowa   143605.0             90.929365\n",
       "30                Kansas   142806.0             91.730446\n",
       "31                  Utah   139593.0             92.513503\n",
       "32                Nevada   138275.0             93.289167\n",
       "33           Mississippi   107735.0             93.893514\n",
       "34  District of Columbia   106562.0             94.491281\n",
       "35              Nebraska   106380.0             95.088028\n",
       "36              Arkansas   101745.0             95.658774\n",
       "37            New Mexico    92545.0             96.177912\n",
       "38                Hawaii    82223.0             96.639148\n",
       "39         New Hampshire    71553.0             97.040529\n",
       "40              Delaware    70580.0             97.436453\n",
       "41         West Virginia    69734.0             97.827631\n",
       "42                 Idaho    69638.0             98.218271\n",
       "43                 Maine    62438.0             98.568521\n",
       "44          Rhode Island    49204.0             98.844534\n",
       "45               Montana    42716.0             99.084153\n",
       "46                Alaska    38516.0             99.300211\n",
       "47          South Dakota    36643.0             99.505763\n",
       "48          North Dakota    34799.0             99.700970\n",
       "49               Vermont    28466.0             99.860653"
      ]
     },
     "execution_count": 5,
     "metadata": {},
     "output_type": "execute_result"
    }
   ],
   "source": [
    "# 경고 메시지 무시\n",
    "import warnings\n",
    "warnings.filterwarnings('ignore')\n",
    "\n",
    "# state 별 데이터 개수 카운트\n",
    "usa = events_usa.loc[events_usa.geo_location.str[:2]=='US', :]\n",
    "usa = usa[[\"uuid\", \"geo_location\"]]\n",
    "usa.columns = ['uuid', 'State']\n",
    "usa.State = usa.State.str[3:5]\n",
    "usa = usa.loc[usa.State != '', :]\n",
    "usa.loc[:, 'UserCount'] = usa.groupby('State')['State'].transform('count')\n",
    "usa.loc[:, ['State', 'UserCount']] = usa.loc[:, ['State', 'UserCount']].drop_duplicates('State', keep='first')\n",
    "usa.sort_values('UserCount', ascending=False, inplace=True)\n",
    "\n",
    "# state 코드와 매칭, StateName 열 생성\n",
    "stateCode2Name = {'AK': 'Alaska', 'AL': 'Alabama', 'AR': 'Arkansas', 'AS': 'American Samoa', 'AZ': 'Arizona', 'CA': 'California', 'CO': 'Colorado', 'CT': 'Connecticut', 'DC': 'District of Columbia', 'DE': 'Delaware', 'FL': 'Florida', 'GA': 'Georgia', 'GU': 'Guam', 'HI': 'Hawaii', 'IA': 'Iowa', 'ID': 'Idaho', 'IL': 'Illinois', 'IN': 'Indiana', 'KS': 'Kansas', 'KY': 'Kentucky', 'LA': 'Louisiana', 'MA': 'Massachusetts', 'MD': 'Maryland', 'ME': 'Maine', 'MI': 'Michigan', 'MN':'Minnesota', 'MO': 'Missouri', 'MP': 'Northern Mariana Islands', 'MS': 'Mississippi', 'MT': 'Montana', 'NA': 'National', 'NC': 'North Carolina', 'ND': 'North Dakota', 'NE':'Nebraska', 'NH': 'New Hampshire', 'NJ': 'New Jersey', 'NM': 'New Mexico', 'NV': 'Nevada', 'NY': 'New York', 'OH': 'Ohio', 'OK': 'Oklahoma', 'OR': 'Oregon', 'PA': 'Pennsylvania', 'PR': 'Puerto Rico', 'RI': 'Rhode Island', 'SC': 'South Carolina', 'SD': 'South Dakota', 'TN': 'Tennessee', 'TX': 'Texas', 'UT': 'Utah', 'VA': 'Virginia', 'VI': 'Virgin Islands', 'VT': 'Vermont', 'WA': 'Washington', 'WI': 'Wisconsin', 'WV': 'West Virginia', 'WY': 'Wyoming'}\n",
    "usa['StateName'] = usa['State'].map(stateCode2Name)\n",
    "usa.dropna(inplace=True)\n",
    "\n",
    "# state 별 누적퍼센트 계산\n",
    "usa['CumulativePercentage'] = 100 * usa.UserCount.cumsum()/usa.UserCount.sum()\n",
    "usa.reset_index(drop=True, inplace=True)\n",
    "usa[['StateName', 'UserCount', 'CumulativePercentage']].head(50)"
   ]
  },
  {
   "cell_type": "markdown",
   "metadata": {},
   "source": [
    "## timestamp"
   ]
  },
  {
   "cell_type": "code",
   "execution_count": 4,
   "metadata": {},
   "outputs": [
    {
     "data": {
      "text/html": [
       "<div>\n",
       "<style scoped>\n",
       "    .dataframe tbody tr th:only-of-type {\n",
       "        vertical-align: middle;\n",
       "    }\n",
       "\n",
       "    .dataframe tbody tr th {\n",
       "        vertical-align: top;\n",
       "    }\n",
       "\n",
       "    .dataframe thead th {\n",
       "        text-align: right;\n",
       "    }\n",
       "</style>\n",
       "<table border=\"1\" class=\"dataframe\">\n",
       "  <thead>\n",
       "    <tr style=\"text-align: right;\">\n",
       "      <th></th>\n",
       "      <th>display_id</th>\n",
       "      <th>uuid</th>\n",
       "      <th>document_id</th>\n",
       "      <th>timestamp</th>\n",
       "      <th>platform</th>\n",
       "      <th>geo_location</th>\n",
       "    </tr>\n",
       "  </thead>\n",
       "  <tbody>\n",
       "    <tr>\n",
       "      <th>23120121</th>\n",
       "      <td>23120122</td>\n",
       "      <td>3b42aaa4aa8993</td>\n",
       "      <td>1827718</td>\n",
       "      <td>2016-06-29 03:59:59.572</td>\n",
       "      <td>1</td>\n",
       "      <td>US&gt;FL&gt;571</td>\n",
       "    </tr>\n",
       "    <tr>\n",
       "      <th>23120122</th>\n",
       "      <td>23120123</td>\n",
       "      <td>7efccdc2d58fd1</td>\n",
       "      <td>2984543</td>\n",
       "      <td>2016-06-29 03:59:59.589</td>\n",
       "      <td>2</td>\n",
       "      <td>US&gt;TX&gt;623</td>\n",
       "    </tr>\n",
       "    <tr>\n",
       "      <th>23120123</th>\n",
       "      <td>23120124</td>\n",
       "      <td>11f9ac8cee26f2</td>\n",
       "      <td>751048</td>\n",
       "      <td>2016-06-29 03:59:59.655</td>\n",
       "      <td>2</td>\n",
       "      <td>US&gt;GA&gt;524</td>\n",
       "    </tr>\n",
       "    <tr>\n",
       "      <th>23120124</th>\n",
       "      <td>23120125</td>\n",
       "      <td>6bbdc5756789cc</td>\n",
       "      <td>744496</td>\n",
       "      <td>2016-06-29 03:59:59.769</td>\n",
       "      <td>2</td>\n",
       "      <td>US&gt;MI&gt;505</td>\n",
       "    </tr>\n",
       "    <tr>\n",
       "      <th>23120125</th>\n",
       "      <td>23120126</td>\n",
       "      <td>b545c100626cba</td>\n",
       "      <td>2357447</td>\n",
       "      <td>2016-06-29 03:59:59.803</td>\n",
       "      <td>2</td>\n",
       "      <td>US&gt;SD&gt;764</td>\n",
       "    </tr>\n",
       "  </tbody>\n",
       "</table>\n",
       "</div>"
      ],
      "text/plain": [
       "          display_id            uuid  document_id               timestamp  \\\n",
       "23120121    23120122  3b42aaa4aa8993      1827718 2016-06-29 03:59:59.572   \n",
       "23120122    23120123  7efccdc2d58fd1      2984543 2016-06-29 03:59:59.589   \n",
       "23120123    23120124  11f9ac8cee26f2       751048 2016-06-29 03:59:59.655   \n",
       "23120124    23120125  6bbdc5756789cc       744496 2016-06-29 03:59:59.769   \n",
       "23120125    23120126  b545c100626cba      2357447 2016-06-29 03:59:59.803   \n",
       "\n",
       "         platform geo_location  \n",
       "23120121        1    US>FL>571  \n",
       "23120122        2    US>TX>623  \n",
       "23120123        2    US>GA>524  \n",
       "23120124        2    US>MI>505  \n",
       "23120125        2    US>SD>764  "
      ]
     },
     "execution_count": 4,
     "metadata": {},
     "output_type": "execute_result"
    }
   ],
   "source": [
    "# timestamp 전처리를 통해 datetime 형태로 만들기\n",
    "events.loc[:, 'timestamp'] = [i + 1465876799998 for i in events.loc[:, 'timestamp']]\n",
    "events.loc[:, 'timestamp'] = pd.to_datetime(events.loc[:, 'timestamp'], unit='ms')\n",
    "events.tail()"
   ]
  },
  {
   "cell_type": "code",
   "execution_count": 5,
   "metadata": {},
   "outputs": [
    {
     "data": {
      "text/html": [
       "<div>\n",
       "<style scoped>\n",
       "    .dataframe tbody tr th:only-of-type {\n",
       "        vertical-align: middle;\n",
       "    }\n",
       "\n",
       "    .dataframe tbody tr th {\n",
       "        vertical-align: top;\n",
       "    }\n",
       "\n",
       "    .dataframe thead th {\n",
       "        text-align: right;\n",
       "    }\n",
       "</style>\n",
       "<table border=\"1\" class=\"dataframe\">\n",
       "  <thead>\n",
       "    <tr style=\"text-align: right;\">\n",
       "      <th></th>\n",
       "      <th>state_new</th>\n",
       "      <th>UTC.time.offset</th>\n",
       "    </tr>\n",
       "  </thead>\n",
       "  <tbody>\n",
       "    <tr>\n",
       "      <th>0</th>\n",
       "      <td>AL</td>\n",
       "      <td>-06:00</td>\n",
       "    </tr>\n",
       "    <tr>\n",
       "      <th>1</th>\n",
       "      <td>AK</td>\n",
       "      <td>-09:00</td>\n",
       "    </tr>\n",
       "    <tr>\n",
       "      <th>2</th>\n",
       "      <td>AZ</td>\n",
       "      <td>-07:00</td>\n",
       "    </tr>\n",
       "    <tr>\n",
       "      <th>3</th>\n",
       "      <td>AR</td>\n",
       "      <td>-06:00</td>\n",
       "    </tr>\n",
       "    <tr>\n",
       "      <th>4</th>\n",
       "      <td>CA</td>\n",
       "      <td>-08:00</td>\n",
       "    </tr>\n",
       "  </tbody>\n",
       "</table>\n",
       "</div>"
      ],
      "text/plain": [
       "  state_new UTC.time.offset\n",
       "0        AL          -06:00\n",
       "1        AK          -09:00\n",
       "2        AZ          -07:00\n",
       "3        AR          -06:00\n",
       "4        CA          -08:00"
      ]
     },
     "execution_count": 5,
     "metadata": {},
     "output_type": "execute_result"
    }
   ],
   "source": [
    "# 미국의 주별 utc-time-offset을 정리한 usa_utftime.csv 파일 가져오기\n",
    "usa_utftime = my_bucket.object('usa-state-utctime-new.csv')\n",
    "uri = usa_utftime.uri\n",
    "%gcs read --object $uri --variable c_test\n",
    "usa_utftime = pd.read_csv(BytesIO(c_test))\n",
    "usa_utftime = usa_utftime[['state_new', 'UTC.time.offset']]\n",
    "usa_utftime.head(5)"
   ]
  },
  {
   "cell_type": "code",
   "execution_count": 6,
   "metadata": {},
   "outputs": [
    {
     "data": {
      "text/html": [
       "<div>\n",
       "<style scoped>\n",
       "    .dataframe tbody tr th:only-of-type {\n",
       "        vertical-align: middle;\n",
       "    }\n",
       "\n",
       "    .dataframe tbody tr th {\n",
       "        vertical-align: top;\n",
       "    }\n",
       "\n",
       "    .dataframe thead th {\n",
       "        text-align: right;\n",
       "    }\n",
       "</style>\n",
       "<table border=\"1\" class=\"dataframe\">\n",
       "  <thead>\n",
       "    <tr style=\"text-align: right;\">\n",
       "      <th></th>\n",
       "      <th>state</th>\n",
       "      <th>time</th>\n",
       "    </tr>\n",
       "  </thead>\n",
       "  <tbody>\n",
       "    <tr>\n",
       "      <th>0</th>\n",
       "      <td>AL</td>\n",
       "      <td>06</td>\n",
       "    </tr>\n",
       "    <tr>\n",
       "      <th>1</th>\n",
       "      <td>AK</td>\n",
       "      <td>09</td>\n",
       "    </tr>\n",
       "    <tr>\n",
       "      <th>2</th>\n",
       "      <td>AZ</td>\n",
       "      <td>07</td>\n",
       "    </tr>\n",
       "    <tr>\n",
       "      <th>3</th>\n",
       "      <td>AR</td>\n",
       "      <td>06</td>\n",
       "    </tr>\n",
       "    <tr>\n",
       "      <th>4</th>\n",
       "      <td>CA</td>\n",
       "      <td>08</td>\n",
       "    </tr>\n",
       "  </tbody>\n",
       "</table>\n",
       "</div>"
      ],
      "text/plain": [
       "  state time\n",
       "0    AL   06\n",
       "1    AK   09\n",
       "2    AZ   07\n",
       "3    AR   06\n",
       "4    CA   08"
      ]
     },
     "execution_count": 6,
     "metadata": {},
     "output_type": "execute_result"
    }
   ],
   "source": [
    "# usa_utftime을 추후 연산하기 좋게 가공하여 usa_utftime_final로 만듦\n",
    "usa_utftime['UTC.time.offset'] = usa_utftime['UTC.time.offset'].astype(str)\n",
    "usa_utftime['time'] = usa_utftime['UTC.time.offset'].str[1:3]\n",
    "usa_utftime.columns = ['state', 'offset', 'time']\n",
    "usa_utftime_final = usa_utftime[['state', 'time']]\n",
    "\n",
    "usa_utftime_final.head()"
   ]
  },
  {
   "cell_type": "code",
   "execution_count": 7,
   "metadata": {},
   "outputs": [
    {
     "data": {
      "text/html": [
       "<div>\n",
       "<style scoped>\n",
       "    .dataframe tbody tr th:only-of-type {\n",
       "        vertical-align: middle;\n",
       "    }\n",
       "\n",
       "    .dataframe tbody tr th {\n",
       "        vertical-align: top;\n",
       "    }\n",
       "\n",
       "    .dataframe thead th {\n",
       "        text-align: right;\n",
       "    }\n",
       "</style>\n",
       "<table border=\"1\" class=\"dataframe\">\n",
       "  <thead>\n",
       "    <tr style=\"text-align: right;\">\n",
       "      <th></th>\n",
       "      <th>display_id</th>\n",
       "      <th>uuid</th>\n",
       "      <th>document_id</th>\n",
       "      <th>timestamp</th>\n",
       "      <th>platform</th>\n",
       "      <th>geo_location</th>\n",
       "      <th>state</th>\n",
       "      <th>time</th>\n",
       "    </tr>\n",
       "  </thead>\n",
       "  <tbody>\n",
       "    <tr>\n",
       "      <th>0</th>\n",
       "      <td>1</td>\n",
       "      <td>cb8c55702adb93</td>\n",
       "      <td>379743</td>\n",
       "      <td>2016-06-14 04:00:00.059</td>\n",
       "      <td>3</td>\n",
       "      <td>US&gt;SC&gt;519</td>\n",
       "      <td>SC</td>\n",
       "      <td>05</td>\n",
       "    </tr>\n",
       "    <tr>\n",
       "      <th>1</th>\n",
       "      <td>2</td>\n",
       "      <td>79a85fa78311b9</td>\n",
       "      <td>1794259</td>\n",
       "      <td>2016-06-14 04:00:00.079</td>\n",
       "      <td>2</td>\n",
       "      <td>US&gt;CA&gt;807</td>\n",
       "      <td>CA</td>\n",
       "      <td>08</td>\n",
       "    </tr>\n",
       "    <tr>\n",
       "      <th>2</th>\n",
       "      <td>3</td>\n",
       "      <td>822932ce3d8757</td>\n",
       "      <td>1179111</td>\n",
       "      <td>2016-06-14 04:00:00.180</td>\n",
       "      <td>2</td>\n",
       "      <td>US&gt;MI&gt;505</td>\n",
       "      <td>MI</td>\n",
       "      <td>05</td>\n",
       "    </tr>\n",
       "    <tr>\n",
       "      <th>3</th>\n",
       "      <td>4</td>\n",
       "      <td>85281d0a49f7ac</td>\n",
       "      <td>1777797</td>\n",
       "      <td>2016-06-14 04:00:00.232</td>\n",
       "      <td>2</td>\n",
       "      <td>US&gt;WV&gt;564</td>\n",
       "      <td>WV</td>\n",
       "      <td>05</td>\n",
       "    </tr>\n",
       "    <tr>\n",
       "      <th>4</th>\n",
       "      <td>6</td>\n",
       "      <td>7765b4faae4ad4</td>\n",
       "      <td>1773517</td>\n",
       "      <td>2016-06-14 04:00:00.393</td>\n",
       "      <td>3</td>\n",
       "      <td>US&gt;OH&gt;510</td>\n",
       "      <td>OH</td>\n",
       "      <td>05</td>\n",
       "    </tr>\n",
       "  </tbody>\n",
       "</table>\n",
       "</div>"
      ],
      "text/plain": [
       "   display_id            uuid  document_id               timestamp platform  \\\n",
       "0           1  cb8c55702adb93       379743 2016-06-14 04:00:00.059        3   \n",
       "1           2  79a85fa78311b9      1794259 2016-06-14 04:00:00.079        2   \n",
       "2           3  822932ce3d8757      1179111 2016-06-14 04:00:00.180        2   \n",
       "3           4  85281d0a49f7ac      1777797 2016-06-14 04:00:00.232        2   \n",
       "4           6  7765b4faae4ad4      1773517 2016-06-14 04:00:00.393        3   \n",
       "\n",
       "  geo_location state time  \n",
       "0    US>SC>519    SC   05  \n",
       "1    US>CA>807    CA   08  \n",
       "2    US>MI>505    MI   05  \n",
       "3    US>WV>564    WV   05  \n",
       "4    US>OH>510    OH   05  "
      ]
     },
     "execution_count": 7,
     "metadata": {},
     "output_type": "execute_result"
    }
   ],
   "source": [
    "# events에서 지역이 usa인 데이터 추출한 usa_only와 usa_utftime_final을 merge\n",
    "events_usa = events[events.geo_location.str[:2] == 'US']\n",
    "usa_only = events_usa.loc[events_usa.geo_location.str[:2]=='US', :]\n",
    "usa_only['state'] = usa_only['geo_location'].str[3:5]\n",
    "usa_only.head()\n",
    "usa_final = pd.merge(usa_only, usa_utftime_final, on='state', how='left')\n",
    "usa_final.head()"
   ]
  },
  {
   "cell_type": "code",
   "execution_count": 72,
   "metadata": {},
   "outputs": [
    {
     "data": {
      "text/plain": [
       "4.134258204640576"
      ]
     },
     "execution_count": 72,
     "metadata": {},
     "output_type": "execute_result"
    }
   ],
   "source": [
    "# state NA 값 비율 = 4%\n",
    "768784 / 18595452 * 100"
   ]
  },
  {
   "cell_type": "code",
   "execution_count": 57,
   "metadata": {},
   "outputs": [
    {
     "data": {
      "text/plain": [
       "int"
      ]
     },
     "execution_count": 57,
     "metadata": {},
     "output_type": "execute_result"
    }
   ],
   "source": [
    "# example of calculating datetime\n",
    "now = datetime.datetime.now()\n",
    "a=1\n",
    "one_hour_later = now + datetime.timedelta(hours=a)\n",
    "one_hour_later\n",
    "type(a)"
   ]
  },
  {
   "cell_type": "code",
   "execution_count": 8,
   "metadata": {},
   "outputs": [
    {
     "name": "stdout",
     "output_type": "stream",
     "text": [
      "(768784, 8)\n"
     ]
    },
    {
     "data": {
      "text/html": [
       "<div>\n",
       "<style scoped>\n",
       "    .dataframe tbody tr th:only-of-type {\n",
       "        vertical-align: middle;\n",
       "    }\n",
       "\n",
       "    .dataframe tbody tr th {\n",
       "        vertical-align: top;\n",
       "    }\n",
       "\n",
       "    .dataframe thead th {\n",
       "        text-align: right;\n",
       "    }\n",
       "</style>\n",
       "<table border=\"1\" class=\"dataframe\">\n",
       "  <thead>\n",
       "    <tr style=\"text-align: right;\">\n",
       "      <th></th>\n",
       "      <th>display_id</th>\n",
       "      <th>uuid</th>\n",
       "      <th>document_id</th>\n",
       "      <th>timestamp</th>\n",
       "      <th>platform</th>\n",
       "      <th>geo_location</th>\n",
       "      <th>state</th>\n",
       "      <th>time</th>\n",
       "    </tr>\n",
       "  </thead>\n",
       "  <tbody>\n",
       "    <tr>\n",
       "      <th>18594937</th>\n",
       "      <td>23119519</td>\n",
       "      <td>2abdc2f0cd76ac</td>\n",
       "      <td>484475</td>\n",
       "      <td>2016-06-29 03:59:21.765</td>\n",
       "      <td>2</td>\n",
       "      <td>US</td>\n",
       "      <td></td>\n",
       "      <td>NaN</td>\n",
       "    </tr>\n",
       "    <tr>\n",
       "      <th>18594952</th>\n",
       "      <td>23119536</td>\n",
       "      <td>45adb429b81210</td>\n",
       "      <td>2931377</td>\n",
       "      <td>2016-06-29 03:59:22.512</td>\n",
       "      <td>1</td>\n",
       "      <td>US&gt;AE</td>\n",
       "      <td>AE</td>\n",
       "      <td>NaN</td>\n",
       "    </tr>\n",
       "    <tr>\n",
       "      <th>18594966</th>\n",
       "      <td>23119551</td>\n",
       "      <td>dba159332df45e</td>\n",
       "      <td>2909627</td>\n",
       "      <td>2016-06-29 03:59:23.851</td>\n",
       "      <td>3</td>\n",
       "      <td>US</td>\n",
       "      <td></td>\n",
       "      <td>NaN</td>\n",
       "    </tr>\n",
       "    <tr>\n",
       "      <th>18594992</th>\n",
       "      <td>23119583</td>\n",
       "      <td>d4ba016292adb5</td>\n",
       "      <td>2963871</td>\n",
       "      <td>2016-06-29 03:59:25.965</td>\n",
       "      <td>1</td>\n",
       "      <td>US</td>\n",
       "      <td></td>\n",
       "      <td>NaN</td>\n",
       "    </tr>\n",
       "    <tr>\n",
       "      <th>18595118</th>\n",
       "      <td>23119734</td>\n",
       "      <td>6e0e8577b6ead8</td>\n",
       "      <td>1291502</td>\n",
       "      <td>2016-06-29 03:59:35.152</td>\n",
       "      <td>2</td>\n",
       "      <td>US&gt;AE</td>\n",
       "      <td>AE</td>\n",
       "      <td>NaN</td>\n",
       "    </tr>\n",
       "    <tr>\n",
       "      <th>18595136</th>\n",
       "      <td>23119755</td>\n",
       "      <td>b81f174de49150</td>\n",
       "      <td>2977515</td>\n",
       "      <td>2016-06-29 03:59:36.111</td>\n",
       "      <td>2</td>\n",
       "      <td>US</td>\n",
       "      <td></td>\n",
       "      <td>NaN</td>\n",
       "    </tr>\n",
       "    <tr>\n",
       "      <th>18595195</th>\n",
       "      <td>23119821</td>\n",
       "      <td>caee0432388da7</td>\n",
       "      <td>2847511</td>\n",
       "      <td>2016-06-29 03:59:40.887</td>\n",
       "      <td>2</td>\n",
       "      <td>US</td>\n",
       "      <td></td>\n",
       "      <td>NaN</td>\n",
       "    </tr>\n",
       "    <tr>\n",
       "      <th>18595199</th>\n",
       "      <td>23119826</td>\n",
       "      <td>a5bfab58168a19</td>\n",
       "      <td>2992437</td>\n",
       "      <td>2016-06-29 03:59:41.245</td>\n",
       "      <td>2</td>\n",
       "      <td>US</td>\n",
       "      <td></td>\n",
       "      <td>NaN</td>\n",
       "    </tr>\n",
       "    <tr>\n",
       "      <th>18595286</th>\n",
       "      <td>23119926</td>\n",
       "      <td>9fcbedbd7c6a18</td>\n",
       "      <td>2991411</td>\n",
       "      <td>2016-06-29 03:59:47.316</td>\n",
       "      <td>2</td>\n",
       "      <td>US</td>\n",
       "      <td></td>\n",
       "      <td>NaN</td>\n",
       "    </tr>\n",
       "    <tr>\n",
       "      <th>18595359</th>\n",
       "      <td>23120013</td>\n",
       "      <td>c3662fc0bbc528</td>\n",
       "      <td>2998869</td>\n",
       "      <td>2016-06-29 03:59:53.045</td>\n",
       "      <td>2</td>\n",
       "      <td>US</td>\n",
       "      <td></td>\n",
       "      <td>NaN</td>\n",
       "    </tr>\n",
       "    <tr>\n",
       "      <th>18595384</th>\n",
       "      <td>23120047</td>\n",
       "      <td>7e42b01d6900f8</td>\n",
       "      <td>2890280</td>\n",
       "      <td>2016-06-29 03:59:54.880</td>\n",
       "      <td>2</td>\n",
       "      <td>US</td>\n",
       "      <td></td>\n",
       "      <td>NaN</td>\n",
       "    </tr>\n",
       "    <tr>\n",
       "      <th>18595396</th>\n",
       "      <td>23120059</td>\n",
       "      <td>bffdaa000741da</td>\n",
       "      <td>2997881</td>\n",
       "      <td>2016-06-29 03:59:55.515</td>\n",
       "      <td>2</td>\n",
       "      <td>US</td>\n",
       "      <td></td>\n",
       "      <td>NaN</td>\n",
       "    </tr>\n",
       "    <tr>\n",
       "      <th>18595413</th>\n",
       "      <td>23120083</td>\n",
       "      <td>2a2399b36014f5</td>\n",
       "      <td>157455</td>\n",
       "      <td>2016-06-29 03:59:57.100</td>\n",
       "      <td>1</td>\n",
       "      <td>US</td>\n",
       "      <td></td>\n",
       "      <td>NaN</td>\n",
       "    </tr>\n",
       "    <tr>\n",
       "      <th>18595426</th>\n",
       "      <td>23120098</td>\n",
       "      <td>7ab35b9e3ded8a</td>\n",
       "      <td>1322324</td>\n",
       "      <td>2016-06-29 03:59:58.046</td>\n",
       "      <td>2</td>\n",
       "      <td>US</td>\n",
       "      <td></td>\n",
       "      <td>NaN</td>\n",
       "    </tr>\n",
       "    <tr>\n",
       "      <th>18595441</th>\n",
       "      <td>23120113</td>\n",
       "      <td>d51bd0fb9ad814</td>\n",
       "      <td>2866152</td>\n",
       "      <td>2016-06-29 03:59:59.004</td>\n",
       "      <td>2</td>\n",
       "      <td>US</td>\n",
       "      <td></td>\n",
       "      <td>NaN</td>\n",
       "    </tr>\n",
       "  </tbody>\n",
       "</table>\n",
       "</div>"
      ],
      "text/plain": [
       "          display_id            uuid  document_id               timestamp  \\\n",
       "18594937    23119519  2abdc2f0cd76ac       484475 2016-06-29 03:59:21.765   \n",
       "18594952    23119536  45adb429b81210      2931377 2016-06-29 03:59:22.512   \n",
       "18594966    23119551  dba159332df45e      2909627 2016-06-29 03:59:23.851   \n",
       "18594992    23119583  d4ba016292adb5      2963871 2016-06-29 03:59:25.965   \n",
       "18595118    23119734  6e0e8577b6ead8      1291502 2016-06-29 03:59:35.152   \n",
       "18595136    23119755  b81f174de49150      2977515 2016-06-29 03:59:36.111   \n",
       "18595195    23119821  caee0432388da7      2847511 2016-06-29 03:59:40.887   \n",
       "18595199    23119826  a5bfab58168a19      2992437 2016-06-29 03:59:41.245   \n",
       "18595286    23119926  9fcbedbd7c6a18      2991411 2016-06-29 03:59:47.316   \n",
       "18595359    23120013  c3662fc0bbc528      2998869 2016-06-29 03:59:53.045   \n",
       "18595384    23120047  7e42b01d6900f8      2890280 2016-06-29 03:59:54.880   \n",
       "18595396    23120059  bffdaa000741da      2997881 2016-06-29 03:59:55.515   \n",
       "18595413    23120083  2a2399b36014f5       157455 2016-06-29 03:59:57.100   \n",
       "18595426    23120098  7ab35b9e3ded8a      1322324 2016-06-29 03:59:58.046   \n",
       "18595441    23120113  d51bd0fb9ad814      2866152 2016-06-29 03:59:59.004   \n",
       "\n",
       "         platform geo_location state time  \n",
       "18594937        2           US        NaN  \n",
       "18594952        1        US>AE    AE  NaN  \n",
       "18594966        3           US        NaN  \n",
       "18594992        1           US        NaN  \n",
       "18595118        2        US>AE    AE  NaN  \n",
       "18595136        2           US        NaN  \n",
       "18595195        2           US        NaN  \n",
       "18595199        2           US        NaN  \n",
       "18595286        2           US        NaN  \n",
       "18595359        2           US        NaN  \n",
       "18595384        2           US        NaN  \n",
       "18595396        2           US        NaN  \n",
       "18595413        1           US        NaN  \n",
       "18595426        2           US        NaN  \n",
       "18595441        2           US        NaN  "
      ]
     },
     "execution_count": 8,
     "metadata": {},
     "output_type": "execute_result"
    }
   ],
   "source": [
    "# usa_final에서 na 없는 데이터의 shape 확인하기\n",
    "nans = lambda df: df[df.isnull().any(axis=1)]\n",
    "usa_nans = nans(usa_final)\n",
    "print(usa_nans.shape)\n",
    "usa_nans.tail(15)"
   ]
  },
  {
   "cell_type": "code",
   "execution_count": null,
   "metadata": {},
   "outputs": [],
   "source": []
  },
  {
   "cell_type": "code",
   "execution_count": 9,
   "metadata": {},
   "outputs": [
    {
     "name": "stderr",
     "output_type": "stream",
     "text": [
      "/usr/local/envs/py3env/lib/python3.5/site-packages/ipykernel/__main__.py:3: SettingWithCopyWarning: \n",
      "A value is trying to be set on a copy of a slice from a DataFrame.\n",
      "Try using .loc[row_indexer,col_indexer] = value instead\n",
      "\n",
      "See the caveats in the documentation: http://pandas.pydata.org/pandas-docs/stable/indexing.html#indexing-view-versus-copy\n",
      "  app.launch_new_instance()\n"
     ]
    },
    {
     "data": {
      "text/html": [
       "<div>\n",
       "<style scoped>\n",
       "    .dataframe tbody tr th:only-of-type {\n",
       "        vertical-align: middle;\n",
       "    }\n",
       "\n",
       "    .dataframe tbody tr th {\n",
       "        vertical-align: top;\n",
       "    }\n",
       "\n",
       "    .dataframe thead th {\n",
       "        text-align: right;\n",
       "    }\n",
       "</style>\n",
       "<table border=\"1\" class=\"dataframe\">\n",
       "  <thead>\n",
       "    <tr style=\"text-align: right;\">\n",
       "      <th></th>\n",
       "      <th>display_id</th>\n",
       "      <th>uuid</th>\n",
       "      <th>document_id</th>\n",
       "      <th>timestamp</th>\n",
       "      <th>platform</th>\n",
       "      <th>geo_location</th>\n",
       "      <th>state</th>\n",
       "      <th>time</th>\n",
       "      <th>real_timestamp</th>\n",
       "    </tr>\n",
       "  </thead>\n",
       "  <tbody>\n",
       "    <tr>\n",
       "      <th>0</th>\n",
       "      <td>1</td>\n",
       "      <td>cb8c55702adb93</td>\n",
       "      <td>379743</td>\n",
       "      <td>2016-06-14 04:00:00.059</td>\n",
       "      <td>3</td>\n",
       "      <td>US&gt;SC&gt;519</td>\n",
       "      <td>SC</td>\n",
       "      <td>05</td>\n",
       "      <td>2016-06-14 04:00:00.059</td>\n",
       "    </tr>\n",
       "    <tr>\n",
       "      <th>1</th>\n",
       "      <td>2</td>\n",
       "      <td>79a85fa78311b9</td>\n",
       "      <td>1794259</td>\n",
       "      <td>2016-06-14 04:00:00.079</td>\n",
       "      <td>2</td>\n",
       "      <td>US&gt;CA&gt;807</td>\n",
       "      <td>CA</td>\n",
       "      <td>08</td>\n",
       "      <td>2016-06-14 04:00:00.079</td>\n",
       "    </tr>\n",
       "    <tr>\n",
       "      <th>2</th>\n",
       "      <td>3</td>\n",
       "      <td>822932ce3d8757</td>\n",
       "      <td>1179111</td>\n",
       "      <td>2016-06-14 04:00:00.180</td>\n",
       "      <td>2</td>\n",
       "      <td>US&gt;MI&gt;505</td>\n",
       "      <td>MI</td>\n",
       "      <td>05</td>\n",
       "      <td>2016-06-14 04:00:00.180</td>\n",
       "    </tr>\n",
       "    <tr>\n",
       "      <th>3</th>\n",
       "      <td>4</td>\n",
       "      <td>85281d0a49f7ac</td>\n",
       "      <td>1777797</td>\n",
       "      <td>2016-06-14 04:00:00.232</td>\n",
       "      <td>2</td>\n",
       "      <td>US&gt;WV&gt;564</td>\n",
       "      <td>WV</td>\n",
       "      <td>05</td>\n",
       "      <td>2016-06-14 04:00:00.232</td>\n",
       "    </tr>\n",
       "    <tr>\n",
       "      <th>4</th>\n",
       "      <td>6</td>\n",
       "      <td>7765b4faae4ad4</td>\n",
       "      <td>1773517</td>\n",
       "      <td>2016-06-14 04:00:00.393</td>\n",
       "      <td>3</td>\n",
       "      <td>US&gt;OH&gt;510</td>\n",
       "      <td>OH</td>\n",
       "      <td>05</td>\n",
       "      <td>2016-06-14 04:00:00.393</td>\n",
       "    </tr>\n",
       "  </tbody>\n",
       "</table>\n",
       "</div>"
      ],
      "text/plain": [
       "   display_id            uuid  document_id               timestamp platform  \\\n",
       "0           1  cb8c55702adb93       379743 2016-06-14 04:00:00.059        3   \n",
       "1           2  79a85fa78311b9      1794259 2016-06-14 04:00:00.079        2   \n",
       "2           3  822932ce3d8757      1179111 2016-06-14 04:00:00.180        2   \n",
       "3           4  85281d0a49f7ac      1777797 2016-06-14 04:00:00.232        2   \n",
       "4           6  7765b4faae4ad4      1773517 2016-06-14 04:00:00.393        3   \n",
       "\n",
       "  geo_location state time          real_timestamp  \n",
       "0    US>SC>519    SC   05 2016-06-14 04:00:00.059  \n",
       "1    US>CA>807    CA   08 2016-06-14 04:00:00.079  \n",
       "2    US>MI>505    MI   05 2016-06-14 04:00:00.180  \n",
       "3    US>WV>564    WV   05 2016-06-14 04:00:00.232  \n",
       "4    US>OH>510    OH   05 2016-06-14 04:00:00.393  "
      ]
     },
     "execution_count": 9,
     "metadata": {},
     "output_type": "execute_result"
    }
   ],
   "source": [
    "# na 없는 행만 추출해서 usa_final_nona 만듦\n",
    "usa_final_nona = usa_final.dropna()\n",
    "usa_final_nona['real_timestamp'] = usa_final_nona['timestamp']\n",
    "# usa_final_nona['time'] = usa_final_nona['time'].astype(int)\n",
    "usa_final_nona.head()\n",
    "# usa_final.loc[usa_final['time'].notnull(), 'time'] = usa_final.loc[usa_final['time'].notnull(), 'time'].apply(int)"
   ]
  },
  {
   "cell_type": "code",
   "execution_count": null,
   "metadata": {},
   "outputs": [],
   "source": [
    "import datetime\n",
    "usa_final_nona['time'] = usa_final_nona['time'].apply(lambda x: usa_final_nona['timestamp'] - datetime.timedelta(hours=int(x)))"
   ]
  },
  {
   "cell_type": "code",
   "execution_count": 44,
   "metadata": {},
   "outputs": [
    {
     "data": {
      "text/plain": [
       "0           10\n",
       "1           16\n",
       "2           10\n",
       "3           10\n",
       "4           10\n",
       "5           14\n",
       "6           10\n",
       "7           10\n",
       "9           12\n",
       "10          12\n",
       "11          14\n",
       "12          10\n",
       "13          10\n",
       "14          10\n",
       "15          16\n",
       "16          20\n",
       "17          10\n",
       "18          10\n",
       "19          10\n",
       "20          16\n",
       "21          10\n",
       "22          16\n",
       "23          10\n",
       "24          12\n",
       "25          10\n",
       "26          10\n",
       "27          10\n",
       "28          16\n",
       "29          16\n",
       "30          10\n",
       "            ..\n",
       "18595420    16\n",
       "18595421    10\n",
       "18595422    12\n",
       "18595423    10\n",
       "18595424    12\n",
       "18595425    16\n",
       "18595427    10\n",
       "18595428    16\n",
       "18595429    14\n",
       "18595430    12\n",
       "18595431    12\n",
       "18595432    16\n",
       "18595433    14\n",
       "18595434    10\n",
       "18595435    16\n",
       "18595436    10\n",
       "18595437    10\n",
       "18595438    16\n",
       "18595439    12\n",
       "18595440    12\n",
       "18595442    10\n",
       "18595443    12\n",
       "18595444    10\n",
       "18595445    12\n",
       "18595446    12\n",
       "18595447    10\n",
       "18595448    12\n",
       "18595449    10\n",
       "18595450    10\n",
       "18595451    12\n",
       "Name: time, Length: 17826668, dtype: int64"
      ]
     },
     "execution_count": 44,
     "metadata": {},
     "output_type": "execute_result"
    }
   ],
   "source": [
    "b = usa_final_nona['time']\n",
    "c = usa_final_nona['time']\n",
    "b+c"
   ]
  },
  {
   "cell_type": "code",
   "execution_count": 1,
   "metadata": {},
   "outputs": [
    {
     "ename": "NameError",
     "evalue": "name 'usa_final_nona' is not defined",
     "output_type": "error",
     "traceback": [
      "\u001b[0;31m---------------------------------------------------------------------------\u001b[0m",
      "\u001b[0;31mNameError\u001b[0m                                 Traceback (most recent call last)",
      "\u001b[0;32m<ipython-input-1-19184c64b00d>\u001b[0m in \u001b[0;36m<module>\u001b[0;34m()\u001b[0m\n\u001b[0;32m----> 1\u001b[0;31m \u001b[0musa_final_nona\u001b[0m\u001b[0;34m[\u001b[0m\u001b[0;34m'time'\u001b[0m\u001b[0;34m]\u001b[0m \u001b[0;34m=\u001b[0m \u001b[0musa_final_nona\u001b[0m\u001b[0;34m[\u001b[0m\u001b[0;34m'time'\u001b[0m\u001b[0;34m]\u001b[0m\u001b[0;34m.\u001b[0m\u001b[0mapply\u001b[0m\u001b[0;34m(\u001b[0m\u001b[0;32mlambda\u001b[0m \u001b[0mx\u001b[0m\u001b[0;34m:\u001b[0m \u001b[0musa_final_nona\u001b[0m\u001b[0;34m[\u001b[0m\u001b[0;34m'timestamp'\u001b[0m\u001b[0;34m]\u001b[0m \u001b[0;34m-\u001b[0m \u001b[0mdatetime\u001b[0m\u001b[0;34m.\u001b[0m\u001b[0mtimedelta\u001b[0m\u001b[0;34m(\u001b[0m\u001b[0mhours\u001b[0m\u001b[0;34m=\u001b[0m\u001b[0mint\u001b[0m\u001b[0;34m(\u001b[0m\u001b[0mx\u001b[0m\u001b[0;34m)\u001b[0m\u001b[0;34m)\u001b[0m\u001b[0;34m)\u001b[0m\u001b[0;34m\u001b[0m\u001b[0m\n\u001b[0m\u001b[1;32m      2\u001b[0m \u001b[0;31m# usa_final_nona['real_timestamp'] = usa_final_nona['timestamp'] + datetime.timedelta(hours=int(usa_final_nona['time']))\u001b[0m\u001b[0;34m\u001b[0m\u001b[0;34m\u001b[0m\u001b[0m\n",
      "\u001b[0;31mNameError\u001b[0m: name 'usa_final_nona' is not defined"
     ]
    }
   ],
   "source": [
    "usa_final_nona['time'] = usa_final_nona['time'].apply(lambda x: usa_final_nona['timestamp'] - datetime.timedelta(hours=int(x)))\n",
    "# usa_final_nona['real_timestamp'] = usa_final_nona['timestamp'] + datetime.timedelta(hours=int(usa_final_nona['time']))"
   ]
  },
  {
   "cell_type": "code",
   "execution_count": 36,
   "metadata": {},
   "outputs": [
    {
     "data": {
      "text/plain": [
       "numpy.int64"
      ]
     },
     "execution_count": 36,
     "metadata": {},
     "output_type": "execute_result"
    }
   ],
   "source": [
    "# time의 type이 numpy.int64이라 자꾸 오류남 -> 아래 for문에서 int() 씌워줌\n",
    "type(usa_final_nona['time'].iloc[3])"
   ]
  },
  {
   "cell_type": "code",
   "execution_count": 33,
   "metadata": {},
   "outputs": [
    {
     "name": "stderr",
     "output_type": "stream",
     "text": [
      "/usr/local/envs/py3env/lib/python3.5/site-packages/ipykernel/__main__.py:1: SettingWithCopyWarning: \n",
      "A value is trying to be set on a copy of a slice from a DataFrame.\n",
      "Try using .loc[row_indexer,col_indexer] = value instead\n",
      "\n",
      "See the caveats in the documentation: http://pandas.pydata.org/pandas-docs/stable/indexing.html#indexing-view-versus-copy\n",
      "  if __name__ == '__main__':\n",
      "/usr/local/envs/py3env/lib/python3.5/site-packages/pandas/core/indexing.py:537: SettingWithCopyWarning: \n",
      "A value is trying to be set on a copy of a slice from a DataFrame.\n",
      "Try using .loc[row_indexer,col_indexer] = value instead\n",
      "\n",
      "See the caveats in the documentation: http://pandas.pydata.org/pandas-docs/stable/indexing.html#indexing-view-versus-copy\n",
      "  self.obj[item] = s\n"
     ]
    },
    {
     "ename": "RecursionError",
     "evalue": "maximum recursion depth exceeded",
     "output_type": "error",
     "traceback": [
      "\u001b[0;31m---------------------------------------------------------------------------\u001b[0m",
      "\u001b[0;31mRecursionError\u001b[0m                            Traceback (most recent call last)",
      "\u001b[0;32m/usr/local/envs/py3env/lib/python3.5/site-packages/IPython/core/formatters.py\u001b[0m in \u001b[0;36m__call__\u001b[0;34m(self, obj)\u001b[0m\n\u001b[1;32m    343\u001b[0m             \u001b[0mmethod\u001b[0m \u001b[0;34m=\u001b[0m \u001b[0mget_real_method\u001b[0m\u001b[0;34m(\u001b[0m\u001b[0mobj\u001b[0m\u001b[0;34m,\u001b[0m \u001b[0mself\u001b[0m\u001b[0;34m.\u001b[0m\u001b[0mprint_method\u001b[0m\u001b[0;34m)\u001b[0m\u001b[0;34m\u001b[0m\u001b[0m\n\u001b[1;32m    344\u001b[0m             \u001b[0;32mif\u001b[0m \u001b[0mmethod\u001b[0m \u001b[0;32mis\u001b[0m \u001b[0;32mnot\u001b[0m \u001b[0;32mNone\u001b[0m\u001b[0;34m:\u001b[0m\u001b[0;34m\u001b[0m\u001b[0m\n\u001b[0;32m--> 345\u001b[0;31m                 \u001b[0;32mreturn\u001b[0m \u001b[0mmethod\u001b[0m\u001b[0;34m(\u001b[0m\u001b[0;34m)\u001b[0m\u001b[0;34m\u001b[0m\u001b[0m\n\u001b[0m\u001b[1;32m    346\u001b[0m             \u001b[0;32mreturn\u001b[0m \u001b[0;32mNone\u001b[0m\u001b[0;34m\u001b[0m\u001b[0m\n\u001b[1;32m    347\u001b[0m         \u001b[0;32melse\u001b[0m\u001b[0;34m:\u001b[0m\u001b[0;34m\u001b[0m\u001b[0m\n",
      "\u001b[0;32m/usr/local/envs/py3env/lib/python3.5/site-packages/pandas/core/frame.py\u001b[0m in \u001b[0;36m_repr_html_\u001b[0;34m(self)\u001b[0m\n\u001b[1;32m    667\u001b[0m \u001b[0;34m\u001b[0m\u001b[0m\n\u001b[1;32m    668\u001b[0m             return self.to_html(max_rows=max_rows, max_cols=max_cols,\n\u001b[0;32m--> 669\u001b[0;31m                                 show_dimensions=show_dimensions, notebook=True)\n\u001b[0m\u001b[1;32m    670\u001b[0m         \u001b[0;32melse\u001b[0m\u001b[0;34m:\u001b[0m\u001b[0;34m\u001b[0m\u001b[0m\n\u001b[1;32m    671\u001b[0m             \u001b[0;32mreturn\u001b[0m \u001b[0;32mNone\u001b[0m\u001b[0;34m\u001b[0m\u001b[0m\n",
      "\u001b[0;32m/usr/local/envs/py3env/lib/python3.5/site-packages/pandas/core/frame.py\u001b[0m in \u001b[0;36mto_html\u001b[0;34m(self, buf, columns, col_space, header, index, na_rep, formatters, float_format, sparsify, index_names, justify, bold_rows, classes, escape, max_rows, max_cols, show_dimensions, notebook, decimal, border)\u001b[0m\n\u001b[1;32m   1732\u001b[0m                                            decimal=decimal)\n\u001b[1;32m   1733\u001b[0m         \u001b[0;31m# TODO: a generic formatter wld b in DataFrameFormatter\u001b[0m\u001b[0;34m\u001b[0m\u001b[0;34m\u001b[0m\u001b[0m\n\u001b[0;32m-> 1734\u001b[0;31m         \u001b[0mformatter\u001b[0m\u001b[0;34m.\u001b[0m\u001b[0mto_html\u001b[0m\u001b[0;34m(\u001b[0m\u001b[0mclasses\u001b[0m\u001b[0;34m=\u001b[0m\u001b[0mclasses\u001b[0m\u001b[0;34m,\u001b[0m \u001b[0mnotebook\u001b[0m\u001b[0;34m=\u001b[0m\u001b[0mnotebook\u001b[0m\u001b[0;34m,\u001b[0m \u001b[0mborder\u001b[0m\u001b[0;34m=\u001b[0m\u001b[0mborder\u001b[0m\u001b[0;34m)\u001b[0m\u001b[0;34m\u001b[0m\u001b[0m\n\u001b[0m\u001b[1;32m   1735\u001b[0m \u001b[0;34m\u001b[0m\u001b[0m\n\u001b[1;32m   1736\u001b[0m         \u001b[0;32mif\u001b[0m \u001b[0mbuf\u001b[0m \u001b[0;32mis\u001b[0m \u001b[0;32mNone\u001b[0m\u001b[0;34m:\u001b[0m\u001b[0;34m\u001b[0m\u001b[0m\n",
      "\u001b[0;32m/usr/local/envs/py3env/lib/python3.5/site-packages/pandas/io/formats/format.py\u001b[0m in \u001b[0;36mto_html\u001b[0;34m(self, classes, notebook, border)\u001b[0m\n\u001b[1;32m    731\u001b[0m                                       border=border)\n\u001b[1;32m    732\u001b[0m         \u001b[0;32mif\u001b[0m \u001b[0mhasattr\u001b[0m\u001b[0;34m(\u001b[0m\u001b[0mself\u001b[0m\u001b[0;34m.\u001b[0m\u001b[0mbuf\u001b[0m\u001b[0;34m,\u001b[0m \u001b[0;34m'write'\u001b[0m\u001b[0;34m)\u001b[0m\u001b[0;34m:\u001b[0m\u001b[0;34m\u001b[0m\u001b[0m\n\u001b[0;32m--> 733\u001b[0;31m             \u001b[0mhtml_renderer\u001b[0m\u001b[0;34m.\u001b[0m\u001b[0mwrite_result\u001b[0m\u001b[0;34m(\u001b[0m\u001b[0mself\u001b[0m\u001b[0;34m.\u001b[0m\u001b[0mbuf\u001b[0m\u001b[0;34m)\u001b[0m\u001b[0;34m\u001b[0m\u001b[0m\n\u001b[0m\u001b[1;32m    734\u001b[0m         \u001b[0;32melif\u001b[0m \u001b[0misinstance\u001b[0m\u001b[0;34m(\u001b[0m\u001b[0mself\u001b[0m\u001b[0;34m.\u001b[0m\u001b[0mbuf\u001b[0m\u001b[0;34m,\u001b[0m \u001b[0mcompat\u001b[0m\u001b[0;34m.\u001b[0m\u001b[0mstring_types\u001b[0m\u001b[0;34m)\u001b[0m\u001b[0;34m:\u001b[0m\u001b[0;34m\u001b[0m\u001b[0m\n\u001b[1;32m    735\u001b[0m             \u001b[0;32mwith\u001b[0m \u001b[0mopen\u001b[0m\u001b[0;34m(\u001b[0m\u001b[0mself\u001b[0m\u001b[0;34m.\u001b[0m\u001b[0mbuf\u001b[0m\u001b[0;34m,\u001b[0m \u001b[0;34m'w'\u001b[0m\u001b[0;34m)\u001b[0m \u001b[0;32mas\u001b[0m \u001b[0mf\u001b[0m\u001b[0;34m:\u001b[0m\u001b[0;34m\u001b[0m\u001b[0m\n",
      "\u001b[0;32m/usr/local/envs/py3env/lib/python3.5/site-packages/pandas/io/formats/format.py\u001b[0m in \u001b[0;36mwrite_result\u001b[0;34m(self, buf)\u001b[0m\n\u001b[1;32m   1214\u001b[0m         \u001b[0mindent\u001b[0m \u001b[0;34m+=\u001b[0m \u001b[0mself\u001b[0m\u001b[0;34m.\u001b[0m\u001b[0mindent_delta\u001b[0m\u001b[0;34m\u001b[0m\u001b[0m\n\u001b[1;32m   1215\u001b[0m         \u001b[0mindent\u001b[0m \u001b[0;34m=\u001b[0m \u001b[0mself\u001b[0m\u001b[0;34m.\u001b[0m\u001b[0m_write_header\u001b[0m\u001b[0;34m(\u001b[0m\u001b[0mindent\u001b[0m\u001b[0;34m)\u001b[0m\u001b[0;34m\u001b[0m\u001b[0m\n\u001b[0;32m-> 1216\u001b[0;31m         \u001b[0mindent\u001b[0m \u001b[0;34m=\u001b[0m \u001b[0mself\u001b[0m\u001b[0;34m.\u001b[0m\u001b[0m_write_body\u001b[0m\u001b[0;34m(\u001b[0m\u001b[0mindent\u001b[0m\u001b[0;34m)\u001b[0m\u001b[0;34m\u001b[0m\u001b[0m\n\u001b[0m\u001b[1;32m   1217\u001b[0m \u001b[0;34m\u001b[0m\u001b[0m\n\u001b[1;32m   1218\u001b[0m         \u001b[0mself\u001b[0m\u001b[0;34m.\u001b[0m\u001b[0mwrite\u001b[0m\u001b[0;34m(\u001b[0m\u001b[0;34m'</table>'\u001b[0m\u001b[0;34m,\u001b[0m \u001b[0mindent\u001b[0m\u001b[0;34m)\u001b[0m\u001b[0;34m\u001b[0m\u001b[0m\n",
      "\u001b[0;32m/usr/local/envs/py3env/lib/python3.5/site-packages/pandas/io/formats/format.py\u001b[0m in \u001b[0;36m_write_body\u001b[0;34m(self, indent)\u001b[0m\n\u001b[1;32m   1370\u001b[0m         \u001b[0mfmt_values\u001b[0m \u001b[0;34m=\u001b[0m \u001b[0;34m{\u001b[0m\u001b[0;34m}\u001b[0m\u001b[0;34m\u001b[0m\u001b[0m\n\u001b[1;32m   1371\u001b[0m         \u001b[0;32mfor\u001b[0m \u001b[0mi\u001b[0m \u001b[0;32min\u001b[0m \u001b[0mrange\u001b[0m\u001b[0;34m(\u001b[0m\u001b[0mmin\u001b[0m\u001b[0;34m(\u001b[0m\u001b[0mlen\u001b[0m\u001b[0;34m(\u001b[0m\u001b[0mself\u001b[0m\u001b[0;34m.\u001b[0m\u001b[0mcolumns\u001b[0m\u001b[0;34m)\u001b[0m\u001b[0;34m,\u001b[0m \u001b[0mself\u001b[0m\u001b[0;34m.\u001b[0m\u001b[0mmax_cols\u001b[0m\u001b[0;34m)\u001b[0m\u001b[0;34m)\u001b[0m\u001b[0;34m:\u001b[0m\u001b[0;34m\u001b[0m\u001b[0m\n\u001b[0;32m-> 1372\u001b[0;31m             \u001b[0mfmt_values\u001b[0m\u001b[0;34m[\u001b[0m\u001b[0mi\u001b[0m\u001b[0;34m]\u001b[0m \u001b[0;34m=\u001b[0m \u001b[0mself\u001b[0m\u001b[0;34m.\u001b[0m\u001b[0mfmt\u001b[0m\u001b[0;34m.\u001b[0m\u001b[0m_format_col\u001b[0m\u001b[0;34m(\u001b[0m\u001b[0mi\u001b[0m\u001b[0;34m)\u001b[0m\u001b[0;34m\u001b[0m\u001b[0m\n\u001b[0m\u001b[1;32m   1373\u001b[0m \u001b[0;34m\u001b[0m\u001b[0m\n\u001b[1;32m   1374\u001b[0m         \u001b[0;31m# write values\u001b[0m\u001b[0;34m\u001b[0m\u001b[0;34m\u001b[0m\u001b[0m\n",
      "\u001b[0;32m/usr/local/envs/py3env/lib/python3.5/site-packages/pandas/io/formats/format.py\u001b[0m in \u001b[0;36m_format_col\u001b[0;34m(self, i)\u001b[0m\n\u001b[1;32m    706\u001b[0m         return format_array(values_to_format, formatter,\n\u001b[1;32m    707\u001b[0m                             \u001b[0mfloat_format\u001b[0m\u001b[0;34m=\u001b[0m\u001b[0mself\u001b[0m\u001b[0;34m.\u001b[0m\u001b[0mfloat_format\u001b[0m\u001b[0;34m,\u001b[0m \u001b[0mna_rep\u001b[0m\u001b[0;34m=\u001b[0m\u001b[0mself\u001b[0m\u001b[0;34m.\u001b[0m\u001b[0mna_rep\u001b[0m\u001b[0;34m,\u001b[0m\u001b[0;34m\u001b[0m\u001b[0m\n\u001b[0;32m--> 708\u001b[0;31m                             space=self.col_space, decimal=self.decimal)\n\u001b[0m\u001b[1;32m    709\u001b[0m \u001b[0;34m\u001b[0m\u001b[0m\n\u001b[1;32m    710\u001b[0m     \u001b[0;32mdef\u001b[0m \u001b[0mto_html\u001b[0m\u001b[0;34m(\u001b[0m\u001b[0mself\u001b[0m\u001b[0;34m,\u001b[0m \u001b[0mclasses\u001b[0m\u001b[0;34m=\u001b[0m\u001b[0;32mNone\u001b[0m\u001b[0;34m,\u001b[0m \u001b[0mnotebook\u001b[0m\u001b[0;34m=\u001b[0m\u001b[0;32mFalse\u001b[0m\u001b[0;34m,\u001b[0m \u001b[0mborder\u001b[0m\u001b[0;34m=\u001b[0m\u001b[0;32mNone\u001b[0m\u001b[0;34m)\u001b[0m\u001b[0;34m:\u001b[0m\u001b[0;34m\u001b[0m\u001b[0m\n",
      "\u001b[0;32m/usr/local/envs/py3env/lib/python3.5/site-packages/pandas/io/formats/format.py\u001b[0m in \u001b[0;36mformat_array\u001b[0;34m(values, formatter, float_format, na_rep, digits, space, justify, decimal)\u001b[0m\n\u001b[1;32m   1820\u001b[0m                         space=space, justify=justify, decimal=decimal)\n\u001b[1;32m   1821\u001b[0m \u001b[0;34m\u001b[0m\u001b[0m\n\u001b[0;32m-> 1822\u001b[0;31m     \u001b[0;32mreturn\u001b[0m \u001b[0mfmt_obj\u001b[0m\u001b[0;34m.\u001b[0m\u001b[0mget_result\u001b[0m\u001b[0;34m(\u001b[0m\u001b[0;34m)\u001b[0m\u001b[0;34m\u001b[0m\u001b[0m\n\u001b[0m\u001b[1;32m   1823\u001b[0m \u001b[0;34m\u001b[0m\u001b[0m\n\u001b[1;32m   1824\u001b[0m \u001b[0;34m\u001b[0m\u001b[0m\n",
      "\u001b[0;32m/usr/local/envs/py3env/lib/python3.5/site-packages/pandas/io/formats/format.py\u001b[0m in \u001b[0;36mget_result\u001b[0;34m(self)\u001b[0m\n\u001b[1;32m   1840\u001b[0m \u001b[0;34m\u001b[0m\u001b[0m\n\u001b[1;32m   1841\u001b[0m     \u001b[0;32mdef\u001b[0m \u001b[0mget_result\u001b[0m\u001b[0;34m(\u001b[0m\u001b[0mself\u001b[0m\u001b[0;34m)\u001b[0m\u001b[0;34m:\u001b[0m\u001b[0;34m\u001b[0m\u001b[0m\n\u001b[0;32m-> 1842\u001b[0;31m         \u001b[0mfmt_values\u001b[0m \u001b[0;34m=\u001b[0m \u001b[0mself\u001b[0m\u001b[0;34m.\u001b[0m\u001b[0m_format_strings\u001b[0m\u001b[0;34m(\u001b[0m\u001b[0;34m)\u001b[0m\u001b[0;34m\u001b[0m\u001b[0m\n\u001b[0m\u001b[1;32m   1843\u001b[0m         \u001b[0;32mreturn\u001b[0m \u001b[0m_make_fixed_width\u001b[0m\u001b[0;34m(\u001b[0m\u001b[0mfmt_values\u001b[0m\u001b[0;34m,\u001b[0m \u001b[0mself\u001b[0m\u001b[0;34m.\u001b[0m\u001b[0mjustify\u001b[0m\u001b[0;34m)\u001b[0m\u001b[0;34m\u001b[0m\u001b[0m\n\u001b[1;32m   1844\u001b[0m \u001b[0;34m\u001b[0m\u001b[0m\n",
      "\u001b[0;32m/usr/local/envs/py3env/lib/python3.5/site-packages/pandas/io/formats/format.py\u001b[0m in \u001b[0;36m_format_strings\u001b[0;34m(self)\u001b[0m\n\u001b[1;32m   1886\u001b[0m                 \u001b[0mfmt_values\u001b[0m\u001b[0;34m.\u001b[0m\u001b[0mappend\u001b[0m\u001b[0;34m(\u001b[0m\u001b[0mfloat_format\u001b[0m\u001b[0;34m(\u001b[0m\u001b[0mv\u001b[0m\u001b[0;34m)\u001b[0m\u001b[0;34m)\u001b[0m\u001b[0;34m\u001b[0m\u001b[0m\n\u001b[1;32m   1887\u001b[0m             \u001b[0;32melse\u001b[0m\u001b[0;34m:\u001b[0m\u001b[0;34m\u001b[0m\u001b[0m\n\u001b[0;32m-> 1888\u001b[0;31m                 \u001b[0mfmt_values\u001b[0m\u001b[0;34m.\u001b[0m\u001b[0mappend\u001b[0m\u001b[0;34m(\u001b[0m\u001b[0;34mu' {v}'\u001b[0m\u001b[0;34m.\u001b[0m\u001b[0mformat\u001b[0m\u001b[0;34m(\u001b[0m\u001b[0mv\u001b[0m\u001b[0;34m=\u001b[0m\u001b[0m_format\u001b[0m\u001b[0;34m(\u001b[0m\u001b[0mv\u001b[0m\u001b[0;34m)\u001b[0m\u001b[0;34m)\u001b[0m\u001b[0;34m)\u001b[0m\u001b[0;34m\u001b[0m\u001b[0m\n\u001b[0m\u001b[1;32m   1889\u001b[0m \u001b[0;34m\u001b[0m\u001b[0m\n\u001b[1;32m   1890\u001b[0m         \u001b[0;32mreturn\u001b[0m \u001b[0mfmt_values\u001b[0m\u001b[0;34m\u001b[0m\u001b[0m\n",
      "\u001b[0;32m/usr/local/envs/py3env/lib/python3.5/site-packages/pandas/io/formats/format.py\u001b[0m in \u001b[0;36m_format\u001b[0;34m(x)\u001b[0m\n\u001b[1;32m   1868\u001b[0m             \u001b[0;32melse\u001b[0m\u001b[0;34m:\u001b[0m\u001b[0;34m\u001b[0m\u001b[0m\n\u001b[1;32m   1869\u001b[0m                 \u001b[0;31m# object dtype\u001b[0m\u001b[0;34m\u001b[0m\u001b[0;34m\u001b[0m\u001b[0m\n\u001b[0;32m-> 1870\u001b[0;31m                 \u001b[0;32mreturn\u001b[0m \u001b[0;34mu'{x}'\u001b[0m\u001b[0;34m.\u001b[0m\u001b[0mformat\u001b[0m\u001b[0;34m(\u001b[0m\u001b[0mx\u001b[0m\u001b[0;34m=\u001b[0m\u001b[0mformatter\u001b[0m\u001b[0;34m(\u001b[0m\u001b[0mx\u001b[0m\u001b[0;34m)\u001b[0m\u001b[0;34m)\u001b[0m\u001b[0;34m\u001b[0m\u001b[0m\n\u001b[0m\u001b[1;32m   1871\u001b[0m \u001b[0;34m\u001b[0m\u001b[0m\n\u001b[1;32m   1872\u001b[0m         \u001b[0mvals\u001b[0m \u001b[0;34m=\u001b[0m \u001b[0mself\u001b[0m\u001b[0;34m.\u001b[0m\u001b[0mvalues\u001b[0m\u001b[0;34m\u001b[0m\u001b[0m\n",
      "\u001b[0;32m/usr/local/envs/py3env/lib/python3.5/site-packages/pandas/io/formats/format.py\u001b[0m in \u001b[0;36m<lambda>\u001b[0;34m(x)\u001b[0m\n\u001b[1;32m   1855\u001b[0m         formatter = (\n\u001b[1;32m   1856\u001b[0m             \u001b[0mself\u001b[0m\u001b[0;34m.\u001b[0m\u001b[0mformatter\u001b[0m \u001b[0;32mif\u001b[0m \u001b[0mself\u001b[0m\u001b[0;34m.\u001b[0m\u001b[0mformatter\u001b[0m \u001b[0;32mis\u001b[0m \u001b[0;32mnot\u001b[0m \u001b[0;32mNone\u001b[0m \u001b[0;32melse\u001b[0m\u001b[0;34m\u001b[0m\u001b[0m\n\u001b[0;32m-> 1857\u001b[0;31m             (lambda x: pprint_thing(x, escape_chars=('\\t', '\\r', '\\n'))))\n\u001b[0m\u001b[1;32m   1858\u001b[0m \u001b[0;34m\u001b[0m\u001b[0m\n\u001b[1;32m   1859\u001b[0m         \u001b[0;32mdef\u001b[0m \u001b[0m_format\u001b[0m\u001b[0;34m(\u001b[0m\u001b[0mx\u001b[0m\u001b[0;34m)\u001b[0m\u001b[0;34m:\u001b[0m\u001b[0;34m\u001b[0m\u001b[0m\n",
      "\u001b[0;32m/usr/local/envs/py3env/lib/python3.5/site-packages/pandas/io/formats/printing.py\u001b[0m in \u001b[0;36mpprint_thing\u001b[0;34m(thing, _nest_lvl, escape_chars, default_escapes, quote_strings, max_seq_items)\u001b[0m\n\u001b[1;32m    228\u001b[0m         \u001b[0mresult\u001b[0m \u001b[0;34m=\u001b[0m \u001b[0mfmt\u001b[0m\u001b[0;34m.\u001b[0m\u001b[0mformat\u001b[0m\u001b[0;34m(\u001b[0m\u001b[0mthing\u001b[0m\u001b[0;34m=\u001b[0m\u001b[0mas_escaped_unicode\u001b[0m\u001b[0;34m(\u001b[0m\u001b[0mthing\u001b[0m\u001b[0;34m)\u001b[0m\u001b[0;34m)\u001b[0m\u001b[0;34m\u001b[0m\u001b[0m\n\u001b[1;32m    229\u001b[0m     \u001b[0;32melse\u001b[0m\u001b[0;34m:\u001b[0m\u001b[0;34m\u001b[0m\u001b[0m\n\u001b[0;32m--> 230\u001b[0;31m         \u001b[0mresult\u001b[0m \u001b[0;34m=\u001b[0m \u001b[0mas_escaped_unicode\u001b[0m\u001b[0;34m(\u001b[0m\u001b[0mthing\u001b[0m\u001b[0;34m)\u001b[0m\u001b[0;34m\u001b[0m\u001b[0m\n\u001b[0m\u001b[1;32m    231\u001b[0m \u001b[0;34m\u001b[0m\u001b[0m\n\u001b[1;32m    232\u001b[0m     \u001b[0;32mreturn\u001b[0m \u001b[0mcompat\u001b[0m\u001b[0;34m.\u001b[0m\u001b[0mtext_type\u001b[0m\u001b[0;34m(\u001b[0m\u001b[0mresult\u001b[0m\u001b[0;34m)\u001b[0m  \u001b[0;31m# always unicode\u001b[0m\u001b[0;34m\u001b[0m\u001b[0m\n",
      "\u001b[0;32m/usr/local/envs/py3env/lib/python3.5/site-packages/pandas/io/formats/printing.py\u001b[0m in \u001b[0;36mas_escaped_unicode\u001b[0;34m(thing, escape_chars)\u001b[0m\n\u001b[1;32m    191\u001b[0m \u001b[0;34m\u001b[0m\u001b[0m\n\u001b[1;32m    192\u001b[0m         \u001b[0;32mtry\u001b[0m\u001b[0;34m:\u001b[0m\u001b[0;34m\u001b[0m\u001b[0m\n\u001b[0;32m--> 193\u001b[0;31m             \u001b[0mresult\u001b[0m \u001b[0;34m=\u001b[0m \u001b[0mcompat\u001b[0m\u001b[0;34m.\u001b[0m\u001b[0mtext_type\u001b[0m\u001b[0;34m(\u001b[0m\u001b[0mthing\u001b[0m\u001b[0;34m)\u001b[0m  \u001b[0;31m# we should try this first\u001b[0m\u001b[0;34m\u001b[0m\u001b[0m\n\u001b[0m\u001b[1;32m    194\u001b[0m         \u001b[0;32mexcept\u001b[0m \u001b[0mUnicodeDecodeError\u001b[0m\u001b[0;34m:\u001b[0m\u001b[0;34m\u001b[0m\u001b[0m\n\u001b[1;32m    195\u001b[0m             \u001b[0;31m# either utf-8 or we replace errors\u001b[0m\u001b[0;34m\u001b[0m\u001b[0;34m\u001b[0m\u001b[0m\n",
      "\u001b[0;32m/usr/local/envs/py3env/lib/python3.5/site-packages/pandas/core/base.py\u001b[0m in \u001b[0;36m__repr__\u001b[0;34m(self)\u001b[0m\n\u001b[1;32m     78\u001b[0m         \u001b[0mYields\u001b[0m \u001b[0mBytestring\u001b[0m \u001b[0;32min\u001b[0m \u001b[0mPy2\u001b[0m\u001b[0;34m,\u001b[0m \u001b[0mUnicode\u001b[0m \u001b[0mString\u001b[0m \u001b[0;32min\u001b[0m \u001b[0mpy3\u001b[0m\u001b[0;34m.\u001b[0m\u001b[0;34m\u001b[0m\u001b[0m\n\u001b[1;32m     79\u001b[0m         \"\"\"\n\u001b[0;32m---> 80\u001b[0;31m         \u001b[0;32mreturn\u001b[0m \u001b[0mstr\u001b[0m\u001b[0;34m(\u001b[0m\u001b[0mself\u001b[0m\u001b[0;34m)\u001b[0m\u001b[0;34m\u001b[0m\u001b[0m\n\u001b[0m\u001b[1;32m     81\u001b[0m \u001b[0;34m\u001b[0m\u001b[0m\n\u001b[1;32m     82\u001b[0m \u001b[0;34m\u001b[0m\u001b[0m\n",
      "\u001b[0;32m/usr/local/envs/py3env/lib/python3.5/site-packages/pandas/core/base.py\u001b[0m in \u001b[0;36m__str__\u001b[0;34m(self)\u001b[0m\n\u001b[1;32m     57\u001b[0m \u001b[0;34m\u001b[0m\u001b[0m\n\u001b[1;32m     58\u001b[0m         \u001b[0;32mif\u001b[0m \u001b[0mcompat\u001b[0m\u001b[0;34m.\u001b[0m\u001b[0mPY3\u001b[0m\u001b[0;34m:\u001b[0m\u001b[0;34m\u001b[0m\u001b[0m\n\u001b[0;32m---> 59\u001b[0;31m             \u001b[0;32mreturn\u001b[0m \u001b[0mself\u001b[0m\u001b[0;34m.\u001b[0m\u001b[0m__unicode__\u001b[0m\u001b[0;34m(\u001b[0m\u001b[0;34m)\u001b[0m\u001b[0;34m\u001b[0m\u001b[0m\n\u001b[0m\u001b[1;32m     60\u001b[0m         \u001b[0;32mreturn\u001b[0m \u001b[0mself\u001b[0m\u001b[0;34m.\u001b[0m\u001b[0m__bytes__\u001b[0m\u001b[0;34m(\u001b[0m\u001b[0;34m)\u001b[0m\u001b[0;34m\u001b[0m\u001b[0m\n\u001b[1;32m     61\u001b[0m \u001b[0;34m\u001b[0m\u001b[0m\n",
      "\u001b[0;32m/usr/local/envs/py3env/lib/python3.5/site-packages/pandas/core/series.py\u001b[0m in \u001b[0;36m__unicode__\u001b[0;34m(self)\u001b[0m\n\u001b[1;32m   1064\u001b[0m \u001b[0;34m\u001b[0m\u001b[0m\n\u001b[1;32m   1065\u001b[0m         self.to_string(buf=buf, name=self.name, dtype=self.dtype,\n\u001b[0;32m-> 1066\u001b[0;31m                        max_rows=max_rows, length=show_dimensions)\n\u001b[0m\u001b[1;32m   1067\u001b[0m         \u001b[0mresult\u001b[0m \u001b[0;34m=\u001b[0m \u001b[0mbuf\u001b[0m\u001b[0;34m.\u001b[0m\u001b[0mgetvalue\u001b[0m\u001b[0;34m(\u001b[0m\u001b[0;34m)\u001b[0m\u001b[0;34m\u001b[0m\u001b[0m\n\u001b[1;32m   1068\u001b[0m \u001b[0;34m\u001b[0m\u001b[0m\n",
      "\u001b[0;32m/usr/local/envs/py3env/lib/python3.5/site-packages/pandas/core/series.py\u001b[0m in \u001b[0;36mto_string\u001b[0;34m(self, buf, na_rep, float_format, header, index, length, dtype, name, max_rows)\u001b[0m\n\u001b[1;32m   1108\u001b[0m                                         \u001b[0mfloat_format\u001b[0m\u001b[0;34m=\u001b[0m\u001b[0mfloat_format\u001b[0m\u001b[0;34m,\u001b[0m\u001b[0;34m\u001b[0m\u001b[0m\n\u001b[1;32m   1109\u001b[0m                                         max_rows=max_rows)\n\u001b[0;32m-> 1110\u001b[0;31m         \u001b[0mresult\u001b[0m \u001b[0;34m=\u001b[0m \u001b[0mformatter\u001b[0m\u001b[0;34m.\u001b[0m\u001b[0mto_string\u001b[0m\u001b[0;34m(\u001b[0m\u001b[0;34m)\u001b[0m\u001b[0;34m\u001b[0m\u001b[0m\n\u001b[0m\u001b[1;32m   1111\u001b[0m \u001b[0;34m\u001b[0m\u001b[0m\n\u001b[1;32m   1112\u001b[0m         \u001b[0;31m# catch contract violations\u001b[0m\u001b[0;34m\u001b[0m\u001b[0;34m\u001b[0m\u001b[0m\n",
      "\u001b[0;32m/usr/local/envs/py3env/lib/python3.5/site-packages/pandas/io/formats/format.py\u001b[0m in \u001b[0;36mto_string\u001b[0;34m(self)\u001b[0m\n\u001b[1;32m    257\u001b[0m \u001b[0;34m\u001b[0m\u001b[0m\n\u001b[1;32m    258\u001b[0m         \u001b[0mfmt_index\u001b[0m\u001b[0;34m,\u001b[0m \u001b[0mhave_header\u001b[0m \u001b[0;34m=\u001b[0m \u001b[0mself\u001b[0m\u001b[0;34m.\u001b[0m\u001b[0m_get_formatted_index\u001b[0m\u001b[0;34m(\u001b[0m\u001b[0;34m)\u001b[0m\u001b[0;34m\u001b[0m\u001b[0m\n\u001b[0;32m--> 259\u001b[0;31m         \u001b[0mfmt_values\u001b[0m \u001b[0;34m=\u001b[0m \u001b[0mself\u001b[0m\u001b[0;34m.\u001b[0m\u001b[0m_get_formatted_values\u001b[0m\u001b[0;34m(\u001b[0m\u001b[0;34m)\u001b[0m\u001b[0;34m\u001b[0m\u001b[0m\n\u001b[0m\u001b[1;32m    260\u001b[0m \u001b[0;34m\u001b[0m\u001b[0m\n\u001b[1;32m    261\u001b[0m         \u001b[0;32mif\u001b[0m \u001b[0mself\u001b[0m\u001b[0;34m.\u001b[0m\u001b[0mtruncate_v\u001b[0m\u001b[0;34m:\u001b[0m\u001b[0;34m\u001b[0m\u001b[0m\n",
      "\u001b[0;32m/usr/local/envs/py3env/lib/python3.5/site-packages/pandas/io/formats/format.py\u001b[0m in \u001b[0;36m_get_formatted_values\u001b[0;34m(self)\u001b[0m\n\u001b[1;32m    247\u001b[0m         \u001b[0mvalues_to_format\u001b[0m \u001b[0;34m=\u001b[0m \u001b[0mself\u001b[0m\u001b[0;34m.\u001b[0m\u001b[0mtr_series\u001b[0m\u001b[0;34m.\u001b[0m\u001b[0m_formatting_values\u001b[0m\u001b[0;34m(\u001b[0m\u001b[0;34m)\u001b[0m\u001b[0;34m\u001b[0m\u001b[0m\n\u001b[1;32m    248\u001b[0m         return format_array(values_to_format, None,\n\u001b[0;32m--> 249\u001b[0;31m                             float_format=self.float_format, na_rep=self.na_rep)\n\u001b[0m\u001b[1;32m    250\u001b[0m \u001b[0;34m\u001b[0m\u001b[0m\n\u001b[1;32m    251\u001b[0m     \u001b[0;32mdef\u001b[0m \u001b[0mto_string\u001b[0m\u001b[0;34m(\u001b[0m\u001b[0mself\u001b[0m\u001b[0;34m)\u001b[0m\u001b[0;34m:\u001b[0m\u001b[0;34m\u001b[0m\u001b[0m\n",
      "... last 13 frames repeated, from the frame below ...\n",
      "\u001b[0;32m/usr/local/envs/py3env/lib/python3.5/site-packages/pandas/io/formats/format.py\u001b[0m in \u001b[0;36mformat_array\u001b[0;34m(values, formatter, float_format, na_rep, digits, space, justify, decimal)\u001b[0m\n\u001b[1;32m   1820\u001b[0m                         space=space, justify=justify, decimal=decimal)\n\u001b[1;32m   1821\u001b[0m \u001b[0;34m\u001b[0m\u001b[0m\n\u001b[0;32m-> 1822\u001b[0;31m     \u001b[0;32mreturn\u001b[0m \u001b[0mfmt_obj\u001b[0m\u001b[0;34m.\u001b[0m\u001b[0mget_result\u001b[0m\u001b[0;34m(\u001b[0m\u001b[0;34m)\u001b[0m\u001b[0;34m\u001b[0m\u001b[0m\n\u001b[0m\u001b[1;32m   1823\u001b[0m \u001b[0;34m\u001b[0m\u001b[0m\n\u001b[1;32m   1824\u001b[0m \u001b[0;34m\u001b[0m\u001b[0m\n",
      "\u001b[0;31mRecursionError\u001b[0m: maximum recursion depth exceeded"
     ]
    },
    {
     "ename": "RecursionError",
     "evalue": "maximum recursion depth exceeded",
     "output_type": "error",
     "traceback": [
      "\u001b[0;31m---------------------------------------------------------------------------\u001b[0m",
      "\u001b[0;31mRecursionError\u001b[0m                            Traceback (most recent call last)",
      "\u001b[0;32m/usr/local/envs/py3env/lib/python3.5/site-packages/IPython/core/formatters.py\u001b[0m in \u001b[0;36m__call__\u001b[0;34m(self, obj)\u001b[0m\n\u001b[1;32m    700\u001b[0m                 \u001b[0mtype_pprinters\u001b[0m\u001b[0;34m=\u001b[0m\u001b[0mself\u001b[0m\u001b[0;34m.\u001b[0m\u001b[0mtype_printers\u001b[0m\u001b[0;34m,\u001b[0m\u001b[0;34m\u001b[0m\u001b[0m\n\u001b[1;32m    701\u001b[0m                 deferred_pprinters=self.deferred_printers)\n\u001b[0;32m--> 702\u001b[0;31m             \u001b[0mprinter\u001b[0m\u001b[0;34m.\u001b[0m\u001b[0mpretty\u001b[0m\u001b[0;34m(\u001b[0m\u001b[0mobj\u001b[0m\u001b[0;34m)\u001b[0m\u001b[0;34m\u001b[0m\u001b[0m\n\u001b[0m\u001b[1;32m    703\u001b[0m             \u001b[0mprinter\u001b[0m\u001b[0;34m.\u001b[0m\u001b[0mflush\u001b[0m\u001b[0;34m(\u001b[0m\u001b[0;34m)\u001b[0m\u001b[0;34m\u001b[0m\u001b[0m\n\u001b[1;32m    704\u001b[0m             \u001b[0;32mreturn\u001b[0m \u001b[0mstream\u001b[0m\u001b[0;34m.\u001b[0m\u001b[0mgetvalue\u001b[0m\u001b[0;34m(\u001b[0m\u001b[0;34m)\u001b[0m\u001b[0;34m\u001b[0m\u001b[0m\n",
      "\u001b[0;32m/usr/local/envs/py3env/lib/python3.5/site-packages/IPython/lib/pretty.py\u001b[0m in \u001b[0;36mpretty\u001b[0;34m(self, obj)\u001b[0m\n\u001b[1;32m    398\u001b[0m                         \u001b[0;32mif\u001b[0m \u001b[0mcls\u001b[0m \u001b[0;32mis\u001b[0m \u001b[0;32mnot\u001b[0m \u001b[0mobject\u001b[0m\u001b[0;31m \u001b[0m\u001b[0;31m\\\u001b[0m\u001b[0;34m\u001b[0m\u001b[0m\n\u001b[1;32m    399\u001b[0m                                 \u001b[0;32mand\u001b[0m \u001b[0mcallable\u001b[0m\u001b[0;34m(\u001b[0m\u001b[0mcls\u001b[0m\u001b[0;34m.\u001b[0m\u001b[0m__dict__\u001b[0m\u001b[0;34m.\u001b[0m\u001b[0mget\u001b[0m\u001b[0;34m(\u001b[0m\u001b[0;34m'__repr__'\u001b[0m\u001b[0;34m)\u001b[0m\u001b[0;34m)\u001b[0m\u001b[0;34m:\u001b[0m\u001b[0;34m\u001b[0m\u001b[0m\n\u001b[0;32m--> 400\u001b[0;31m                             \u001b[0;32mreturn\u001b[0m \u001b[0m_repr_pprint\u001b[0m\u001b[0;34m(\u001b[0m\u001b[0mobj\u001b[0m\u001b[0;34m,\u001b[0m \u001b[0mself\u001b[0m\u001b[0;34m,\u001b[0m \u001b[0mcycle\u001b[0m\u001b[0;34m)\u001b[0m\u001b[0;34m\u001b[0m\u001b[0m\n\u001b[0m\u001b[1;32m    401\u001b[0m \u001b[0;34m\u001b[0m\u001b[0m\n\u001b[1;32m    402\u001b[0m             \u001b[0;32mreturn\u001b[0m \u001b[0m_default_pprint\u001b[0m\u001b[0;34m(\u001b[0m\u001b[0mobj\u001b[0m\u001b[0;34m,\u001b[0m \u001b[0mself\u001b[0m\u001b[0;34m,\u001b[0m \u001b[0mcycle\u001b[0m\u001b[0;34m)\u001b[0m\u001b[0;34m\u001b[0m\u001b[0m\n",
      "\u001b[0;32m/usr/local/envs/py3env/lib/python3.5/site-packages/IPython/lib/pretty.py\u001b[0m in \u001b[0;36m_repr_pprint\u001b[0;34m(obj, p, cycle)\u001b[0m\n\u001b[1;32m    693\u001b[0m     \u001b[0;34m\"\"\"A pprint that just redirects to the normal repr function.\"\"\"\u001b[0m\u001b[0;34m\u001b[0m\u001b[0m\n\u001b[1;32m    694\u001b[0m     \u001b[0;31m# Find newlines and replace them with p.break_()\u001b[0m\u001b[0;34m\u001b[0m\u001b[0;34m\u001b[0m\u001b[0m\n\u001b[0;32m--> 695\u001b[0;31m     \u001b[0moutput\u001b[0m \u001b[0;34m=\u001b[0m \u001b[0mrepr\u001b[0m\u001b[0;34m(\u001b[0m\u001b[0mobj\u001b[0m\u001b[0;34m)\u001b[0m\u001b[0;34m\u001b[0m\u001b[0m\n\u001b[0m\u001b[1;32m    696\u001b[0m     \u001b[0;32mfor\u001b[0m \u001b[0midx\u001b[0m\u001b[0;34m,\u001b[0m\u001b[0moutput_line\u001b[0m \u001b[0;32min\u001b[0m \u001b[0menumerate\u001b[0m\u001b[0;34m(\u001b[0m\u001b[0moutput\u001b[0m\u001b[0;34m.\u001b[0m\u001b[0msplitlines\u001b[0m\u001b[0;34m(\u001b[0m\u001b[0;34m)\u001b[0m\u001b[0;34m)\u001b[0m\u001b[0;34m:\u001b[0m\u001b[0;34m\u001b[0m\u001b[0m\n\u001b[1;32m    697\u001b[0m         \u001b[0;32mif\u001b[0m \u001b[0midx\u001b[0m\u001b[0;34m:\u001b[0m\u001b[0;34m\u001b[0m\u001b[0m\n",
      "\u001b[0;32m/usr/local/envs/py3env/lib/python3.5/site-packages/pandas/core/base.py\u001b[0m in \u001b[0;36m__repr__\u001b[0;34m(self)\u001b[0m\n\u001b[1;32m     78\u001b[0m         \u001b[0mYields\u001b[0m \u001b[0mBytestring\u001b[0m \u001b[0;32min\u001b[0m \u001b[0mPy2\u001b[0m\u001b[0;34m,\u001b[0m \u001b[0mUnicode\u001b[0m \u001b[0mString\u001b[0m \u001b[0;32min\u001b[0m \u001b[0mpy3\u001b[0m\u001b[0;34m.\u001b[0m\u001b[0;34m\u001b[0m\u001b[0m\n\u001b[1;32m     79\u001b[0m         \"\"\"\n\u001b[0;32m---> 80\u001b[0;31m         \u001b[0;32mreturn\u001b[0m \u001b[0mstr\u001b[0m\u001b[0;34m(\u001b[0m\u001b[0mself\u001b[0m\u001b[0;34m)\u001b[0m\u001b[0;34m\u001b[0m\u001b[0m\n\u001b[0m\u001b[1;32m     81\u001b[0m \u001b[0;34m\u001b[0m\u001b[0m\n\u001b[1;32m     82\u001b[0m \u001b[0;34m\u001b[0m\u001b[0m\n",
      "\u001b[0;32m/usr/local/envs/py3env/lib/python3.5/site-packages/pandas/core/base.py\u001b[0m in \u001b[0;36m__str__\u001b[0;34m(self)\u001b[0m\n\u001b[1;32m     57\u001b[0m \u001b[0;34m\u001b[0m\u001b[0m\n\u001b[1;32m     58\u001b[0m         \u001b[0;32mif\u001b[0m \u001b[0mcompat\u001b[0m\u001b[0;34m.\u001b[0m\u001b[0mPY3\u001b[0m\u001b[0;34m:\u001b[0m\u001b[0;34m\u001b[0m\u001b[0m\n\u001b[0;32m---> 59\u001b[0;31m             \u001b[0;32mreturn\u001b[0m \u001b[0mself\u001b[0m\u001b[0;34m.\u001b[0m\u001b[0m__unicode__\u001b[0m\u001b[0;34m(\u001b[0m\u001b[0;34m)\u001b[0m\u001b[0;34m\u001b[0m\u001b[0m\n\u001b[0m\u001b[1;32m     60\u001b[0m         \u001b[0;32mreturn\u001b[0m \u001b[0mself\u001b[0m\u001b[0;34m.\u001b[0m\u001b[0m__bytes__\u001b[0m\u001b[0;34m(\u001b[0m\u001b[0;34m)\u001b[0m\u001b[0;34m\u001b[0m\u001b[0m\n\u001b[1;32m     61\u001b[0m \u001b[0;34m\u001b[0m\u001b[0m\n",
      "\u001b[0;32m/usr/local/envs/py3env/lib/python3.5/site-packages/pandas/core/frame.py\u001b[0m in \u001b[0;36m__unicode__\u001b[0;34m(self)\u001b[0m\n\u001b[1;32m    634\u001b[0m             \u001b[0mwidth\u001b[0m \u001b[0;34m=\u001b[0m \u001b[0;32mNone\u001b[0m\u001b[0;34m\u001b[0m\u001b[0m\n\u001b[1;32m    635\u001b[0m         self.to_string(buf=buf, max_rows=max_rows, max_cols=max_cols,\n\u001b[0;32m--> 636\u001b[0;31m                        line_width=width, show_dimensions=show_dimensions)\n\u001b[0m\u001b[1;32m    637\u001b[0m \u001b[0;34m\u001b[0m\u001b[0m\n\u001b[1;32m    638\u001b[0m         \u001b[0;32mreturn\u001b[0m \u001b[0mbuf\u001b[0m\u001b[0;34m.\u001b[0m\u001b[0mgetvalue\u001b[0m\u001b[0;34m(\u001b[0m\u001b[0;34m)\u001b[0m\u001b[0;34m\u001b[0m\u001b[0m\n",
      "\u001b[0;32m/usr/local/envs/py3env/lib/python3.5/site-packages/pandas/core/frame.py\u001b[0m in \u001b[0;36mto_string\u001b[0;34m(self, buf, columns, col_space, header, index, na_rep, formatters, float_format, sparsify, index_names, justify, line_width, max_rows, max_cols, show_dimensions)\u001b[0m\n\u001b[1;32m   1673\u001b[0m                                            \u001b[0mmax_cols\u001b[0m\u001b[0;34m=\u001b[0m\u001b[0mmax_cols\u001b[0m\u001b[0;34m,\u001b[0m\u001b[0;34m\u001b[0m\u001b[0m\n\u001b[1;32m   1674\u001b[0m                                            show_dimensions=show_dimensions)\n\u001b[0;32m-> 1675\u001b[0;31m         \u001b[0mformatter\u001b[0m\u001b[0;34m.\u001b[0m\u001b[0mto_string\u001b[0m\u001b[0;34m(\u001b[0m\u001b[0;34m)\u001b[0m\u001b[0;34m\u001b[0m\u001b[0m\n\u001b[0m\u001b[1;32m   1676\u001b[0m \u001b[0;34m\u001b[0m\u001b[0m\n\u001b[1;32m   1677\u001b[0m         \u001b[0;32mif\u001b[0m \u001b[0mbuf\u001b[0m \u001b[0;32mis\u001b[0m \u001b[0;32mNone\u001b[0m\u001b[0;34m:\u001b[0m\u001b[0;34m\u001b[0m\u001b[0m\n",
      "\u001b[0;32m/usr/local/envs/py3env/lib/python3.5/site-packages/pandas/io/formats/format.py\u001b[0m in \u001b[0;36mto_string\u001b[0;34m(self)\u001b[0m\n\u001b[1;32m    595\u001b[0m         \u001b[0;32melse\u001b[0m\u001b[0;34m:\u001b[0m\u001b[0;34m\u001b[0m\u001b[0m\n\u001b[1;32m    596\u001b[0m \u001b[0;34m\u001b[0m\u001b[0m\n\u001b[0;32m--> 597\u001b[0;31m             \u001b[0mstrcols\u001b[0m \u001b[0;34m=\u001b[0m \u001b[0mself\u001b[0m\u001b[0;34m.\u001b[0m\u001b[0m_to_str_columns\u001b[0m\u001b[0;34m(\u001b[0m\u001b[0;34m)\u001b[0m\u001b[0;34m\u001b[0m\u001b[0m\n\u001b[0m\u001b[1;32m    598\u001b[0m             \u001b[0;32mif\u001b[0m \u001b[0mself\u001b[0m\u001b[0;34m.\u001b[0m\u001b[0mline_width\u001b[0m \u001b[0;32mis\u001b[0m \u001b[0;32mNone\u001b[0m\u001b[0;34m:\u001b[0m  \u001b[0;31m# no need to wrap around just print\u001b[0m\u001b[0;34m\u001b[0m\u001b[0m\n\u001b[1;32m    599\u001b[0m                 \u001b[0;31m# the whole frame\u001b[0m\u001b[0;34m\u001b[0m\u001b[0;34m\u001b[0m\u001b[0m\n",
      "\u001b[0;32m/usr/local/envs/py3env/lib/python3.5/site-packages/pandas/io/formats/format.py\u001b[0m in \u001b[0;36m_to_str_columns\u001b[0;34m(self)\u001b[0m\n\u001b[1;32m    530\u001b[0m                 header_colwidth = max(self.col_space or 0,\n\u001b[1;32m    531\u001b[0m                                       *(self.adj.len(x) for x in cheader))\n\u001b[0;32m--> 532\u001b[0;31m                 \u001b[0mfmt_values\u001b[0m \u001b[0;34m=\u001b[0m \u001b[0mself\u001b[0m\u001b[0;34m.\u001b[0m\u001b[0m_format_col\u001b[0m\u001b[0;34m(\u001b[0m\u001b[0mi\u001b[0m\u001b[0;34m)\u001b[0m\u001b[0;34m\u001b[0m\u001b[0m\n\u001b[0m\u001b[1;32m    533\u001b[0m                 fmt_values = _make_fixed_width(fmt_values, self.justify,\n\u001b[1;32m    534\u001b[0m                                                \u001b[0mminimum\u001b[0m\u001b[0;34m=\u001b[0m\u001b[0mheader_colwidth\u001b[0m\u001b[0;34m,\u001b[0m\u001b[0;34m\u001b[0m\u001b[0m\n",
      "\u001b[0;32m/usr/local/envs/py3env/lib/python3.5/site-packages/pandas/io/formats/format.py\u001b[0m in \u001b[0;36m_format_col\u001b[0;34m(self, i)\u001b[0m\n\u001b[1;32m    706\u001b[0m         return format_array(values_to_format, formatter,\n\u001b[1;32m    707\u001b[0m                             \u001b[0mfloat_format\u001b[0m\u001b[0;34m=\u001b[0m\u001b[0mself\u001b[0m\u001b[0;34m.\u001b[0m\u001b[0mfloat_format\u001b[0m\u001b[0;34m,\u001b[0m \u001b[0mna_rep\u001b[0m\u001b[0;34m=\u001b[0m\u001b[0mself\u001b[0m\u001b[0;34m.\u001b[0m\u001b[0mna_rep\u001b[0m\u001b[0;34m,\u001b[0m\u001b[0;34m\u001b[0m\u001b[0m\n\u001b[0;32m--> 708\u001b[0;31m                             space=self.col_space, decimal=self.decimal)\n\u001b[0m\u001b[1;32m    709\u001b[0m \u001b[0;34m\u001b[0m\u001b[0m\n\u001b[1;32m    710\u001b[0m     \u001b[0;32mdef\u001b[0m \u001b[0mto_html\u001b[0m\u001b[0;34m(\u001b[0m\u001b[0mself\u001b[0m\u001b[0;34m,\u001b[0m \u001b[0mclasses\u001b[0m\u001b[0;34m=\u001b[0m\u001b[0;32mNone\u001b[0m\u001b[0;34m,\u001b[0m \u001b[0mnotebook\u001b[0m\u001b[0;34m=\u001b[0m\u001b[0;32mFalse\u001b[0m\u001b[0;34m,\u001b[0m \u001b[0mborder\u001b[0m\u001b[0;34m=\u001b[0m\u001b[0;32mNone\u001b[0m\u001b[0;34m)\u001b[0m\u001b[0;34m:\u001b[0m\u001b[0;34m\u001b[0m\u001b[0m\n",
      "\u001b[0;32m/usr/local/envs/py3env/lib/python3.5/site-packages/pandas/io/formats/format.py\u001b[0m in \u001b[0;36mformat_array\u001b[0;34m(values, formatter, float_format, na_rep, digits, space, justify, decimal)\u001b[0m\n\u001b[1;32m   1820\u001b[0m                         space=space, justify=justify, decimal=decimal)\n\u001b[1;32m   1821\u001b[0m \u001b[0;34m\u001b[0m\u001b[0m\n\u001b[0;32m-> 1822\u001b[0;31m     \u001b[0;32mreturn\u001b[0m \u001b[0mfmt_obj\u001b[0m\u001b[0;34m.\u001b[0m\u001b[0mget_result\u001b[0m\u001b[0;34m(\u001b[0m\u001b[0;34m)\u001b[0m\u001b[0;34m\u001b[0m\u001b[0m\n\u001b[0m\u001b[1;32m   1823\u001b[0m \u001b[0;34m\u001b[0m\u001b[0m\n\u001b[1;32m   1824\u001b[0m \u001b[0;34m\u001b[0m\u001b[0m\n",
      "\u001b[0;32m/usr/local/envs/py3env/lib/python3.5/site-packages/pandas/io/formats/format.py\u001b[0m in \u001b[0;36mget_result\u001b[0;34m(self)\u001b[0m\n\u001b[1;32m   1840\u001b[0m \u001b[0;34m\u001b[0m\u001b[0m\n\u001b[1;32m   1841\u001b[0m     \u001b[0;32mdef\u001b[0m \u001b[0mget_result\u001b[0m\u001b[0;34m(\u001b[0m\u001b[0mself\u001b[0m\u001b[0;34m)\u001b[0m\u001b[0;34m:\u001b[0m\u001b[0;34m\u001b[0m\u001b[0m\n\u001b[0;32m-> 1842\u001b[0;31m         \u001b[0mfmt_values\u001b[0m \u001b[0;34m=\u001b[0m \u001b[0mself\u001b[0m\u001b[0;34m.\u001b[0m\u001b[0m_format_strings\u001b[0m\u001b[0;34m(\u001b[0m\u001b[0;34m)\u001b[0m\u001b[0;34m\u001b[0m\u001b[0m\n\u001b[0m\u001b[1;32m   1843\u001b[0m         \u001b[0;32mreturn\u001b[0m \u001b[0m_make_fixed_width\u001b[0m\u001b[0;34m(\u001b[0m\u001b[0mfmt_values\u001b[0m\u001b[0;34m,\u001b[0m \u001b[0mself\u001b[0m\u001b[0;34m.\u001b[0m\u001b[0mjustify\u001b[0m\u001b[0;34m)\u001b[0m\u001b[0;34m\u001b[0m\u001b[0m\n\u001b[1;32m   1844\u001b[0m \u001b[0;34m\u001b[0m\u001b[0m\n",
      "\u001b[0;32m/usr/local/envs/py3env/lib/python3.5/site-packages/pandas/io/formats/format.py\u001b[0m in \u001b[0;36m_format_strings\u001b[0;34m(self)\u001b[0m\n\u001b[1;32m   1886\u001b[0m                 \u001b[0mfmt_values\u001b[0m\u001b[0;34m.\u001b[0m\u001b[0mappend\u001b[0m\u001b[0;34m(\u001b[0m\u001b[0mfloat_format\u001b[0m\u001b[0;34m(\u001b[0m\u001b[0mv\u001b[0m\u001b[0;34m)\u001b[0m\u001b[0;34m)\u001b[0m\u001b[0;34m\u001b[0m\u001b[0m\n\u001b[1;32m   1887\u001b[0m             \u001b[0;32melse\u001b[0m\u001b[0;34m:\u001b[0m\u001b[0;34m\u001b[0m\u001b[0m\n\u001b[0;32m-> 1888\u001b[0;31m                 \u001b[0mfmt_values\u001b[0m\u001b[0;34m.\u001b[0m\u001b[0mappend\u001b[0m\u001b[0;34m(\u001b[0m\u001b[0;34mu' {v}'\u001b[0m\u001b[0;34m.\u001b[0m\u001b[0mformat\u001b[0m\u001b[0;34m(\u001b[0m\u001b[0mv\u001b[0m\u001b[0;34m=\u001b[0m\u001b[0m_format\u001b[0m\u001b[0;34m(\u001b[0m\u001b[0mv\u001b[0m\u001b[0;34m)\u001b[0m\u001b[0;34m)\u001b[0m\u001b[0;34m)\u001b[0m\u001b[0;34m\u001b[0m\u001b[0m\n\u001b[0m\u001b[1;32m   1889\u001b[0m \u001b[0;34m\u001b[0m\u001b[0m\n\u001b[1;32m   1890\u001b[0m         \u001b[0;32mreturn\u001b[0m \u001b[0mfmt_values\u001b[0m\u001b[0;34m\u001b[0m\u001b[0m\n",
      "\u001b[0;32m/usr/local/envs/py3env/lib/python3.5/site-packages/pandas/io/formats/format.py\u001b[0m in \u001b[0;36m_format\u001b[0;34m(x)\u001b[0m\n\u001b[1;32m   1868\u001b[0m             \u001b[0;32melse\u001b[0m\u001b[0;34m:\u001b[0m\u001b[0;34m\u001b[0m\u001b[0m\n\u001b[1;32m   1869\u001b[0m                 \u001b[0;31m# object dtype\u001b[0m\u001b[0;34m\u001b[0m\u001b[0;34m\u001b[0m\u001b[0m\n\u001b[0;32m-> 1870\u001b[0;31m                 \u001b[0;32mreturn\u001b[0m \u001b[0;34mu'{x}'\u001b[0m\u001b[0;34m.\u001b[0m\u001b[0mformat\u001b[0m\u001b[0;34m(\u001b[0m\u001b[0mx\u001b[0m\u001b[0;34m=\u001b[0m\u001b[0mformatter\u001b[0m\u001b[0;34m(\u001b[0m\u001b[0mx\u001b[0m\u001b[0;34m)\u001b[0m\u001b[0;34m)\u001b[0m\u001b[0;34m\u001b[0m\u001b[0m\n\u001b[0m\u001b[1;32m   1871\u001b[0m \u001b[0;34m\u001b[0m\u001b[0m\n\u001b[1;32m   1872\u001b[0m         \u001b[0mvals\u001b[0m \u001b[0;34m=\u001b[0m \u001b[0mself\u001b[0m\u001b[0;34m.\u001b[0m\u001b[0mvalues\u001b[0m\u001b[0;34m\u001b[0m\u001b[0m\n",
      "\u001b[0;32m/usr/local/envs/py3env/lib/python3.5/site-packages/pandas/io/formats/format.py\u001b[0m in \u001b[0;36m<lambda>\u001b[0;34m(x)\u001b[0m\n\u001b[1;32m   1855\u001b[0m         formatter = (\n\u001b[1;32m   1856\u001b[0m             \u001b[0mself\u001b[0m\u001b[0;34m.\u001b[0m\u001b[0mformatter\u001b[0m \u001b[0;32mif\u001b[0m \u001b[0mself\u001b[0m\u001b[0;34m.\u001b[0m\u001b[0mformatter\u001b[0m \u001b[0;32mis\u001b[0m \u001b[0;32mnot\u001b[0m \u001b[0;32mNone\u001b[0m \u001b[0;32melse\u001b[0m\u001b[0;34m\u001b[0m\u001b[0m\n\u001b[0;32m-> 1857\u001b[0;31m             (lambda x: pprint_thing(x, escape_chars=('\\t', '\\r', '\\n'))))\n\u001b[0m\u001b[1;32m   1858\u001b[0m \u001b[0;34m\u001b[0m\u001b[0m\n\u001b[1;32m   1859\u001b[0m         \u001b[0;32mdef\u001b[0m \u001b[0m_format\u001b[0m\u001b[0;34m(\u001b[0m\u001b[0mx\u001b[0m\u001b[0;34m)\u001b[0m\u001b[0;34m:\u001b[0m\u001b[0;34m\u001b[0m\u001b[0m\n",
      "\u001b[0;32m/usr/local/envs/py3env/lib/python3.5/site-packages/pandas/io/formats/printing.py\u001b[0m in \u001b[0;36mpprint_thing\u001b[0;34m(thing, _nest_lvl, escape_chars, default_escapes, quote_strings, max_seq_items)\u001b[0m\n\u001b[1;32m    228\u001b[0m         \u001b[0mresult\u001b[0m \u001b[0;34m=\u001b[0m \u001b[0mfmt\u001b[0m\u001b[0;34m.\u001b[0m\u001b[0mformat\u001b[0m\u001b[0;34m(\u001b[0m\u001b[0mthing\u001b[0m\u001b[0;34m=\u001b[0m\u001b[0mas_escaped_unicode\u001b[0m\u001b[0;34m(\u001b[0m\u001b[0mthing\u001b[0m\u001b[0;34m)\u001b[0m\u001b[0;34m)\u001b[0m\u001b[0;34m\u001b[0m\u001b[0m\n\u001b[1;32m    229\u001b[0m     \u001b[0;32melse\u001b[0m\u001b[0;34m:\u001b[0m\u001b[0;34m\u001b[0m\u001b[0m\n\u001b[0;32m--> 230\u001b[0;31m         \u001b[0mresult\u001b[0m \u001b[0;34m=\u001b[0m \u001b[0mas_escaped_unicode\u001b[0m\u001b[0;34m(\u001b[0m\u001b[0mthing\u001b[0m\u001b[0;34m)\u001b[0m\u001b[0;34m\u001b[0m\u001b[0m\n\u001b[0m\u001b[1;32m    231\u001b[0m \u001b[0;34m\u001b[0m\u001b[0m\n\u001b[1;32m    232\u001b[0m     \u001b[0;32mreturn\u001b[0m \u001b[0mcompat\u001b[0m\u001b[0;34m.\u001b[0m\u001b[0mtext_type\u001b[0m\u001b[0;34m(\u001b[0m\u001b[0mresult\u001b[0m\u001b[0;34m)\u001b[0m  \u001b[0;31m# always unicode\u001b[0m\u001b[0;34m\u001b[0m\u001b[0m\n",
      "\u001b[0;32m/usr/local/envs/py3env/lib/python3.5/site-packages/pandas/io/formats/printing.py\u001b[0m in \u001b[0;36mas_escaped_unicode\u001b[0;34m(thing, escape_chars)\u001b[0m\n\u001b[1;32m    191\u001b[0m \u001b[0;34m\u001b[0m\u001b[0m\n\u001b[1;32m    192\u001b[0m         \u001b[0;32mtry\u001b[0m\u001b[0;34m:\u001b[0m\u001b[0;34m\u001b[0m\u001b[0m\n\u001b[0;32m--> 193\u001b[0;31m             \u001b[0mresult\u001b[0m \u001b[0;34m=\u001b[0m \u001b[0mcompat\u001b[0m\u001b[0;34m.\u001b[0m\u001b[0mtext_type\u001b[0m\u001b[0;34m(\u001b[0m\u001b[0mthing\u001b[0m\u001b[0;34m)\u001b[0m  \u001b[0;31m# we should try this first\u001b[0m\u001b[0;34m\u001b[0m\u001b[0m\n\u001b[0m\u001b[1;32m    194\u001b[0m         \u001b[0;32mexcept\u001b[0m \u001b[0mUnicodeDecodeError\u001b[0m\u001b[0;34m:\u001b[0m\u001b[0;34m\u001b[0m\u001b[0m\n\u001b[1;32m    195\u001b[0m             \u001b[0;31m# either utf-8 or we replace errors\u001b[0m\u001b[0;34m\u001b[0m\u001b[0;34m\u001b[0m\u001b[0m\n",
      "\u001b[0;32m/usr/local/envs/py3env/lib/python3.5/site-packages/pandas/core/base.py\u001b[0m in \u001b[0;36m__repr__\u001b[0;34m(self)\u001b[0m\n\u001b[1;32m     78\u001b[0m         \u001b[0mYields\u001b[0m \u001b[0mBytestring\u001b[0m \u001b[0;32min\u001b[0m \u001b[0mPy2\u001b[0m\u001b[0;34m,\u001b[0m \u001b[0mUnicode\u001b[0m \u001b[0mString\u001b[0m \u001b[0;32min\u001b[0m \u001b[0mpy3\u001b[0m\u001b[0;34m.\u001b[0m\u001b[0;34m\u001b[0m\u001b[0m\n\u001b[1;32m     79\u001b[0m         \"\"\"\n\u001b[0;32m---> 80\u001b[0;31m         \u001b[0;32mreturn\u001b[0m \u001b[0mstr\u001b[0m\u001b[0;34m(\u001b[0m\u001b[0mself\u001b[0m\u001b[0;34m)\u001b[0m\u001b[0;34m\u001b[0m\u001b[0m\n\u001b[0m\u001b[1;32m     81\u001b[0m \u001b[0;34m\u001b[0m\u001b[0m\n\u001b[1;32m     82\u001b[0m \u001b[0;34m\u001b[0m\u001b[0m\n",
      "\u001b[0;32m/usr/local/envs/py3env/lib/python3.5/site-packages/pandas/core/base.py\u001b[0m in \u001b[0;36m__str__\u001b[0;34m(self)\u001b[0m\n\u001b[1;32m     57\u001b[0m \u001b[0;34m\u001b[0m\u001b[0m\n\u001b[1;32m     58\u001b[0m         \u001b[0;32mif\u001b[0m \u001b[0mcompat\u001b[0m\u001b[0;34m.\u001b[0m\u001b[0mPY3\u001b[0m\u001b[0;34m:\u001b[0m\u001b[0;34m\u001b[0m\u001b[0m\n\u001b[0;32m---> 59\u001b[0;31m             \u001b[0;32mreturn\u001b[0m \u001b[0mself\u001b[0m\u001b[0;34m.\u001b[0m\u001b[0m__unicode__\u001b[0m\u001b[0;34m(\u001b[0m\u001b[0;34m)\u001b[0m\u001b[0;34m\u001b[0m\u001b[0m\n\u001b[0m\u001b[1;32m     60\u001b[0m         \u001b[0;32mreturn\u001b[0m \u001b[0mself\u001b[0m\u001b[0;34m.\u001b[0m\u001b[0m__bytes__\u001b[0m\u001b[0;34m(\u001b[0m\u001b[0;34m)\u001b[0m\u001b[0;34m\u001b[0m\u001b[0m\n\u001b[1;32m     61\u001b[0m \u001b[0;34m\u001b[0m\u001b[0m\n",
      "\u001b[0;32m/usr/local/envs/py3env/lib/python3.5/site-packages/pandas/core/series.py\u001b[0m in \u001b[0;36m__unicode__\u001b[0;34m(self)\u001b[0m\n\u001b[1;32m   1064\u001b[0m \u001b[0;34m\u001b[0m\u001b[0m\n\u001b[1;32m   1065\u001b[0m         self.to_string(buf=buf, name=self.name, dtype=self.dtype,\n\u001b[0;32m-> 1066\u001b[0;31m                        max_rows=max_rows, length=show_dimensions)\n\u001b[0m\u001b[1;32m   1067\u001b[0m         \u001b[0mresult\u001b[0m \u001b[0;34m=\u001b[0m \u001b[0mbuf\u001b[0m\u001b[0;34m.\u001b[0m\u001b[0mgetvalue\u001b[0m\u001b[0;34m(\u001b[0m\u001b[0;34m)\u001b[0m\u001b[0;34m\u001b[0m\u001b[0m\n\u001b[1;32m   1068\u001b[0m \u001b[0;34m\u001b[0m\u001b[0m\n",
      "\u001b[0;32m/usr/local/envs/py3env/lib/python3.5/site-packages/pandas/core/series.py\u001b[0m in \u001b[0;36mto_string\u001b[0;34m(self, buf, na_rep, float_format, header, index, length, dtype, name, max_rows)\u001b[0m\n\u001b[1;32m   1108\u001b[0m                                         \u001b[0mfloat_format\u001b[0m\u001b[0;34m=\u001b[0m\u001b[0mfloat_format\u001b[0m\u001b[0;34m,\u001b[0m\u001b[0;34m\u001b[0m\u001b[0m\n\u001b[1;32m   1109\u001b[0m                                         max_rows=max_rows)\n\u001b[0;32m-> 1110\u001b[0;31m         \u001b[0mresult\u001b[0m \u001b[0;34m=\u001b[0m \u001b[0mformatter\u001b[0m\u001b[0;34m.\u001b[0m\u001b[0mto_string\u001b[0m\u001b[0;34m(\u001b[0m\u001b[0;34m)\u001b[0m\u001b[0;34m\u001b[0m\u001b[0m\n\u001b[0m\u001b[1;32m   1111\u001b[0m \u001b[0;34m\u001b[0m\u001b[0m\n\u001b[1;32m   1112\u001b[0m         \u001b[0;31m# catch contract violations\u001b[0m\u001b[0;34m\u001b[0m\u001b[0;34m\u001b[0m\u001b[0m\n",
      "\u001b[0;32m/usr/local/envs/py3env/lib/python3.5/site-packages/pandas/io/formats/format.py\u001b[0m in \u001b[0;36mto_string\u001b[0;34m(self)\u001b[0m\n\u001b[1;32m    257\u001b[0m \u001b[0;34m\u001b[0m\u001b[0m\n\u001b[1;32m    258\u001b[0m         \u001b[0mfmt_index\u001b[0m\u001b[0;34m,\u001b[0m \u001b[0mhave_header\u001b[0m \u001b[0;34m=\u001b[0m \u001b[0mself\u001b[0m\u001b[0;34m.\u001b[0m\u001b[0m_get_formatted_index\u001b[0m\u001b[0;34m(\u001b[0m\u001b[0;34m)\u001b[0m\u001b[0;34m\u001b[0m\u001b[0m\n\u001b[0;32m--> 259\u001b[0;31m         \u001b[0mfmt_values\u001b[0m \u001b[0;34m=\u001b[0m \u001b[0mself\u001b[0m\u001b[0;34m.\u001b[0m\u001b[0m_get_formatted_values\u001b[0m\u001b[0;34m(\u001b[0m\u001b[0;34m)\u001b[0m\u001b[0;34m\u001b[0m\u001b[0m\n\u001b[0m\u001b[1;32m    260\u001b[0m \u001b[0;34m\u001b[0m\u001b[0m\n\u001b[1;32m    261\u001b[0m         \u001b[0;32mif\u001b[0m \u001b[0mself\u001b[0m\u001b[0;34m.\u001b[0m\u001b[0mtruncate_v\u001b[0m\u001b[0;34m:\u001b[0m\u001b[0;34m\u001b[0m\u001b[0m\n",
      "\u001b[0;32m/usr/local/envs/py3env/lib/python3.5/site-packages/pandas/io/formats/format.py\u001b[0m in \u001b[0;36m_get_formatted_values\u001b[0;34m(self)\u001b[0m\n\u001b[1;32m    247\u001b[0m         \u001b[0mvalues_to_format\u001b[0m \u001b[0;34m=\u001b[0m \u001b[0mself\u001b[0m\u001b[0;34m.\u001b[0m\u001b[0mtr_series\u001b[0m\u001b[0;34m.\u001b[0m\u001b[0m_formatting_values\u001b[0m\u001b[0;34m(\u001b[0m\u001b[0;34m)\u001b[0m\u001b[0;34m\u001b[0m\u001b[0m\n\u001b[1;32m    248\u001b[0m         return format_array(values_to_format, None,\n\u001b[0;32m--> 249\u001b[0;31m                             float_format=self.float_format, na_rep=self.na_rep)\n\u001b[0m\u001b[1;32m    250\u001b[0m \u001b[0;34m\u001b[0m\u001b[0m\n\u001b[1;32m    251\u001b[0m     \u001b[0;32mdef\u001b[0m \u001b[0mto_string\u001b[0m\u001b[0;34m(\u001b[0m\u001b[0mself\u001b[0m\u001b[0;34m)\u001b[0m\u001b[0;34m:\u001b[0m\u001b[0;34m\u001b[0m\u001b[0m\n",
      "... last 13 frames repeated, from the frame below ...\n",
      "\u001b[0;32m/usr/local/envs/py3env/lib/python3.5/site-packages/pandas/io/formats/format.py\u001b[0m in \u001b[0;36mformat_array\u001b[0;34m(values, formatter, float_format, na_rep, digits, space, justify, decimal)\u001b[0m\n\u001b[1;32m   1820\u001b[0m                         space=space, justify=justify, decimal=decimal)\n\u001b[1;32m   1821\u001b[0m \u001b[0;34m\u001b[0m\u001b[0m\n\u001b[0;32m-> 1822\u001b[0;31m     \u001b[0;32mreturn\u001b[0m \u001b[0mfmt_obj\u001b[0m\u001b[0;34m.\u001b[0m\u001b[0mget_result\u001b[0m\u001b[0;34m(\u001b[0m\u001b[0;34m)\u001b[0m\u001b[0;34m\u001b[0m\u001b[0m\n\u001b[0m\u001b[1;32m   1823\u001b[0m \u001b[0;34m\u001b[0m\u001b[0m\n\u001b[1;32m   1824\u001b[0m \u001b[0;34m\u001b[0m\u001b[0m\n",
      "\u001b[0;31mRecursionError\u001b[0m: maximum recursion depth exceeded"
     ]
    }
   ],
   "source": [
    "usa_final_nona['real_timestamp'] = usa_final_nona['timestamp']\n",
    "usa_final_nona.head()"
   ]
  },
  {
   "cell_type": "code",
   "execution_count": 29,
   "metadata": {},
   "outputs": [
    {
     "name": "stderr",
     "output_type": "stream",
     "text": [
      "/usr/local/envs/py3env/lib/python3.5/site-packages/ipykernel/__main__.py:1: SettingWithCopyWarning: \n",
      "A value is trying to be set on a copy of a slice from a DataFrame.\n",
      "Try using .loc[row_indexer,col_indexer] = value instead\n",
      "\n",
      "See the caveats in the documentation: http://pandas.pydata.org/pandas-docs/stable/indexing.html#indexing-view-versus-copy\n",
      "  if __name__ == '__main__':\n"
     ]
    },
    {
     "data": {
      "text/plain": [
       "pandas.core.series.Series"
      ]
     },
     "execution_count": 29,
     "metadata": {},
     "output_type": "execute_result"
    }
   ],
   "source": [
    "usa_final_nona['time'] = usa_final_nona['time'].to_frame()\n",
    "type(usa_final_nona['time'])\n",
    "# usa_final_nona['time'] = pd.to_numeric(usa_final_nona['time']).round(0).astype(int)"
   ]
  },
  {
   "cell_type": "code",
   "execution_count": 25,
   "metadata": {},
   "outputs": [
    {
     "data": {
      "text/plain": [
       "pandas.core.series.Series"
      ]
     },
     "execution_count": 25,
     "metadata": {},
     "output_type": "execute_result"
    }
   ],
   "source": []
  },
  {
   "cell_type": "code",
   "execution_count": 19,
   "metadata": {},
   "outputs": [
    {
     "ename": "TypeError",
     "evalue": "unsupported type for timedelta hours component: Series",
     "output_type": "error",
     "traceback": [
      "\u001b[0;31m---------------------------------------------------------------------------\u001b[0m",
      "\u001b[0;31mTypeError\u001b[0m                                 Traceback (most recent call last)",
      "\u001b[0;32m<ipython-input-19-c6866ecaead9>\u001b[0m in \u001b[0;36m<module>\u001b[0;34m()\u001b[0m\n\u001b[1;32m      1\u001b[0m \u001b[0;32mimport\u001b[0m \u001b[0mdatetime\u001b[0m\u001b[0;34m\u001b[0m\u001b[0m\n\u001b[0;32m----> 2\u001b[0;31m \u001b[0musa_final_nona\u001b[0m\u001b[0;34m[\u001b[0m\u001b[0;34m'real_timestamp'\u001b[0m\u001b[0;34m]\u001b[0m \u001b[0;34m=\u001b[0m \u001b[0musa_final_nona\u001b[0m\u001b[0;34m[\u001b[0m\u001b[0;34m'real_timestamp'\u001b[0m\u001b[0;34m]\u001b[0m \u001b[0;34m-\u001b[0m \u001b[0mdatetime\u001b[0m\u001b[0;34m.\u001b[0m\u001b[0mtimedelta\u001b[0m\u001b[0;34m(\u001b[0m\u001b[0mhours\u001b[0m\u001b[0;34m=\u001b[0m\u001b[0musa_final_nona\u001b[0m\u001b[0;34m[\u001b[0m\u001b[0;34m'time'\u001b[0m\u001b[0;34m]\u001b[0m\u001b[0;34m)\u001b[0m\u001b[0;34m\u001b[0m\u001b[0m\n\u001b[0m",
      "\u001b[0;31mTypeError\u001b[0m: unsupported type for timedelta hours component: Series"
     ]
    }
   ],
   "source": [
    "import datetime\n",
    "usa_final_nona['real_timestamp'] = usa_final_nona['real_timestamp'] - datetime.timedelta(hours=usa_final_nona['time'])"
   ]
  },
  {
   "cell_type": "code",
   "execution_count": null,
   "metadata": {},
   "outputs": [],
   "source": [
    "# 시도했으나 잘 안 됨!\n",
    "for i in range(0, 17826668): # usa_final_nona 길이\n",
    "  usa_final_nona['real_timestamp'].iloc[i] = usa_final_nona['timestamp'].iloc[i].to_pydatetime()\n",
    "  usa_final_nona['real_timestamp'].iloc[i] = usa_final_nona['real_timestamp'].iloc[i] - datetime.timedelta(hours=int(usa_final_nona['time'].iloc[i]))"
   ]
  },
  {
   "cell_type": "markdown",
   "metadata": {},
   "source": [
    "## merge (events & train & test)"
   ]
  },
  {
   "cell_type": "code",
   "execution_count": 12,
   "metadata": {},
   "outputs": [
    {
     "data": {
      "text/html": [
       "<div>\n",
       "<style scoped>\n",
       "    .dataframe tbody tr th:only-of-type {\n",
       "        vertical-align: middle;\n",
       "    }\n",
       "\n",
       "    .dataframe tbody tr th {\n",
       "        vertical-align: top;\n",
       "    }\n",
       "\n",
       "    .dataframe thead th {\n",
       "        text-align: right;\n",
       "    }\n",
       "</style>\n",
       "<table border=\"1\" class=\"dataframe\">\n",
       "  <thead>\n",
       "    <tr style=\"text-align: right;\">\n",
       "      <th></th>\n",
       "      <th>ad_id</th>\n",
       "      <th>clicked</th>\n",
       "    </tr>\n",
       "    <tr>\n",
       "      <th>display_id</th>\n",
       "      <th></th>\n",
       "      <th></th>\n",
       "    </tr>\n",
       "  </thead>\n",
       "  <tbody>\n",
       "    <tr>\n",
       "      <th>1</th>\n",
       "      <td>42337</td>\n",
       "      <td>0</td>\n",
       "    </tr>\n",
       "    <tr>\n",
       "      <th>1</th>\n",
       "      <td>139684</td>\n",
       "      <td>0</td>\n",
       "    </tr>\n",
       "    <tr>\n",
       "      <th>1</th>\n",
       "      <td>144739</td>\n",
       "      <td>1</td>\n",
       "    </tr>\n",
       "    <tr>\n",
       "      <th>1</th>\n",
       "      <td>156824</td>\n",
       "      <td>0</td>\n",
       "    </tr>\n",
       "    <tr>\n",
       "      <th>1</th>\n",
       "      <td>279295</td>\n",
       "      <td>0</td>\n",
       "    </tr>\n",
       "  </tbody>\n",
       "</table>\n",
       "</div>"
      ],
      "text/plain": [
       "             ad_id  clicked\n",
       "display_id                 \n",
       "1            42337        0\n",
       "1           139684        0\n",
       "1           144739        1\n",
       "1           156824        0\n",
       "1           279295        0"
      ]
     },
     "execution_count": 12,
     "metadata": {},
     "output_type": "execute_result"
    }
   ],
   "source": [
    "clicks_train = my_bucket.object('clicks_train.csv')\n",
    "uri = clicks_train.uri\n",
    "%gcs read --object $uri --variable c_test\n",
    "clicks_train = pd.read_csv(BytesIO(c_test), dtype=np.int32, index_col=0)\n",
    "clicks_train.head(5)"
   ]
  },
  {
   "cell_type": "code",
   "execution_count": 13,
   "metadata": {},
   "outputs": [
    {
     "data": {
      "text/html": [
       "<div>\n",
       "<style scoped>\n",
       "    .dataframe tbody tr th:only-of-type {\n",
       "        vertical-align: middle;\n",
       "    }\n",
       "\n",
       "    .dataframe tbody tr th {\n",
       "        vertical-align: top;\n",
       "    }\n",
       "\n",
       "    .dataframe thead th {\n",
       "        text-align: right;\n",
       "    }\n",
       "</style>\n",
       "<table border=\"1\" class=\"dataframe\">\n",
       "  <thead>\n",
       "    <tr style=\"text-align: right;\">\n",
       "      <th></th>\n",
       "      <th>ad_id</th>\n",
       "    </tr>\n",
       "    <tr>\n",
       "      <th>display_id</th>\n",
       "      <th></th>\n",
       "    </tr>\n",
       "  </thead>\n",
       "  <tbody>\n",
       "    <tr>\n",
       "      <th>16874594</th>\n",
       "      <td>66758</td>\n",
       "    </tr>\n",
       "    <tr>\n",
       "      <th>16874594</th>\n",
       "      <td>150083</td>\n",
       "    </tr>\n",
       "    <tr>\n",
       "      <th>16874594</th>\n",
       "      <td>162754</td>\n",
       "    </tr>\n",
       "    <tr>\n",
       "      <th>16874594</th>\n",
       "      <td>170392</td>\n",
       "    </tr>\n",
       "    <tr>\n",
       "      <th>16874594</th>\n",
       "      <td>172888</td>\n",
       "    </tr>\n",
       "  </tbody>\n",
       "</table>\n",
       "</div>"
      ],
      "text/plain": [
       "             ad_id\n",
       "display_id        \n",
       "16874594     66758\n",
       "16874594    150083\n",
       "16874594    162754\n",
       "16874594    170392\n",
       "16874594    172888"
      ]
     },
     "execution_count": 13,
     "metadata": {},
     "output_type": "execute_result"
    }
   ],
   "source": [
    "clicks_test = my_bucket.object('clicks_test.csv')\n",
    "uri = clicks_test.uri\n",
    "%gcs read --object $uri --variable c_test\n",
    "clicks_test = pd.read_csv(BytesIO(c_test), dtype=np.int32, index_col=0)\n",
    "clicks_test.head(5)"
   ]
  },
  {
   "cell_type": "code",
   "execution_count": 14,
   "metadata": {},
   "outputs": [],
   "source": [
    "# click_train과 events 병합\n",
    "train = pd.merge(clicks_train.sample(frac=0.1), events, left_index=True, right_index=True)\n",
    "\n",
    "# click_test와 events 병합\n",
    "test = pd.merge(clicks_test.sample(frac=0.1), events, left_index=True, right_index=True)"
   ]
  },
  {
   "cell_type": "code",
   "execution_count": 15,
   "metadata": {},
   "outputs": [
    {
     "name": "stdout",
     "output_type": "stream",
     "text": [
      "(87141731, 2)\n",
      "(32225162, 1)\n",
      "(23120126, 6)\n",
      "(8714173, 8)\n",
      "(3222516, 7)\n",
      "     ad_id  clicked  display_id            uuid  document_id  timestamp  \\\n",
      "1   144739        1           2  79a85fa78311b9      1794259         81   \n",
      "6   175234        1           7  2cc3f6457d16da      1149661        602   \n",
      "6   180923        0           7  2cc3f6457d16da      1149661        602   \n",
      "11   96116        0          12  6fa993bd0e0157       892701        718   \n",
      "13  121703        0          14  daef797fc210a2      1759953        798   \n",
      "\n",
      "   platform geo_location  \n",
      "1         2    US>CA>807  \n",
      "6         2    US>MT>762  \n",
      "6         2    US>MT>762  \n",
      "11        1    US>TX>612  \n",
      "13        3    US>NC>560  \n",
      "           ad_id  display_id            uuid  document_id  timestamp platform  \\\n",
      "16874594   66758    16874595  1b7e42e26bf9dd      1773803       1094        1   \n",
      "16874596  289915    16874597  e50be8e80e90cf      1717030       1571        1   \n",
      "16874603   44460    16874604  2cd33e82c70fe6      1717049       5539        1   \n",
      "16874608  230754    16874609  89c9b1e4c39157      1757059       7441        1   \n",
      "16874609  259370    16874610  90b8d4606f09e7      1475343       7669        1   \n",
      "\n",
      "         geo_location  \n",
      "16874594    US>IN>602  \n",
      "16874596    US>TX>623  \n",
      "16874603    US>MI>505  \n",
      "16874608    US>FL>539  \n",
      "16874609    US>CA>803  \n"
     ]
    }
   ],
   "source": [
    "print(clicks_train.shape)\n",
    "print(clicks_test.shape)\n",
    "print(events.shape)\n",
    "print(train.shape)\n",
    "print(test.shape)\n",
    "print(train.head())\n",
    "print(test.head())"
   ]
  },
  {
   "cell_type": "code",
   "execution_count": 16,
   "metadata": {},
   "outputs": [
    {
     "data": {
      "text/plain": [
       "Text(0,0.5,'Fraction of Events')"
      ]
     },
     "execution_count": 16,
     "metadata": {},
     "output_type": "execute_result"
    },
    {
     "data": {
      "image/png": "[encoded data removed]",
      "text/plain": [
       "<matplotlib.figure.Figure at 0x7f46b2db9dd8>"
      ]
     },
     "metadata": {},
     "output_type": "display_data"
    }
   ],
   "source": [
    "# train과 test의 시간 비교\n",
    "# train과 test의 view 시간대 분포 거의 동일함\n",
    "# train은 밤 늦은 시간 view가 좀 더 많은 편\n",
    "# test는 오전 시간대 view가 좀 더 많은 편\n",
    "\n",
    "test[\"hour\"] = (test.timestamp // (3600 * 1000)) % 24\n",
    "test[\"day\"] = test.timestamp // (3600 * 24 * 1000)\n",
    "\n",
    "train[\"hour\"] = (train.timestamp // (3600 * 1000)) % 24\n",
    "train[\"day\"] = train.timestamp // (3600 * 24 * 1000)\n",
    "\n",
    "plt.figure(figsize=(12,4))\n",
    "train.hour.hist(bins=np.linspace(-0.5, 23.5, 25), label=\"train\", alpha=0.7, normed=True)\n",
    "test.hour.hist(bins=np.linspace(-0.5, 23.5, 25), label=\"test\", alpha=0.7, normed=True)\n",
    "plt.xlim(-0.5, 23.5)\n",
    "plt.legend(loc=\"best\")\n",
    "plt.xlabel(\"Hour of Day\")\n",
    "plt.ylabel(\"Fraction of Events\")"
   ]
  },
  {
   "cell_type": "code",
   "execution_count": 56,
   "metadata": {},
   "outputs": [
    {
     "name": "stdout",
     "output_type": "stream",
     "text": [
      "           ad_id  clicked  display_id            uuid  document_id  \\\n",
      "16874584  173400        0    16874585  6c23d6809274d4       479781   \n",
      "16874590  142604        1    16874591  49396799cb3a40      2816969   \n",
      "16874590   35805        0    16874591  49396799cb3a40      2816969   \n",
      "16874591   36108        0    16874592  45f3b28fd8f19d      2823420   \n",
      "16874592  153244        1    16874593  21f03d8a66e702      2777166   \n",
      "\n",
      "           timestamp platform geo_location  hour  day  \n",
      "16874584  1123198914        2        CA>AB    23   12  \n",
      "16874590  1123199601        1    US>IN>582    23   12  \n",
      "16874590  1123199601        1    US>IN>582    23   12  \n",
      "16874591  1123199635        2           GB    23   12  \n",
      "16874592  1123199936        2    US>NJ>501    23   12  \n",
      "           ad_id  display_id            uuid  document_id   timestamp  \\\n",
      "23120121   96074    23120122  3b42aaa4aa8993      1827718  1295999574   \n",
      "23120122  561507    23120123  7efccdc2d58fd1      2984543  1295999591   \n",
      "23120123  516264    23120124  11f9ac8cee26f2       751048  1295999657   \n",
      "23120125   89725    23120126  b545c100626cba      2357447  1295999805   \n",
      "23120125  187797    23120126  b545c100626cba      2357447  1295999805   \n",
      "\n",
      "         platform geo_location  hour  day  \n",
      "23120121        1    US>FL>571    23   14  \n",
      "23120122        2    US>TX>623    23   14  \n",
      "23120123        2    US>GA>524    23   14  \n",
      "23120125        2    US>SD>764    23   14  \n",
      "23120125        2    US>SD>764    23   14  \n",
      "0 12\n",
      "0 23\n",
      "0 14\n",
      "0 23\n"
     ]
    }
   ],
   "source": [
    "# train, test의 형태 확인\n",
    "print(train.tail())\n",
    "print(test.tail())\n",
    "\n",
    "# train, test의 day, hour 최대값과 최소값\n",
    "print(min(train.day), max(train.day))\n",
    "print(min(train.hour), max(train.hour))\n",
    "print(min(test.day), max(test.day))\n",
    "print(min(test.hour), max(test.hour))"
   ]
  },
  {
   "cell_type": "code",
   "execution_count": 17,
   "metadata": {},
   "outputs": [
    {
     "data": {
      "text/plain": [
       "Text(0,0.5,'Fraction of Events')"
      ]
     },
     "execution_count": 17,
     "metadata": {},
     "output_type": "execute_result"
    },
    {
     "data": {
      "image/png": "[encoded data removed]",
      "text/plain": [
       "<matplotlib.figure.Figure at 0x7f477614dbe0>"
      ]
     },
     "metadata": {},
     "output_type": "display_data"
    }
   ],
   "source": [
    "plt.figure(figsize=(12,4))\n",
    "train.day.hist(bins=np.linspace(-.5, 14.5, 16), label=\"train\", alpha=0.7, normed=True)\n",
    "test.day.hist(bins=np.linspace(-.5, 14.5, 16), label=\"test\", alpha=0.7, normed=True)\n",
    "plt.xlim(-0.5, 14.5)\n",
    "plt.legend(loc=\"best\")\n",
    "plt.xlabel(\"Days since June 14\")\n",
    "plt.ylabel(\"Fraction of Events\")"
   ]
  },
  {
   "cell_type": "code",
   "execution_count": 18,
   "metadata": {},
   "outputs": [
    {
     "name": "stdout",
     "output_type": "stream",
     "text": [
      "ad_id      0\n",
      "clicked    0\n",
      "dtype: int64\n",
      "ad_id    0\n",
      "dtype: int64\n",
      "display_id        0\n",
      "uuid              0\n",
      "document_id       0\n",
      "timestamp         0\n",
      "platform          0\n",
      "geo_location    340\n",
      "dtype: int64\n"
     ]
    }
   ],
   "source": [
    "# 3개 파일 결측치 확인\n",
    "print(clicks_train.isnull().sum())\n",
    "print(clicks_test.isnull().sum())\n",
    "print(events.isnull().sum())\n",
    "# events에서 geo_location 340개 결측값 있음"
   ]
  },
  {
   "cell_type": "code",
   "execution_count": 19,
   "metadata": {},
   "outputs": [
    {
     "name": "stdout",
     "output_type": "stream",
     "text": [
      "        display_id            uuid  document_id  timestamp platform  \\\n",
      "63981        63982  f8a603cb663c2c      1128355    5203379        2   \n",
      "73403        73404  a29364adf8b637      1179111    6116120        2   \n",
      "109101      109102  e0dd249c56b0ca      1755112    9850567        1   \n",
      "125625      125626  3458c3a41673b4       842714   11800761        2   \n",
      "138472      138473  c82547eaa595d1      1795026   13527549        1   \n",
      "\n",
      "       geo_location  \n",
      "63981           NaN  \n",
      "73403           NaN  \n",
      "109101          NaN  \n",
      "125625          NaN  \n",
      "138472          NaN  \n"
     ]
    }
   ],
   "source": [
    "# 340개 결측값 geo_null에 저장\n",
    "geo_null = events[events.geo_location.isnull() == True]\n",
    "print(geo_null.head())"
   ]
  },
  {
   "cell_type": "code",
   "execution_count": 20,
   "metadata": {},
   "outputs": [
    {
     "name": "stdout",
     "output_type": "stream",
     "text": [
      "478950\n"
     ]
    }
   ],
   "source": [
    "print(len(clicks_train.ad_id.unique()))"
   ]
  },
  {
   "cell_type": "code",
   "execution_count": 1,
   "metadata": {},
   "outputs": [
    {
     "ename": "SyntaxError",
     "evalue": "invalid syntax (<ipython-input-1-966717f852b9>, line 1)",
     "output_type": "error",
     "traceback": [
      "\u001b[0;36m  File \u001b[0;32m\"<ipython-input-1-966717f852b9>\"\u001b[0;36m, line \u001b[0;32m1\u001b[0m\n\u001b[0;31m    print(sum(clicks_train$display_id == clicks_test$display_id)/nrow(df) * 100)\u001b[0m\n\u001b[0m                          ^\u001b[0m\n\u001b[0;31mSyntaxError\u001b[0m\u001b[0;31m:\u001b[0m invalid syntax\n"
     ]
    }
   ],
   "source": [
    "print(sum(clicks_train$display_id == clicks_test$display_id)/nrow(df) * 100)\n",
    "print(sum(clicks_train$display_id == content$display_id)/nrow(df) * 100)\n",
    "print(sum(clicks_test$display_id == content$display_id)/nrow(df) * 100)"
   ]
  },
  {
   "cell_type": "code",
   "execution_count": null,
   "metadata": {},
   "outputs": [],
   "source": []
  }
 ],
 "metadata": {
  "kernelspec": {
   "display_name": "Python 3",
   "language": "python",
   "name": "python3"
  },
  "language_info": {
   "codemirror_mode": {
    "name": "ipython",
    "version": 3
   },
   "file_extension": ".py",
   "mimetype": "text/x-python",
   "name": "python",
   "nbconvert_exporter": "python",
   "pygments_lexer": "ipython3",
   "version": "3.5.5"
  }
 },
 "nbformat": 4,
 "nbformat_minor": 2
}
