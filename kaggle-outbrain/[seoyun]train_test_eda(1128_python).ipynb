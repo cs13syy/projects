{
 "cells": [
  {
   "cell_type": "markdown",
   "metadata": {},
   "source": [
    "## load packages"
   ]
  },
  {
   "cell_type": "code",
   "execution_count": 2,
   "metadata": {},
   "outputs": [],
   "source": [
    "import google.datalab.storage as storage\n",
    "import pandas as pd\n",
    "import numpy as np\n",
    "import matplotlib.pyplot as plt\n",
    "import seaborn as sns\n",
    "from io import BytesIO\n",
    "from google.datalab import Context\n",
    "import random, string\n",
    "\n",
    "p = sns.color_palette()"
   ]
  },
  {
   "cell_type": "markdown",
   "metadata": {},
   "source": [
    "## load data"
   ]
  },
  {
   "cell_type": "code",
   "execution_count": 3,
   "metadata": {},
   "outputs": [
    {
     "data": {
      "text/html": [
       "<div>\n",
       "<style scoped>\n",
       "    .dataframe tbody tr th:only-of-type {\n",
       "        vertical-align: middle;\n",
       "    }\n",
       "\n",
       "    .dataframe tbody tr th {\n",
       "        vertical-align: top;\n",
       "    }\n",
       "\n",
       "    .dataframe thead th {\n",
       "        text-align: right;\n",
       "    }\n",
       "</style>\n",
       "<table border=\"1\" class=\"dataframe\">\n",
       "  <thead>\n",
       "    <tr style=\"text-align: right;\">\n",
       "      <th></th>\n",
       "      <th>display_id</th>\n",
       "      <th>ad_id</th>\n",
       "    </tr>\n",
       "  </thead>\n",
       "  <tbody>\n",
       "    <tr>\n",
       "      <th>0</th>\n",
       "      <td>16874594</td>\n",
       "      <td>66758</td>\n",
       "    </tr>\n",
       "    <tr>\n",
       "      <th>1</th>\n",
       "      <td>16874594</td>\n",
       "      <td>150083</td>\n",
       "    </tr>\n",
       "    <tr>\n",
       "      <th>2</th>\n",
       "      <td>16874594</td>\n",
       "      <td>162754</td>\n",
       "    </tr>\n",
       "    <tr>\n",
       "      <th>3</th>\n",
       "      <td>16874594</td>\n",
       "      <td>170392</td>\n",
       "    </tr>\n",
       "    <tr>\n",
       "      <th>4</th>\n",
       "      <td>16874594</td>\n",
       "      <td>172888</td>\n",
       "    </tr>\n",
       "  </tbody>\n",
       "</table>\n",
       "</div>"
      ],
      "text/plain": [
       "   display_id   ad_id\n",
       "0    16874594   66758\n",
       "1    16874594  150083\n",
       "2    16874594  162754\n",
       "3    16874594  170392\n",
       "4    16874594  172888"
      ]
     },
     "execution_count": 3,
     "metadata": {},
     "output_type": "execute_result"
    }
   ],
   "source": [
    "my_bucket = storage.Bucket('capstone-02/data')\n",
    "\n",
    "test = my_bucket.object('clicks_test.csv')\n",
    "uri = test.uri\n",
    "%gcs read --object $uri --variable c_test\n",
    "test = pd.read_csv(BytesIO(c_test))\n",
    "test.head(5)"
   ]
  },
  {
   "cell_type": "code",
   "execution_count": 4,
   "metadata": {},
   "outputs": [
    {
     "data": {
      "text/html": [
       "<div>\n",
       "<style scoped>\n",
       "    .dataframe tbody tr th:only-of-type {\n",
       "        vertical-align: middle;\n",
       "    }\n",
       "\n",
       "    .dataframe tbody tr th {\n",
       "        vertical-align: top;\n",
       "    }\n",
       "\n",
       "    .dataframe thead th {\n",
       "        text-align: right;\n",
       "    }\n",
       "</style>\n",
       "<table border=\"1\" class=\"dataframe\">\n",
       "  <thead>\n",
       "    <tr style=\"text-align: right;\">\n",
       "      <th></th>\n",
       "      <th>display_id</th>\n",
       "      <th>ad_id</th>\n",
       "      <th>clicked</th>\n",
       "    </tr>\n",
       "  </thead>\n",
       "  <tbody>\n",
       "    <tr>\n",
       "      <th>0</th>\n",
       "      <td>1</td>\n",
       "      <td>42337</td>\n",
       "      <td>0</td>\n",
       "    </tr>\n",
       "    <tr>\n",
       "      <th>1</th>\n",
       "      <td>1</td>\n",
       "      <td>139684</td>\n",
       "      <td>0</td>\n",
       "    </tr>\n",
       "    <tr>\n",
       "      <th>2</th>\n",
       "      <td>1</td>\n",
       "      <td>144739</td>\n",
       "      <td>1</td>\n",
       "    </tr>\n",
       "    <tr>\n",
       "      <th>3</th>\n",
       "      <td>1</td>\n",
       "      <td>156824</td>\n",
       "      <td>0</td>\n",
       "    </tr>\n",
       "    <tr>\n",
       "      <th>4</th>\n",
       "      <td>1</td>\n",
       "      <td>279295</td>\n",
       "      <td>0</td>\n",
       "    </tr>\n",
       "  </tbody>\n",
       "</table>\n",
       "</div>"
      ],
      "text/plain": [
       "   display_id   ad_id  clicked\n",
       "0           1   42337        0\n",
       "1           1  139684        0\n",
       "2           1  144739        1\n",
       "3           1  156824        0\n",
       "4           1  279295        0"
      ]
     },
     "execution_count": 4,
     "metadata": {},
     "output_type": "execute_result"
    }
   ],
   "source": [
    "train = my_bucket.object('clicks_train.csv')\n",
    "uri = train.uri\n",
    "%gcs read --object $uri --variable c_test\n",
    "train = pd.read_csv(BytesIO(c_test))\n",
    "train.head(5)"
   ]
  },
  {
   "cell_type": "markdown",
   "metadata": {},
   "source": [
    "## clicks_train"
   ]
  },
  {
   "cell_type": "code",
   "execution_count": 9,
   "metadata": {},
   "outputs": [
    {
     "name": "stdout",
     "output_type": "stream",
     "text": [
      "(87141731, 3)\n",
      "(16874593,)\n",
      "(478950,)\n"
     ]
    }
   ],
   "source": [
    "print(train.shape)\n",
    "print(train.display_id.unique().shape)\n",
    "print(train.ad_id.unique().shape)"
   ]
  },
  {
   "cell_type": "code",
   "execution_count": 16,
   "metadata": {},
   "outputs": [
    {
     "data": {
      "text/plain": [
       "4     5421764\n",
       "6     5005527\n",
       "3     1696425\n",
       "5     1438599\n",
       "8     1121697\n",
       "9     1044047\n",
       "2      802498\n",
       "10     230262\n",
       "7      100677\n",
       "12      12822\n",
       "11        275\n",
       "Name: ad_id, dtype: int64"
      ]
     },
     "execution_count": 16,
     "metadata": {},
     "output_type": "execute_result"
    }
   ],
   "source": [
    "# 디스플레이 별 광고 개수는 2~12. 각 분포는? \n",
    "train_dis_ad = train.groupby('display_id')['ad_id'].count().value_counts()\n",
    "train_dis_ad"
   ]
  },
  {
   "cell_type": "code",
   "execution_count": 11,
   "metadata": {},
   "outputs": [
    {
     "data": {
      "text/plain": [
       "Text(0,0.5,u'Proportion of set')"
      ]
     },
     "execution_count": 11,
     "metadata": {},
     "output_type": "execute_result"
    },
    {
     "data": {
      "image/png": "[encoded data removed]",
      "text/plain": [
       "<matplotlib.figure.Figure at 0x7f261d4068d0>"
      ]
     },
     "metadata": {},
     "output_type": "display_data"
    }
   ],
   "source": [
    "# 경고 메시지 무시\n",
    "import warnings\n",
    "warnings.filterwarnings(action='ignore')\n",
    "\n",
    "# 디스플레이 별 광고 개수가 몇 개일까? 그리고 비율은?\n",
    "size_train = train.groupby('display_id')['ad_id'].count().value_counts()\n",
    "size_train = size_train / np.sum(size_train)\n",
    "\n",
    "# plotting\n",
    "plt.figure(figsize=(12,4))\n",
    "sns.barplot(size_train.index, size_train.values, alpha=0.8, color=p[0], label='train')\n",
    "plt.legend()\n",
    "plt.xlabel('Number of Ads in display', fontsize=12)\n",
    "plt.ylabel('Proportion of set', fontsize=12)"
   ]
  },
  {
   "cell_type": "code",
   "execution_count": 26,
   "metadata": {},
   "outputs": [
    {
     "name": "stdout",
     "output_type": "stream",
     "text": [
      "ad_id\n",
      "173005    211824\n",
      "180923    203159\n",
      "123742    202099\n",
      "151028    181319\n",
      "173006    168139\n",
      "Name: ad_id, dtype: int64\n",
      "ad_id\n",
      "230032    1\n",
      "230031    1\n",
      "230029    1\n",
      "230025    1\n",
      "268955    1\n",
      "Name: ad_id, dtype: int64\n"
     ]
    }
   ],
   "source": [
    "# 광고 별 디스플레이 노출 빈도수는? 1회 ~ 211824회\n",
    "train_ad_dis = train.groupby('ad_id')['ad_id'].count().sort_values(ascending=False)\n",
    "print(train_ad_dis.head())\n",
    "print(train_ad_dis.tail())"
   ]
  },
  {
   "cell_type": "code",
   "execution_count": 25,
   "metadata": {},
   "outputs": [
    {
     "name": "stdout",
     "output_type": "stream",
     "text": [
      "Ads that appear less than 2 times: 22.69%\n",
      "Ads that appear less than 5 times: 46.55%\n",
      "Ads that appear less than 10 times: 61.74%\n",
      "Ads that appear less than 50 times: 86.93%\n",
      "Ads that appear less than 100 times: 91.04%\n",
      "Ads that appear less than 1000 times: 97.45%\n"
     ]
    },
    {
     "data": {
      "image/png": "[encoded data removed]",
      "text/plain": [
       "<matplotlib.figure.Figure at 0x7f261cf2bc50>"
      ]
     },
     "metadata": {},
     "output_type": "display_data"
    }
   ],
   "source": [
    "for i in [2, 5, 10, 50, 100, 1000]:\n",
    "    print('Ads that appear less than {} times: {}%'.format(i, round((train_ad_dis < i).mean() * 100, 2)))\n",
    "\n",
    "# plotting\n",
    "plt.figure(figsize=(12,6))\n",
    "plt.hist(train_ad_dis.values, bins=50, log=True)\n",
    "plt.xlabel('Number of times ad appeared', fontsize=12)\n",
    "plt.ylabel('log(Count of displays with ad)', fontsize=12)\n",
    "plt.show()"
   ]
  },
  {
   "cell_type": "code",
   "execution_count": 28,
   "metadata": {},
   "outputs": [
    {
     "name": "stdout",
     "output_type": "stream",
     "text": [
      "181.9432738281658\n",
      "5.0\n"
     ]
    }
   ],
   "source": [
    "# 광고의 노출빈도 평균 : 182회\n",
    "print(train_ad_dis.mean())\n",
    "# 광고의 노출빈도 중앙값 : 5회\n",
    "print(train_ad_dis.median())"
   ]
  },
  {
   "cell_type": "code",
   "execution_count": 40,
   "metadata": {},
   "outputs": [],
   "source": [
    "# train의 평균 CTR(클릭/노출)에 대해 알아보자\n",
    "i = train.groupby('ad_id')['display_id'].count().astype(float)\n",
    "j = train.groupby('ad_id')['clicked'].sum().astype(float)\n",
    "ctr = j/i\n",
    "ctr.percent = ctr * 100\n",
    "# ctr = round(j/i, 4)"
   ]
  },
  {
   "cell_type": "code",
   "execution_count": 41,
   "metadata": {},
   "outputs": [
    {
     "name": "stdout",
     "output_type": "stream",
     "text": [
      "ad_id\n",
      "1    0.000000\n",
      "2    0.045455\n",
      "3    0.068323\n",
      "4    0.125000\n",
      "5    0.000000\n",
      "dtype: float64\n",
      "14.322410115406036\n"
     ]
    }
   ],
   "source": [
    "print(ctr.head())\n",
    "print(ctr.percent.mean()) # 평균 CTR : 14.3%"
   ]
  },
  {
   "cell_type": "markdown",
   "metadata": {},
   "source": [
    "## clicks_test"
   ]
  },
  {
   "cell_type": "code",
   "execution_count": 42,
   "metadata": {},
   "outputs": [
    {
     "name": "stdout",
     "output_type": "stream",
     "text": [
      "(32225162, 2)\n",
      "(6245533,)\n",
      "(381385,)\n"
     ]
    }
   ],
   "source": [
    "print(test.shape)\n",
    "print(test.display_id.unique().shape)\n",
    "print(test.ad_id.unique().shape)"
   ]
  },
  {
   "cell_type": "code",
   "execution_count": 43,
   "metadata": {},
   "outputs": [
    {
     "data": {
      "text/plain": [
       "4     1969343\n",
       "6     1853510\n",
       "3      635560\n",
       "5      577964\n",
       "8      420261\n",
       "9      388488\n",
       "2      290611\n",
       "10      67038\n",
       "7       38572\n",
       "12       4098\n",
       "11         88\n",
       "Name: ad_id, dtype: int64"
      ]
     },
     "execution_count": 43,
     "metadata": {},
     "output_type": "execute_result"
    }
   ],
   "source": [
    "# 디스플레이 별 광고 개수는 2~12. 각 분포는? \n",
    "test_dis_ad = test.groupby('display_id')['ad_id'].count().value_counts()\n",
    "test_dis_ad"
   ]
  },
  {
   "cell_type": "code",
   "execution_count": 44,
   "metadata": {},
   "outputs": [
    {
     "data": {
      "text/plain": [
       "Text(0,0.5,u'Proportion of set')"
      ]
     },
     "execution_count": 44,
     "metadata": {},
     "output_type": "execute_result"
    },
    {
     "data": {
      "image/png": "[encoded data removed]",
      "text/plain": [
       "<matplotlib.figure.Figure at 0x7f261d47cb50>"
      ]
     },
     "metadata": {},
     "output_type": "display_data"
    }
   ],
   "source": [
    "# 경고 메시지 무시\n",
    "import warnings\n",
    "warnings.filterwarnings(action='ignore')\n",
    "\n",
    "# 디스플레이 별 광고 개수가 몇 개일까? 그리고 비율은?\n",
    "size_test = test.groupby('display_id')['ad_id'].count().value_counts()\n",
    "size_test = size_test / np.sum(size_test)\n",
    "\n",
    "# plotting\n",
    "plt.figure(figsize=(12,4))\n",
    "sns.barplot(size_test.index, size_test.values, alpha=0.8, color=p[0], label='test')\n",
    "plt.legend()\n",
    "plt.xlabel('Number of Ads in display', fontsize=12)\n",
    "plt.ylabel('Proportion of set', fontsize=12)"
   ]
  },
  {
   "cell_type": "code",
   "execution_count": 45,
   "metadata": {},
   "outputs": [
    {
     "name": "stdout",
     "output_type": "stream",
     "text": [
      "ad_id\n",
      "173005    211824\n",
      "Name: ad_id, dtype: int64\n",
      "ad_id\n",
      "268955    1\n",
      "Name: ad_id, dtype: int64\n"
     ]
    }
   ],
   "source": [
    "# 광고 별 디스플레이 노출 빈도수는? 1회 ~ 211824회\n",
    "test_ad_dis = test.groupby('ad_id')['ad_id'].count().sort_values(ascending=False)\n",
    "print(train_ad_dis.head(1))\n",
    "print(train_ad_dis.tail(1))"
   ]
  },
  {
   "cell_type": "code",
   "execution_count": 46,
   "metadata": {},
   "outputs": [
    {
     "name": "stdout",
     "output_type": "stream",
     "text": [
      "Ads that appear less than 2 times: 30.32%\n",
      "Ads that appear less than 5 times: 61.5%\n",
      "Ads that appear less than 10 times: 75.92%\n",
      "Ads that appear less than 50 times: 90.62%\n",
      "Ads that appear less than 100 times: 93.35%\n",
      "Ads that appear less than 1000 times: 98.4%\n"
     ]
    },
    {
     "data": {
      "image/png": "[encoded data removed]",
      "text/plain": [
       "<matplotlib.figure.Figure at 0x7f260e19afd0>"
      ]
     },
     "metadata": {},
     "output_type": "display_data"
    }
   ],
   "source": [
    "for i in [2, 5, 10, 50, 100, 1000]:\n",
    "    print('Ads that appear less than {} times: {}%'.format(i, round((test_ad_dis < i).mean() * 100, 2)))\n",
    "\n",
    "# plotting\n",
    "plt.figure(figsize=(12,6))\n",
    "plt.hist(test_ad_dis.values, bins=50, log=True)\n",
    "plt.xlabel('Number of times ad appeared', fontsize=12)\n",
    "plt.ylabel('log(Count of displays with ad)', fontsize=12)\n",
    "plt.show()"
   ]
  },
  {
   "cell_type": "code",
   "execution_count": 47,
   "metadata": {},
   "outputs": [
    {
     "name": "stdout",
     "output_type": "stream",
     "text": [
      "84.49509550716468\n",
      "3.0\n"
     ]
    }
   ],
   "source": [
    "# 광고의 노출빈도 평균 : 84회\n",
    "print(test_ad_dis.mean())\n",
    "# 광고의 노출빈도 중앙값 : 3회\n",
    "print(test_ad_dis.median())"
   ]
  },
  {
   "cell_type": "markdown",
   "metadata": {},
   "source": [
    "## clicks_train & clicks_test merge"
   ]
  },
  {
   "cell_type": "code",
   "execution_count": 48,
   "metadata": {},
   "outputs": [
    {
     "data": {
      "text/plain": [
       "Text(0,0.5,u'Proportion of set')"
      ]
     },
     "execution_count": 48,
     "metadata": {},
     "output_type": "execute_result"
    },
    {
     "data": {
      "image/png": "[encoded data removed]",
      "text/plain": [
       "<matplotlib.figure.Figure at 0x7f261cf33090>"
      ]
     },
     "metadata": {},
     "output_type": "display_data"
    }
   ],
   "source": [
    "# train과 test 각각 디스플레이 별 광고 개수의 분포가 비슷할까? 비슷하다\n",
    "# plotting\n",
    "plt.figure(figsize=(12,4))\n",
    "sns.barplot(size_train.index, size_train.values, alpha=0.8, color=p[0], label='train')\n",
    "sns.barplot(size_test.index, size_test.values, alpha=0.6, color=p[1], label='test')\n",
    "plt.legend()\n",
    "plt.xlabel('Number of Ads in display', fontsize=12)\n",
    "plt.ylabel('Proportion of set', fontsize=12)"
   ]
  },
  {
   "cell_type": "code",
   "execution_count": 63,
   "metadata": {},
   "outputs": [
    {
     "name": "stdout",
     "output_type": "stream",
     "text": [
      "Proportion of test ads in test that are in train set: 82.87%\n"
     ]
    }
   ],
   "source": [
    "# test에 있는 ad_id가 train에도 있을까? 있다면 몇 퍼센트일까?\n",
    "ad_prop = round(len(set(test.ad_id.unique()).intersection(train.ad_id.unique()))) / round(len(test.ad_id.unique()))\n",
    "print('Proportion of test ads in test that are in train set: {}%'.format(round(ad_prop*100, 2)))"
   ]
  }
 ],
 "metadata": {
  "kernelspec": {
   "display_name": "Python 2",
   "language": "python",
   "name": "python2"
  },
  "language_info": {
   "codemirror_mode": {
    "name": "ipython",
    "version": 2
   },
   "file_extension": ".py",
   "mimetype": "text/x-python",
   "name": "python",
   "nbconvert_exporter": "python",
   "pygments_lexer": "ipython2",
   "version": "2.7.15"
  }
 },
 "nbformat": 4,
 "nbformat_minor": 2
}
