{
 "cells": [
  {
   "cell_type": "markdown",
   "metadata": {},
   "source": [
    "## import package"
   ]
  },
  {
   "cell_type": "code",
   "execution_count": 1,
   "metadata": {},
   "outputs": [],
   "source": [
    "from IPython.display import display\n",
    "from pyspark.sql.types import *\n",
    "import pyspark.sql.functions as F\n",
    "from pyspark.ml.linalg import Vectors, SparseVector, VectorUDT"
   ]
  },
  {
   "cell_type": "code",
   "execution_count": 2,
   "metadata": {},
   "outputs": [],
   "source": [
    "import numpy as np\n",
    "import scipy.sparse\n",
    "import math\n",
    "import datetime\n",
    "import time\n",
    "import itertools\n",
    "import pandas as pd\n",
    "%matplotlib inline"
   ]
  },
  {
   "cell_type": "markdown",
   "metadata": {},
   "source": [
    "## load data"
   ]
  },
  {
   "cell_type": "code",
   "execution_count": 3,
   "metadata": {},
   "outputs": [],
   "source": [
    "# train set, test set 불러오기\n",
    "train = spark.read.format('csv').option(\"header\", \"true\").load('gs://capstone-03/data/train_sample_df_3.csv')\n",
    "test = spark.read.format('csv').option(\"header\", \"true\").load('gs://capstone-03/data/test_sample_df_3.csv')"
   ]
  },
  {
   "cell_type": "code",
   "execution_count": 5,
   "metadata": {},
   "outputs": [],
   "source": [
    "from pyspark.sql.functions import col\n",
    "train = train.select(*(col(c).cast(\"string\").alias(c) for c in train.columns))"
   ]
  },
  {
   "cell_type": "code",
   "execution_count": 6,
   "metadata": {},
   "outputs": [],
   "source": [
    "test = test.select(*(col(c).cast(\"string\").alias(c) for c in test.columns))"
   ]
  },
  {
   "cell_type": "code",
   "execution_count": 7,
   "metadata": {},
   "outputs": [],
   "source": [
    "from pyspark.sql.functions import lit\n",
    "train = train.withColumn(\"is_train\", lit(1))\n",
    "test = test.withColumn(\"is_train\", lit(0))"
   ]
  },
  {
   "cell_type": "code",
   "execution_count": 12,
   "metadata": {},
   "outputs": [
    {
     "name": "stdout",
     "output_type": "stream",
     "text": [
      "(1032825, 31)\n",
      "(272177, 31)\n"
     ]
    }
   ],
   "source": [
    "# print((train.count(), len(train.columns)))\n",
    "# print((test.count(), len(test.columns)))"
   ]
  },
  {
   "cell_type": "code",
   "execution_count": 8,
   "metadata": {},
   "outputs": [],
   "source": [
    "# train set, test set 합치기\n",
    "union = train.union(test)"
   ]
  },
  {
   "cell_type": "code",
   "execution_count": 14,
   "metadata": {},
   "outputs": [
    {
     "name": "stdout",
     "output_type": "stream",
     "text": [
      "(1305002, 31)\n"
     ]
    }
   ],
   "source": [
    "# print((union.count(), len(union.columns)))"
   ]
  },
  {
   "cell_type": "code",
   "execution_count": 9,
   "metadata": {},
   "outputs": [
    {
     "name": "stdout",
     "output_type": "stream",
     "text": [
      "root\n",
      " |-- display_id: string (nullable = true)\n",
      " |-- ad_id: string (nullable = true)\n",
      " |-- label: string (nullable = true)\n",
      " |-- is_leak: string (nullable = true)\n",
      " |-- weekend: string (nullable = true)\n",
      " |-- view_publisher_id: string (nullable = true)\n",
      " |-- view_source_id: string (nullable = true)\n",
      " |-- hour: string (nullable = true)\n",
      " |-- platform: string (nullable = true)\n",
      " |-- traffic_source: string (nullable = true)\n",
      " |-- country: string (nullable = true)\n",
      " |-- day_event: string (nullable = true)\n",
      " |-- campaign_id: string (nullable = true)\n",
      " |-- advertiser_id: string (nullable = true)\n",
      " |-- ad_category_id: string (nullable = true)\n",
      " |-- ad_topic_id: string (nullable = true)\n",
      " |-- view_category_id: string (nullable = true)\n",
      " |-- view_topic_id: string (nullable = true)\n",
      " |-- timestamp_event: string (nullable = true)\n",
      " |-- ad_source_id: string (nullable = true)\n",
      " |-- ad_publisher_id: string (nullable = true)\n",
      " |-- pop_ad_id: string (nullable = true)\n",
      " |-- pop_ad_doc_id: string (nullable = true)\n",
      " |-- pop_ad_publisher_id: string (nullable = true)\n",
      " |-- pop_advertiser_id: string (nullable = true)\n",
      " |-- pop_campaign_id: string (nullable = true)\n",
      " |-- pop_view_doc_ad_doc: string (nullable = true)\n",
      " |-- pop_ad_source_id: string (nullable = true)\n",
      " |-- pop_ad_topic_id: string (nullable = true)\n",
      " |-- pop_ad_category_id: string (nullable = true)\n",
      " |-- is_train: integer (nullable = false)\n",
      "\n"
     ]
    }
   ],
   "source": [
    "raw_df = union\n",
    "raw_df.printSchema()"
   ]
  },
  {
   "cell_type": "code",
   "execution_count": 16,
   "metadata": {},
   "outputs": [
    {
     "data": {
      "text/html": [
       "<div>\n",
       "<style scoped>\n",
       "    .dataframe tbody tr th:only-of-type {\n",
       "        vertical-align: middle;\n",
       "    }\n",
       "\n",
       "    .dataframe tbody tr th {\n",
       "        vertical-align: top;\n",
       "    }\n",
       "\n",
       "    .dataframe thead th {\n",
       "        text-align: right;\n",
       "    }\n",
       "</style>\n",
       "<table border=\"1\" class=\"dataframe\">\n",
       "  <thead>\n",
       "    <tr style=\"text-align: right;\">\n",
       "      <th></th>\n",
       "      <th>0</th>\n",
       "      <th>1</th>\n",
       "      <th>2</th>\n",
       "      <th>3</th>\n",
       "      <th>4</th>\n",
       "    </tr>\n",
       "  </thead>\n",
       "  <tbody>\n",
       "    <tr>\n",
       "      <th>display_id</th>\n",
       "      <td>2790527</td>\n",
       "      <td>4189325</td>\n",
       "      <td>2806444</td>\n",
       "      <td>2783288</td>\n",
       "      <td>55830</td>\n",
       "    </tr>\n",
       "    <tr>\n",
       "      <th>ad_id</th>\n",
       "      <td>151311</td>\n",
       "      <td>151311</td>\n",
       "      <td>151311</td>\n",
       "      <td>151311</td>\n",
       "      <td>151311</td>\n",
       "    </tr>\n",
       "    <tr>\n",
       "      <th>label</th>\n",
       "      <td>0</td>\n",
       "      <td>1</td>\n",
       "      <td>0</td>\n",
       "      <td>0</td>\n",
       "      <td>0</td>\n",
       "    </tr>\n",
       "    <tr>\n",
       "      <th>is_leak</th>\n",
       "      <td>-1</td>\n",
       "      <td>-1</td>\n",
       "      <td>0</td>\n",
       "      <td>-1</td>\n",
       "      <td>-1</td>\n",
       "    </tr>\n",
       "    <tr>\n",
       "      <th>weekend</th>\n",
       "      <td>0</td>\n",
       "      <td>0</td>\n",
       "      <td>0</td>\n",
       "      <td>0</td>\n",
       "      <td>0</td>\n",
       "    </tr>\n",
       "    <tr>\n",
       "      <th>view_publisher_id</th>\n",
       "      <td>28</td>\n",
       "      <td>450</td>\n",
       "      <td>784</td>\n",
       "      <td>1089</td>\n",
       "      <td>784</td>\n",
       "    </tr>\n",
       "    <tr>\n",
       "      <th>view_source_id</th>\n",
       "      <td>353</td>\n",
       "      <td>7736</td>\n",
       "      <td>6698</td>\n",
       "      <td>U</td>\n",
       "      <td>6698</td>\n",
       "    </tr>\n",
       "    <tr>\n",
       "      <th>hour</th>\n",
       "      <td>3</td>\n",
       "      <td>1</td>\n",
       "      <td>3</td>\n",
       "      <td>3</td>\n",
       "      <td>6</td>\n",
       "    </tr>\n",
       "    <tr>\n",
       "      <th>platform</th>\n",
       "      <td>2</td>\n",
       "      <td>2</td>\n",
       "      <td>2</td>\n",
       "      <td>2</td>\n",
       "      <td>3</td>\n",
       "    </tr>\n",
       "    <tr>\n",
       "      <th>traffic_source</th>\n",
       "      <td>1</td>\n",
       "      <td>1</td>\n",
       "      <td>1</td>\n",
       "      <td>3</td>\n",
       "      <td>1</td>\n",
       "    </tr>\n",
       "    <tr>\n",
       "      <th>country</th>\n",
       "      <td>U</td>\n",
       "      <td>US</td>\n",
       "      <td>U</td>\n",
       "      <td>U</td>\n",
       "      <td>US</td>\n",
       "    </tr>\n",
       "    <tr>\n",
       "      <th>day_event</th>\n",
       "      <td>2</td>\n",
       "      <td>3</td>\n",
       "      <td>2</td>\n",
       "      <td>2</td>\n",
       "      <td>0</td>\n",
       "    </tr>\n",
       "    <tr>\n",
       "      <th>campaign_id</th>\n",
       "      <td>16314</td>\n",
       "      <td>16314</td>\n",
       "      <td>16314</td>\n",
       "      <td>16314</td>\n",
       "      <td>16314</td>\n",
       "    </tr>\n",
       "    <tr>\n",
       "      <th>advertiser_id</th>\n",
       "      <td>2302</td>\n",
       "      <td>2302</td>\n",
       "      <td>2302</td>\n",
       "      <td>2302</td>\n",
       "      <td>2302</td>\n",
       "    </tr>\n",
       "    <tr>\n",
       "      <th>ad_category_id</th>\n",
       "      <td>1407</td>\n",
       "      <td>1407</td>\n",
       "      <td>1407</td>\n",
       "      <td>1407</td>\n",
       "      <td>1407</td>\n",
       "    </tr>\n",
       "    <tr>\n",
       "      <th>ad_topic_id</th>\n",
       "      <td>10</td>\n",
       "      <td>10</td>\n",
       "      <td>10</td>\n",
       "      <td>10</td>\n",
       "      <td>10</td>\n",
       "    </tr>\n",
       "    <tr>\n",
       "      <th>view_category_id</th>\n",
       "      <td>1708</td>\n",
       "      <td>1603</td>\n",
       "      <td>1403</td>\n",
       "      <td>1609</td>\n",
       "      <td>U</td>\n",
       "    </tr>\n",
       "    <tr>\n",
       "      <th>view_topic_id</th>\n",
       "      <td>107</td>\n",
       "      <td>143</td>\n",
       "      <td>16</td>\n",
       "      <td>8</td>\n",
       "      <td>143</td>\n",
       "    </tr>\n",
       "    <tr>\n",
       "      <th>timestamp_event</th>\n",
       "      <td>177590335</td>\n",
       "      <td>269644025</td>\n",
       "      <td>179146629</td>\n",
       "      <td>176913450</td>\n",
       "      <td>4426654</td>\n",
       "    </tr>\n",
       "    <tr>\n",
       "      <th>ad_source_id</th>\n",
       "      <td>368</td>\n",
       "      <td>368</td>\n",
       "      <td>368</td>\n",
       "      <td>368</td>\n",
       "      <td>368</td>\n",
       "    </tr>\n",
       "    <tr>\n",
       "      <th>ad_publisher_id</th>\n",
       "      <td>U</td>\n",
       "      <td>U</td>\n",
       "      <td>U</td>\n",
       "      <td>U</td>\n",
       "      <td>U</td>\n",
       "    </tr>\n",
       "    <tr>\n",
       "      <th>pop_ad_id</th>\n",
       "      <td>1</td>\n",
       "      <td>1</td>\n",
       "      <td>1</td>\n",
       "      <td>1</td>\n",
       "      <td>1</td>\n",
       "    </tr>\n",
       "    <tr>\n",
       "      <th>pop_ad_doc_id</th>\n",
       "      <td>1</td>\n",
       "      <td>1</td>\n",
       "      <td>1</td>\n",
       "      <td>1</td>\n",
       "      <td>1</td>\n",
       "    </tr>\n",
       "    <tr>\n",
       "      <th>pop_ad_publisher_id</th>\n",
       "      <td>U</td>\n",
       "      <td>U</td>\n",
       "      <td>U</td>\n",
       "      <td>U</td>\n",
       "      <td>U</td>\n",
       "    </tr>\n",
       "    <tr>\n",
       "      <th>pop_advertiser_id</th>\n",
       "      <td>1</td>\n",
       "      <td>1</td>\n",
       "      <td>1</td>\n",
       "      <td>1</td>\n",
       "      <td>1</td>\n",
       "    </tr>\n",
       "    <tr>\n",
       "      <th>pop_campaign_id</th>\n",
       "      <td>1</td>\n",
       "      <td>1</td>\n",
       "      <td>1</td>\n",
       "      <td>1</td>\n",
       "      <td>1</td>\n",
       "    </tr>\n",
       "    <tr>\n",
       "      <th>pop_view_doc_ad_doc</th>\n",
       "      <td>U</td>\n",
       "      <td>U</td>\n",
       "      <td>U</td>\n",
       "      <td>U</td>\n",
       "      <td>1</td>\n",
       "    </tr>\n",
       "    <tr>\n",
       "      <th>pop_ad_source_id</th>\n",
       "      <td>1</td>\n",
       "      <td>1</td>\n",
       "      <td>1</td>\n",
       "      <td>1</td>\n",
       "      <td>1</td>\n",
       "    </tr>\n",
       "    <tr>\n",
       "      <th>pop_ad_topic_id</th>\n",
       "      <td>1</td>\n",
       "      <td>1</td>\n",
       "      <td>1</td>\n",
       "      <td>1</td>\n",
       "      <td>1</td>\n",
       "    </tr>\n",
       "    <tr>\n",
       "      <th>pop_ad_category_id</th>\n",
       "      <td>1</td>\n",
       "      <td>1</td>\n",
       "      <td>1</td>\n",
       "      <td>1</td>\n",
       "      <td>1</td>\n",
       "    </tr>\n",
       "    <tr>\n",
       "      <th>is_train</th>\n",
       "      <td>1</td>\n",
       "      <td>1</td>\n",
       "      <td>1</td>\n",
       "      <td>1</td>\n",
       "      <td>1</td>\n",
       "    </tr>\n",
       "  </tbody>\n",
       "</table>\n",
       "</div>"
      ],
      "text/plain": [
       "                             0          1          2          3        4\n",
       "display_id             2790527    4189325    2806444    2783288    55830\n",
       "ad_id                   151311     151311     151311     151311   151311\n",
       "label                        0          1          0          0        0\n",
       "is_leak                     -1         -1          0         -1       -1\n",
       "weekend                      0          0          0          0        0\n",
       "view_publisher_id           28        450        784       1089      784\n",
       "view_source_id             353       7736       6698          U     6698\n",
       "hour                         3          1          3          3        6\n",
       "platform                     2          2          2          2        3\n",
       "traffic_source               1          1          1          3        1\n",
       "country                      U         US          U          U       US\n",
       "day_event                    2          3          2          2        0\n",
       "campaign_id              16314      16314      16314      16314    16314\n",
       "advertiser_id             2302       2302       2302       2302     2302\n",
       "ad_category_id            1407       1407       1407       1407     1407\n",
       "ad_topic_id                 10         10         10         10       10\n",
       "view_category_id          1708       1603       1403       1609        U\n",
       "view_topic_id              107        143         16          8      143\n",
       "timestamp_event      177590335  269644025  179146629  176913450  4426654\n",
       "ad_source_id               368        368        368        368      368\n",
       "ad_publisher_id              U          U          U          U        U\n",
       "pop_ad_id                    1          1          1          1        1\n",
       "pop_ad_doc_id                1          1          1          1        1\n",
       "pop_ad_publisher_id          U          U          U          U        U\n",
       "pop_advertiser_id            1          1          1          1        1\n",
       "pop_campaign_id              1          1          1          1        1\n",
       "pop_view_doc_ad_doc          U          U          U          U        1\n",
       "pop_ad_source_id             1          1          1          1        1\n",
       "pop_ad_topic_id              1          1          1          1        1\n",
       "pop_ad_category_id           1          1          1          1        1\n",
       "is_train                     1          1          1          1        1"
      ]
     },
     "execution_count": 16,
     "metadata": {},
     "output_type": "execute_result"
    }
   ],
   "source": [
    "# pd.DataFrame(raw_df.take(5), columns=raw_df.columns).transpose()"
   ]
  },
  {
   "cell_type": "code",
   "execution_count": 10,
   "metadata": {},
   "outputs": [
    {
     "name": "stdout",
     "output_type": "stream",
     "text": [
      "root\n",
      " |-- display_id: string (nullable = true)\n",
      " |-- ad_id: string (nullable = true)\n",
      " |-- ClickOrNot: string (nullable = true)\n",
      " |-- is_leak: string (nullable = true)\n",
      " |-- weekend: string (nullable = true)\n",
      " |-- view_publisher_id: string (nullable = true)\n",
      " |-- view_source_id: string (nullable = true)\n",
      " |-- hour: string (nullable = true)\n",
      " |-- platform: string (nullable = true)\n",
      " |-- traffic_source: string (nullable = true)\n",
      " |-- country: string (nullable = true)\n",
      " |-- campaign_id: string (nullable = true)\n",
      " |-- advertiser_id: string (nullable = true)\n",
      " |-- ad_category_id: string (nullable = true)\n",
      " |-- ad_topic_id: string (nullable = true)\n",
      " |-- view_category_id: string (nullable = true)\n",
      " |-- view_topic_id: string (nullable = true)\n",
      " |-- ad_source_id: string (nullable = true)\n",
      " |-- ad_publisher_id: string (nullable = true)\n",
      " |-- pop_ad_id: string (nullable = true)\n",
      " |-- pop_ad_doc_id: string (nullable = true)\n",
      " |-- pop_ad_publisher_id: string (nullable = true)\n",
      " |-- pop_advertiser_id: string (nullable = true)\n",
      " |-- pop_campaign_id: string (nullable = true)\n",
      " |-- pop_view_doc_ad_doc: string (nullable = true)\n",
      " |-- pop_ad_source_id: string (nullable = true)\n",
      " |-- pop_ad_topic_id: string (nullable = true)\n",
      " |-- pop_ad_category_id: string (nullable = true)\n",
      " |-- is_train: integer (nullable = false)\n",
      "\n",
      "(1305002, 29)\n"
     ]
    }
   ],
   "source": [
    "# 'day_event', 'timestamp_event' 제외 (시간 변수는 필요 없어서) \n",
    "raw_df = raw_df.select([c for c in raw_df.columns if c not in {'day_event', 'timestamp_event'}])\n",
    "\n",
    "# 뒤에 outputCol로 'label'을 사용해서, 'label'이 중복되지 않도록, data의 'label' 컬럼명을 \"ClickOrNot\"로 바꿔준다\n",
    "raw_df = raw_df.withColumnRenamed(\"label\", \"ClickOrNot\")\n",
    "\n",
    "# raw_df를 printSchema 해보기\n",
    "raw_df.printSchema()\n",
    "print((raw_df.count(), len(raw_df.columns))) # (1305002, 29)"
   ]
  },
  {
   "cell_type": "markdown",
   "metadata": {},
   "source": [
    "## feature engineering - numeric"
   ]
  },
  {
   "cell_type": "code",
   "execution_count": null,
   "metadata": {},
   "outputs": [],
   "source": [
    "# numeric_features 없음, 이 코드 건너뛰기\n",
    "# numeric_features = [t[0] for t in df.dtypes if t[1] == 'int'] # numeric features 이름 저장\n",
    "# df.select(numeric_features).describe().toPandas().transpose()"
   ]
  },
  {
   "cell_type": "markdown",
   "metadata": {},
   "source": [
    "## feature engineering - categorical"
   ]
  },
  {
   "cell_type": "code",
   "execution_count": 11,
   "metadata": {},
   "outputs": [],
   "source": [
    "from pyspark.ml.feature import OneHotEncoderEstimator, StringIndexer, VectorAssembler\n",
    "categoricalColumns = ['weekend', 'view_publisher_id', 'view_source_id', 'hour', 'platform', 'traffic_source', 'country', 'campaign_id', 'advertiser_id', 'ad_category_id', 'ad_topic_id', 'view_category_id', 'view_topic_id', 'ad_source_id', 'ad_publisher_id', 'pop_ad_id', 'pop_ad_doc_id', 'pop_ad_publisher_id', 'pop_advertiser_id', 'pop_campaign_id', 'pop_view_doc_ad_doc', 'pop_ad_source_id', 'pop_ad_topic_id', 'pop_ad_category_id']\n",
    "# categoricalColumns : 24개\n",
    "# 사용하지 않은 컬럼 : 5개 ('display_id', 'ad_id', 'ClickOrNot', 'is_leak', 'is_train')\n",
    "stages = []"
   ]
  },
  {
   "cell_type": "code",
   "execution_count": 12,
   "metadata": {},
   "outputs": [],
   "source": [
    "for categoricalCol in categoricalColumns:\n",
    "    stringIndexer = StringIndexer(inputCol = categoricalCol, outputCol = categoricalCol + 'Index')\n",
    "    encoder = OneHotEncoderEstimator(inputCols=[stringIndexer.getOutputCol()], outputCols=[categoricalCol + \"classVec\"])\n",
    "    stages += [stringIndexer, encoder]"
   ]
  },
  {
   "cell_type": "code",
   "execution_count": null,
   "metadata": {},
   "outputs": [],
   "source": [
    "# df.select('column1').distinct().count()"
   ]
  },
  {
   "cell_type": "markdown",
   "metadata": {},
   "source": [
    "## feature engineering - label"
   ]
  },
  {
   "cell_type": "code",
   "execution_count": 13,
   "metadata": {},
   "outputs": [],
   "source": [
    "label_stringIdx = StringIndexer(inputCol = 'ClickOrNot', outputCol = 'label')\n",
    "stages += [label_stringIdx]"
   ]
  },
  {
   "cell_type": "markdown",
   "metadata": {},
   "source": [
    "## feature engineering - assembler (categorical)"
   ]
  },
  {
   "cell_type": "code",
   "execution_count": 14,
   "metadata": {},
   "outputs": [],
   "source": [
    "assemblerInputs = [c + \"classVec\" for c in categoricalColumns]\n",
    "assembler = VectorAssembler(inputCols=assemblerInputs, outputCol=\"features\")\n",
    "stages += [assembler]"
   ]
  },
  {
   "cell_type": "markdown",
   "metadata": {},
   "source": [
    "## feature engineering - assembler (numeric)"
   ]
  },
  {
   "cell_type": "code",
   "execution_count": null,
   "metadata": {},
   "outputs": [],
   "source": [
    "# numeric_features 없음, 이 코드 건너뛰기\n",
    "# numericCols = []\n",
    "# assemblerInputs = [c + \"classVec\" for c in categoricalColumns] + numericCols\n",
    "# assembler = VectorAssembler(inputCols=assemblerInputs, outputCol=\"features\")\n",
    "# stages += [assembler]"
   ]
  },
  {
   "cell_type": "markdown",
   "metadata": {},
   "source": [
    "## pipeline"
   ]
  },
  {
   "cell_type": "code",
   "execution_count": 15,
   "metadata": {},
   "outputs": [],
   "source": [
    "from pyspark.ml import Pipeline\n",
    "pipeline = Pipeline(stages = stages)\n",
    "pipelineModel = pipeline.fit(raw_df)\n",
    "transform_df = pipelineModel.transform(raw_df)\n",
    "cols = raw_df.columns\n",
    "selectedCols = ['label', 'features'] + cols\n",
    "selected_df = transform_df.select(selectedCols)"
   ]
  },
  {
   "cell_type": "code",
   "execution_count": 16,
   "metadata": {},
   "outputs": [
    {
     "name": "stdout",
     "output_type": "stream",
     "text": [
      "root\n",
      " |-- label: double (nullable = false)\n",
      " |-- features: vector (nullable = true)\n",
      " |-- display_id: string (nullable = true)\n",
      " |-- ad_id: string (nullable = true)\n",
      " |-- ClickOrNot: string (nullable = true)\n",
      " |-- is_leak: string (nullable = true)\n",
      " |-- weekend: string (nullable = true)\n",
      " |-- view_publisher_id: string (nullable = true)\n",
      " |-- view_source_id: string (nullable = true)\n",
      " |-- hour: string (nullable = true)\n",
      " |-- platform: string (nullable = true)\n",
      " |-- traffic_source: string (nullable = true)\n",
      " |-- country: string (nullable = true)\n",
      " |-- campaign_id: string (nullable = true)\n",
      " |-- advertiser_id: string (nullable = true)\n",
      " |-- ad_category_id: string (nullable = true)\n",
      " |-- ad_topic_id: string (nullable = true)\n",
      " |-- view_category_id: string (nullable = true)\n",
      " |-- view_topic_id: string (nullable = true)\n",
      " |-- ad_source_id: string (nullable = true)\n",
      " |-- ad_publisher_id: string (nullable = true)\n",
      " |-- pop_ad_id: string (nullable = true)\n",
      " |-- pop_ad_doc_id: string (nullable = true)\n",
      " |-- pop_ad_publisher_id: string (nullable = true)\n",
      " |-- pop_advertiser_id: string (nullable = true)\n",
      " |-- pop_campaign_id: string (nullable = true)\n",
      " |-- pop_view_doc_ad_doc: string (nullable = true)\n",
      " |-- pop_ad_source_id: string (nullable = true)\n",
      " |-- pop_ad_topic_id: string (nullable = true)\n",
      " |-- pop_ad_category_id: string (nullable = true)\n",
      " |-- is_train: integer (nullable = false)\n",
      "\n",
      "(1305002, 31)\n"
     ]
    }
   ],
   "source": [
    "selected_df.printSchema()\n",
    "print((selected_df.count(), len(selected_df.columns))) # 29 -> 31  : new columns('label', 'features') are added"
   ]
  },
  {
   "cell_type": "code",
   "execution_count": 24,
   "metadata": {},
   "outputs": [
    {
     "data": {
      "text/html": [
       "<div>\n",
       "<style scoped>\n",
       "    .dataframe tbody tr th:only-of-type {\n",
       "        vertical-align: middle;\n",
       "    }\n",
       "\n",
       "    .dataframe tbody tr th {\n",
       "        vertical-align: top;\n",
       "    }\n",
       "\n",
       "    .dataframe thead th {\n",
       "        text-align: right;\n",
       "    }\n",
       "</style>\n",
       "<table border=\"1\" class=\"dataframe\">\n",
       "  <thead>\n",
       "    <tr style=\"text-align: right;\">\n",
       "      <th></th>\n",
       "      <th>0</th>\n",
       "      <th>1</th>\n",
       "      <th>2</th>\n",
       "      <th>3</th>\n",
       "      <th>4</th>\n",
       "    </tr>\n",
       "  </thead>\n",
       "  <tbody>\n",
       "    <tr>\n",
       "      <th>label</th>\n",
       "      <td>0</td>\n",
       "      <td>1</td>\n",
       "      <td>0</td>\n",
       "      <td>0</td>\n",
       "      <td>0</td>\n",
       "    </tr>\n",
       "    <tr>\n",
       "      <th>features</th>\n",
       "      <td>(1.0, 0.0, 0.0, 0.0, 0.0, 0.0, 0.0, 0.0, 0.0, ...</td>\n",
       "      <td>(1.0, 1.0, 0.0, 0.0, 0.0, 0.0, 0.0, 0.0, 0.0, ...</td>\n",
       "      <td>(1.0, 0.0, 0.0, 0.0, 0.0, 0.0, 0.0, 0.0, 0.0, ...</td>\n",
       "      <td>(1.0, 0.0, 0.0, 1.0, 0.0, 0.0, 0.0, 0.0, 0.0, ...</td>\n",
       "      <td>(1.0, 0.0, 0.0, 0.0, 0.0, 0.0, 0.0, 0.0, 0.0, ...</td>\n",
       "    </tr>\n",
       "    <tr>\n",
       "      <th>display_id</th>\n",
       "      <td>2790527</td>\n",
       "      <td>4189325</td>\n",
       "      <td>2806444</td>\n",
       "      <td>2783288</td>\n",
       "      <td>55830</td>\n",
       "    </tr>\n",
       "    <tr>\n",
       "      <th>ad_id</th>\n",
       "      <td>151311</td>\n",
       "      <td>151311</td>\n",
       "      <td>151311</td>\n",
       "      <td>151311</td>\n",
       "      <td>151311</td>\n",
       "    </tr>\n",
       "    <tr>\n",
       "      <th>ClickOrNot</th>\n",
       "      <td>0</td>\n",
       "      <td>1</td>\n",
       "      <td>0</td>\n",
       "      <td>0</td>\n",
       "      <td>0</td>\n",
       "    </tr>\n",
       "    <tr>\n",
       "      <th>is_leak</th>\n",
       "      <td>-1</td>\n",
       "      <td>-1</td>\n",
       "      <td>0</td>\n",
       "      <td>-1</td>\n",
       "      <td>-1</td>\n",
       "    </tr>\n",
       "    <tr>\n",
       "      <th>weekend</th>\n",
       "      <td>0</td>\n",
       "      <td>0</td>\n",
       "      <td>0</td>\n",
       "      <td>0</td>\n",
       "      <td>0</td>\n",
       "    </tr>\n",
       "    <tr>\n",
       "      <th>view_publisher_id</th>\n",
       "      <td>28</td>\n",
       "      <td>450</td>\n",
       "      <td>784</td>\n",
       "      <td>1089</td>\n",
       "      <td>784</td>\n",
       "    </tr>\n",
       "    <tr>\n",
       "      <th>view_source_id</th>\n",
       "      <td>353</td>\n",
       "      <td>7736</td>\n",
       "      <td>6698</td>\n",
       "      <td>U</td>\n",
       "      <td>6698</td>\n",
       "    </tr>\n",
       "    <tr>\n",
       "      <th>hour</th>\n",
       "      <td>3</td>\n",
       "      <td>1</td>\n",
       "      <td>3</td>\n",
       "      <td>3</td>\n",
       "      <td>6</td>\n",
       "    </tr>\n",
       "    <tr>\n",
       "      <th>platform</th>\n",
       "      <td>2</td>\n",
       "      <td>2</td>\n",
       "      <td>2</td>\n",
       "      <td>2</td>\n",
       "      <td>3</td>\n",
       "    </tr>\n",
       "    <tr>\n",
       "      <th>traffic_source</th>\n",
       "      <td>1</td>\n",
       "      <td>1</td>\n",
       "      <td>1</td>\n",
       "      <td>3</td>\n",
       "      <td>1</td>\n",
       "    </tr>\n",
       "    <tr>\n",
       "      <th>country</th>\n",
       "      <td>U</td>\n",
       "      <td>US</td>\n",
       "      <td>U</td>\n",
       "      <td>U</td>\n",
       "      <td>US</td>\n",
       "    </tr>\n",
       "    <tr>\n",
       "      <th>campaign_id</th>\n",
       "      <td>16314</td>\n",
       "      <td>16314</td>\n",
       "      <td>16314</td>\n",
       "      <td>16314</td>\n",
       "      <td>16314</td>\n",
       "    </tr>\n",
       "    <tr>\n",
       "      <th>advertiser_id</th>\n",
       "      <td>2302</td>\n",
       "      <td>2302</td>\n",
       "      <td>2302</td>\n",
       "      <td>2302</td>\n",
       "      <td>2302</td>\n",
       "    </tr>\n",
       "    <tr>\n",
       "      <th>ad_category_id</th>\n",
       "      <td>1407</td>\n",
       "      <td>1407</td>\n",
       "      <td>1407</td>\n",
       "      <td>1407</td>\n",
       "      <td>1407</td>\n",
       "    </tr>\n",
       "    <tr>\n",
       "      <th>ad_topic_id</th>\n",
       "      <td>10</td>\n",
       "      <td>10</td>\n",
       "      <td>10</td>\n",
       "      <td>10</td>\n",
       "      <td>10</td>\n",
       "    </tr>\n",
       "    <tr>\n",
       "      <th>view_category_id</th>\n",
       "      <td>1708</td>\n",
       "      <td>1603</td>\n",
       "      <td>1403</td>\n",
       "      <td>1609</td>\n",
       "      <td>U</td>\n",
       "    </tr>\n",
       "    <tr>\n",
       "      <th>view_topic_id</th>\n",
       "      <td>107</td>\n",
       "      <td>143</td>\n",
       "      <td>16</td>\n",
       "      <td>8</td>\n",
       "      <td>143</td>\n",
       "    </tr>\n",
       "    <tr>\n",
       "      <th>ad_source_id</th>\n",
       "      <td>368</td>\n",
       "      <td>368</td>\n",
       "      <td>368</td>\n",
       "      <td>368</td>\n",
       "      <td>368</td>\n",
       "    </tr>\n",
       "    <tr>\n",
       "      <th>ad_publisher_id</th>\n",
       "      <td>U</td>\n",
       "      <td>U</td>\n",
       "      <td>U</td>\n",
       "      <td>U</td>\n",
       "      <td>U</td>\n",
       "    </tr>\n",
       "    <tr>\n",
       "      <th>pop_ad_id</th>\n",
       "      <td>1</td>\n",
       "      <td>1</td>\n",
       "      <td>1</td>\n",
       "      <td>1</td>\n",
       "      <td>1</td>\n",
       "    </tr>\n",
       "    <tr>\n",
       "      <th>pop_ad_doc_id</th>\n",
       "      <td>1</td>\n",
       "      <td>1</td>\n",
       "      <td>1</td>\n",
       "      <td>1</td>\n",
       "      <td>1</td>\n",
       "    </tr>\n",
       "    <tr>\n",
       "      <th>pop_ad_publisher_id</th>\n",
       "      <td>U</td>\n",
       "      <td>U</td>\n",
       "      <td>U</td>\n",
       "      <td>U</td>\n",
       "      <td>U</td>\n",
       "    </tr>\n",
       "    <tr>\n",
       "      <th>pop_advertiser_id</th>\n",
       "      <td>1</td>\n",
       "      <td>1</td>\n",
       "      <td>1</td>\n",
       "      <td>1</td>\n",
       "      <td>1</td>\n",
       "    </tr>\n",
       "    <tr>\n",
       "      <th>pop_campaign_id</th>\n",
       "      <td>1</td>\n",
       "      <td>1</td>\n",
       "      <td>1</td>\n",
       "      <td>1</td>\n",
       "      <td>1</td>\n",
       "    </tr>\n",
       "    <tr>\n",
       "      <th>pop_view_doc_ad_doc</th>\n",
       "      <td>U</td>\n",
       "      <td>U</td>\n",
       "      <td>U</td>\n",
       "      <td>U</td>\n",
       "      <td>1</td>\n",
       "    </tr>\n",
       "    <tr>\n",
       "      <th>pop_ad_source_id</th>\n",
       "      <td>1</td>\n",
       "      <td>1</td>\n",
       "      <td>1</td>\n",
       "      <td>1</td>\n",
       "      <td>1</td>\n",
       "    </tr>\n",
       "    <tr>\n",
       "      <th>pop_ad_topic_id</th>\n",
       "      <td>1</td>\n",
       "      <td>1</td>\n",
       "      <td>1</td>\n",
       "      <td>1</td>\n",
       "      <td>1</td>\n",
       "    </tr>\n",
       "    <tr>\n",
       "      <th>pop_ad_category_id</th>\n",
       "      <td>1</td>\n",
       "      <td>1</td>\n",
       "      <td>1</td>\n",
       "      <td>1</td>\n",
       "      <td>1</td>\n",
       "    </tr>\n",
       "    <tr>\n",
       "      <th>is_train</th>\n",
       "      <td>1</td>\n",
       "      <td>1</td>\n",
       "      <td>1</td>\n",
       "      <td>1</td>\n",
       "      <td>1</td>\n",
       "    </tr>\n",
       "  </tbody>\n",
       "</table>\n",
       "</div>"
      ],
      "text/plain": [
       "                                                                     0  \\\n",
       "label                                                                0   \n",
       "features             (1.0, 0.0, 0.0, 0.0, 0.0, 0.0, 0.0, 0.0, 0.0, ...   \n",
       "display_id                                                     2790527   \n",
       "ad_id                                                           151311   \n",
       "ClickOrNot                                                           0   \n",
       "is_leak                                                             -1   \n",
       "weekend                                                              0   \n",
       "view_publisher_id                                                   28   \n",
       "view_source_id                                                     353   \n",
       "hour                                                                 3   \n",
       "platform                                                             2   \n",
       "traffic_source                                                       1   \n",
       "country                                                              U   \n",
       "campaign_id                                                      16314   \n",
       "advertiser_id                                                     2302   \n",
       "ad_category_id                                                    1407   \n",
       "ad_topic_id                                                         10   \n",
       "view_category_id                                                  1708   \n",
       "view_topic_id                                                      107   \n",
       "ad_source_id                                                       368   \n",
       "ad_publisher_id                                                      U   \n",
       "pop_ad_id                                                            1   \n",
       "pop_ad_doc_id                                                        1   \n",
       "pop_ad_publisher_id                                                  U   \n",
       "pop_advertiser_id                                                    1   \n",
       "pop_campaign_id                                                      1   \n",
       "pop_view_doc_ad_doc                                                  U   \n",
       "pop_ad_source_id                                                     1   \n",
       "pop_ad_topic_id                                                      1   \n",
       "pop_ad_category_id                                                   1   \n",
       "is_train                                                             1   \n",
       "\n",
       "                                                                     1  \\\n",
       "label                                                                1   \n",
       "features             (1.0, 1.0, 0.0, 0.0, 0.0, 0.0, 0.0, 0.0, 0.0, ...   \n",
       "display_id                                                     4189325   \n",
       "ad_id                                                           151311   \n",
       "ClickOrNot                                                           1   \n",
       "is_leak                                                             -1   \n",
       "weekend                                                              0   \n",
       "view_publisher_id                                                  450   \n",
       "view_source_id                                                    7736   \n",
       "hour                                                                 1   \n",
       "platform                                                             2   \n",
       "traffic_source                                                       1   \n",
       "country                                                             US   \n",
       "campaign_id                                                      16314   \n",
       "advertiser_id                                                     2302   \n",
       "ad_category_id                                                    1407   \n",
       "ad_topic_id                                                         10   \n",
       "view_category_id                                                  1603   \n",
       "view_topic_id                                                      143   \n",
       "ad_source_id                                                       368   \n",
       "ad_publisher_id                                                      U   \n",
       "pop_ad_id                                                            1   \n",
       "pop_ad_doc_id                                                        1   \n",
       "pop_ad_publisher_id                                                  U   \n",
       "pop_advertiser_id                                                    1   \n",
       "pop_campaign_id                                                      1   \n",
       "pop_view_doc_ad_doc                                                  U   \n",
       "pop_ad_source_id                                                     1   \n",
       "pop_ad_topic_id                                                      1   \n",
       "pop_ad_category_id                                                   1   \n",
       "is_train                                                             1   \n",
       "\n",
       "                                                                     2  \\\n",
       "label                                                                0   \n",
       "features             (1.0, 0.0, 0.0, 0.0, 0.0, 0.0, 0.0, 0.0, 0.0, ...   \n",
       "display_id                                                     2806444   \n",
       "ad_id                                                           151311   \n",
       "ClickOrNot                                                           0   \n",
       "is_leak                                                              0   \n",
       "weekend                                                              0   \n",
       "view_publisher_id                                                  784   \n",
       "view_source_id                                                    6698   \n",
       "hour                                                                 3   \n",
       "platform                                                             2   \n",
       "traffic_source                                                       1   \n",
       "country                                                              U   \n",
       "campaign_id                                                      16314   \n",
       "advertiser_id                                                     2302   \n",
       "ad_category_id                                                    1407   \n",
       "ad_topic_id                                                         10   \n",
       "view_category_id                                                  1403   \n",
       "view_topic_id                                                       16   \n",
       "ad_source_id                                                       368   \n",
       "ad_publisher_id                                                      U   \n",
       "pop_ad_id                                                            1   \n",
       "pop_ad_doc_id                                                        1   \n",
       "pop_ad_publisher_id                                                  U   \n",
       "pop_advertiser_id                                                    1   \n",
       "pop_campaign_id                                                      1   \n",
       "pop_view_doc_ad_doc                                                  U   \n",
       "pop_ad_source_id                                                     1   \n",
       "pop_ad_topic_id                                                      1   \n",
       "pop_ad_category_id                                                   1   \n",
       "is_train                                                             1   \n",
       "\n",
       "                                                                     3  \\\n",
       "label                                                                0   \n",
       "features             (1.0, 0.0, 0.0, 1.0, 0.0, 0.0, 0.0, 0.0, 0.0, ...   \n",
       "display_id                                                     2783288   \n",
       "ad_id                                                           151311   \n",
       "ClickOrNot                                                           0   \n",
       "is_leak                                                             -1   \n",
       "weekend                                                              0   \n",
       "view_publisher_id                                                 1089   \n",
       "view_source_id                                                       U   \n",
       "hour                                                                 3   \n",
       "platform                                                             2   \n",
       "traffic_source                                                       3   \n",
       "country                                                              U   \n",
       "campaign_id                                                      16314   \n",
       "advertiser_id                                                     2302   \n",
       "ad_category_id                                                    1407   \n",
       "ad_topic_id                                                         10   \n",
       "view_category_id                                                  1609   \n",
       "view_topic_id                                                        8   \n",
       "ad_source_id                                                       368   \n",
       "ad_publisher_id                                                      U   \n",
       "pop_ad_id                                                            1   \n",
       "pop_ad_doc_id                                                        1   \n",
       "pop_ad_publisher_id                                                  U   \n",
       "pop_advertiser_id                                                    1   \n",
       "pop_campaign_id                                                      1   \n",
       "pop_view_doc_ad_doc                                                  U   \n",
       "pop_ad_source_id                                                     1   \n",
       "pop_ad_topic_id                                                      1   \n",
       "pop_ad_category_id                                                   1   \n",
       "is_train                                                             1   \n",
       "\n",
       "                                                                     4  \n",
       "label                                                                0  \n",
       "features             (1.0, 0.0, 0.0, 0.0, 0.0, 0.0, 0.0, 0.0, 0.0, ...  \n",
       "display_id                                                       55830  \n",
       "ad_id                                                           151311  \n",
       "ClickOrNot                                                           0  \n",
       "is_leak                                                             -1  \n",
       "weekend                                                              0  \n",
       "view_publisher_id                                                  784  \n",
       "view_source_id                                                    6698  \n",
       "hour                                                                 6  \n",
       "platform                                                             3  \n",
       "traffic_source                                                       1  \n",
       "country                                                             US  \n",
       "campaign_id                                                      16314  \n",
       "advertiser_id                                                     2302  \n",
       "ad_category_id                                                    1407  \n",
       "ad_topic_id                                                         10  \n",
       "view_category_id                                                     U  \n",
       "view_topic_id                                                      143  \n",
       "ad_source_id                                                       368  \n",
       "ad_publisher_id                                                      U  \n",
       "pop_ad_id                                                            1  \n",
       "pop_ad_doc_id                                                        1  \n",
       "pop_ad_publisher_id                                                  U  \n",
       "pop_advertiser_id                                                    1  \n",
       "pop_campaign_id                                                      1  \n",
       "pop_view_doc_ad_doc                                                  1  \n",
       "pop_ad_source_id                                                     1  \n",
       "pop_ad_topic_id                                                      1  \n",
       "pop_ad_category_id                                                   1  \n",
       "is_train                                                             1  "
      ]
     },
     "execution_count": 24,
     "metadata": {},
     "output_type": "execute_result"
    }
   ],
   "source": [
    "# pd.DataFrame(selected_df.take(5), columns=selected_df.columns).transpose()"
   ]
  },
  {
   "cell_type": "code",
   "execution_count": 122,
   "metadata": {},
   "outputs": [
    {
     "data": {
      "text/plain": [
       "pyspark.sql.dataframe.DataFrame"
      ]
     },
     "execution_count": 122,
     "metadata": {},
     "output_type": "execute_result"
    }
   ],
   "source": [
    "# print(type(selected_df))"
   ]
  },
  {
   "cell_type": "code",
   "execution_count": 28,
   "metadata": {},
   "outputs": [
    {
     "data": {
      "text/plain": [
       "[Row(label=0.0, features=SparseVector(34867, {0: 1.0, 75: 1.0, 527: 1.0, 2790: 1.0, 2794: 1.0, 2795: 1.0, 2798: 1.0, 8589: 1.0, 26609: 1.0, 28191: 1.0, 28312: 1.0, 28547: 1.0, 28679: 1.0, 28963: 1.0, 34138: 1.0, 34832: 1.0, 34836: 1.0, 34839: 1.0, 34844: 1.0, 34850: 1.0, 34851: 1.0, 34857: 1.0, 34860: 1.0, 34864: 1.0}), display_id=u'2790527', ad_id=u'151311', ClickOrNot=u'0', is_leak=u'-1', weekend=u'0', view_publisher_id=u'28', view_source_id=u'353', hour=u'3', platform=u'2', traffic_source=u'1', country=u'U', campaign_id=u'16314', advertiser_id=u'2302', ad_category_id=u'1407', ad_topic_id=u'10', view_category_id=u'1708', view_topic_id=u'107', ad_source_id=u'368', ad_publisher_id=u'U', pop_ad_id=u'1', pop_ad_doc_id=u'1', pop_ad_publisher_id=u'U', pop_advertiser_id=u'1', pop_campaign_id=u'1', pop_view_doc_ad_doc=u'U', pop_ad_source_id=u'1', pop_ad_topic_id=u'1', pop_ad_category_id=u'1', is_train=1)]"
      ]
     },
     "execution_count": 28,
     "metadata": {},
     "output_type": "execute_result"
    }
   ],
   "source": [
    "selected_df.take(1)"
   ]
  },
  {
   "cell_type": "code",
   "execution_count": 17,
   "metadata": {},
   "outputs": [
    {
     "ename": "TypeError",
     "evalue": "'Column' object is not callable",
     "traceback": [
      "\u001b[0;31m\u001b[0m",
      "\u001b[0;31mTypeError\u001b[0mTraceback (most recent call last)",
      "\u001b[0;32m<ipython-input-17-8d097483201b>\u001b[0m in \u001b[0;36m<module>\u001b[0;34m()\u001b[0m\n\u001b[0;32m----> 1\u001b[0;31m \u001b[0mselected_pd\u001b[0m \u001b[0;34m=\u001b[0m \u001b[0mselected_df\u001b[0m\u001b[0;34m[\u001b[0m\u001b[0;34m\"features\"\u001b[0m\u001b[0;34m]\u001b[0m\u001b[0;34m.\u001b[0m\u001b[0mtoPandas\u001b[0m\u001b[0;34m(\u001b[0m\u001b[0;34m)\u001b[0m\u001b[0;34m\u001b[0m\u001b[0m\n\u001b[0m",
      "\u001b[0;31mTypeError\u001b[0m: 'Column' object is not callable"
     ],
     "output_type": "error"
    }
   ],
   "source": [
    "# selected_pd = selected_df[\"features\"].toPandas()"
   ]
  },
  {
   "cell_type": "markdown",
   "metadata": {},
   "source": [
    "## train, valid split"
   ]
  },
  {
   "cell_type": "code",
   "execution_count": 18,
   "metadata": {},
   "outputs": [],
   "source": [
    "train = selected_df.filter(selected_df.is_train==1)\n",
    "test = selected_df.filter(selected_df.is_train==0)"
   ]
  },
  {
   "cell_type": "code",
   "execution_count": 19,
   "metadata": {},
   "outputs": [
    {
     "name": "stdout",
     "output_type": "stream",
     "text": [
      "Training Dataset Count: 913072\n",
      "Validation Dataset Count: 391889\n"
     ]
    }
   ],
   "source": [
    "train, valid = selected_df.randomSplit([0.7, 0.3], seed = 2018)\n",
    "print(\"Training Dataset Count: \" + str(train.count()))\n",
    "print(\"Validation Dataset Count: \" + str(valid.count()))"
   ]
  },
  {
   "cell_type": "markdown",
   "metadata": {},
   "source": [
    "## 1. logistic regression model"
   ]
  },
  {
   "cell_type": "markdown",
   "metadata": {},
   "source": [
    "### 1.1 logistic regression - training"
   ]
  },
  {
   "cell_type": "code",
   "execution_count": 20,
   "metadata": {},
   "outputs": [
    {
     "name": "stdout",
     "output_type": "stream",
     "text": [
      "--- 44.0883798599 seconds ---\n"
     ]
    }
   ],
   "source": [
    "import datetime\n",
    "start_time = time.time()\n",
    "\n",
    "from pyspark.ml.classification import LogisticRegression\n",
    "lr = LogisticRegression(featuresCol = 'features', labelCol = 'label', maxIter=10) # x는 'features', y는 'label'\n",
    "lrModel = lr.fit(train) # 로지스틱 회귀 모델 트레이닝 시키기\n",
    "\n",
    "print(\"--- %s seconds ---\" % (time.time() - start_time))"
   ]
  },
  {
   "cell_type": "code",
   "execution_count": 21,
   "metadata": {},
   "outputs": [
    {
     "name": "stderr",
     "output_type": "stream",
     "text": [
      "/usr/local/envs/py2env/lib/python2.7/site-packages/matplotlib/font_manager.py:1320: UserWarning: findfont: Font family [u'sans-serif'] not found. Falling back to DejaVu Sans\n",
      "  (prop.get_family(), self.defaultFamily[fontext]))\n"
     ]
    },
    {
     "data": {
      "image/png": "[encoded data removed]",
      "text/plain": [
       "<matplotlib.figure.Figure at 0x7fc5bacb1090>"
      ]
     },
     "metadata": {},
     "output_type": "display_data"
    }
   ],
   "source": [
    "# coef\n",
    "import matplotlib.pyplot as plt\n",
    "beta = np.sort(lrModel.coefficients)\n",
    "plt.plot(beta)\n",
    "plt.ylabel('Beta Coefficients')\n",
    "plt.show()\n",
    "# 회귀 계수가 34867개, 값은 -6.2~7.6 사이에 분포"
   ]
  },
  {
   "cell_type": "code",
   "execution_count": 22,
   "metadata": {},
   "outputs": [
    {
     "name": "stdout",
     "output_type": "stream",
     "text": [
      "34867\n",
      "-6.168102223527297\n",
      "7.6339803355328515\n"
     ]
    }
   ],
   "source": [
    "# print(len(beta))\n",
    "# print(min(beta))\n",
    "# print(max(beta))"
   ]
  },
  {
   "cell_type": "code",
   "execution_count": 23,
   "metadata": {},
   "outputs": [
    {
     "data": {
      "image/png": "[encoded data removed]",
      "text/plain": [
       "<matplotlib.figure.Figure at 0x7fc5b8546990>"
      ]
     },
     "metadata": {},
     "output_type": "display_data"
    }
   ],
   "source": [
    "# ROC curve\n",
    "trainingSummary = lrModel.summary\n",
    "roc = trainingSummary.roc.toPandas()\n",
    "plt.plot(roc['FPR'],roc['TPR'])\n",
    "plt.ylabel('False Positive Rate')\n",
    "plt.xlabel('True Positive Rate')\n",
    "plt.title('ROC Curve')\n",
    "plt.show()"
   ]
  },
  {
   "cell_type": "code",
   "execution_count": 24,
   "metadata": {},
   "outputs": [
    {
     "data": {
      "image/png": "[encoded data removed]",
      "text/plain": [
       "<matplotlib.figure.Figure at 0x7fc5b8475e10>"
      ]
     },
     "metadata": {},
     "output_type": "display_data"
    },
    {
     "name": "stdout",
     "output_type": "stream",
     "text": [
      "Training set areaUnderROC: 0.752746424309\n"
     ]
    }
   ],
   "source": [
    "# precision and recall\n",
    "pr = trainingSummary.pr.toPandas()\n",
    "plt.plot(pr['recall'],pr['precision'])\n",
    "plt.ylabel('Precision')\n",
    "plt.xlabel('Recall')\n",
    "plt.show()\n",
    "print('Training set areaUnderROC: ' + str(trainingSummary.areaUnderROC))"
   ]
  },
  {
   "cell_type": "markdown",
   "metadata": {},
   "source": [
    "### 1.2 logistic regression - validation"
   ]
  },
  {
   "cell_type": "code",
   "execution_count": 25,
   "metadata": {},
   "outputs": [
    {
     "name": "stdout",
     "output_type": "stream",
     "text": [
      "root\n",
      " |-- label: double (nullable = false)\n",
      " |-- features: vector (nullable = true)\n",
      " |-- display_id: string (nullable = true)\n",
      " |-- ad_id: string (nullable = true)\n",
      " |-- ClickOrNot: string (nullable = true)\n",
      " |-- is_leak: string (nullable = true)\n",
      " |-- weekend: string (nullable = true)\n",
      " |-- view_publisher_id: string (nullable = true)\n",
      " |-- view_source_id: string (nullable = true)\n",
      " |-- hour: string (nullable = true)\n",
      " |-- platform: string (nullable = true)\n",
      " |-- traffic_source: string (nullable = true)\n",
      " |-- country: string (nullable = true)\n",
      " |-- campaign_id: string (nullable = true)\n",
      " |-- advertiser_id: string (nullable = true)\n",
      " |-- ad_category_id: string (nullable = true)\n",
      " |-- ad_topic_id: string (nullable = true)\n",
      " |-- view_category_id: string (nullable = true)\n",
      " |-- view_topic_id: string (nullable = true)\n",
      " |-- ad_source_id: string (nullable = true)\n",
      " |-- ad_publisher_id: string (nullable = true)\n",
      " |-- pop_ad_id: string (nullable = true)\n",
      " |-- pop_ad_doc_id: string (nullable = true)\n",
      " |-- pop_ad_publisher_id: string (nullable = true)\n",
      " |-- pop_advertiser_id: string (nullable = true)\n",
      " |-- pop_campaign_id: string (nullable = true)\n",
      " |-- pop_view_doc_ad_doc: string (nullable = true)\n",
      " |-- pop_ad_source_id: string (nullable = true)\n",
      " |-- pop_ad_topic_id: string (nullable = true)\n",
      " |-- pop_ad_category_id: string (nullable = true)\n",
      " |-- is_train: integer (nullable = false)\n",
      " |-- rawPrediction: vector (nullable = true)\n",
      " |-- probability: vector (nullable = true)\n",
      " |-- prediction: double (nullable = false)\n",
      "\n"
     ]
    }
   ],
   "source": [
    "# prediction\n",
    "lrPredictions = lrModel.transform(valid)\n",
    "lrPredictions.printSchema()"
   ]
  },
  {
   "cell_type": "code",
   "execution_count": 22,
   "metadata": {},
   "outputs": [
    {
     "name": "stdout",
     "output_type": "stream",
     "text": [
      "+----------+------+----------+--------------------+\n",
      "|display_id| ad_id|prediction|         probability|\n",
      "+----------+------+----------+--------------------+\n",
      "|   1081731|152055|       0.0|[0.76129631585395...|\n",
      "|   3913279|152057|       0.0|[0.76203140932029...|\n",
      "|   7458692| 99212|       0.0|[0.75418243465143...|\n",
      "|  11560018|134138|       0.0|[0.77065209610854...|\n",
      "|   4170347|  9654|       0.0|[0.89919481341470...|\n",
      "|   1411158|154873|       0.0|[0.87229286437417...|\n",
      "|   8787510| 34906|       0.0|[0.98808825086495...|\n",
      "|   7706137|195697|       0.0|[0.88627140062789...|\n",
      "|  12958619|223540|       0.0|[0.94814998152488...|\n",
      "|  12958619|243487|       0.0|[0.84796579062123...|\n",
      "+----------+------+----------+--------------------+\n",
      "only showing top 10 rows\n",
      "\n"
     ]
    }
   ],
   "source": [
    "# lrPredictions.select('display_id', 'ad_id', 'prediction', 'probability').show(10)"
   ]
  },
  {
   "cell_type": "code",
   "execution_count": 26,
   "metadata": {},
   "outputs": [
    {
     "name": "stdout",
     "output_type": "stream",
     "text": [
      "('Validation Area Under ROC', 0.7109512437767408)\n"
     ]
    }
   ],
   "source": [
    "# evaluation\n",
    "from pyspark.ml.evaluation import BinaryClassificationEvaluator\n",
    "evaluator = BinaryClassificationEvaluator()\n",
    "print('Validation Area Under ROC', evaluator.evaluate(lrPredictions))"
   ]
  },
  {
   "cell_type": "markdown",
   "metadata": {},
   "source": [
    "### 1.3 logistic regression - testing"
   ]
  },
  {
   "cell_type": "code",
   "execution_count": 27,
   "metadata": {},
   "outputs": [
    {
     "name": "stdout",
     "output_type": "stream",
     "text": [
      "root\n",
      " |-- label: double (nullable = false)\n",
      " |-- features: vector (nullable = true)\n",
      " |-- display_id: string (nullable = true)\n",
      " |-- ad_id: string (nullable = true)\n",
      " |-- ClickOrNot: string (nullable = true)\n",
      " |-- is_leak: string (nullable = true)\n",
      " |-- weekend: string (nullable = true)\n",
      " |-- view_publisher_id: string (nullable = true)\n",
      " |-- view_source_id: string (nullable = true)\n",
      " |-- hour: string (nullable = true)\n",
      " |-- platform: string (nullable = true)\n",
      " |-- traffic_source: string (nullable = true)\n",
      " |-- country: string (nullable = true)\n",
      " |-- campaign_id: string (nullable = true)\n",
      " |-- advertiser_id: string (nullable = true)\n",
      " |-- ad_category_id: string (nullable = true)\n",
      " |-- ad_topic_id: string (nullable = true)\n",
      " |-- view_category_id: string (nullable = true)\n",
      " |-- view_topic_id: string (nullable = true)\n",
      " |-- ad_source_id: string (nullable = true)\n",
      " |-- ad_publisher_id: string (nullable = true)\n",
      " |-- pop_ad_id: string (nullable = true)\n",
      " |-- pop_ad_doc_id: string (nullable = true)\n",
      " |-- pop_ad_publisher_id: string (nullable = true)\n",
      " |-- pop_advertiser_id: string (nullable = true)\n",
      " |-- pop_campaign_id: string (nullable = true)\n",
      " |-- pop_view_doc_ad_doc: string (nullable = true)\n",
      " |-- pop_ad_source_id: string (nullable = true)\n",
      " |-- pop_ad_topic_id: string (nullable = true)\n",
      " |-- pop_ad_category_id: string (nullable = true)\n",
      " |-- is_train: integer (nullable = false)\n",
      " |-- rawPrediction: vector (nullable = true)\n",
      " |-- probability: vector (nullable = true)\n",
      " |-- prediction: double (nullable = false)\n",
      "\n"
     ]
    }
   ],
   "source": [
    "# prediction\n",
    "lrPredictions = lrModel.transform(test)\n",
    "lrPredictions.printSchema()"
   ]
  },
  {
   "cell_type": "code",
   "execution_count": 25,
   "metadata": {},
   "outputs": [
    {
     "name": "stdout",
     "output_type": "stream",
     "text": [
      "+----------+------+----------+--------------------+\n",
      "|display_id| ad_id|prediction|         probability|\n",
      "+----------+------+----------+--------------------+\n",
      "|  15545104|  1419|       0.0|[0.83584025903596...|\n",
      "|  15523904|   784|       0.0|[0.98907946132185...|\n",
      "|  16731814|   949|       0.0|[0.99449288156133...|\n",
      "|  13517470|492732|       0.0|[0.75908094180666...|\n",
      "|  14303795|492733|       0.0|[0.69496098289604...|\n",
      "|  13473156|492732|       0.0|[0.62109731036974...|\n",
      "|  14323230|492733|       0.0|[0.83317909395105...|\n",
      "|  13529851|  2425|       0.0|[0.92671064982825...|\n",
      "|  16652787|492733|       0.0|[0.72769099850367...|\n",
      "|  16745936|492733|       0.0|[0.77593326529769...|\n",
      "+----------+------+----------+--------------------+\n",
      "only showing top 10 rows\n",
      "\n"
     ]
    }
   ],
   "source": [
    "lrPredictions.select('display_id', 'ad_id', 'prediction', 'probability').show(10)"
   ]
  },
  {
   "cell_type": "code",
   "execution_count": 28,
   "metadata": {},
   "outputs": [
    {
     "name": "stdout",
     "output_type": "stream",
     "text": [
      "('Test Area Under ROC', 0.7382635207381258)\n"
     ]
    }
   ],
   "source": [
    "# evaluation\n",
    "from pyspark.ml.evaluation import BinaryClassificationEvaluator\n",
    "evaluator = BinaryClassificationEvaluator()\n",
    "print('Test Area Under ROC', evaluator.evaluate(lrPredictions))"
   ]
  },
  {
   "cell_type": "markdown",
   "metadata": {},
   "source": [
    "### 1.4 logistic regression - map@12"
   ]
  },
  {
   "cell_type": "code",
   "execution_count": 29,
   "metadata": {},
   "outputs": [],
   "source": [
    "# display_id, ad_id, probability를 셀렉해 logistic_final_df에 저장\n",
    "logistic_final_df = lrPredictions.select('display_id', 'ad_id', 'probability')\n",
    "# spark dataframe을 pandas dataframe으로 변환\n",
    "logistic_final_pd = logistic_final_df.toPandas()"
   ]
  },
  {
   "cell_type": "code",
   "execution_count": 30,
   "metadata": {},
   "outputs": [],
   "source": [
    "# probability는 [0일 확률, 1일 확률]로 되어 있다 -> 1일 확률만 뽑아 'clickprob' 열에 저장하자\n",
    "\n",
    "# 일단 copy해서 'clickprob' 열 생성해놓자\n",
    "logistic_final_pd['clickprob'] = logistic_final_pd.probability \n",
    "\n",
    "# for문 돌려서 1일 확률만 뽑아 'clickprob' 열에 저장하자\n",
    "for i in range(len(logistic_final_pd)): # for문\n",
    "    logistic_final_pd.clickprob[i] = logistic_final_pd.probability[i][1]"
   ]
  },
  {
   "cell_type": "code",
   "execution_count": 31,
   "metadata": {},
   "outputs": [
    {
     "name": "stdout",
     "output_type": "stream",
     "text": [
      "\n",
      "\n",
      "Updates are available for some Cloud SDK components.  To install them,\n",
      "please run:\n",
      "  $ gcloud components update\n",
      "\n",
      "Copying file://logistic.csv [Content-Type=text/csv]...\n",
      "/ [1 files][  9.2 MiB/  9.2 MiB]                                                \n",
      "Operation completed over 1 objects/9.2 MiB.                                      \n"
     ]
    }
   ],
   "source": [
    "# 'display_id', 'ad_id', 'clickprob'만 저장해야지\n",
    "logistic_final_pd = logistic_final_pd[['display_id', 'ad_id', 'clickprob']]\n",
    "\n",
    "# csv 파일로 bucket에 저장하자\n",
    "from io import BytesIO\n",
    "logistic_final_pd.to_csv('logistic.csv', index=False)\n",
    "!gsutil cp 'logistic.csv' 'gs://capstone-03/output/logistic.csv'"
   ]
  },
  {
   "cell_type": "code",
   "execution_count": 33,
   "metadata": {},
   "outputs": [],
   "source": [
    "test_label = test.select('display_id', 'ad_id', 'label').toPandas()\n",
    "pd_merge = pd.merge(test_label, logistic_final_pd, how='left', left_on=['display_id', 'ad_id'], right_on=['display_id', 'ad_id'])"
   ]
  },
  {
   "cell_type": "code",
   "execution_count": 34,
   "metadata": {},
   "outputs": [],
   "source": [
    "pd_merge.sort_values(['display_id', 'clickprob'], inplace=True, ascending=[True, False])"
   ]
  },
  {
   "cell_type": "code",
   "execution_count": 35,
   "metadata": {},
   "outputs": [],
   "source": [
    "from ml_metrics import mapk\n",
    "\n",
    "Y_ads = pd_merge[pd_merge.label == 1].ad_id.values.reshape(-1,1) \n",
    "P_ads = pd_merge.groupby(by='display_id', sort=False).ad_id.apply( lambda x: x.values ).values"
   ]
  },
  {
   "cell_type": "code",
   "execution_count": 36,
   "metadata": {},
   "outputs": [
    {
     "name": "stdout",
     "output_type": "stream",
     "text": [
      "MAP: 0.652949544010\n"
     ]
    }
   ],
   "source": [
    "# mapk 함수\n",
    "score = mapk(Y_ads, P_ads, 12)\n",
    "print(\"MAP: %.12f\" % score)"
   ]
  },
  {
   "cell_type": "markdown",
   "metadata": {},
   "source": [
    "## 2. random forest"
   ]
  },
  {
   "cell_type": "markdown",
   "metadata": {},
   "source": [
    "### 2.1 random forest - training & validation"
   ]
  },
  {
   "cell_type": "code",
   "execution_count": 37,
   "metadata": {},
   "outputs": [
    {
     "name": "stdout",
     "output_type": "stream",
     "text": [
      "+----------+------+----------+--------------------+\n",
      "|display_id| ad_id|prediction|         probability|\n",
      "+----------+------+----------+--------------------+\n",
      "|   1081731|152055|       0.0|[0.80578987119454...|\n",
      "|   3913279|152057|       0.0|[0.80578987119454...|\n",
      "|   7458692| 99212|       0.0|[0.80578987119454...|\n",
      "|  11560018|134138|       0.0|[0.80578987119454...|\n",
      "|   4170347|  9654|       0.0|[0.80578987119454...|\n",
      "|   1411158|154873|       0.0|[0.80578987119454...|\n",
      "|   8787510| 34906|       0.0|[0.83003622572713...|\n",
      "|   7706137|195697|       0.0|[0.80578987119454...|\n",
      "|  12958619|223540|       0.0|[0.81944155202292...|\n",
      "|  12958619|243487|       0.0|[0.80578987119454...|\n",
      "+----------+------+----------+--------------------+\n",
      "only showing top 10 rows\n",
      "\n",
      "CPU times: user 4 ms, sys: 0 ns, total: 4 ms\n",
      "Wall time: 4.99 s\n",
      "--- 335.786329985 seconds ---\n"
     ]
    }
   ],
   "source": [
    "import datetime\n",
    "start_time = time.time()\n",
    "\n",
    "from pyspark.ml.classification import RandomForestClassifier\n",
    "rf = RandomForestClassifier(featuresCol = 'features', labelCol = 'label')\n",
    "rfModel = rf.fit(train)\n",
    "rfPredictions = rfModel.transform(valid)\n",
    "%time rfPredictions.select('display_id', 'ad_id', 'prediction', 'probability').show(10)\n",
    "\n",
    "print(\"--- %s seconds ---\" % (time.time() - start_time))"
   ]
  },
  {
   "cell_type": "code",
   "execution_count": 38,
   "metadata": {},
   "outputs": [
    {
     "name": "stdout",
     "output_type": "stream",
     "text": [
      "(34867,[2,4,9,13,14,16,23,25,27,30,63,64,81,86,97,105,131,139,155,164,175,181,188,276,303,317,362,461,463,471,482,483,487,489,495,511,521,522,536,553,575,591,594,601,641,672,677,694,709,755,788,793,806,840,897,909,976,1064,1086,1137,1403,1480,1955,2020,2705,2788,2790,2791,2792,2794,2795,2802,2804,2811,2812,2843,2854,2862,2872,2903,2915,2935,2973,2975,3063,3106,3111,3149,3175,3247,3301,3302,3380,3418,3556,3637,4028,4111,4762,4789,5390,5667,5672,7661,7981,9008,9867,13617,15288,17247,24684,24685,24687,24688,24691,24692,24701,24751,24832,24866,24872,24887,24898,24906,24924,24929,24950,25145,25149,25154,25694,28151,28152,28161,28210,28222,28248,28251,28255,28260,28262,28264,28289,28293,28360,28371,28400,28421,28545,28546,28547,28548,28556,28559,28560,28561,28563,28564,28567,28568,28570,28577,28585,28587,28591,28600,28608,28609,28634,28635,28638,28641,28643,28652,28653,28654,28658,28665,28666,28668,28671,28673,28679,28681,28690,28719,28720,28725,28727,28744,28753,28758,28761,28770,28774,28783,28787,28788,28803,28805,28808,28822,28833,28841,28864,28889,28893,28908,28934,28936,28943,28947,28948,28949,28951,28952,28965,29017,29101,29118,29124,29131,29132,29154,29186,29190,29191,29197,29209,29211,29233,29295,29311,29393,29430,29590,34141,34142,34148,34152,34155,34209,34223,34268,34303,34832,34834,34835,34836,34838,34842,34845,34846,34849,34850,34852,34856,34857,34862,34863,34865,34866],[0.00022666029645311997,0.00369550559717928,7.958408582048244e-05,0.007799567999009767,0.005626074521814421,0.0006769696278531715,0.0012079390438057304,0.0005628666012947166,5.6413749736619735e-05,1.4132100057080632e-05,8.847142899836044e-05,3.241786813098395e-05,0.00011293704385861821,7.154650774338104e-06,0.00015143782477347077,0.0038363253452251833,1.7588304620408686e-05,0.004322093617756279,5.109549772022368e-05,2.051044007709807e-05,0.0001736736375354419,8.390602028296837e-05,7.822082165598788e-05,4.2079528015559915e-07,2.319809433062e-06,6.995701746212175e-05,5.659466884787778e-05,0.00012604426925907978,0.00027086608877591444,1.8387585216131748e-05,0.01006889451132138,0.0011858725391231011,2.146166764539133e-07,0.02281453104681456,1.64973859188668e-05,2.427208322353834e-07,9.718713614322735e-05,6.787875571556829e-05,0.0017602105066054784,5.125410762672163e-06,0.0003714246851268337,1.3827866343103644e-05,2.630916822906548e-06,0.00016485287963198037,0.0001576131769355018,3.0298810205694446e-05,0.0011968488985099456,0.0001647583051538381,3.263823811658539e-05,0.0002803090003566218,1.3579948591996197e-05,0.00022509783968677682,7.262460420112812e-05,4.0355964643035375e-05,1.3251865814459355e-06,9.191216413574826e-05,3.1413337638981856e-05,0.00022395579771844438,2.3060567649379273e-05,1.5836546983221946e-05,7.47254365500871e-06,1.6646075618625856e-05,6.234630460522532e-05,4.174403070864068e-06,0.0002187743924543088,0.0006942900999740463,6.55465129296947e-08,5.2095693632927464e-05,1.3151383604488184e-05,0.027540143384144268,0.00016490914821979443,0.01669524918549924,0.005388716967921816,0.007192598713060443,0.0057577862715555575,0.00010280289101837701,0.003166953669934224,0.0058054322232895545,0.0016720543628357153,0.016553074679798305,0.006412990224173331,0.008570510819710912,0.008666395456920434,0.0034462160971908667,0.007881439869668582,0.0016157008971103097,0.009738440518753968,0.0036835714779812445,0.008827555993644919,0.0037701910493429637,0.002984059750186898,0.005606801388834088,9.247063568301835e-05,0.0029186731551534488,6.429177330107119e-05,4.1560532411910974e-05,0.005326738788867583,0.004206271640993024,0.0005432952686173559,0.00011110329498360635,2.0809531105413012e-05,0.00014572447992492274,7.178732226584335e-05,0.00016201028431144537,0.0004454925364697621,2.848028558415586e-06,1.0495749646986943e-05,5.711519031398713e-05,0.00013618994046306126,5.914403968107928e-07,0.026619881433058944,0.04912968085962176,0.050436070546008814,0.03740330384227541,0.022913212109000904,0.009448684138047442,0.004301130085362179,0.006575429774214622,0.00021051214748654717,0.0054633660766163555,0.011072582845867178,0.01347286747491169,6.419376152976247e-05,0.003638554072565231,0.01443294253881749,0.011112301106913297,0.016410545509695052,0.010981583601281757,0.016895052615032245,9.449362104440239e-05,0.004343755664712206,0.0004121215482255377,0.02703815284617548,0.00018062147309636818,0.00017602220681195855,3.445520406950514e-05,0.00037345499981854366,9.893552482251608e-05,9.328889654464471e-05,2.249803652255917e-05,0.00701336461406127,1.2757236418291589e-05,7.785243150614638e-07,4.2878350280954604e-05,4.569492041262684e-05,0.00013507737054020382,0.012042369012992922,0.005806207116680491,0.00013893781549563893,0.007719618682500255,1.375160842194117e-05,0.00016919140523973428,0.00028073152415123066,3.0438967743661687e-06,0.0003397707748120141,6.962490132252158e-07,0.00012606429342912578,8.013428664697828e-05,3.055470972293992e-05,2.2269647406124346e-05,0.00022487418157628628,0.0006198222603226136,9.531184735438601e-05,0.0001301696563704877,1.938913987626748e-06,5.630410691809755e-05,2.35275949881157e-05,7.907111916858441e-05,5.14259732416485e-05,0.00014247875832800125,0.00025872863347260923,8.424374161572097e-05,2.098300984893081e-07,2.8010730279088047e-05,0.0004907023616798625,6.9149416639364115e-06,2.186036075579064e-05,0.0001492310700446664,0.00027125349456073926,1.6822627765807656e-05,5.967290488983945e-06,0.00020925210156277072,0.0005581972392079849,4.1299723923484804e-06,5.252703151813763e-05,5.243186476710894e-05,0.00014572535444477518,4.8532873620907395e-05,9.99803620558072e-05,7.831454377291658e-05,7.226489575954538e-05,9.343296645642338e-05,1.7022416504674282e-06,0.0001451726690260355,1.2197094608861557e-05,2.15546915874345e-06,0.00010051787078268984,3.709796141261038e-05,6.496235370474782e-05,4.7719560723939646e-05,8.581189828940503e-05,1.0989074746005332e-06,0.00022068841307828062,6.981189315339013e-05,0.00010982012708295416,4.5449167555012425e-05,8.505471433119393e-05,1.2937710736346795e-07,0.049526506113146684,0.02653131274942174,0.01722854136948715,0.010122451875898398,0.009196463000289836,0.00010075680950336624,0.0017612474854302182,0.011611545579114915,0.013431868479499877,0.0032226851795270238,0.0036932729750129116,0.006127568383309461,0.00013054293418622264,0.014661630663414414,0.0070104168848226,0.005198017075098547,0.015836416228159355,0.021878624723140398,0.016088011285047797,0.004693758163169123,4.6542301166326316e-05,0.00034072770430390874,0.005923962631186794,0.00407288988273805,0.011986621898829652,0.004926181201730144,0.016601817811301798,0.0025152803912557456,0.026069303165918604,0.013318277095466506,0.008514969742616544,0.0036025736001283853,0.00222509595875948,0.013227012790902522,0.014415941906306793,4.960216524806002e-05,0.004621549031162765,3.047523567681197e-06,0.00018291832178101903,3.7448947853662155e-06,0.00046969508497595537,0.00015489795620226454,4.621753892952288e-06,1.7309465905840027e-05,4.894072639581235e-06,1.579204602680421e-05,0.00016568533653034918,0.00011292042447726536,2.828143111362633e-05,0.0001460991879148036,2.7183529819153882e-05,0.00013623454462026636,7.603820967394462e-06,2.521154918381686e-05])\n"
     ]
    }
   ],
   "source": [
    "print(rfModel.featureImportances)\n",
    "# spark에는 random forest 변수 중요도 시각화 기능이 없어요, 대신 아래와 같이 리스트를 반환\n",
    "# feature 개수 : 34867\n",
    "# 첫번째 리스트 : 변수 index\n",
    "# 두번째 리스트 : 해당 변수 index의 weight\n",
    "# 참고 -> https://stackoverflow.com/questions/37878519/understanding-spark-randomforest-featureimportances-results"
   ]
  },
  {
   "cell_type": "code",
   "execution_count": 39,
   "metadata": {},
   "outputs": [
    {
     "name": "stdout",
     "output_type": "stream",
     "text": [
      "Validation Area Under ROC: 0.604478429964\n"
     ]
    }
   ],
   "source": [
    "evaluator = BinaryClassificationEvaluator()\n",
    "print(\"Validation Area Under ROC: \" + str(evaluator.evaluate(rfPredictions, {evaluator.metricName: \"areaUnderROC\"})))"
   ]
  },
  {
   "cell_type": "markdown",
   "metadata": {},
   "source": [
    "### 2.2 random forest - testing"
   ]
  },
  {
   "cell_type": "code",
   "execution_count": 40,
   "metadata": {},
   "outputs": [
    {
     "name": "stdout",
     "output_type": "stream",
     "text": [
      "+----------+------+----------+--------------------+\n",
      "|display_id| ad_id|prediction|         probability|\n",
      "+----------+------+----------+--------------------+\n",
      "|  15545104|  1419|       0.0|[0.80578987119454...|\n",
      "|  15523904|   784|       0.0|[0.80578987119454...|\n",
      "|  16731814|   949|       0.0|[0.80374513700798...|\n",
      "|  13517470|492732|       0.0|[0.80458142720854...|\n",
      "|  14303795|492733|       0.0|[0.80253669302199...|\n",
      "|  13473156|492732|       0.0|[0.80458142720854...|\n",
      "|  14323230|492733|       0.0|[0.80766553313562...|\n",
      "|  13529851|  2425|       0.0|[0.80578987119454...|\n",
      "|  16652787|492733|       0.0|[0.80374513700798...|\n",
      "|  16745936|492733|       0.0|[0.80374513700798...|\n",
      "+----------+------+----------+--------------------+\n",
      "only showing top 10 rows\n",
      "\n",
      "CPU times: user 4 ms, sys: 4 ms, total: 8 ms\n",
      "Wall time: 9.35 s\n"
     ]
    }
   ],
   "source": [
    "rfPredictions = rfModel.transform(test)\n",
    "%time rfPredictions.select('display_id', 'ad_id', 'prediction', 'probability').show(10)"
   ]
  },
  {
   "cell_type": "code",
   "execution_count": 41,
   "metadata": {},
   "outputs": [
    {
     "name": "stdout",
     "output_type": "stream",
     "text": [
      "Test Area Under ROC: 0.600539369914\n"
     ]
    }
   ],
   "source": [
    "evaluator = BinaryClassificationEvaluator()\n",
    "print(\"Test Area Under ROC: \" + str(evaluator.evaluate(rfPredictions, {evaluator.metricName: \"areaUnderROC\"})))"
   ]
  },
  {
   "cell_type": "markdown",
   "metadata": {},
   "source": [
    "### 2.3 random forest - map@12"
   ]
  },
  {
   "cell_type": "code",
   "execution_count": 42,
   "metadata": {},
   "outputs": [],
   "source": [
    "# display_id, ad_id, probability를 셀렉해 logistic_final_df에 저장\n",
    "ranfo_final_df = rfPredictions.select('display_id', 'ad_id', 'probability')\n",
    "# spark dataframe을 pandas dataframe으로 변환\n",
    "ranfo_final_pd = ranfo_final_df.toPandas()"
   ]
  },
  {
   "cell_type": "code",
   "execution_count": 43,
   "metadata": {},
   "outputs": [],
   "source": [
    "# probability는 [0일 확률, 1일 확률]로 되어 있다 -> 1일 확률만 뽑아 'clickprob' 열에 저장하자\n",
    "\n",
    "# 일단 copy해서 'clickprob' 열 생성해놓자\n",
    "ranfo_final_pd['clickprob'] = ranfo_final_pd.probability \n",
    "\n",
    "# for문 돌려서 1일 확률만 뽑아 'clickprob' 열에 저장하자\n",
    "for i in range(len(ranfo_final_pd)): # for문\n",
    "    ranfo_final_pd.clickprob[i] = ranfo_final_pd.probability[i][1]"
   ]
  },
  {
   "cell_type": "code",
   "execution_count": 44,
   "metadata": {},
   "outputs": [
    {
     "name": "stdout",
     "output_type": "stream",
     "text": [
      "Copying file://ranfo.csv [Content-Type=text/csv]...\n",
      "/ [1 files][  9.2 MiB/  9.2 MiB]                                                \n",
      "Operation completed over 1 objects/9.2 MiB.                                      \n"
     ]
    }
   ],
   "source": [
    "# 'display_id', 'ad_id', 'clickprob'만 저장해야지\n",
    "ranfo_final_pd = ranfo_final_pd[['display_id', 'ad_id', 'clickprob']]\n",
    "\n",
    "# csv 파일로 bucket에 저장하자\n",
    "from io import BytesIO\n",
    "ranfo_final_pd.to_csv('ranfo.csv', index=False)\n",
    "!gsutil cp 'ranfo.csv' 'gs://capstone-03/output/ranfo.csv'"
   ]
  },
  {
   "cell_type": "code",
   "execution_count": 45,
   "metadata": {},
   "outputs": [],
   "source": [
    "test_label = test.select('display_id', 'ad_id', 'label').toPandas()\n",
    "pd_merge = pd.merge(test_label, ranfo_final_pd, how='left', left_on=['display_id', 'ad_id'], right_on=['display_id', 'ad_id'])"
   ]
  },
  {
   "cell_type": "code",
   "execution_count": 46,
   "metadata": {},
   "outputs": [],
   "source": [
    "pd_merge.sort_values(['display_id', 'clickprob'], inplace=True, ascending=[True, False] )"
   ]
  },
  {
   "cell_type": "code",
   "execution_count": 47,
   "metadata": {},
   "outputs": [],
   "source": [
    "from ml_metrics import mapk\n",
    "\n",
    "Y_ads = pd_merge[pd_merge.label == 1].ad_id.values.reshape(-1,1) \n",
    "P_ads = pd_merge.groupby(by='display_id', sort=False).ad_id.apply( lambda x: x.values ).values"
   ]
  },
  {
   "cell_type": "code",
   "execution_count": 48,
   "metadata": {},
   "outputs": [
    {
     "name": "stdout",
     "output_type": "stream",
     "text": [
      "MAP: 0.521161300537\n"
     ]
    }
   ],
   "source": [
    "# mapk 함수\n",
    "score = mapk(Y_ads, P_ads, 12)\n",
    "print(\"MAP: %.12f\" % score)"
   ]
  },
  {
   "cell_type": "markdown",
   "metadata": {},
   "source": [
    "## 3. gradient-boosted tree"
   ]
  },
  {
   "cell_type": "markdown",
   "metadata": {},
   "source": [
    "### 3.1 gradient-boosted tree - training & validation"
   ]
  },
  {
   "cell_type": "code",
   "execution_count": 62,
   "metadata": {},
   "outputs": [
    {
     "name": "stdout",
     "output_type": "stream",
     "text": [
      "+----------+------+----------+--------------------+\n",
      "|display_id| ad_id|prediction|         probability|\n",
      "+----------+------+----------+--------------------+\n",
      "|   7555324|  3314|       0.0|[0.78516346849081...|\n",
      "|  12910866|  3314|       0.0|[0.78516346849081...|\n",
      "|  11547867|130875|       0.0|[0.80047597957764...|\n",
      "|  10120858| 70534|       0.0|[0.80047597957764...|\n",
      "|   3845616|404318|       0.0|[0.80047597957764...|\n",
      "|   3808532| 99212|       0.0|[0.80047597957764...|\n",
      "|  11592005|211009|       0.0|[0.80047597957764...|\n",
      "|    100983| 70944|       0.0|[0.80047597957764...|\n",
      "|  11560018|134138|       0.0|[0.80047597957764...|\n",
      "|   7706137|223483|       0.0|[0.80047597957764...|\n",
      "+----------+------+----------+--------------------+\n",
      "only showing top 10 rows\n",
      "\n",
      "CPU times: user 8 ms, sys: 0 ns, total: 8 ms\n",
      "Wall time: 6.83 s\n",
      "--- 5856.39026403 seconds ---\n"
     ]
    }
   ],
   "source": [
    "import datetime\n",
    "start_time = time.time()\n",
    "\n",
    "from pyspark.ml.classification import GBTClassifier\n",
    "gbt = GBTClassifier(maxIter=10)\n",
    "gbtModel = gbt.fit(train)\n",
    "gbtPredictions = gbtModel.transform(valid)\n",
    "%time gbtPredictions.select('display_id', 'ad_id', 'prediction', 'probability').show(10)\n",
    "\n",
    "print(\"--- %s seconds ---\" % (time.time() - start_time))"
   ]
  },
  {
   "cell_type": "code",
   "execution_count": null,
   "metadata": {},
   "outputs": [],
   "source": [
    "evaluator = BinaryClassificationEvaluator()\n",
    "print(\"Validation Area Under ROC: \" + str(evaluator.evaluate(gbtPredictions, {evaluator.metricName: \"areaUnderROC\"})))"
   ]
  },
  {
   "cell_type": "markdown",
   "metadata": {},
   "source": [
    "### 3.2 gradient-boosted tree - testing"
   ]
  },
  {
   "cell_type": "code",
   "execution_count": 34,
   "metadata": {},
   "outputs": [
    {
     "name": "stdout",
     "output_type": "stream",
     "text": [
      "+----------+------+----------+--------------------+\n",
      "|display_id| ad_id|prediction|         probability|\n",
      "+----------+------+----------+--------------------+\n",
      "|  15545104|  1419|       0.0|[0.80062090727890...|\n",
      "|  15523904|   784|       0.0|[0.80062090727890...|\n",
      "|  16731814|   949|       0.0|[0.77492917104812...|\n",
      "|  13517470|492732|       0.0|[0.80062090727890...|\n",
      "|  14303795|492733|       0.0|[0.77492917104812...|\n",
      "|  13473156|492732|       0.0|[0.80062090727890...|\n",
      "|  14323230|492733|       0.0|[0.77492917104812...|\n",
      "|  13529851|  2425|       0.0|[0.80062090727890...|\n",
      "|  16652787|492733|       0.0|[0.77492917104812...|\n",
      "|  16745936|492733|       0.0|[0.77492917104812...|\n",
      "+----------+------+----------+--------------------+\n",
      "only showing top 10 rows\n",
      "\n",
      "CPU times: user 12 ms, sys: 0 ns, total: 12 ms\n",
      "Wall time: 11.2 s\n"
     ]
    }
   ],
   "source": [
    "gbtPredictions = gbtModel.transform(test)\n",
    "%time gbtPredictions.select('display_id', 'ad_id', 'prediction', 'probability').show(10)"
   ]
  },
  {
   "cell_type": "code",
   "execution_count": null,
   "metadata": {},
   "outputs": [],
   "source": [
    "# display_id, ad_id, probability를 셀렉해 gbt_final_df에 저장\n",
    "gbt_final_df = gbtPredictions.select('display_id', 'ad_id', 'probability')\n",
    "# spark dataframe을 pandas dataframe으로 변환\n",
    "gbt_final_pd = gbt_final_df.toPandas()"
   ]
  },
  {
   "cell_type": "code",
   "execution_count": null,
   "metadata": {},
   "outputs": [],
   "source": [
    "# probability는 [0일 확률, 1일 확률]로 되어 있다 -> 1일 확률만 뽑아 'clickprob' 열에 저장하자\n",
    "\n",
    "# 일단 copy해서 'clickprob' 열 생성해놓자\n",
    "gbt_final_pd['clickprob'] = gbt_final_pd.probability \n",
    "\n",
    "# for문 돌려서 1일 확률만 뽑아 'clickprob' 열에 저장하자\n",
    "for i in range(len(gbt_final_pd)): # for문\n",
    "    gbt_final_pd.clickprob[i] = gbt_final_pd.probability[i][1]"
   ]
  },
  {
   "cell_type": "code",
   "execution_count": null,
   "metadata": {},
   "outputs": [],
   "source": [
    "# 'display_id', 'ad_id', 'clickprob'만 저장해야지\n",
    "gbt_final_pd = gbt_final_pd[['display_id', 'ad_id', 'clickprob']]\n",
    "\n",
    "# csv 파일로 bucket에 저장하자\n",
    "from io import BytesIO\n",
    "gbt_final_pd.to_csv('gbt.csv', index=False)\n",
    "!gsutil cp 'gbt.csv' 'gs://capstone-03/output/gbt.csv'"
   ]
  },
  {
   "cell_type": "code",
   "execution_count": null,
   "metadata": {},
   "outputs": [],
   "source": [
    "test_label_pd = test.select('display_id', 'ad_id', 'label').toPandas()\n",
    "pd_merge = pd.merge(test_label_pd, gbt_final_pd, how='left', left_on=['display_id', 'ad_id'], right_on=['display_id', 'ad_id'])"
   ]
  },
  {
   "cell_type": "code",
   "execution_count": null,
   "metadata": {},
   "outputs": [],
   "source": [
    "pd_merge.sort_values(['display_id', 'clickprob'], inplace=True, ascending=[True, False] )"
   ]
  },
  {
   "cell_type": "code",
   "execution_count": null,
   "metadata": {},
   "outputs": [],
   "source": [
    "from ml_metrics import mapk\n",
    "\n",
    "Y_ads = pd_merge[pd_merge.label == 1].ad_id.values.reshape(-1,1) \n",
    "P_ads = pd_merge.groupby(by='display_id', sort=False).ad_id.apply( lambda x: x.values ).values"
   ]
  },
  {
   "cell_type": "code",
   "execution_count": null,
   "metadata": {},
   "outputs": [],
   "source": [
    "# mapk 함수\n",
    "score = mapk(Y_ads, P_ads, 12)\n",
    "print(\"MAP: %.12f\" % score)"
   ]
  },
  {
   "cell_type": "code",
   "execution_count": null,
   "metadata": {},
   "outputs": [],
   "source": []
  },
  {
   "cell_type": "markdown",
   "metadata": {},
   "source": [
    "#  dd"
   ]
  },
  {
   "cell_type": "code",
   "execution_count": 50,
   "metadata": {},
   "outputs": [
    {
     "name": "stdout",
     "output_type": "stream",
     "text": [
      "+----------+------+----------+--------------------+\n",
      "|display_id| ad_id|prediction|         probability|\n",
      "+----------+------+----------+--------------------+\n",
      "|   7555324|  3314|       0.0|[0.77977612265712...|\n",
      "|  12910866|  3314|       0.0|[0.77977612265712...|\n",
      "|  11547867|130875|       0.0|[0.79731181072936...|\n",
      "|  10120858| 70534|       0.0|[0.79731181072936...|\n",
      "|   3786244| 99212|       0.0|[0.79731181072936...|\n",
      "|  10491226|211009|       0.0|[0.79731181072936...|\n",
      "|   7555324|109812|       0.0|[0.79731181072936...|\n",
      "|   7706137|223483|       0.0|[0.79731181072936...|\n",
      "|   4170347|  9654|       0.0|[0.79731181072936...|\n",
      "|   9108355|  9654|       0.0|[0.79731181072936...|\n",
      "+----------+------+----------+--------------------+\n",
      "only showing top 10 rows\n",
      "\n",
      "CPU times: user 12 ms, sys: 0 ns, total: 12 ms\n",
      "Wall time: 4.74 s\n",
      "--- 3423.49501991 seconds ---\n"
     ]
    }
   ],
   "source": [
    "import datetime\n",
    "start_time = time.time()\n",
    "\n",
    "from pyspark.ml.classification import GBTClassifier\n",
    "gbt = GBTClassifier(maxIter=10, maxDepth=4)\n",
    "gbtModel = gbt.fit(train)\n",
    "gbtPredictions = gbtModel.transform(valid)\n",
    "%time gbtPredictions.select('display_id', 'ad_id', 'prediction', 'probability').show(10)\n",
    "\n",
    "print(\"--- %s seconds ---\" % (time.time() - start_time)) # 1시간 36분"
   ]
  },
  {
   "cell_type": "code",
   "execution_count": 51,
   "metadata": {},
   "outputs": [
    {
     "name": "stdout",
     "output_type": "stream",
     "text": [
      "Validation Area Under ROC: 0.614694241305\n"
     ]
    }
   ],
   "source": [
    "from pyspark.ml.evaluation import BinaryClassificationEvaluator\n",
    "evaluator = BinaryClassificationEvaluator()\n",
    "print(\"Validation Area Under ROC: \" + str(evaluator.evaluate(gbtPredictions, {evaluator.metricName: \"areaUnderROC\"})))"
   ]
  },
  {
   "cell_type": "code",
   "execution_count": 52,
   "metadata": {},
   "outputs": [
    {
     "name": "stdout",
     "output_type": "stream",
     "text": [
      "+----------+------+----------+--------------------+\n",
      "|display_id| ad_id|prediction|         probability|\n",
      "+----------+------+----------+--------------------+\n",
      "|  15545104|  1419|       0.0|[0.79731181072936...|\n",
      "|  15523904|   784|       0.0|[0.79731181072936...|\n",
      "|  16731814|   949|       0.0|[0.78186976010320...|\n",
      "|  13517470|492732|       0.0|[0.79731181072936...|\n",
      "|  14303795|492733|       0.0|[0.78186976010320...|\n",
      "|  13473156|492732|       0.0|[0.79731181072936...|\n",
      "|  14323230|492733|       0.0|[0.78186976010320...|\n",
      "|  13529851|  2425|       0.0|[0.79731181072936...|\n",
      "|  16652787|492733|       0.0|[0.78186976010320...|\n",
      "|  16745936|492733|       0.0|[0.78186976010320...|\n",
      "+----------+------+----------+--------------------+\n",
      "only showing top 10 rows\n",
      "\n",
      "CPU times: user 12 ms, sys: 0 ns, total: 12 ms\n",
      "Wall time: 17.1 s\n"
     ]
    }
   ],
   "source": [
    "gbtPredictions = gbtModel.transform(test)\n",
    "%time gbtPredictions.select('display_id', 'ad_id', 'prediction', 'probability').show(10)"
   ]
  },
  {
   "cell_type": "code",
   "execution_count": 53,
   "metadata": {},
   "outputs": [
    {
     "name": "stdout",
     "output_type": "stream",
     "text": [
      "Test Area Under ROC: 0.606938007376\n"
     ]
    }
   ],
   "source": [
    "evaluator = BinaryClassificationEvaluator()\n",
    "print(\"Test Area Under ROC: \" + str(evaluator.evaluate(gbtPredictions, {evaluator.metricName: \"areaUnderROC\"})))"
   ]
  },
  {
   "cell_type": "markdown",
   "metadata": {},
   "source": [
    "### 1.3 gbt - map@12"
   ]
  },
  {
   "cell_type": "code",
   "execution_count": 54,
   "metadata": {},
   "outputs": [],
   "source": [
    "# display_id, ad_id, probability를 셀렉해 gbt_final_df에 저장\n",
    "gbt_final_df = gbtPredictions.select('display_id', 'ad_id', 'probability')\n",
    "# spark dataframe을 pandas dataframe으로 변환\n",
    "gbt_final_pd = gbt_final_df.toPandas()"
   ]
  },
  {
   "cell_type": "code",
   "execution_count": 55,
   "metadata": {},
   "outputs": [],
   "source": [
    "# probability는 [0일 확률, 1일 확률]로 되어 있다 -> 1일 확률만 뽑아 'clickprob' 열에 저장하자\n",
    "\n",
    "# 일단 copy해서 'clickprob' 열 생성해놓자\n",
    "gbt_final_pd['clickprob'] = gbt_final_pd.probability \n",
    "\n",
    "# for문 돌려서 1일 확률만 뽑아 'clickprob' 열에 저장하자\n",
    "for i in range(len(gbt_final_pd)): # for문\n",
    "    gbt_final_pd.clickprob[i] = gbt_final_pd.probability[i][1]"
   ]
  },
  {
   "cell_type": "code",
   "execution_count": 56,
   "metadata": {},
   "outputs": [
    {
     "data": {
      "text/html": [
       "<div>\n",
       "<style scoped>\n",
       "    .dataframe tbody tr th:only-of-type {\n",
       "        vertical-align: middle;\n",
       "    }\n",
       "\n",
       "    .dataframe tbody tr th {\n",
       "        vertical-align: top;\n",
       "    }\n",
       "\n",
       "    .dataframe thead th {\n",
       "        text-align: right;\n",
       "    }\n",
       "</style>\n",
       "<table border=\"1\" class=\"dataframe\">\n",
       "  <thead>\n",
       "    <tr style=\"text-align: right;\">\n",
       "      <th></th>\n",
       "      <th>display_id</th>\n",
       "      <th>ad_id</th>\n",
       "      <th>probability</th>\n",
       "      <th>clickprob</th>\n",
       "    </tr>\n",
       "  </thead>\n",
       "  <tbody>\n",
       "    <tr>\n",
       "      <th>0</th>\n",
       "      <td>15545104</td>\n",
       "      <td>1419</td>\n",
       "      <td>[0.7973118107293689, 0.20268818927063115]</td>\n",
       "      <td>0.202688</td>\n",
       "    </tr>\n",
       "    <tr>\n",
       "      <th>1</th>\n",
       "      <td>15523904</td>\n",
       "      <td>784</td>\n",
       "      <td>[0.7973118107293689, 0.20268818927063115]</td>\n",
       "      <td>0.202688</td>\n",
       "    </tr>\n",
       "    <tr>\n",
       "      <th>2</th>\n",
       "      <td>16731814</td>\n",
       "      <td>949</td>\n",
       "      <td>[0.7818697601032099, 0.21813023989679015]</td>\n",
       "      <td>0.21813</td>\n",
       "    </tr>\n",
       "    <tr>\n",
       "      <th>3</th>\n",
       "      <td>13517470</td>\n",
       "      <td>492732</td>\n",
       "      <td>[0.7973118107293689, 0.20268818927063115]</td>\n",
       "      <td>0.202688</td>\n",
       "    </tr>\n",
       "    <tr>\n",
       "      <th>4</th>\n",
       "      <td>14303795</td>\n",
       "      <td>492733</td>\n",
       "      <td>[0.7818697601032099, 0.21813023989679015]</td>\n",
       "      <td>0.21813</td>\n",
       "    </tr>\n",
       "  </tbody>\n",
       "</table>\n",
       "</div>"
      ],
      "text/plain": [
       "  display_id   ad_id                                probability clickprob\n",
       "0   15545104    1419  [0.7973118107293689, 0.20268818927063115]  0.202688\n",
       "1   15523904     784  [0.7973118107293689, 0.20268818927063115]  0.202688\n",
       "2   16731814     949  [0.7818697601032099, 0.21813023989679015]   0.21813\n",
       "3   13517470  492732  [0.7973118107293689, 0.20268818927063115]  0.202688\n",
       "4   14303795  492733  [0.7818697601032099, 0.21813023989679015]   0.21813"
      ]
     },
     "execution_count": 56,
     "metadata": {},
     "output_type": "execute_result"
    }
   ],
   "source": [
    "# clickprob 열이 잘 생성되었다\n",
    "gbt_final_pd.head(5)"
   ]
  },
  {
   "cell_type": "code",
   "execution_count": 57,
   "metadata": {},
   "outputs": [
    {
     "name": "stdout",
     "output_type": "stream",
     "text": [
      "Copying file://gbt.csv [Content-Type=text/csv]...\n",
      "/ [1 files][  9.3 MiB/  9.3 MiB]                                                \n",
      "Operation completed over 1 objects/9.3 MiB.                                      \n"
     ]
    }
   ],
   "source": [
    "# 'display_id', 'ad_id', 'clickprob'만 저장해야지\n",
    "gbt_final_pd = gbt_final_pd[['display_id', 'ad_id', 'clickprob']]\n",
    "\n",
    "# csv 파일로 bucket에 저장하자\n",
    "from io import BytesIO\n",
    "gbt_final_pd.to_csv('gbt.csv', index=False)\n",
    "!gsutil cp 'gbt.csv' 'gs://capstone-03/output/gbt.csv'"
   ]
  },
  {
   "cell_type": "code",
   "execution_count": 58,
   "metadata": {},
   "outputs": [],
   "source": [
    "test_label_pd = test.select('display_id', 'ad_id', 'label').toPandas()\n",
    "pd_merge = pd.merge(test_label_pd, gbt_final_pd, how='left', left_on=['display_id', 'ad_id'], right_on=['display_id', 'ad_id'])"
   ]
  },
  {
   "cell_type": "code",
   "execution_count": 59,
   "metadata": {},
   "outputs": [],
   "source": [
    "pd_merge.sort_values(['display_id', 'clickprob'], inplace=True, ascending=[True, False] )"
   ]
  },
  {
   "cell_type": "code",
   "execution_count": 60,
   "metadata": {},
   "outputs": [],
   "source": [
    "from ml_metrics import mapk\n",
    "\n",
    "Y_ads = pd_merge[pd_merge.label == 1].ad_id.values.reshape(-1,1) \n",
    "P_ads = pd_merge.groupby(by='display_id', sort=False).ad_id.apply( lambda x: x.values ).values"
   ]
  },
  {
   "cell_type": "code",
   "execution_count": 61,
   "metadata": {},
   "outputs": [
    {
     "name": "stdout",
     "output_type": "stream",
     "text": [
      "MAP: 0.536998706295\n"
     ]
    }
   ],
   "source": [
    "# mapk 함수\n",
    "score = mapk(Y_ads, P_ads, 12)\n",
    "print(\"MAP: %.12f\" % score)"
   ]
  }
 ],
 "metadata": {
  "kernelspec": {
   "display_name": "Python 2",
   "language": "python",
   "name": "python2"
  },
  "language_info": {
   "codemirror_mode": {
    "name": "ipython",
    "version": 2
   },
   "file_extension": ".py",
   "mimetype": "text/x-python",
   "name": "python",
   "nbconvert_exporter": "python",
   "pygments_lexer": "ipython2",
   "version": "2.7.15"
  }
 },
 "nbformat": 4,
 "nbformat_minor": 2
}
