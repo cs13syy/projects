{
 "cells": [
  {
   "cell_type": "markdown",
   "metadata": {},
   "source": [
    "## import package"
   ]
  },
  {
   "cell_type": "code",
   "execution_count": 1,
   "metadata": {},
   "outputs": [],
   "source": [
    "from IPython.display import display\n",
    "from pyspark.sql.types import *\n",
    "import pyspark.sql.functions as F\n",
    "from pyspark.ml.linalg import Vectors, SparseVector, VectorUDT"
   ]
  },
  {
   "cell_type": "code",
   "execution_count": 2,
   "metadata": {},
   "outputs": [],
   "source": [
    "import numpy as np\n",
    "import scipy.sparse\n",
    "import math\n",
    "import datetime\n",
    "import time\n",
    "import itertools\n",
    "import pandas as pd\n",
    "%matplotlib inline"
   ]
  },
  {
   "cell_type": "markdown",
   "metadata": {},
   "source": [
    "## load data"
   ]
  },
  {
   "cell_type": "code",
   "execution_count": 3,
   "metadata": {},
   "outputs": [],
   "source": [
    "# train set, test set 불러오기\n",
    "train = spark.read.format('csv').option(\"header\", \"true\").load('gs://capstone-03/data/train_sample_df_3.csv')\n",
    "test = spark.read.format('csv').option(\"header\", \"true\").load('gs://capstone-03/data/test_sample_df_3.csv')"
   ]
  },
  {
   "cell_type": "code",
   "execution_count": 4,
   "metadata": {},
   "outputs": [],
   "source": [
    "from pyspark.sql.functions import lit\n",
    "train = train.withColumn(\"is_train\", lit(1))\n",
    "test = test.withColumn(\"is_train\", lit(0))"
   ]
  },
  {
   "cell_type": "code",
   "execution_count": 8,
   "metadata": {},
   "outputs": [
    {
     "name": "stdout",
     "output_type": "stream",
     "text": [
      "(1032825, 31)\n",
      "(272177, 31)\n"
     ]
    }
   ],
   "source": [
    "# print((train.count(), len(train.columns)))\n",
    "# print((test.count(), len(test.columns)))"
   ]
  },
  {
   "cell_type": "code",
   "execution_count": 5,
   "metadata": {},
   "outputs": [],
   "source": [
    "# train set, test set 합치기\n",
    "union = train.union(test)"
   ]
  },
  {
   "cell_type": "code",
   "execution_count": 10,
   "metadata": {},
   "outputs": [
    {
     "name": "stdout",
     "output_type": "stream",
     "text": [
      "(1305002, 31)\n"
     ]
    }
   ],
   "source": [
    "# print((union.count(), len(union.columns)))"
   ]
  },
  {
   "cell_type": "code",
   "execution_count": 6,
   "metadata": {},
   "outputs": [
    {
     "name": "stdout",
     "output_type": "stream",
     "text": [
      "root\n",
      " |-- display_id: string (nullable = true)\n",
      " |-- ad_id: string (nullable = true)\n",
      " |-- label: string (nullable = true)\n",
      " |-- is_leak: string (nullable = true)\n",
      " |-- weekend: string (nullable = true)\n",
      " |-- view_publisher_id: string (nullable = true)\n",
      " |-- view_source_id: string (nullable = true)\n",
      " |-- hour: string (nullable = true)\n",
      " |-- platform: string (nullable = true)\n",
      " |-- traffic_source: string (nullable = true)\n",
      " |-- country: string (nullable = true)\n",
      " |-- day_event: string (nullable = true)\n",
      " |-- campaign_id: string (nullable = true)\n",
      " |-- advertiser_id: string (nullable = true)\n",
      " |-- ad_category_id: string (nullable = true)\n",
      " |-- ad_topic_id: string (nullable = true)\n",
      " |-- view_category_id: string (nullable = true)\n",
      " |-- view_topic_id: string (nullable = true)\n",
      " |-- timestamp_event: string (nullable = true)\n",
      " |-- ad_source_id: string (nullable = true)\n",
      " |-- ad_publisher_id: string (nullable = true)\n",
      " |-- pop_ad_id: string (nullable = true)\n",
      " |-- pop_ad_doc_id: string (nullable = true)\n",
      " |-- pop_ad_publisher_id: string (nullable = true)\n",
      " |-- pop_advertiser_id: string (nullable = true)\n",
      " |-- pop_campaign_id: string (nullable = true)\n",
      " |-- pop_view_doc_ad_doc: string (nullable = true)\n",
      " |-- pop_ad_source_id: string (nullable = true)\n",
      " |-- pop_ad_topic_id: string (nullable = true)\n",
      " |-- pop_ad_category_id: string (nullable = true)\n",
      " |-- is_train: integer (nullable = false)\n",
      "\n"
     ]
    }
   ],
   "source": [
    "raw_df = union\n",
    "raw_df.printSchema()"
   ]
  },
  {
   "cell_type": "code",
   "execution_count": 13,
   "metadata": {},
   "outputs": [
    {
     "data": {
      "text/html": [
       "<div>\n",
       "<style scoped>\n",
       "    .dataframe tbody tr th:only-of-type {\n",
       "        vertical-align: middle;\n",
       "    }\n",
       "\n",
       "    .dataframe tbody tr th {\n",
       "        vertical-align: top;\n",
       "    }\n",
       "\n",
       "    .dataframe thead th {\n",
       "        text-align: right;\n",
       "    }\n",
       "</style>\n",
       "<table border=\"1\" class=\"dataframe\">\n",
       "  <thead>\n",
       "    <tr style=\"text-align: right;\">\n",
       "      <th></th>\n",
       "      <th>0</th>\n",
       "      <th>1</th>\n",
       "      <th>2</th>\n",
       "      <th>3</th>\n",
       "      <th>4</th>\n",
       "    </tr>\n",
       "  </thead>\n",
       "  <tbody>\n",
       "    <tr>\n",
       "      <th>display_id</th>\n",
       "      <td>2790527</td>\n",
       "      <td>4189325</td>\n",
       "      <td>2806444</td>\n",
       "      <td>2783288</td>\n",
       "      <td>55830</td>\n",
       "    </tr>\n",
       "    <tr>\n",
       "      <th>ad_id</th>\n",
       "      <td>151311</td>\n",
       "      <td>151311</td>\n",
       "      <td>151311</td>\n",
       "      <td>151311</td>\n",
       "      <td>151311</td>\n",
       "    </tr>\n",
       "    <tr>\n",
       "      <th>label</th>\n",
       "      <td>0</td>\n",
       "      <td>1</td>\n",
       "      <td>0</td>\n",
       "      <td>0</td>\n",
       "      <td>0</td>\n",
       "    </tr>\n",
       "    <tr>\n",
       "      <th>is_leak</th>\n",
       "      <td>-1</td>\n",
       "      <td>-1</td>\n",
       "      <td>0</td>\n",
       "      <td>-1</td>\n",
       "      <td>-1</td>\n",
       "    </tr>\n",
       "    <tr>\n",
       "      <th>weekend</th>\n",
       "      <td>0</td>\n",
       "      <td>0</td>\n",
       "      <td>0</td>\n",
       "      <td>0</td>\n",
       "      <td>0</td>\n",
       "    </tr>\n",
       "    <tr>\n",
       "      <th>view_publisher_id</th>\n",
       "      <td>28</td>\n",
       "      <td>450</td>\n",
       "      <td>784</td>\n",
       "      <td>1089</td>\n",
       "      <td>784</td>\n",
       "    </tr>\n",
       "    <tr>\n",
       "      <th>view_source_id</th>\n",
       "      <td>353</td>\n",
       "      <td>7736</td>\n",
       "      <td>6698</td>\n",
       "      <td>U</td>\n",
       "      <td>6698</td>\n",
       "    </tr>\n",
       "    <tr>\n",
       "      <th>hour</th>\n",
       "      <td>3</td>\n",
       "      <td>1</td>\n",
       "      <td>3</td>\n",
       "      <td>3</td>\n",
       "      <td>6</td>\n",
       "    </tr>\n",
       "    <tr>\n",
       "      <th>platform</th>\n",
       "      <td>2</td>\n",
       "      <td>2</td>\n",
       "      <td>2</td>\n",
       "      <td>2</td>\n",
       "      <td>3</td>\n",
       "    </tr>\n",
       "    <tr>\n",
       "      <th>traffic_source</th>\n",
       "      <td>1</td>\n",
       "      <td>1</td>\n",
       "      <td>1</td>\n",
       "      <td>3</td>\n",
       "      <td>1</td>\n",
       "    </tr>\n",
       "    <tr>\n",
       "      <th>country</th>\n",
       "      <td>U</td>\n",
       "      <td>US</td>\n",
       "      <td>U</td>\n",
       "      <td>U</td>\n",
       "      <td>US</td>\n",
       "    </tr>\n",
       "    <tr>\n",
       "      <th>day_event</th>\n",
       "      <td>2</td>\n",
       "      <td>3</td>\n",
       "      <td>2</td>\n",
       "      <td>2</td>\n",
       "      <td>0</td>\n",
       "    </tr>\n",
       "    <tr>\n",
       "      <th>campaign_id</th>\n",
       "      <td>16314</td>\n",
       "      <td>16314</td>\n",
       "      <td>16314</td>\n",
       "      <td>16314</td>\n",
       "      <td>16314</td>\n",
       "    </tr>\n",
       "    <tr>\n",
       "      <th>advertiser_id</th>\n",
       "      <td>2302</td>\n",
       "      <td>2302</td>\n",
       "      <td>2302</td>\n",
       "      <td>2302</td>\n",
       "      <td>2302</td>\n",
       "    </tr>\n",
       "    <tr>\n",
       "      <th>ad_category_id</th>\n",
       "      <td>1407</td>\n",
       "      <td>1407</td>\n",
       "      <td>1407</td>\n",
       "      <td>1407</td>\n",
       "      <td>1407</td>\n",
       "    </tr>\n",
       "    <tr>\n",
       "      <th>ad_topic_id</th>\n",
       "      <td>10</td>\n",
       "      <td>10</td>\n",
       "      <td>10</td>\n",
       "      <td>10</td>\n",
       "      <td>10</td>\n",
       "    </tr>\n",
       "    <tr>\n",
       "      <th>view_category_id</th>\n",
       "      <td>1708</td>\n",
       "      <td>1603</td>\n",
       "      <td>1403</td>\n",
       "      <td>1609</td>\n",
       "      <td>U</td>\n",
       "    </tr>\n",
       "    <tr>\n",
       "      <th>view_topic_id</th>\n",
       "      <td>107</td>\n",
       "      <td>143</td>\n",
       "      <td>16</td>\n",
       "      <td>8</td>\n",
       "      <td>143</td>\n",
       "    </tr>\n",
       "    <tr>\n",
       "      <th>timestamp_event</th>\n",
       "      <td>177590335</td>\n",
       "      <td>269644025</td>\n",
       "      <td>179146629</td>\n",
       "      <td>176913450</td>\n",
       "      <td>4426654</td>\n",
       "    </tr>\n",
       "    <tr>\n",
       "      <th>ad_source_id</th>\n",
       "      <td>368</td>\n",
       "      <td>368</td>\n",
       "      <td>368</td>\n",
       "      <td>368</td>\n",
       "      <td>368</td>\n",
       "    </tr>\n",
       "    <tr>\n",
       "      <th>ad_publisher_id</th>\n",
       "      <td>U</td>\n",
       "      <td>U</td>\n",
       "      <td>U</td>\n",
       "      <td>U</td>\n",
       "      <td>U</td>\n",
       "    </tr>\n",
       "    <tr>\n",
       "      <th>pop_ad_id</th>\n",
       "      <td>1</td>\n",
       "      <td>1</td>\n",
       "      <td>1</td>\n",
       "      <td>1</td>\n",
       "      <td>1</td>\n",
       "    </tr>\n",
       "    <tr>\n",
       "      <th>pop_ad_doc_id</th>\n",
       "      <td>1</td>\n",
       "      <td>1</td>\n",
       "      <td>1</td>\n",
       "      <td>1</td>\n",
       "      <td>1</td>\n",
       "    </tr>\n",
       "    <tr>\n",
       "      <th>pop_ad_publisher_id</th>\n",
       "      <td>U</td>\n",
       "      <td>U</td>\n",
       "      <td>U</td>\n",
       "      <td>U</td>\n",
       "      <td>U</td>\n",
       "    </tr>\n",
       "    <tr>\n",
       "      <th>pop_advertiser_id</th>\n",
       "      <td>1</td>\n",
       "      <td>1</td>\n",
       "      <td>1</td>\n",
       "      <td>1</td>\n",
       "      <td>1</td>\n",
       "    </tr>\n",
       "    <tr>\n",
       "      <th>pop_campaign_id</th>\n",
       "      <td>1</td>\n",
       "      <td>1</td>\n",
       "      <td>1</td>\n",
       "      <td>1</td>\n",
       "      <td>1</td>\n",
       "    </tr>\n",
       "    <tr>\n",
       "      <th>pop_view_doc_ad_doc</th>\n",
       "      <td>U</td>\n",
       "      <td>U</td>\n",
       "      <td>U</td>\n",
       "      <td>U</td>\n",
       "      <td>1</td>\n",
       "    </tr>\n",
       "    <tr>\n",
       "      <th>pop_ad_source_id</th>\n",
       "      <td>1</td>\n",
       "      <td>1</td>\n",
       "      <td>1</td>\n",
       "      <td>1</td>\n",
       "      <td>1</td>\n",
       "    </tr>\n",
       "    <tr>\n",
       "      <th>pop_ad_topic_id</th>\n",
       "      <td>1</td>\n",
       "      <td>1</td>\n",
       "      <td>1</td>\n",
       "      <td>1</td>\n",
       "      <td>1</td>\n",
       "    </tr>\n",
       "    <tr>\n",
       "      <th>pop_ad_category_id</th>\n",
       "      <td>1</td>\n",
       "      <td>1</td>\n",
       "      <td>1</td>\n",
       "      <td>1</td>\n",
       "      <td>1</td>\n",
       "    </tr>\n",
       "    <tr>\n",
       "      <th>is_train</th>\n",
       "      <td>1</td>\n",
       "      <td>1</td>\n",
       "      <td>1</td>\n",
       "      <td>1</td>\n",
       "      <td>1</td>\n",
       "    </tr>\n",
       "  </tbody>\n",
       "</table>\n",
       "</div>"
      ],
      "text/plain": [
       "                             0          1          2          3        4\n",
       "display_id             2790527    4189325    2806444    2783288    55830\n",
       "ad_id                   151311     151311     151311     151311   151311\n",
       "label                        0          1          0          0        0\n",
       "is_leak                     -1         -1          0         -1       -1\n",
       "weekend                      0          0          0          0        0\n",
       "view_publisher_id           28        450        784       1089      784\n",
       "view_source_id             353       7736       6698          U     6698\n",
       "hour                         3          1          3          3        6\n",
       "platform                     2          2          2          2        3\n",
       "traffic_source               1          1          1          3        1\n",
       "country                      U         US          U          U       US\n",
       "day_event                    2          3          2          2        0\n",
       "campaign_id              16314      16314      16314      16314    16314\n",
       "advertiser_id             2302       2302       2302       2302     2302\n",
       "ad_category_id            1407       1407       1407       1407     1407\n",
       "ad_topic_id                 10         10         10         10       10\n",
       "view_category_id          1708       1603       1403       1609        U\n",
       "view_topic_id              107        143         16          8      143\n",
       "timestamp_event      177590335  269644025  179146629  176913450  4426654\n",
       "ad_source_id               368        368        368        368      368\n",
       "ad_publisher_id              U          U          U          U        U\n",
       "pop_ad_id                    1          1          1          1        1\n",
       "pop_ad_doc_id                1          1          1          1        1\n",
       "pop_ad_publisher_id          U          U          U          U        U\n",
       "pop_advertiser_id            1          1          1          1        1\n",
       "pop_campaign_id              1          1          1          1        1\n",
       "pop_view_doc_ad_doc          U          U          U          U        1\n",
       "pop_ad_source_id             1          1          1          1        1\n",
       "pop_ad_topic_id              1          1          1          1        1\n",
       "pop_ad_category_id           1          1          1          1        1\n",
       "is_train                     1          1          1          1        1"
      ]
     },
     "execution_count": 13,
     "metadata": {},
     "output_type": "execute_result"
    }
   ],
   "source": [
    "# pd.DataFrame(raw_df.take(5), columns=raw_df.columns).transpose()"
   ]
  },
  {
   "cell_type": "code",
   "execution_count": 7,
   "metadata": {},
   "outputs": [
    {
     "name": "stdout",
     "output_type": "stream",
     "text": [
      "root\n",
      " |-- display_id: string (nullable = true)\n",
      " |-- ad_id: string (nullable = true)\n",
      " |-- ClickOrNot: string (nullable = true)\n",
      " |-- is_leak: string (nullable = true)\n",
      " |-- weekend: string (nullable = true)\n",
      " |-- view_publisher_id: string (nullable = true)\n",
      " |-- view_source_id: string (nullable = true)\n",
      " |-- hour: string (nullable = true)\n",
      " |-- platform: string (nullable = true)\n",
      " |-- traffic_source: string (nullable = true)\n",
      " |-- country: string (nullable = true)\n",
      " |-- campaign_id: string (nullable = true)\n",
      " |-- advertiser_id: string (nullable = true)\n",
      " |-- ad_category_id: string (nullable = true)\n",
      " |-- ad_topic_id: string (nullable = true)\n",
      " |-- view_category_id: string (nullable = true)\n",
      " |-- view_topic_id: string (nullable = true)\n",
      " |-- ad_source_id: string (nullable = true)\n",
      " |-- ad_publisher_id: string (nullable = true)\n",
      " |-- pop_ad_id: string (nullable = true)\n",
      " |-- pop_ad_doc_id: string (nullable = true)\n",
      " |-- pop_ad_publisher_id: string (nullable = true)\n",
      " |-- pop_advertiser_id: string (nullable = true)\n",
      " |-- pop_campaign_id: string (nullable = true)\n",
      " |-- pop_view_doc_ad_doc: string (nullable = true)\n",
      " |-- pop_ad_source_id: string (nullable = true)\n",
      " |-- pop_ad_topic_id: string (nullable = true)\n",
      " |-- pop_ad_category_id: string (nullable = true)\n",
      " |-- is_train: integer (nullable = false)\n",
      "\n",
      "(1305002, 29)\n"
     ]
    }
   ],
   "source": [
    "# 'day_event', 'timestamp_event' 제외 (시간 변수는 필요 없어서) \n",
    "raw_df = raw_df.select([c for c in raw_df.columns if c not in {'day_event', 'timestamp_event'}])\n",
    "\n",
    "# 뒤에 outputCol로 'label'을 사용해서, 'label'이 중복되지 않도록, data의 'label' 컬럼명을 \"ClickOrNot\"로 바꿔준다\n",
    "raw_df = raw_df.withColumnRenamed(\"label\", \"ClickOrNot\")\n",
    "\n",
    "# raw_df를 printSchema 해보기\n",
    "raw_df.printSchema()\n",
    "print((raw_df.count(), len(raw_df.columns))) # (1305002, 29)"
   ]
  },
  {
   "cell_type": "markdown",
   "metadata": {},
   "source": [
    "## feature engineering - numeric"
   ]
  },
  {
   "cell_type": "code",
   "execution_count": null,
   "metadata": {},
   "outputs": [],
   "source": [
    "# numeric_features 없음, 이 코드 건너뛰기\n",
    "# numeric_features = [t[0] for t in df.dtypes if t[1] == 'int'] # numeric features 이름 저장\n",
    "# df.select(numeric_features).describe().toPandas().transpose()"
   ]
  },
  {
   "cell_type": "markdown",
   "metadata": {},
   "source": [
    "## feature engineering - categorical"
   ]
  },
  {
   "cell_type": "code",
   "execution_count": 8,
   "metadata": {},
   "outputs": [],
   "source": [
    "from pyspark.ml.feature import OneHotEncoderEstimator, StringIndexer, VectorAssembler\n",
    "categoricalColumns = ['weekend', 'view_publisher_id', 'view_source_id', 'hour', 'platform', 'traffic_source', 'country', 'campaign_id', 'advertiser_id', 'ad_category_id', 'ad_topic_id', 'view_category_id', 'view_topic_id', 'ad_source_id', 'ad_publisher_id', 'pop_ad_id', 'pop_ad_doc_id', 'pop_ad_publisher_id', 'pop_advertiser_id', 'pop_campaign_id', 'pop_view_doc_ad_doc', 'pop_ad_source_id', 'pop_ad_topic_id', 'pop_ad_category_id']\n",
    "# categoricalColumns : 24개\n",
    "# 사용하지 않은 컬럼 : 5개 ('display_id', 'ad_id', 'ClickOrNot', 'is_leak', 'is_train')\n",
    "stages = []"
   ]
  },
  {
   "cell_type": "code",
   "execution_count": 9,
   "metadata": {},
   "outputs": [],
   "source": [
    "for categoricalCol in categoricalColumns:\n",
    "    stringIndexer = StringIndexer(inputCol = categoricalCol, outputCol = categoricalCol + 'Index')\n",
    "    encoder = OneHotEncoderEstimator(inputCols=[stringIndexer.getOutputCol()], outputCols=[categoricalCol + \"classVec\"])\n",
    "    stages += [stringIndexer, encoder]"
   ]
  },
  {
   "cell_type": "markdown",
   "metadata": {},
   "source": [
    "## feature engineering - label"
   ]
  },
  {
   "cell_type": "code",
   "execution_count": 10,
   "metadata": {},
   "outputs": [],
   "source": [
    "label_stringIdx = StringIndexer(inputCol = 'ClickOrNot', outputCol = 'label')\n",
    "stages += [label_stringIdx]"
   ]
  },
  {
   "cell_type": "markdown",
   "metadata": {},
   "source": [
    "## feature engineering - assembler (categorical)"
   ]
  },
  {
   "cell_type": "code",
   "execution_count": 11,
   "metadata": {},
   "outputs": [],
   "source": [
    "assemblerInputs = [c + \"classVec\" for c in categoricalColumns]\n",
    "assembler = VectorAssembler(inputCols=assemblerInputs, outputCol=\"features\")\n",
    "stages += [assembler]"
   ]
  },
  {
   "cell_type": "markdown",
   "metadata": {},
   "source": [
    "## feature engineering - assembler (numeric)"
   ]
  },
  {
   "cell_type": "code",
   "execution_count": null,
   "metadata": {},
   "outputs": [],
   "source": [
    "# numeric_features 없음, 이 코드 건너뛰기\n",
    "# numericCols = []\n",
    "# assemblerInputs = [c + \"classVec\" for c in categoricalColumns] + numericCols\n",
    "# assembler = VectorAssembler(inputCols=assemblerInputs, outputCol=\"features\")\n",
    "# stages += [assembler]"
   ]
  },
  {
   "cell_type": "markdown",
   "metadata": {},
   "source": [
    "## pipeline"
   ]
  },
  {
   "cell_type": "code",
   "execution_count": 12,
   "metadata": {},
   "outputs": [],
   "source": [
    "from pyspark.ml import Pipeline\n",
    "pipeline = Pipeline(stages = stages)\n",
    "pipelineModel = pipeline.fit(raw_df)\n",
    "transform_df = pipelineModel.transform(raw_df)\n",
    "cols = raw_df.columns\n",
    "selectedCols = ['label', 'features'] + cols\n",
    "selected_df = transform_df.select(selectedCols)"
   ]
  },
  {
   "cell_type": "code",
   "execution_count": 13,
   "metadata": {},
   "outputs": [
    {
     "name": "stdout",
     "output_type": "stream",
     "text": [
      "root\n",
      " |-- label: double (nullable = false)\n",
      " |-- features: vector (nullable = true)\n",
      " |-- display_id: string (nullable = true)\n",
      " |-- ad_id: string (nullable = true)\n",
      " |-- ClickOrNot: string (nullable = true)\n",
      " |-- is_leak: string (nullable = true)\n",
      " |-- weekend: string (nullable = true)\n",
      " |-- view_publisher_id: string (nullable = true)\n",
      " |-- view_source_id: string (nullable = true)\n",
      " |-- hour: string (nullable = true)\n",
      " |-- platform: string (nullable = true)\n",
      " |-- traffic_source: string (nullable = true)\n",
      " |-- country: string (nullable = true)\n",
      " |-- campaign_id: string (nullable = true)\n",
      " |-- advertiser_id: string (nullable = true)\n",
      " |-- ad_category_id: string (nullable = true)\n",
      " |-- ad_topic_id: string (nullable = true)\n",
      " |-- view_category_id: string (nullable = true)\n",
      " |-- view_topic_id: string (nullable = true)\n",
      " |-- ad_source_id: string (nullable = true)\n",
      " |-- ad_publisher_id: string (nullable = true)\n",
      " |-- pop_ad_id: string (nullable = true)\n",
      " |-- pop_ad_doc_id: string (nullable = true)\n",
      " |-- pop_ad_publisher_id: string (nullable = true)\n",
      " |-- pop_advertiser_id: string (nullable = true)\n",
      " |-- pop_campaign_id: string (nullable = true)\n",
      " |-- pop_view_doc_ad_doc: string (nullable = true)\n",
      " |-- pop_ad_source_id: string (nullable = true)\n",
      " |-- pop_ad_topic_id: string (nullable = true)\n",
      " |-- pop_ad_category_id: string (nullable = true)\n",
      " |-- is_train: integer (nullable = false)\n",
      "\n",
      "(1305002, 31)\n"
     ]
    }
   ],
   "source": [
    "selected_df.printSchema()\n",
    "print((selected_df.count(), len(selected_df.columns))) # 29 -> 31  : new columns('label', 'features') are added"
   ]
  },
  {
   "cell_type": "code",
   "execution_count": 27,
   "metadata": {},
   "outputs": [
    {
     "data": {
      "text/html": [
       "<div>\n",
       "<style scoped>\n",
       "    .dataframe tbody tr th:only-of-type {\n",
       "        vertical-align: middle;\n",
       "    }\n",
       "\n",
       "    .dataframe tbody tr th {\n",
       "        vertical-align: top;\n",
       "    }\n",
       "\n",
       "    .dataframe thead th {\n",
       "        text-align: right;\n",
       "    }\n",
       "</style>\n",
       "<table border=\"1\" class=\"dataframe\">\n",
       "  <thead>\n",
       "    <tr style=\"text-align: right;\">\n",
       "      <th></th>\n",
       "      <th>0</th>\n",
       "      <th>1</th>\n",
       "      <th>2</th>\n",
       "      <th>3</th>\n",
       "      <th>4</th>\n",
       "    </tr>\n",
       "  </thead>\n",
       "  <tbody>\n",
       "    <tr>\n",
       "      <th>label</th>\n",
       "      <td>0</td>\n",
       "      <td>1</td>\n",
       "      <td>0</td>\n",
       "      <td>0</td>\n",
       "      <td>0</td>\n",
       "    </tr>\n",
       "    <tr>\n",
       "      <th>features</th>\n",
       "      <td>(1.0, 0.0, 0.0, 0.0, 0.0, 0.0, 0.0, 0.0, 0.0, ...</td>\n",
       "      <td>(1.0, 1.0, 0.0, 0.0, 0.0, 0.0, 0.0, 0.0, 0.0, ...</td>\n",
       "      <td>(1.0, 0.0, 0.0, 0.0, 0.0, 0.0, 0.0, 0.0, 0.0, ...</td>\n",
       "      <td>(1.0, 0.0, 0.0, 1.0, 0.0, 0.0, 0.0, 0.0, 0.0, ...</td>\n",
       "      <td>(1.0, 0.0, 0.0, 0.0, 0.0, 0.0, 0.0, 0.0, 0.0, ...</td>\n",
       "    </tr>\n",
       "    <tr>\n",
       "      <th>display_id</th>\n",
       "      <td>2790527</td>\n",
       "      <td>4189325</td>\n",
       "      <td>2806444</td>\n",
       "      <td>2783288</td>\n",
       "      <td>55830</td>\n",
       "    </tr>\n",
       "    <tr>\n",
       "      <th>ad_id</th>\n",
       "      <td>151311</td>\n",
       "      <td>151311</td>\n",
       "      <td>151311</td>\n",
       "      <td>151311</td>\n",
       "      <td>151311</td>\n",
       "    </tr>\n",
       "    <tr>\n",
       "      <th>ClickOrNot</th>\n",
       "      <td>0</td>\n",
       "      <td>1</td>\n",
       "      <td>0</td>\n",
       "      <td>0</td>\n",
       "      <td>0</td>\n",
       "    </tr>\n",
       "    <tr>\n",
       "      <th>is_leak</th>\n",
       "      <td>-1</td>\n",
       "      <td>-1</td>\n",
       "      <td>0</td>\n",
       "      <td>-1</td>\n",
       "      <td>-1</td>\n",
       "    </tr>\n",
       "    <tr>\n",
       "      <th>weekend</th>\n",
       "      <td>0</td>\n",
       "      <td>0</td>\n",
       "      <td>0</td>\n",
       "      <td>0</td>\n",
       "      <td>0</td>\n",
       "    </tr>\n",
       "    <tr>\n",
       "      <th>view_publisher_id</th>\n",
       "      <td>28</td>\n",
       "      <td>450</td>\n",
       "      <td>784</td>\n",
       "      <td>1089</td>\n",
       "      <td>784</td>\n",
       "    </tr>\n",
       "    <tr>\n",
       "      <th>view_source_id</th>\n",
       "      <td>353</td>\n",
       "      <td>7736</td>\n",
       "      <td>6698</td>\n",
       "      <td>U</td>\n",
       "      <td>6698</td>\n",
       "    </tr>\n",
       "    <tr>\n",
       "      <th>hour</th>\n",
       "      <td>3</td>\n",
       "      <td>1</td>\n",
       "      <td>3</td>\n",
       "      <td>3</td>\n",
       "      <td>6</td>\n",
       "    </tr>\n",
       "    <tr>\n",
       "      <th>platform</th>\n",
       "      <td>2</td>\n",
       "      <td>2</td>\n",
       "      <td>2</td>\n",
       "      <td>2</td>\n",
       "      <td>3</td>\n",
       "    </tr>\n",
       "    <tr>\n",
       "      <th>traffic_source</th>\n",
       "      <td>1</td>\n",
       "      <td>1</td>\n",
       "      <td>1</td>\n",
       "      <td>3</td>\n",
       "      <td>1</td>\n",
       "    </tr>\n",
       "    <tr>\n",
       "      <th>country</th>\n",
       "      <td>U</td>\n",
       "      <td>US</td>\n",
       "      <td>U</td>\n",
       "      <td>U</td>\n",
       "      <td>US</td>\n",
       "    </tr>\n",
       "    <tr>\n",
       "      <th>campaign_id</th>\n",
       "      <td>16314</td>\n",
       "      <td>16314</td>\n",
       "      <td>16314</td>\n",
       "      <td>16314</td>\n",
       "      <td>16314</td>\n",
       "    </tr>\n",
       "    <tr>\n",
       "      <th>advertiser_id</th>\n",
       "      <td>2302</td>\n",
       "      <td>2302</td>\n",
       "      <td>2302</td>\n",
       "      <td>2302</td>\n",
       "      <td>2302</td>\n",
       "    </tr>\n",
       "    <tr>\n",
       "      <th>ad_category_id</th>\n",
       "      <td>1407</td>\n",
       "      <td>1407</td>\n",
       "      <td>1407</td>\n",
       "      <td>1407</td>\n",
       "      <td>1407</td>\n",
       "    </tr>\n",
       "    <tr>\n",
       "      <th>ad_topic_id</th>\n",
       "      <td>10</td>\n",
       "      <td>10</td>\n",
       "      <td>10</td>\n",
       "      <td>10</td>\n",
       "      <td>10</td>\n",
       "    </tr>\n",
       "    <tr>\n",
       "      <th>view_category_id</th>\n",
       "      <td>1708</td>\n",
       "      <td>1603</td>\n",
       "      <td>1403</td>\n",
       "      <td>1609</td>\n",
       "      <td>U</td>\n",
       "    </tr>\n",
       "    <tr>\n",
       "      <th>view_topic_id</th>\n",
       "      <td>107</td>\n",
       "      <td>143</td>\n",
       "      <td>16</td>\n",
       "      <td>8</td>\n",
       "      <td>143</td>\n",
       "    </tr>\n",
       "    <tr>\n",
       "      <th>ad_source_id</th>\n",
       "      <td>368</td>\n",
       "      <td>368</td>\n",
       "      <td>368</td>\n",
       "      <td>368</td>\n",
       "      <td>368</td>\n",
       "    </tr>\n",
       "    <tr>\n",
       "      <th>ad_publisher_id</th>\n",
       "      <td>U</td>\n",
       "      <td>U</td>\n",
       "      <td>U</td>\n",
       "      <td>U</td>\n",
       "      <td>U</td>\n",
       "    </tr>\n",
       "    <tr>\n",
       "      <th>pop_ad_id</th>\n",
       "      <td>1</td>\n",
       "      <td>1</td>\n",
       "      <td>1</td>\n",
       "      <td>1</td>\n",
       "      <td>1</td>\n",
       "    </tr>\n",
       "    <tr>\n",
       "      <th>pop_ad_doc_id</th>\n",
       "      <td>1</td>\n",
       "      <td>1</td>\n",
       "      <td>1</td>\n",
       "      <td>1</td>\n",
       "      <td>1</td>\n",
       "    </tr>\n",
       "    <tr>\n",
       "      <th>pop_ad_publisher_id</th>\n",
       "      <td>U</td>\n",
       "      <td>U</td>\n",
       "      <td>U</td>\n",
       "      <td>U</td>\n",
       "      <td>U</td>\n",
       "    </tr>\n",
       "    <tr>\n",
       "      <th>pop_advertiser_id</th>\n",
       "      <td>1</td>\n",
       "      <td>1</td>\n",
       "      <td>1</td>\n",
       "      <td>1</td>\n",
       "      <td>1</td>\n",
       "    </tr>\n",
       "    <tr>\n",
       "      <th>pop_campaign_id</th>\n",
       "      <td>1</td>\n",
       "      <td>1</td>\n",
       "      <td>1</td>\n",
       "      <td>1</td>\n",
       "      <td>1</td>\n",
       "    </tr>\n",
       "    <tr>\n",
       "      <th>pop_view_doc_ad_doc</th>\n",
       "      <td>U</td>\n",
       "      <td>U</td>\n",
       "      <td>U</td>\n",
       "      <td>U</td>\n",
       "      <td>1</td>\n",
       "    </tr>\n",
       "    <tr>\n",
       "      <th>pop_ad_source_id</th>\n",
       "      <td>1</td>\n",
       "      <td>1</td>\n",
       "      <td>1</td>\n",
       "      <td>1</td>\n",
       "      <td>1</td>\n",
       "    </tr>\n",
       "    <tr>\n",
       "      <th>pop_ad_topic_id</th>\n",
       "      <td>1</td>\n",
       "      <td>1</td>\n",
       "      <td>1</td>\n",
       "      <td>1</td>\n",
       "      <td>1</td>\n",
       "    </tr>\n",
       "    <tr>\n",
       "      <th>pop_ad_category_id</th>\n",
       "      <td>1</td>\n",
       "      <td>1</td>\n",
       "      <td>1</td>\n",
       "      <td>1</td>\n",
       "      <td>1</td>\n",
       "    </tr>\n",
       "    <tr>\n",
       "      <th>is_train</th>\n",
       "      <td>1</td>\n",
       "      <td>1</td>\n",
       "      <td>1</td>\n",
       "      <td>1</td>\n",
       "      <td>1</td>\n",
       "    </tr>\n",
       "  </tbody>\n",
       "</table>\n",
       "</div>"
      ],
      "text/plain": [
       "                                                                     0  \\\n",
       "label                                                                0   \n",
       "features             (1.0, 0.0, 0.0, 0.0, 0.0, 0.0, 0.0, 0.0, 0.0, ...   \n",
       "display_id                                                     2790527   \n",
       "ad_id                                                           151311   \n",
       "ClickOrNot                                                           0   \n",
       "is_leak                                                             -1   \n",
       "weekend                                                              0   \n",
       "view_publisher_id                                                   28   \n",
       "view_source_id                                                     353   \n",
       "hour                                                                 3   \n",
       "platform                                                             2   \n",
       "traffic_source                                                       1   \n",
       "country                                                              U   \n",
       "campaign_id                                                      16314   \n",
       "advertiser_id                                                     2302   \n",
       "ad_category_id                                                    1407   \n",
       "ad_topic_id                                                         10   \n",
       "view_category_id                                                  1708   \n",
       "view_topic_id                                                      107   \n",
       "ad_source_id                                                       368   \n",
       "ad_publisher_id                                                      U   \n",
       "pop_ad_id                                                            1   \n",
       "pop_ad_doc_id                                                        1   \n",
       "pop_ad_publisher_id                                                  U   \n",
       "pop_advertiser_id                                                    1   \n",
       "pop_campaign_id                                                      1   \n",
       "pop_view_doc_ad_doc                                                  U   \n",
       "pop_ad_source_id                                                     1   \n",
       "pop_ad_topic_id                                                      1   \n",
       "pop_ad_category_id                                                   1   \n",
       "is_train                                                             1   \n",
       "\n",
       "                                                                     1  \\\n",
       "label                                                                1   \n",
       "features             (1.0, 1.0, 0.0, 0.0, 0.0, 0.0, 0.0, 0.0, 0.0, ...   \n",
       "display_id                                                     4189325   \n",
       "ad_id                                                           151311   \n",
       "ClickOrNot                                                           1   \n",
       "is_leak                                                             -1   \n",
       "weekend                                                              0   \n",
       "view_publisher_id                                                  450   \n",
       "view_source_id                                                    7736   \n",
       "hour                                                                 1   \n",
       "platform                                                             2   \n",
       "traffic_source                                                       1   \n",
       "country                                                             US   \n",
       "campaign_id                                                      16314   \n",
       "advertiser_id                                                     2302   \n",
       "ad_category_id                                                    1407   \n",
       "ad_topic_id                                                         10   \n",
       "view_category_id                                                  1603   \n",
       "view_topic_id                                                      143   \n",
       "ad_source_id                                                       368   \n",
       "ad_publisher_id                                                      U   \n",
       "pop_ad_id                                                            1   \n",
       "pop_ad_doc_id                                                        1   \n",
       "pop_ad_publisher_id                                                  U   \n",
       "pop_advertiser_id                                                    1   \n",
       "pop_campaign_id                                                      1   \n",
       "pop_view_doc_ad_doc                                                  U   \n",
       "pop_ad_source_id                                                     1   \n",
       "pop_ad_topic_id                                                      1   \n",
       "pop_ad_category_id                                                   1   \n",
       "is_train                                                             1   \n",
       "\n",
       "                                                                     2  \\\n",
       "label                                                                0   \n",
       "features             (1.0, 0.0, 0.0, 0.0, 0.0, 0.0, 0.0, 0.0, 0.0, ...   \n",
       "display_id                                                     2806444   \n",
       "ad_id                                                           151311   \n",
       "ClickOrNot                                                           0   \n",
       "is_leak                                                              0   \n",
       "weekend                                                              0   \n",
       "view_publisher_id                                                  784   \n",
       "view_source_id                                                    6698   \n",
       "hour                                                                 3   \n",
       "platform                                                             2   \n",
       "traffic_source                                                       1   \n",
       "country                                                              U   \n",
       "campaign_id                                                      16314   \n",
       "advertiser_id                                                     2302   \n",
       "ad_category_id                                                    1407   \n",
       "ad_topic_id                                                         10   \n",
       "view_category_id                                                  1403   \n",
       "view_topic_id                                                       16   \n",
       "ad_source_id                                                       368   \n",
       "ad_publisher_id                                                      U   \n",
       "pop_ad_id                                                            1   \n",
       "pop_ad_doc_id                                                        1   \n",
       "pop_ad_publisher_id                                                  U   \n",
       "pop_advertiser_id                                                    1   \n",
       "pop_campaign_id                                                      1   \n",
       "pop_view_doc_ad_doc                                                  U   \n",
       "pop_ad_source_id                                                     1   \n",
       "pop_ad_topic_id                                                      1   \n",
       "pop_ad_category_id                                                   1   \n",
       "is_train                                                             1   \n",
       "\n",
       "                                                                     3  \\\n",
       "label                                                                0   \n",
       "features             (1.0, 0.0, 0.0, 1.0, 0.0, 0.0, 0.0, 0.0, 0.0, ...   \n",
       "display_id                                                     2783288   \n",
       "ad_id                                                           151311   \n",
       "ClickOrNot                                                           0   \n",
       "is_leak                                                             -1   \n",
       "weekend                                                              0   \n",
       "view_publisher_id                                                 1089   \n",
       "view_source_id                                                       U   \n",
       "hour                                                                 3   \n",
       "platform                                                             2   \n",
       "traffic_source                                                       3   \n",
       "country                                                              U   \n",
       "campaign_id                                                      16314   \n",
       "advertiser_id                                                     2302   \n",
       "ad_category_id                                                    1407   \n",
       "ad_topic_id                                                         10   \n",
       "view_category_id                                                  1609   \n",
       "view_topic_id                                                        8   \n",
       "ad_source_id                                                       368   \n",
       "ad_publisher_id                                                      U   \n",
       "pop_ad_id                                                            1   \n",
       "pop_ad_doc_id                                                        1   \n",
       "pop_ad_publisher_id                                                  U   \n",
       "pop_advertiser_id                                                    1   \n",
       "pop_campaign_id                                                      1   \n",
       "pop_view_doc_ad_doc                                                  U   \n",
       "pop_ad_source_id                                                     1   \n",
       "pop_ad_topic_id                                                      1   \n",
       "pop_ad_category_id                                                   1   \n",
       "is_train                                                             1   \n",
       "\n",
       "                                                                     4  \n",
       "label                                                                0  \n",
       "features             (1.0, 0.0, 0.0, 0.0, 0.0, 0.0, 0.0, 0.0, 0.0, ...  \n",
       "display_id                                                       55830  \n",
       "ad_id                                                           151311  \n",
       "ClickOrNot                                                           0  \n",
       "is_leak                                                             -1  \n",
       "weekend                                                              0  \n",
       "view_publisher_id                                                  784  \n",
       "view_source_id                                                    6698  \n",
       "hour                                                                 6  \n",
       "platform                                                             3  \n",
       "traffic_source                                                       1  \n",
       "country                                                             US  \n",
       "campaign_id                                                      16314  \n",
       "advertiser_id                                                     2302  \n",
       "ad_category_id                                                    1407  \n",
       "ad_topic_id                                                         10  \n",
       "view_category_id                                                     U  \n",
       "view_topic_id                                                      143  \n",
       "ad_source_id                                                       368  \n",
       "ad_publisher_id                                                      U  \n",
       "pop_ad_id                                                            1  \n",
       "pop_ad_doc_id                                                        1  \n",
       "pop_ad_publisher_id                                                  U  \n",
       "pop_advertiser_id                                                    1  \n",
       "pop_campaign_id                                                      1  \n",
       "pop_view_doc_ad_doc                                                  1  \n",
       "pop_ad_source_id                                                     1  \n",
       "pop_ad_topic_id                                                      1  \n",
       "pop_ad_category_id                                                   1  \n",
       "is_train                                                             1  "
      ]
     },
     "execution_count": 27,
     "metadata": {},
     "output_type": "execute_result"
    }
   ],
   "source": [
    "pd.DataFrame(selected_df.take(5), columns=selected_df.columns).transpose()"
   ]
  },
  {
   "cell_type": "code",
   "execution_count": 122,
   "metadata": {},
   "outputs": [
    {
     "data": {
      "text/plain": [
       "pyspark.sql.dataframe.DataFrame"
      ]
     },
     "execution_count": 122,
     "metadata": {},
     "output_type": "execute_result"
    }
   ],
   "source": [
    "# print(type(selected_df))"
   ]
  },
  {
   "cell_type": "code",
   "execution_count": null,
   "metadata": {},
   "outputs": [],
   "source": [
    "selected_pd = selected_df[\"features\"].toPandas()"
   ]
  },
  {
   "cell_type": "markdown",
   "metadata": {},
   "source": [
    "## train, valid split"
   ]
  },
  {
   "cell_type": "code",
   "execution_count": 14,
   "metadata": {},
   "outputs": [],
   "source": [
    "train = selected_df.filter(selected_df.is_train==1)\n",
    "test = selected_df.filter(selected_df.is_train==0)"
   ]
  },
  {
   "cell_type": "code",
   "execution_count": 15,
   "metadata": {},
   "outputs": [
    {
     "name": "stdout",
     "output_type": "stream",
     "text": [
      "Training Dataset Count: 912823\n",
      "Validation Dataset Count: 391677\n"
     ]
    }
   ],
   "source": [
    "train, valid = selected_df.randomSplit([0.7, 0.3], seed = 2018)\n",
    "print(\"Training Dataset Count: \" + str(train.count()))\n",
    "print(\"Validation Dataset Count: \" + str(valid.count()))"
   ]
  },
  {
   "cell_type": "markdown",
   "metadata": {},
   "source": [
    "## 1. logistic regression model"
   ]
  },
  {
   "cell_type": "markdown",
   "metadata": {},
   "source": [
    "### 1.1 logistic regression - training"
   ]
  },
  {
   "cell_type": "code",
   "execution_count": 16,
   "metadata": {},
   "outputs": [
    {
     "name": "stdout",
     "output_type": "stream",
     "text": [
      "--- 53.0223429203 seconds ---\n"
     ]
    }
   ],
   "source": [
    "import datetime\n",
    "start_time = time.time()\n",
    "\n",
    "from pyspark.ml.classification import LogisticRegression\n",
    "lr = LogisticRegression(featuresCol = 'features', labelCol = 'label', maxIter=10) # x는 'features', y는 'label'\n",
    "lrModel = lr.fit(train) # 로지스틱 회귀 모델 트레이닝 시키기\n",
    "\n",
    "print(\"--- %s seconds ---\" % (time.time() - start_time))"
   ]
  },
  {
   "cell_type": "code",
   "execution_count": 17,
   "metadata": {},
   "outputs": [
    {
     "name": "stderr",
     "output_type": "stream",
     "text": [
      "/usr/local/envs/py2env/lib/python2.7/site-packages/matplotlib/font_manager.py:1320: UserWarning: findfont: Font family [u'sans-serif'] not found. Falling back to DejaVu Sans\n",
      "  (prop.get_family(), self.defaultFamily[fontext]))\n"
     ]
    },
    {
     "data": {
      "image/png": "[encoded data removed]",
      "text/plain": [
       "<matplotlib.figure.Figure at 0x7f6730830550>"
      ]
     },
     "metadata": {},
     "output_type": "display_data"
    }
   ],
   "source": [
    "# coef\n",
    "import matplotlib.pyplot as plt\n",
    "beta = np.sort(lrModel.coefficients)\n",
    "plt.plot(beta)\n",
    "plt.ylabel('Beta Coefficients')\n",
    "plt.show()\n",
    "# 회귀 계수가 34867개, 값은 -6~8 사이에 분포"
   ]
  },
  {
   "cell_type": "code",
   "execution_count": 18,
   "metadata": {},
   "outputs": [
    {
     "name": "stdout",
     "output_type": "stream",
     "text": [
      "34867\n",
      "-5.993986576022735\n",
      "8.06007812170629\n"
     ]
    }
   ],
   "source": [
    "# print(len(beta))\n",
    "# print(min(beta))\n",
    "# print(max(beta))"
   ]
  },
  {
   "cell_type": "code",
   "execution_count": 19,
   "metadata": {},
   "outputs": [
    {
     "data": {
      "image/png": "[encoded data removed]",
      "text/plain": [
       "<matplotlib.figure.Figure at 0x7f6731ea0910>"
      ]
     },
     "metadata": {},
     "output_type": "display_data"
    }
   ],
   "source": [
    "# ROC curve\n",
    "trainingSummary = lrModel.summary\n",
    "roc = trainingSummary.roc.toPandas()\n",
    "plt.plot(roc['FPR'],roc['TPR'])\n",
    "plt.ylabel('False Positive Rate')\n",
    "plt.xlabel('True Positive Rate')\n",
    "plt.title('ROC Curve')\n",
    "plt.show()"
   ]
  },
  {
   "cell_type": "code",
   "execution_count": 20,
   "metadata": {},
   "outputs": [
    {
     "data": {
      "image/png": "[encoded data removed]",
      "text/plain": [
       "<matplotlib.figure.Figure at 0x7f673050e850>"
      ]
     },
     "metadata": {},
     "output_type": "display_data"
    },
    {
     "name": "stdout",
     "output_type": "stream",
     "text": [
      "Training set areaUnderROC: 0.74035888469\n"
     ]
    }
   ],
   "source": [
    "# precision and recall\n",
    "pr = trainingSummary.pr.toPandas()\n",
    "plt.plot(pr['recall'],pr['precision'])\n",
    "plt.ylabel('Precision')\n",
    "plt.xlabel('Recall')\n",
    "plt.show()\n",
    "print('Training set areaUnderROC: ' + str(trainingSummary.areaUnderROC))"
   ]
  },
  {
   "cell_type": "markdown",
   "metadata": {},
   "source": [
    "### 1.2 logistic regression - validation"
   ]
  },
  {
   "cell_type": "code",
   "execution_count": 21,
   "metadata": {},
   "outputs": [
    {
     "name": "stdout",
     "output_type": "stream",
     "text": [
      "root\n",
      " |-- label: double (nullable = false)\n",
      " |-- features: vector (nullable = true)\n",
      " |-- display_id: string (nullable = true)\n",
      " |-- ad_id: string (nullable = true)\n",
      " |-- ClickOrNot: string (nullable = true)\n",
      " |-- is_leak: string (nullable = true)\n",
      " |-- weekend: string (nullable = true)\n",
      " |-- view_publisher_id: string (nullable = true)\n",
      " |-- view_source_id: string (nullable = true)\n",
      " |-- hour: string (nullable = true)\n",
      " |-- platform: string (nullable = true)\n",
      " |-- traffic_source: string (nullable = true)\n",
      " |-- country: string (nullable = true)\n",
      " |-- campaign_id: string (nullable = true)\n",
      " |-- advertiser_id: string (nullable = true)\n",
      " |-- ad_category_id: string (nullable = true)\n",
      " |-- ad_topic_id: string (nullable = true)\n",
      " |-- view_category_id: string (nullable = true)\n",
      " |-- view_topic_id: string (nullable = true)\n",
      " |-- ad_source_id: string (nullable = true)\n",
      " |-- ad_publisher_id: string (nullable = true)\n",
      " |-- pop_ad_id: string (nullable = true)\n",
      " |-- pop_ad_doc_id: string (nullable = true)\n",
      " |-- pop_ad_publisher_id: string (nullable = true)\n",
      " |-- pop_advertiser_id: string (nullable = true)\n",
      " |-- pop_campaign_id: string (nullable = true)\n",
      " |-- pop_view_doc_ad_doc: string (nullable = true)\n",
      " |-- pop_ad_source_id: string (nullable = true)\n",
      " |-- pop_ad_topic_id: string (nullable = true)\n",
      " |-- pop_ad_category_id: string (nullable = true)\n",
      " |-- is_train: integer (nullable = false)\n",
      " |-- rawPrediction: vector (nullable = true)\n",
      " |-- probability: vector (nullable = true)\n",
      " |-- prediction: double (nullable = false)\n",
      "\n"
     ]
    }
   ],
   "source": [
    "# prediction\n",
    "lrPredictions = lrModel.transform(valid)\n",
    "lrPredictions.printSchema()"
   ]
  },
  {
   "cell_type": "code",
   "execution_count": 22,
   "metadata": {},
   "outputs": [
    {
     "name": "stdout",
     "output_type": "stream",
     "text": [
      "+----------+------+----------+--------------------+\n",
      "|display_id| ad_id|prediction|         probability|\n",
      "+----------+------+----------+--------------------+\n",
      "|   1081731|152055|       0.0|[0.76129631585395...|\n",
      "|   3913279|152057|       0.0|[0.76203140932029...|\n",
      "|   7458692| 99212|       0.0|[0.75418243465143...|\n",
      "|  11560018|134138|       0.0|[0.77065209610854...|\n",
      "|   4170347|  9654|       0.0|[0.89919481341470...|\n",
      "|   1411158|154873|       0.0|[0.87229286437417...|\n",
      "|   8787510| 34906|       0.0|[0.98808825086495...|\n",
      "|   7706137|195697|       0.0|[0.88627140062789...|\n",
      "|  12958619|223540|       0.0|[0.94814998152488...|\n",
      "|  12958619|243487|       0.0|[0.84796579062123...|\n",
      "+----------+------+----------+--------------------+\n",
      "only showing top 10 rows\n",
      "\n"
     ]
    }
   ],
   "source": [
    "# lrPredictions.select('display_id', 'ad_id', 'prediction', 'probability').show(10)"
   ]
  },
  {
   "cell_type": "code",
   "execution_count": 23,
   "metadata": {},
   "outputs": [
    {
     "name": "stdout",
     "output_type": "stream",
     "text": [
      "('Validation Area Under ROC', 0.73977552542839)\n"
     ]
    }
   ],
   "source": [
    "# evaluation\n",
    "from pyspark.ml.evaluation import BinaryClassificationEvaluator\n",
    "evaluator = BinaryClassificationEvaluator()\n",
    "print('Validation Area Under ROC', evaluator.evaluate(lrPredictions))"
   ]
  },
  {
   "cell_type": "markdown",
   "metadata": {},
   "source": [
    "### 1.3 logistic regression - testing"
   ]
  },
  {
   "cell_type": "code",
   "execution_count": 24,
   "metadata": {},
   "outputs": [
    {
     "name": "stdout",
     "output_type": "stream",
     "text": [
      "root\n",
      " |-- label: double (nullable = false)\n",
      " |-- features: vector (nullable = true)\n",
      " |-- display_id: string (nullable = true)\n",
      " |-- ad_id: string (nullable = true)\n",
      " |-- ClickOrNot: string (nullable = true)\n",
      " |-- is_leak: string (nullable = true)\n",
      " |-- weekend: string (nullable = true)\n",
      " |-- view_publisher_id: string (nullable = true)\n",
      " |-- view_source_id: string (nullable = true)\n",
      " |-- hour: string (nullable = true)\n",
      " |-- platform: string (nullable = true)\n",
      " |-- traffic_source: string (nullable = true)\n",
      " |-- country: string (nullable = true)\n",
      " |-- campaign_id: string (nullable = true)\n",
      " |-- advertiser_id: string (nullable = true)\n",
      " |-- ad_category_id: string (nullable = true)\n",
      " |-- ad_topic_id: string (nullable = true)\n",
      " |-- view_category_id: string (nullable = true)\n",
      " |-- view_topic_id: string (nullable = true)\n",
      " |-- ad_source_id: string (nullable = true)\n",
      " |-- ad_publisher_id: string (nullable = true)\n",
      " |-- pop_ad_id: string (nullable = true)\n",
      " |-- pop_ad_doc_id: string (nullable = true)\n",
      " |-- pop_ad_publisher_id: string (nullable = true)\n",
      " |-- pop_advertiser_id: string (nullable = true)\n",
      " |-- pop_campaign_id: string (nullable = true)\n",
      " |-- pop_view_doc_ad_doc: string (nullable = true)\n",
      " |-- pop_ad_source_id: string (nullable = true)\n",
      " |-- pop_ad_topic_id: string (nullable = true)\n",
      " |-- pop_ad_category_id: string (nullable = true)\n",
      " |-- is_train: integer (nullable = false)\n",
      " |-- rawPrediction: vector (nullable = true)\n",
      " |-- probability: vector (nullable = true)\n",
      " |-- prediction: double (nullable = false)\n",
      "\n"
     ]
    }
   ],
   "source": [
    "# prediction\n",
    "lrPredictions = lrModel.transform(test)\n",
    "lrPredictions.printSchema()"
   ]
  },
  {
   "cell_type": "code",
   "execution_count": 25,
   "metadata": {},
   "outputs": [
    {
     "name": "stdout",
     "output_type": "stream",
     "text": [
      "+----------+------+----------+--------------------+\n",
      "|display_id| ad_id|prediction|         probability|\n",
      "+----------+------+----------+--------------------+\n",
      "|  15545104|  1419|       0.0|[0.83584025903596...|\n",
      "|  15523904|   784|       0.0|[0.98907946132185...|\n",
      "|  16731814|   949|       0.0|[0.99449288156133...|\n",
      "|  13517470|492732|       0.0|[0.75908094180666...|\n",
      "|  14303795|492733|       0.0|[0.69496098289604...|\n",
      "|  13473156|492732|       0.0|[0.62109731036974...|\n",
      "|  14323230|492733|       0.0|[0.83317909395105...|\n",
      "|  13529851|  2425|       0.0|[0.92671064982825...|\n",
      "|  16652787|492733|       0.0|[0.72769099850367...|\n",
      "|  16745936|492733|       0.0|[0.77593326529769...|\n",
      "+----------+------+----------+--------------------+\n",
      "only showing top 10 rows\n",
      "\n"
     ]
    }
   ],
   "source": [
    "lrPredictions.select('display_id', 'ad_id', 'prediction', 'probability').show(10)"
   ]
  },
  {
   "cell_type": "code",
   "execution_count": 26,
   "metadata": {},
   "outputs": [
    {
     "name": "stdout",
     "output_type": "stream",
     "text": [
      "('Test Area Under ROC', 0.7385219345974261)\n"
     ]
    }
   ],
   "source": [
    "# evaluation\n",
    "from pyspark.ml.evaluation import BinaryClassificationEvaluator\n",
    "evaluator = BinaryClassificationEvaluator()\n",
    "print('Test Area Under ROC', evaluator.evaluate(lrPredictions))"
   ]
  },
  {
   "cell_type": "markdown",
   "metadata": {},
   "source": [
    "## 2. random forest"
   ]
  },
  {
   "cell_type": "markdown",
   "metadata": {},
   "source": [
    "### 2.1 random forest - training & validation"
   ]
  },
  {
   "cell_type": "code",
   "execution_count": 27,
   "metadata": {},
   "outputs": [
    {
     "name": "stdout",
     "output_type": "stream",
     "text": [
      "+----------+------+----------+--------------------+\n",
      "|display_id| ad_id|prediction|         probability|\n",
      "+----------+------+----------+--------------------+\n",
      "|   1081731|152055|       0.0|[0.8055393711712,...|\n",
      "|   3913279|152057|       0.0|[0.8055393711712,...|\n",
      "|   7458692| 99212|       0.0|[0.8055393711712,...|\n",
      "|  11560018|134138|       0.0|[0.8055393711712,...|\n",
      "|   4170347|  9654|       0.0|[0.8055393711712,...|\n",
      "|   1411158|154873|       0.0|[0.8055393711712,...|\n",
      "|   8787510| 34906|       0.0|[0.85283795087829...|\n",
      "|   7706137|195697|       0.0|[0.8055393711712,...|\n",
      "|  12958619|223540|       0.0|[0.8055393711712,...|\n",
      "|  12958619|243487|       0.0|[0.8055393711712,...|\n",
      "+----------+------+----------+--------------------+\n",
      "only showing top 10 rows\n",
      "\n",
      "CPU times: user 4 ms, sys: 0 ns, total: 4 ms\n",
      "Wall time: 5.02 s\n",
      "--- 287.48152709 seconds ---\n"
     ]
    }
   ],
   "source": [
    "import datetime\n",
    "start_time = time.time()\n",
    "\n",
    "from pyspark.ml.classification import RandomForestClassifier\n",
    "rf = RandomForestClassifier(featuresCol = 'features', labelCol = 'label')\n",
    "rfModel = rf.fit(train)\n",
    "rfPredictions = rfModel.transform(valid)\n",
    "%time rfPredictions.select('display_id', 'ad_id', 'prediction', 'probability').show(10)\n",
    "\n",
    "print(\"--- %s seconds ---\" % (time.time() - start_time))"
   ]
  },
  {
   "cell_type": "code",
   "execution_count": 28,
   "metadata": {},
   "outputs": [
    {
     "name": "stdout",
     "output_type": "stream",
     "text": [
      "(34867,[4,6,8,13,14,17,38,40,55,62,63,64,70,82,91,99,104,105,125,128,137,139,173,195,202,226,231,248,267,332,333,368,388,430,461,463,466,467,468,482,483,485,489,506,511,516,518,533,537,542,547,551,562,578,579,582,592,594,607,613,692,696,709,732,772,774,820,823,837,849,1034,1072,1086,1184,1261,1396,1426,1500,1605,1808,1838,1910,2788,2790,2792,2793,2794,2795,2802,2809,2811,2812,2816,2825,2843,2862,2872,2900,2903,2911,2915,2916,3063,3097,3111,3130,3149,3301,3302,3405,3411,3418,3696,3830,4028,4055,4230,4943,5168,11709,12179,12315,12913,24684,24687,24688,24689,24690,24691,24699,24702,24725,24844,24887,24924,24941,24950,25011,25060,25145,25149,25276,25638,28151,28152,28157,28159,28168,28251,28254,28255,28262,28277,28348,28421,28448,28478,28546,28548,28549,28554,28555,28561,28564,28570,28572,28578,28585,28587,28588,28598,28600,28608,28609,28618,28634,28635,28638,28642,28643,28653,28655,28657,28666,28669,28671,28673,28677,28686,28687,28690,28702,28707,28715,28719,28722,28730,28733,28739,28749,28752,28753,28771,28781,28794,28808,28810,28828,28871,28881,28886,28908,28934,28936,28943,28946,28952,28990,29060,29093,29101,29118,29125,29131,29132,29154,29175,29186,29190,29191,29197,29211,29233,29254,29295,29393,29552,29590,29604,29676,30016,30446,30565,34141,34148,34186,34209,34223,34248,34261,34303,34832,34833,34834,34835,34838,34841,34843,34844,34845,34849,34850,34851,34852,34853,34856,34861,34862,34865,34866],[0.014505496198132803,2.771971670004302e-06,0.008578103082381477,0.012567488724264428,0.01082925720153966,0.00024695319961530406,7.425950309812419e-07,7.821803330686167e-06,3.883379280906097e-06,2.9272547758201746e-05,0.00017381327356167514,4.733233641967688e-05,7.184804504723449e-05,0.010417195935714496,0.00020501996140580243,3.136202640482687e-05,0.0003599036521989575,0.0044624138624831024,0.003716404830184325,0.0031895306580026024,3.351414821330433e-06,0.004373732193605539,1.7455992530986183e-05,1.1075689472131771e-07,1.7136470489588573e-05,9.048675900108516e-07,0.00011350504222504619,3.68759376097882e-05,1.0691254405861576e-06,1.0509322324445157e-06,7.465913342484905e-05,0.00015867869851321639,7.81925181435356e-05,4.959973292607895e-05,0.00019657504425281018,0.00034221979604946235,0.016459154459461556,0.006540309327650764,7.178074766447591e-06,1.646525316264393e-05,0.0021323881974757686,0.0003450030407255439,0.0091178547483544,5.9520336781548497e-05,0.0002310672313855849,8.508020011926613e-05,2.3629090123648016e-05,9.338633857039851e-05,0.0032515486802668194,2.8265822303169846e-06,6.619116516662015e-06,2.8156139267936785e-05,0.00033580372081324034,2.317447570307158e-05,0.0001378785212765885,4.3400119576848624e-05,6.823866562157579e-06,1.1008957467430829e-06,2.489563058051067e-07,0.007062655748720788,0.00013583073200196372,7.055669046315585e-07,1.340158175670826e-06,8.296183964681824e-05,0.000497437394022479,8.590705914542138e-06,0.00014184258618672117,3.260818834039031e-05,0.0001745804464562919,0.0028850212024166258,2.8760241879066488e-05,0.000356243702861796,6.291448402814114e-05,0.00023725762385279976,0.00010676485770634602,1.7474241296185953e-05,1.5258344035528478e-05,5.270388627462573e-05,0.00033190968370975366,0.00015866274285461412,1.373884947632197e-06,8.569720960317771e-05,1.561257938076104e-05,0.00011711725111683007,9.997489693912821e-06,0.021022858108674505,0.00016736064872920135,5.0272680084424275e-06,0.00024343745286064907,0.008374908003980915,0.007080973074469654,0.0057386485650691675,5.49790315298269e-05,0.0033687332063875204,0.005537510461109884,0.01073829537932556,0.0006462087590350942,6.61481221900099e-05,0.011628135185594163,0.00667930002434843,0.012080032536377659,0.00033904032469376393,0.003794605448746705,0.003375438959611769,0.019249517121056797,0.00010623538658463921,0.006727839926142058,0.006225079821793643,0.003608173141407162,1.5385574933706786e-06,0.00999306116306977,0.001147587321504004,0.0015690338742332065,0.008106334669305406,0.00012164671275822151,0.002580011057976006,0.0002274630071845502,0.00019112225402950078,0.00016340400740635358,0.0003418855667322388,6.708381607258275e-05,0.0005993218288757104,9.561277237254525e-05,0.05926825785737515,0.06482836560998652,0.028633062106044528,0.019406187544475,0.0002052274481324,0.044521306099116795,0.004812437937634024,0.0005328320362498651,0.004706368771261778,0.004837648793662966,0.003290760991816111,0.010770654334848412,0.014948663527640408,0.016544305794366915,0.00017290466601445047,6.942838198867583e-05,0.00867838920692643,0.002719390430848235,0.003098049066980787,0.0003791274713835392,9.307755166976858e-06,0.056227989038127445,0.00057098145105217,0.0003896248612159191,4.6385647150355294e-05,0.00026782895010641977,1.173089887060251e-05,0.0005310190885555678,0.009450066869890836,1.9377732115727215e-05,4.466200624074677e-05,0.00953705158227713,6.215250448820097e-05,2.1045551563386837e-06,6.669600531366471e-06,3.55177532679743e-05,0.00016262497608421665,0.00015879835502356765,2.807936704461572e-05,8.948945469540329e-07,8.514159104420758e-05,0.00018336293414252365,1.293486744129396e-07,1.0643176297412363e-05,6.208486718212282e-05,0.00046470737076979434,4.3498188931741104e-05,5.131311075355892e-08,4.8303410732665586e-05,1.6311431775179043e-05,1.790501730163679e-05,3.0295660190342712e-06,4.783345920243244e-06,0.00022775864775021067,3.7223837521275196e-06,5.6727599931049243e-05,8.121020179119396e-09,0.0001853463743598924,0.00020981302339615247,0.00010973780725824389,0.00024352659546120182,0.00035554533109552114,9.561454490879973e-05,0.00012548375422866316,8.585887621966306e-05,2.2854088223357617e-05,9.191328037641231e-05,0.00032731940896701527,0.00046790526854714363,3.370806540933133e-05,6.022503462201259e-05,1.8240717852278123e-06,4.550795669349454e-05,1.4779421711888104e-05,1.8935671718849376e-07,0.0002609168208528296,2.814879079716058e-05,1.9429367126192826e-05,8.365553617761969e-05,8.401439268502032e-06,3.0870213139181395e-05,9.1731113769666e-05,2.7358782526587597e-05,4.536404395086342e-06,1.1897654903944083e-05,3.5467298464859094e-05,1.715235626665691e-05,1.5603620384273914e-05,2.8279715405512867e-05,0.09756483714729147,0.016602274141517995,0.014637177164181003,0.0009356456776815009,0.007946607765206098,4.7491786126144985e-05,7.6710057966304e-05,0.0030176151320654614,0.0078084786969405875,0.003727418152881737,0.009850767054712817,0.006605513280789699,0.003874281867009599,0.01208143913074769,0.0011919093838124888,0.008478362070299407,0.02288465379984702,0.010485606969768118,0.012642589715033658,0.0011811282017942285,0.001006423582086316,0.004111477026169721,0.0055057928575559896,0.006568130905125699,0.003285659413497197,0.0040509966462316666,0.00019996054125956945,2.3713116842009268e-05,0.0068139442360531845,0.00010709408866613787,5.12473318640742e-05,0.012496493770964534,0.01497367333233944,0.0011196438345421119,0.01365020174824815,0.0040852793973604916,0.011831487173636985,0.001720154333018643,0.0015744841101506877,2.58748965940979e-05,0.0001558639378184407,6.541284559822572e-05,2.2160751083903251e-07,4.1922077851421344e-05,1.7618238434996458e-05,0.001046044356778402,7.12778607818321e-05,2.504877460988531e-05,6.178604607826843e-05,0.00029823111800051033,1.0331221909751486e-05,2.8225295428966343e-05,5.742313521567428e-06,0.00023944902707609644,9.983146254426653e-06,2.413886423646973e-06,4.713374112334637e-05,0.00013078364264931192])\n"
     ]
    }
   ],
   "source": [
    "print(rfModel.featureImportances)\n",
    "# spark에는 random forest 변수 중요도 시각화 기능이 없어요, 대신 아래와 같이 리스트를 반환\n",
    "# feature 개수 : 34867\n",
    "# 첫번째 리스트 : 변수 index\n",
    "# 두번째 리스트 : 해당 변수 index의 weight\n",
    "# 참고 -> https://stackoverflow.com/questions/37878519/understanding-spark-randomforest-featureimportances-results"
   ]
  },
  {
   "cell_type": "code",
   "execution_count": 29,
   "metadata": {},
   "outputs": [
    {
     "name": "stdout",
     "output_type": "stream",
     "text": [
      "Validation Area Under ROC: 0.600925704267\n"
     ]
    }
   ],
   "source": [
    "evaluator = BinaryClassificationEvaluator()\n",
    "print(\"Validation Area Under ROC: \" + str(evaluator.evaluate(rfPredictions, {evaluator.metricName: \"areaUnderROC\"})))"
   ]
  },
  {
   "cell_type": "markdown",
   "metadata": {},
   "source": [
    "### 2.2 random forest - testing"
   ]
  },
  {
   "cell_type": "code",
   "execution_count": 30,
   "metadata": {},
   "outputs": [
    {
     "name": "stdout",
     "output_type": "stream",
     "text": [
      "+----------+------+----------+--------------------+\n",
      "|display_id| ad_id|prediction|         probability|\n",
      "+----------+------+----------+--------------------+\n",
      "|  15545104|  1419|       0.0|[0.80392577324733...|\n",
      "|  15523904|   784|       0.0|[0.8055393711712,...|\n",
      "|  16731814|   949|       0.0|[0.80392577324733...|\n",
      "|  13517470|492732|       0.0|[0.8055393711712,...|\n",
      "|  14303795|492733|       0.0|[0.80392577324733...|\n",
      "|  13473156|492732|       0.0|[0.8055393711712,...|\n",
      "|  14323230|492733|       0.0|[0.80748568400145...|\n",
      "|  13529851|  2425|       0.0|[0.8055393711712,...|\n",
      "|  16652787|492733|       0.0|[0.80392577324733...|\n",
      "|  16745936|492733|       0.0|[0.80392577324733...|\n",
      "+----------+------+----------+--------------------+\n",
      "only showing top 10 rows\n",
      "\n",
      "CPU times: user 8 ms, sys: 4 ms, total: 12 ms\n",
      "Wall time: 18.9 s\n"
     ]
    }
   ],
   "source": [
    "rfPredictions = rfModel.transform(test)\n",
    "%time rfPredictions.select('display_id', 'ad_id', 'prediction', 'probability').show(10)"
   ]
  },
  {
   "cell_type": "code",
   "execution_count": 31,
   "metadata": {},
   "outputs": [
    {
     "name": "stdout",
     "output_type": "stream",
     "text": [
      "Test Area Under ROC: 0.593543776154\n"
     ]
    }
   ],
   "source": [
    "evaluator = BinaryClassificationEvaluator()\n",
    "print(\"Test Area Under ROC: \" + str(evaluator.evaluate(rfPredictions, {evaluator.metricName: \"areaUnderROC\"})))"
   ]
  },
  {
   "cell_type": "markdown",
   "metadata": {},
   "source": [
    "## 3. gradient-boosted tree"
   ]
  },
  {
   "cell_type": "markdown",
   "metadata": {},
   "source": [
    "### 3.1 gradient-boosted tree - training & validation"
   ]
  },
  {
   "cell_type": "code",
   "execution_count": 32,
   "metadata": {},
   "outputs": [
    {
     "name": "stdout",
     "output_type": "stream",
     "text": [
      "+----------+------+----------+--------------------+\n",
      "|display_id| ad_id|prediction|         probability|\n",
      "+----------+------+----------+--------------------+\n",
      "|   1081731|152055|       0.0|[0.80062090727890...|\n",
      "|   3913279|152057|       0.0|[0.80062090727890...|\n",
      "|   7458692| 99212|       0.0|[0.80062090727890...|\n",
      "|  11560018|134138|       0.0|[0.80062090727890...|\n",
      "|   4170347|  9654|       0.0|[0.80062090727890...|\n",
      "|   1411158|154873|       0.0|[0.80062090727890...|\n",
      "|   8787510| 34906|       0.0|[0.88133923875054...|\n",
      "|   7706137|195697|       0.0|[0.80062090727890...|\n",
      "|  12958619|223540|       0.0|[0.82013799086042...|\n",
      "|  12958619|243487|       0.0|[0.80062090727890...|\n",
      "+----------+------+----------+--------------------+\n",
      "only showing top 10 rows\n",
      "\n",
      "CPU times: user 8 ms, sys: 4 ms, total: 12 ms\n",
      "Wall time: 5.1 s\n",
      "--- 2391.42443514 seconds ---\n"
     ]
    }
   ],
   "source": [
    "import datetime\n",
    "start_time = time.time()\n",
    "\n",
    "from pyspark.ml.classification import GBTClassifier\n",
    "gbt = GBTClassifier(maxIter=10)\n",
    "gbtModel = gbt.fit(train)\n",
    "gbtPredictions = gbtModel.transform(valid)\n",
    "%time gbtPredictions.select('display_id', 'ad_id', 'prediction', 'probability').show(10)\n",
    "\n",
    "print(\"--- %s seconds ---\" % (time.time() - start_time))"
   ]
  },
  {
   "cell_type": "code",
   "execution_count": 33,
   "metadata": {},
   "outputs": [
    {
     "name": "stdout",
     "output_type": "stream",
     "text": [
      "Validation Area Under ROC: 0.62079337408\n"
     ]
    }
   ],
   "source": [
    "evaluator = BinaryClassificationEvaluator()\n",
    "print(\"Validation Area Under ROC: \" + str(evaluator.evaluate(gbtPredictions, {evaluator.metricName: \"areaUnderROC\"})))"
   ]
  },
  {
   "cell_type": "markdown",
   "metadata": {},
   "source": [
    "### 3.2 gradient-boosted tree - testing"
   ]
  },
  {
   "cell_type": "code",
   "execution_count": 34,
   "metadata": {},
   "outputs": [
    {
     "name": "stdout",
     "output_type": "stream",
     "text": [
      "+----------+------+----------+--------------------+\n",
      "|display_id| ad_id|prediction|         probability|\n",
      "+----------+------+----------+--------------------+\n",
      "|  15545104|  1419|       0.0|[0.80062090727890...|\n",
      "|  15523904|   784|       0.0|[0.80062090727890...|\n",
      "|  16731814|   949|       0.0|[0.77492917104812...|\n",
      "|  13517470|492732|       0.0|[0.80062090727890...|\n",
      "|  14303795|492733|       0.0|[0.77492917104812...|\n",
      "|  13473156|492732|       0.0|[0.80062090727890...|\n",
      "|  14323230|492733|       0.0|[0.77492917104812...|\n",
      "|  13529851|  2425|       0.0|[0.80062090727890...|\n",
      "|  16652787|492733|       0.0|[0.77492917104812...|\n",
      "|  16745936|492733|       0.0|[0.77492917104812...|\n",
      "+----------+------+----------+--------------------+\n",
      "only showing top 10 rows\n",
      "\n",
      "CPU times: user 12 ms, sys: 0 ns, total: 12 ms\n",
      "Wall time: 11.2 s\n"
     ]
    }
   ],
   "source": [
    "gbtPredictions = gbtModel.transform(test)\n",
    "%time gbtPredictions.select('display_id', 'ad_id', 'prediction', 'probability').show(10)"
   ]
  },
  {
   "cell_type": "code",
   "execution_count": 35,
   "metadata": {},
   "outputs": [
    {
     "name": "stdout",
     "output_type": "stream",
     "text": [
      "Test Area Under ROC: 0.612009301179\n"
     ]
    }
   ],
   "source": [
    "evaluator = BinaryClassificationEvaluator()\n",
    "print(\"Test Area Under ROC: \" + str(evaluator.evaluate(gbtPredictions, {evaluator.metricName: \"areaUnderROC\"})))"
   ]
  }
 ],
 "metadata": {
  "kernelspec": {
   "display_name": "Python 2",
   "language": "python",
   "name": "python2"
  },
  "language_info": {
   "codemirror_mode": {
    "name": "ipython",
    "version": 2
   },
   "file_extension": ".py",
   "mimetype": "text/x-python",
   "name": "python",
   "nbconvert_exporter": "python",
   "pygments_lexer": "ipython2",
   "version": "2.7.15"
  }
 },
 "nbformat": 4,
 "nbformat_minor": 2
}
