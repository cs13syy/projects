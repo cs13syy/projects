{
 "cells": [
  {
   "cell_type": "markdown",
   "metadata": {},
   "source": [
    "# load package and data"
   ]
  },
  {
   "cell_type": "code",
   "execution_count": 26,
   "metadata": {},
   "outputs": [],
   "source": [
    "import google.datalab.storage as storage\n",
    "import pandas as pd\n",
    "import numpy as np\n",
    "import matplotlib.pyplot as plt\n",
    "import seaborn as sns\n",
    "from io import BytesIO\n",
    "from google.datalab import Context\n",
    "import random, string\n",
    "\n",
    "p = sns.color_palette()"
   ]
  },
  {
   "cell_type": "code",
   "execution_count": 27,
   "metadata": {},
   "outputs": [
    {
     "name": "stdout",
     "output_type": "stream",
     "text": [
      "clicks_test.csv\n",
      "clicks_train.csv\n",
      "dis_ad_ctr.csv\n",
      "dis_several_ads.csv\n",
      "documents_categories.csv\n",
      "documents_entities.csv\n",
      "documents_meta.csv\n",
      "documents_topics.csv\n",
      "events.csv\n",
      "page_views_sample.csv\n",
      "promoted_content.csv\n",
      "sample_submission.csv\n"
     ]
    }
   ],
   "source": [
    "shared_bucket = storage.Bucket('capstone-01')\n",
    "for obj in shared_bucket.objects():\n",
    "  if obj.key.find('/') < 0:\n",
    "    print(obj.key) # Bucket 내에 포함된 데이터 셋 확인"
   ]
  },
  {
   "cell_type": "markdown",
   "metadata": {},
   "source": [
    "# clicks_train & clicks_test"
   ]
  },
  {
   "cell_type": "markdown",
   "metadata": {},
   "source": [
    "## load data"
   ]
  },
  {
   "cell_type": "code",
   "execution_count": 28,
   "metadata": {},
   "outputs": [
    {
     "data": {
      "text/html": [
       "<div>\n",
       "<style scoped>\n",
       "    .dataframe tbody tr th:only-of-type {\n",
       "        vertical-align: middle;\n",
       "    }\n",
       "\n",
       "    .dataframe tbody tr th {\n",
       "        vertical-align: top;\n",
       "    }\n",
       "\n",
       "    .dataframe thead th {\n",
       "        text-align: right;\n",
       "    }\n",
       "</style>\n",
       "<table border=\"1\" class=\"dataframe\">\n",
       "  <thead>\n",
       "    <tr style=\"text-align: right;\">\n",
       "      <th></th>\n",
       "      <th>display_id</th>\n",
       "      <th>ad_id</th>\n",
       "    </tr>\n",
       "  </thead>\n",
       "  <tbody>\n",
       "    <tr>\n",
       "      <th>0</th>\n",
       "      <td>16874594</td>\n",
       "      <td>66758</td>\n",
       "    </tr>\n",
       "    <tr>\n",
       "      <th>1</th>\n",
       "      <td>16874594</td>\n",
       "      <td>150083</td>\n",
       "    </tr>\n",
       "    <tr>\n",
       "      <th>2</th>\n",
       "      <td>16874594</td>\n",
       "      <td>162754</td>\n",
       "    </tr>\n",
       "    <tr>\n",
       "      <th>3</th>\n",
       "      <td>16874594</td>\n",
       "      <td>170392</td>\n",
       "    </tr>\n",
       "    <tr>\n",
       "      <th>4</th>\n",
       "      <td>16874594</td>\n",
       "      <td>172888</td>\n",
       "    </tr>\n",
       "  </tbody>\n",
       "</table>\n",
       "</div>"
      ],
      "text/plain": [
       "   display_id   ad_id\n",
       "0    16874594   66758\n",
       "1    16874594  150083\n",
       "2    16874594  162754\n",
       "3    16874594  170392\n",
       "4    16874594  172888"
      ]
     },
     "execution_count": 28,
     "metadata": {},
     "output_type": "execute_result"
    }
   ],
   "source": [
    "my_bucket = storage.Bucket('capstone-01')\n",
    "\n",
    "clicks_test = my_bucket.object('clicks_test.csv')\n",
    "uri = clicks_test.uri\n",
    "%gcs read --object $uri --variable c_test\n",
    "clicks_test = pd.read_csv(BytesIO(c_test))\n",
    "clicks_test.head(5)"
   ]
  },
  {
   "cell_type": "code",
   "execution_count": 29,
   "metadata": {},
   "outputs": [
    {
     "data": {
      "text/html": [
       "<div>\n",
       "<style scoped>\n",
       "    .dataframe tbody tr th:only-of-type {\n",
       "        vertical-align: middle;\n",
       "    }\n",
       "\n",
       "    .dataframe tbody tr th {\n",
       "        vertical-align: top;\n",
       "    }\n",
       "\n",
       "    .dataframe thead th {\n",
       "        text-align: right;\n",
       "    }\n",
       "</style>\n",
       "<table border=\"1\" class=\"dataframe\">\n",
       "  <thead>\n",
       "    <tr style=\"text-align: right;\">\n",
       "      <th></th>\n",
       "      <th>display_id</th>\n",
       "      <th>ad_id</th>\n",
       "      <th>clicked</th>\n",
       "    </tr>\n",
       "  </thead>\n",
       "  <tbody>\n",
       "    <tr>\n",
       "      <th>0</th>\n",
       "      <td>1</td>\n",
       "      <td>42337</td>\n",
       "      <td>0</td>\n",
       "    </tr>\n",
       "    <tr>\n",
       "      <th>1</th>\n",
       "      <td>1</td>\n",
       "      <td>139684</td>\n",
       "      <td>0</td>\n",
       "    </tr>\n",
       "    <tr>\n",
       "      <th>2</th>\n",
       "      <td>1</td>\n",
       "      <td>144739</td>\n",
       "      <td>1</td>\n",
       "    </tr>\n",
       "    <tr>\n",
       "      <th>3</th>\n",
       "      <td>1</td>\n",
       "      <td>156824</td>\n",
       "      <td>0</td>\n",
       "    </tr>\n",
       "    <tr>\n",
       "      <th>4</th>\n",
       "      <td>1</td>\n",
       "      <td>279295</td>\n",
       "      <td>0</td>\n",
       "    </tr>\n",
       "  </tbody>\n",
       "</table>\n",
       "</div>"
      ],
      "text/plain": [
       "   display_id   ad_id  clicked\n",
       "0           1   42337        0\n",
       "1           1  139684        0\n",
       "2           1  144739        1\n",
       "3           1  156824        0\n",
       "4           1  279295        0"
      ]
     },
     "execution_count": 29,
     "metadata": {},
     "output_type": "execute_result"
    }
   ],
   "source": [
    "clicks_train = my_bucket.object('clicks_train.csv')\n",
    "uri = clicks_train.uri\n",
    "%gcs read --object $uri --variable c_test\n",
    "clicks_train = pd.read_csv(BytesIO(c_test))\n",
    "clicks_train.head(5)"
   ]
  },
  {
   "cell_type": "markdown",
   "metadata": {},
   "source": [
    "## shape"
   ]
  },
  {
   "cell_type": "code",
   "execution_count": 7,
   "metadata": {},
   "outputs": [
    {
     "name": "stdout",
     "output_type": "stream",
     "text": [
      "(87141731, 3)\n",
      "(32225162, 2)\n"
     ]
    }
   ],
   "source": [
    "# 파일의 행렬 개수 확인\n",
    "print(clicks_train.shape)\n",
    "print(clicks_test.shape)\n",
    "# print(train_events.shape)"
   ]
  },
  {
   "cell_type": "markdown",
   "metadata": {},
   "source": [
    "## colnames"
   ]
  },
  {
   "cell_type": "code",
   "execution_count": 17,
   "metadata": {},
   "outputs": [
    {
     "name": "stdout",
     "output_type": "stream",
     "text": [
      "['display_id', 'ad_id', 'clicked']\n",
      "['display_id', 'ad_id']\n",
      "0.369801719913046\n"
     ]
    }
   ],
   "source": [
    "# 파일의 열 명 확인\n",
    "train_col = clicks_train.columns.tolist()\n",
    "test_col = clicks_test.columns.tolist()\n",
    "print(train_col)\n",
    "print(test_col)\n",
    "\n",
    "# train set은 test set의 몇 배? 3.7배\n",
    "print(len(clicks_test)/len(clicks_train))"
   ]
  },
  {
   "cell_type": "markdown",
   "metadata": {},
   "source": [
    "## unique"
   ]
  },
  {
   "cell_type": "code",
   "execution_count": 70,
   "metadata": {},
   "outputs": [
    {
     "name": "stdout",
     "output_type": "stream",
     "text": [
      "proportion of unique display_id in train: 19.36 %\n",
      "proportion of unique ad_id in train: 0.55 %\n",
      "proportion of unique display_id in test: 19.38 %\n",
      "proportion of unique ad_id in test: 1.18 %\n"
     ]
    }
   ],
   "source": [
    "# check the unique data of each col\n",
    "# print(len(clicks_train[\"display_id\"].unique()))\n",
    "# print(len(clicks_train[\"ad_id\"].unique()))\n",
    "# print(len(clicks_test[\"display_id\"].unique()))\n",
    "# print(len(clicks_test[\"ad_id\"].unique()))\n",
    "# print((clicks_train[\"clicked\"].sum())/len(clicks_train))\n",
    "\n",
    "e=16874593/87141731 # train에서 unique display_id의 비율\n",
    "f=478950/87141731 # train에서 unique ad_id의 비율\n",
    "g=6245533/32225162 # test에서 unique display_id의 비율\n",
    "h=381385/32225162 # test에서 unique ad_id의 비율\n",
    "print('proportion of unique display_id in train:', round(e*100,2), '%')\n",
    "print('proportion of unique ad_id in train:', round(f*100,2), '%')\n",
    "print('proportion of unique display_id in test:', round(g*100,2), '%')\n",
    "print('proportion of unique ad_id in test:', round(h*100,2), '%')"
   ]
  },
  {
   "cell_type": "markdown",
   "metadata": {},
   "source": [
    "## num of ads"
   ]
  },
  {
   "cell_type": "code",
   "execution_count": 26,
   "metadata": {},
   "outputs": [
    {
     "name": "stderr",
     "output_type": "stream",
     "text": [
      "/usr/local/envs/py3env/lib/python3.5/site-packages/seaborn/categorical.py:1424: FutureWarning: remove_na is deprecated and is a private function. Do not use.\n",
      "  stat_data = remove_na(group_data)\n"
     ]
    },
    {
     "data": {
      "text/plain": [
       "Text(0,0.5,'Proportion of set')"
      ]
     },
     "execution_count": 26,
     "metadata": {},
     "output_type": "execute_result"
    },
    {
     "name": "stderr",
     "output_type": "stream",
     "text": [
      "/usr/local/envs/py3env/lib/python3.5/site-packages/matplotlib/font_manager.py:1320: UserWarning: findfont: Font family ['sans-serif'] not found. Falling back to DejaVu Sans\n",
      "  (prop.get_family(), self.defaultFamily[fontext]))\n"
     ]
    },
    {
     "data": {
      "image/png": "[encoded data removed]",
      "text/plain": [
       "<matplotlib.figure.Figure at 0x7fc39ef4d780>"
      ]
     },
     "metadata": {},
     "output_type": "display_data"
    }
   ],
   "source": [
    "# 디스플레이 별 광고 개수가 몇 개일까?\n",
    "# train과 test 각각 디스플레이 별 광고 개수의 분포가 비슷할까?\n",
    "size_train = clicks_train.groupby('display_id')['ad_id'].count().value_counts()\n",
    "size_test = clicks_test.groupby('display_id')['ad_id'].count().value_counts()\n",
    "size_train = size_train / np.sum(size_train)\n",
    "size_test = size_test / np.sum(size_test)\n",
    "\n",
    "# plotting\n",
    "plt.figure(figsize=(12,4))\n",
    "sns.barplot(size_train.index, size_train.values, alpha=0.8, color=p[0], label='train')\n",
    "sns.barplot(size_test.index, size_test.values, alpha=0.6, color=p[1], label='test')\n",
    "plt.legend()\n",
    "plt.xlabel('Number of Ads in display', fontsize=12)\n",
    "plt.ylabel('Proportion of set', fontsize=12)"
   ]
  },
  {
   "cell_type": "markdown",
   "metadata": {},
   "source": [
    "## same ads in train and test"
   ]
  },
  {
   "cell_type": "code",
   "execution_count": 69,
   "metadata": {},
   "outputs": [
    {
     "name": "stdout",
     "output_type": "stream",
     "text": [
      "Proportion of test ads in test that are in train set: 82.87%\n"
     ]
    }
   ],
   "source": [
    "# test에 있는 ad_id가 train에도 있을까? 있다면 몇 퍼센트일까?\n",
    "ad_prop = len(set(clicks_test.ad_id.unique()).intersection(clicks_train.ad_id.unique())) / len(clicks_test.ad_id.unique())\n",
    "print('Proportion of test ads in test that are in train set: {}%'.format(round(ad_prop *100, 2)))"
   ]
  },
  {
   "cell_type": "markdown",
   "metadata": {},
   "source": [
    "## ad frequency"
   ]
  },
  {
   "cell_type": "code",
   "execution_count": 6,
   "metadata": {},
   "outputs": [
    {
     "name": "stdout",
     "output_type": "stream",
     "text": [
      "ad_id\n",
      "1        2\n",
      "2       22\n",
      "3      161\n",
      "4       32\n",
      "5        1\n",
      "6        1\n",
      "7     3406\n",
      "8       28\n",
      "9        3\n",
      "10      81\n",
      "Name: ad_id, dtype: int64\n",
      "Ads that appear less than 2 times: 22.69%\n",
      "Ads that appear less than 5 times: 46.55%\n",
      "Ads that appear less than 10 times: 61.74%\n",
      "Ads that appear less than 50 times: 86.93%\n",
      "Ads that appear less than 100 times: 91.04%\n",
      "Ads that appear less than 1000 times: 97.45%\n"
     ]
    },
    {
     "name": "stderr",
     "output_type": "stream",
     "text": [
      "/usr/local/envs/py3env/lib/python3.5/site-packages/matplotlib/font_manager.py:1320: UserWarning: findfont: Font family ['sans-serif'] not found. Falling back to DejaVu Sans\n",
      "  (prop.get_family(), self.defaultFamily[fontext]))\n"
     ]
    },
    {
     "data": {
      "image/png": "[encoded data removed]",
      "text/plain": [
       "<matplotlib.figure.Figure at 0x7fe3029aca58>"
      ]
     },
     "metadata": {},
     "output_type": "display_data"
    }
   ],
   "source": [
    "# train에서 고유 ad_id가 디스플레이에 노출된 빈도 수의 분포는?\n",
    "ad_usage_train = clicks_train.groupby('ad_id')['ad_id'].count()\n",
    "print(ad_usage_train.head(10))\n",
    "for i in [2, 5, 10, 50, 100, 1000]:\n",
    "    print('Ads that appear less than {} times: {}%'.format(i, round((ad_usage_train < i).mean() * 100, 2)))\n",
    "\n",
    "# plotting\n",
    "plt.figure(figsize=(12,6))\n",
    "plt.hist(ad_usage_train.values, bins=50, log=True)\n",
    "plt.xlabel('Number of times ad appeared', fontsize=12)\n",
    "plt.ylabel('log(Count of displays with ad)', fontsize=12)\n",
    "plt.show()"
   ]
  },
  {
   "cell_type": "code",
   "execution_count": 25,
   "metadata": {},
   "outputs": [
    {
     "name": "stdout",
     "output_type": "stream",
     "text": [
      "ad_id\n",
      "173005    211824\n",
      "180923    203159\n",
      "123742    202099\n",
      "151028    181319\n",
      "173006    168139\n",
      "347688    147877\n",
      "138353    144467\n",
      "130952    135789\n",
      "288396    128607\n",
      "173403    128030\n",
      "Name: ad_id, dtype: int64\n"
     ]
    }
   ],
   "source": [
    "# train set에 있는 ad_id를 count해서 내림차순으로 정렬\n",
    "ad_usage_train_desc = ad_usage_train.sort_values(ascending=False)\n",
    "print(ad_usage_train_desc.head(10))"
   ]
  },
  {
   "cell_type": "code",
   "execution_count": 78,
   "metadata": {},
   "outputs": [
    {
     "name": "stdout",
     "output_type": "stream",
     "text": [
      "181.9432738281658\n",
      "5.0\n"
     ]
    }
   ],
   "source": [
    "# train에서 고유 ad_id가 디스플레이에 노출된 빈도 수의 평균과 중앙값은?\n",
    "print(ad_usage_train.mean())\n",
    "print(ad_usage_train.median())"
   ]
  },
  {
   "cell_type": "code",
   "execution_count": 83,
   "metadata": {},
   "outputs": [
    {
     "name": "stdout",
     "output_type": "stream",
     "text": [
      "ad_id\n",
      "1      2\n",
      "2     22\n",
      "3    161\n",
      "4     32\n",
      "5      1\n",
      "Name: ad_id, dtype: int64\n",
      "ad_id\n",
      "1    0.0000\n",
      "2    0.0455\n",
      "3    0.0683\n",
      "4    0.1250\n",
      "5    0.0000\n",
      "dtype: float64\n",
      "<class 'pandas.core.series.Series'>\n",
      "<class 'pandas.core.series.Series'>\n"
     ]
    }
   ],
   "source": [
    "# train에서 고유 ad_id가 디스플레이에 노출된 빈도 수\n",
    "print(ad_usage_train.head())\n",
    "print(ctr.head())\n",
    "#usage_ctr = pd.merge(df(ad_usage_train), df(ctr, left_index=True, right_index=True)\n",
    "#print(usage_ctr.head(10))"
   ]
  },
  {
   "cell_type": "markdown",
   "metadata": {},
   "source": [
    "## different display_ids have same ad"
   ]
  },
  {
   "cell_type": "code",
   "execution_count": 31,
   "metadata": {},
   "outputs": [
    {
     "name": "stdout",
     "output_type": "stream",
     "text": [
      "563\n"
     ]
    }
   ],
   "source": [
    "# 하나의 ad_id가 서로 다른 display_id에 노출되고 있는가? ad_id \"284367\"는 563번 노출되었다\n",
    "diff = clicks_train[clicks_train.ad_id == 284367]\n",
    "print(len(diff))"
   ]
  },
  {
   "cell_type": "markdown",
   "metadata": {},
   "source": [
    "## each display_id has only one clicked ad"
   ]
  },
  {
   "cell_type": "code",
   "execution_count": 38,
   "metadata": {},
   "outputs": [
    {
     "name": "stdout",
     "output_type": "stream",
     "text": [
      "display_id\n",
      "1           1\n",
      "11249721    1\n",
      "11249722    1\n",
      "11249723    1\n",
      "11249724    1\n",
      "11249725    1\n",
      "11249726    1\n",
      "11249727    1\n",
      "11249728    1\n",
      "11249729    1\n",
      "Name: clicked, dtype: int64\n",
      "          display_id   ad_id  clicked\n",
      "58094489    11262009  141233        0\n",
      "58094490    11262009  291545        0\n",
      "58094491    11262009  450857        0\n",
      "58094492    11262009  494767        1\n"
     ]
    }
   ],
   "source": [
    "# 하나의 display_id 중에서 클릭을 받은 ad_id는 오직 하나다\n",
    "a = clicks_train.sort_values('display_id')\n",
    "b = clicks_train.groupby(['display_id'])['clicked'].sum().sort_values()\n",
    "print(b.head(10))\n",
    "print(clicks_train[clicks_train.display_id==11262009])"
   ]
  },
  {
   "cell_type": "markdown",
   "metadata": {},
   "source": [
    "## click through rate"
   ]
  },
  {
   "cell_type": "code",
   "execution_count": 72,
   "metadata": {},
   "outputs": [
    {
     "name": "stdout",
     "output_type": "stream",
     "text": [
      "ad_id\n",
      "1    0.0000\n",
      "2    0.0455\n",
      "3    0.0683\n",
      "4    0.1250\n",
      "5    0.0000\n",
      "dtype: float64\n",
      "14.322337822319659\n"
     ]
    }
   ],
   "source": [
    "# train의 평균 CTR(클릭 수/노출 수)에 대해 알아보자\n",
    "i = clicks_train.groupby('ad_id')['display_id'].count()\n",
    "j = clicks_train.groupby('ad_id')['clicked'].sum()\n",
    "# print(i.head())\n",
    "# print(j.head())\n",
    "ctr = round(j/i, 4)\n",
    "ctr.percent = ctr * 100\n",
    "print(ctr.head())\n",
    "print(ctr.percent.mean()) # 평균 CTR"
   ]
  },
  {
   "cell_type": "markdown",
   "metadata": {},
   "source": [
    "# cilcks_train의 ad_id를 ctr 내림차순으로 정렬 (views 5 이상) "
   ]
  },
  {
   "cell_type": "code",
   "execution_count": 5,
   "metadata": {},
   "outputs": [
    {
     "name": "stdout",
     "output_type": "stream",
     "text": [
      "   ad_id  display_id  clicked       0      1\n",
      "0      1           2        0  0.0000   0.00\n",
      "1      2          22        1  0.0455   4.55\n",
      "2      3         161       11  0.0683   6.83\n",
      "3      4          32        4  0.1250  12.50\n",
      "4      5           1        0  0.0000   0.00\n"
     ]
    }
   ],
   "source": [
    "# ad_id별 views, clicks, ctr, ctr.percent 테이블 만들기\n",
    "views = clicks_train.groupby('ad_id')['display_id'].count()\n",
    "clicks = clicks_train.groupby('ad_id')['clicked'].sum()\n",
    "ctr = round(clicks/views, 4)\n",
    "ctr.percent = ctr * 100\n",
    "ad_info = pd.concat([views, clicks, ctr, ctr.percent], axis=1)\n",
    "ad_info.reset_index(level=['ad_id'], inplace=True) # group_by 후 index였던 ad_id를 컬럼으로 보내기\n",
    "print(ad_info.head())"
   ]
  },
  {
   "cell_type": "code",
   "execution_count": 6,
   "metadata": {},
   "outputs": [
    {
     "name": "stdout",
     "output_type": "stream",
     "text": [
      "<class 'pandas.core.frame.DataFrame'>\n"
     ]
    }
   ],
   "source": [
    "print(type(ad_info))"
   ]
  },
  {
   "cell_type": "code",
   "execution_count": 6,
   "metadata": {},
   "outputs": [
    {
     "name": "stdout",
     "output_type": "stream",
     "text": [
      "         ad_id  views  clicks  ctr  ctr.percent\n",
      "478949  548019      1       1  1.0        100.0\n",
      "396495  439589      1       1  1.0        100.0\n",
      "438221  486459      1       1  1.0        100.0\n",
      "396501  439599      1       1  1.0        100.0\n",
      "470153  530339      1       1  1.0        100.0\n"
     ]
    }
   ],
   "source": [
    "# 컬럼명 변경\n",
    "ad_info.columns = ['ad_id', 'views', 'clicks', 'ctr', 'ctr.percent']\n",
    "\n",
    "# ctr 순으로 내림차순 정렬\n",
    "ad_info_desc = ad_info.sort_values('ctr', ascending=False)\n",
    "print(ad_info_desc.head())"
   ]
  },
  {
   "cell_type": "code",
   "execution_count": 7,
   "metadata": {},
   "outputs": [
    {
     "name": "stdout",
     "output_type": "stream",
     "text": [
      "(255975, 5)\n",
      "         ad_id  views  clicks  ctr  ctr.percent\n",
      "45667    50785      5       5  1.0        100.0\n",
      "472699  534762      5       5  1.0        100.0\n",
      "355855  395356      7       7  1.0        100.0\n",
      "355353  394799      5       5  1.0        100.0\n",
      "230817  259272      5       5  1.0        100.0\n"
     ]
    }
   ],
   "source": [
    "# CTR 신뢰도를 높이기 위해, view 5개 이상인 것만 추출\n",
    "ad_info_views_over5 = ad_info[ad_info['views'] >= 5].sort_values('ctr', ascending=False)\n",
    "print(ad_info_views_over5.shape) # (255975, 4)\n",
    "print(ad_info_views_over5.head())"
   ]
  },
  {
   "cell_type": "markdown",
   "metadata": {},
   "source": [
    "# click_train의 ad_id의 ctr을 clicks_test에 복붙하자"
   ]
  },
  {
   "cell_type": "code",
   "execution_count": 8,
   "metadata": {},
   "outputs": [
    {
     "name": "stdout",
     "output_type": "stream",
     "text": [
      "   display_id   ad_id    views   clicks     ctr  ctr.percent\n",
      "0    16874594   66758   5642.0    373.0  0.0661         6.61\n",
      "1    16874594  150083  77514.0   5261.0  0.0679         6.79\n",
      "2    16874594  162754  66599.0  15919.0  0.2390        23.90\n",
      "3    16874594  170392  15054.0   5261.0  0.3495        34.95\n",
      "4    16874594  172888  15081.0   5162.0  0.3423        34.23\n",
      "(32225162, 2)\n",
      "(32225162, 6)\n",
      "(1510415, 6)\n"
     ]
    }
   ],
   "source": [
    "ad_info_unq = ad_info_views_over5\n",
    "click_test_with_ad_info = pd.merge(clicks_test, ad_info_unq, on='ad_id', how='left')\n",
    "print(click_test_with_ad_info.head())\n",
    "nan_rows = click_test_with_ad_info[click_test_with_ad_info['views'].isnull()]\n",
    "print(clicks_test.shape)\n",
    "print(click_test_with_ad_info.shape)\n",
    "print(nan_rows.shape)\n",
    "# df = df.fillna(0)"
   ]
  },
  {
   "cell_type": "code",
   "execution_count": 24,
   "metadata": {},
   "outputs": [
    {
     "name": "stdout",
     "output_type": "stream",
     "text": [
      "(31116698,)\n"
     ]
    }
   ],
   "source": [
    "# clicks_test에서 NaN의 비율 = 4.69%\n",
    "1510415/32225162*100\n",
    "nan_rows = click_test_with_ad_info[click_test_with_ad_info['views'].isnull()]\n",
    "# print(nan_rows.shape)\n",
    "nan_rows = click_test_with_ad_info[click_test_with_ad_info['clicks'].isnull()]\n",
    "# print(nan_rows.shape)\n",
    "\n",
    "# unique\n",
    "train_ad = clicks_train['ad_id'].unique()\n",
    "test_ad = clicks_test['ad_id'].unique()\n",
    "#print(train_ad.shape) # 478950\n",
    "#print(test_ad.shape) # 381385\n",
    "inter = np.intersect1d(test_ad, train_ad)\n",
    "#print(inter.shape) # 316035\n",
    "\n",
    "# all\n",
    "train_ad = clicks_train['ad_id']\n",
    "test_ad = clicks_test['ad_id']\n",
    "inter = test_ad[test_ad.isin(train_ad)]\n",
    "print(inter.shape) # 31116698"
   ]
  },
  {
   "cell_type": "code",
   "execution_count": 25,
   "metadata": {},
   "outputs": [
    {
     "data": {
      "text/plain": [
       "96.47044401761181"
      ]
     },
     "execution_count": 25,
     "metadata": {},
     "output_type": "execute_result"
    }
   ],
   "source": [
    "# test set에 있는 ad 중에 train set에도 있는 비율은? \n",
    "316035/381385*100 # unique 기준 82.8%\n",
    "31116698/32255162*100 # 전체 기준 96%"
   ]
  },
  {
   "cell_type": "code",
   "execution_count": 10,
   "metadata": {},
   "outputs": [
    {
     "name": "stdout",
     "output_type": "stream",
     "text": [
      "          display_id   ad_id  ctr\n",
      "13286893    19447550  436833  1.0\n",
      "13253671    19441198  436833  1.0\n",
      "5540386     17949678  393472  1.0\n",
      "19996662    20752263  395356  1.0\n",
      "25203137    21758924  156796  1.0\n"
     ]
    }
   ],
   "source": [
    "# ctr 내림차순으로 정렬\n",
    "click_test_with_ad_info_desc = click_test_with_ad_info.sort_values('ctr', ascending=False)\n",
    "ready_for_submission = click_test_with_ad_info_desc[['display_id', 'ad_id', 'ctr']]\n",
    "print(ready_for_submission.head())"
   ]
  },
  {
   "cell_type": "code",
   "execution_count": 12,
   "metadata": {},
   "outputs": [
    {
     "name": "stdout",
     "output_type": "stream",
     "text": [
      "\n",
      "\n",
      "Updates are available for some Cloud SDK components.  To install them,\n",
      "please run:\n",
      "  $ gcloud components update\n",
      "\n",
      "Copying file://dis_ad_ctr.csv [Content-Type=text/csv]...\n",
      "==> NOTE: You are uploading one or more large file(s), which would run          \n",
      "significantly faster if you enable parallel composite uploads. This\n",
      "feature can be enabled by editing the\n",
      "\"parallel_composite_upload_threshold\" value in your .boto\n",
      "configuration file. However, note that if you do this large files will\n",
      "be uploaded as `composite objects\n",
      "<https://cloud.google.com/storage/docs/composite-objects>`_,which\n",
      "means that any user who downloads such objects will need to have a\n",
      "compiled crcmod installed (see \"gsutil help crcmod\"). This is because\n",
      "without a compiled crcmod, computing checksums on composite objects is\n",
      "so slow that gsutil disables downloads of composite objects.\n",
      "\n",
      "\\ [1 files][685.5 MiB/685.5 MiB]                                                \n",
      "Operation completed over 1 objects/685.5 MiB.                                    \n"
     ]
    }
   ],
   "source": [
    "ready_for_submission.to_csv('dis_ad_ctr.csv', index = False)\n",
    "!gsutil cp 'dis_ad_ctr.csv' 'gs://capstone-01/dis_ad_ctr.csv'\n",
    "\n",
    "# df.to_csv('text.csv', index = False)\n",
    "# !gsutil cp 'text.csv' 'gs://path-to-your-bucket/test.csv'\n",
    "# %gcs read --object gs://path-to-your-bucket/test.csv --variable test_file\n",
    "# df2 = pd.read_csv(BytesIO(test_file))"
   ]
  },
  {
   "cell_type": "code",
   "execution_count": 11,
   "metadata": {},
   "outputs": [
    {
     "name": "stdout",
     "output_type": "stream",
     "text": [
      "<class 'pandas.core.series.Series'>\n"
     ]
    }
   ],
   "source": [
    "ready_for_submission_group = ready_for_submission.groupby('display_id')['ad_id'].apply(list)\n",
    "print(type(ready_for_submission_group))\n",
    "\n",
    "#ready_for_submission_group.reset_index(level=['display_id'], inplace=True) # group_by 후 index였던 display_id를 컬럼으로\n",
    "\n",
    "#ready_for_submission_group.to_csv('test_1.csv', index = False)\n",
    "#!gsutil cp 'test_1.csv' 'gs://capstone-01/test_1.csv'"
   ]
  },
  {
   "cell_type": "code",
   "execution_count": 34,
   "metadata": {},
   "outputs": [
    {
     "name": "stdout",
     "output_type": "stream",
     "text": [
      "<class 'pandas.core.frame.DataFrame'>\n",
      "<class 'pandas.core.frame.DataFrame'>\n",
      "   display_id                                              ad_id\n",
      "0    16874594    [170392, 172888, 162754, 150083, 66758, 180797]\n",
      "1    16874595                              [8846, 143982, 30609]\n",
      "2    16874596  [289915, 11430, 289122, 132820, 57197, 153260,...\n",
      "3    16874597  [305790, 285834, 143981, 182039, 155945, 18096...\n",
      "4    16874598                    [145937, 335632, 67292, 250082]\n",
      "5    16874599    [173130, 91681, 213116, 210516, 296295, 163776]\n",
      "6    16874600        [30682, 2150, 57591, 70529, 133050, 114836]\n",
      "7    16874601     [190713, 92003, 129490, 14082, 140942, 118470]\n",
      "8    16874602           [154918, 281563, 269017, 131316, 268548]\n",
      "9    16874603                    [163139, 156050, 44460, 140423]\n",
      "Copying file://dis_several_ads.csv [Content-Type=text/csv]...\n",
      "==> NOTE: You are uploading one or more large file(s), which would run          \n",
      "significantly faster if you enable parallel composite uploads. This\n",
      "feature can be enabled by editing the\n",
      "\"parallel_composite_upload_threshold\" value in your .boto\n",
      "configuration file. However, note that if you do this large files will\n",
      "be uploaded as `composite objects\n",
      "<https://cloud.google.com/storage/docs/composite-objects>`_,which\n",
      "means that any user who downloads such objects will need to have a\n",
      "compiled crcmod installed (see \"gsutil help crcmod\"). This is because\n",
      "without a compiled crcmod, computing checksums on composite objects is\n",
      "so slow that gsutil disables downloads of composite objects.\n",
      "\n",
      "\\ [1 files][309.1 MiB/309.1 MiB]                                                \n",
      "Operation completed over 1 objects/309.1 MiB.                                    \n"
     ]
    }
   ],
   "source": [
    "ready_for_submission_group_new = ready_for_submission_group.to_frame()\n",
    "print(type(ready_for_submission_group_new))\n",
    "ready_for_submission_group_new.reset_index(level=['display_id'], inplace=True)\n",
    "print(type(ready_for_submission_group_new))\n",
    "\n",
    "print(ready_for_submission_group_new.head(10))\n",
    "\n",
    "ready_for_submission_group_new.to_csv('dis_several_ads.csv', index = False)\n",
    "!gsutil cp 'dis_several_ads.csv' 'gs://capstone-01/dis_several_ads.csv'"
   ]
  },
  {
   "cell_type": "code",
   "execution_count": 33,
   "metadata": {},
   "outputs": [
    {
     "data": {
      "text/html": [
       "<div>\n",
       "<style scoped>\n",
       "    .dataframe tbody tr th:only-of-type {\n",
       "        vertical-align: middle;\n",
       "    }\n",
       "\n",
       "    .dataframe tbody tr th {\n",
       "        vertical-align: top;\n",
       "    }\n",
       "\n",
       "    .dataframe thead th {\n",
       "        text-align: right;\n",
       "    }\n",
       "</style>\n",
       "<table border=\"1\" class=\"dataframe\">\n",
       "  <thead>\n",
       "    <tr style=\"text-align: right;\">\n",
       "      <th></th>\n",
       "      <th>display_id</th>\n",
       "      <th>ad_id</th>\n",
       "      <th>ctr</th>\n",
       "    </tr>\n",
       "  </thead>\n",
       "  <tbody>\n",
       "    <tr>\n",
       "      <th>3</th>\n",
       "      <td>16874594</td>\n",
       "      <td>170392</td>\n",
       "      <td>0.3495</td>\n",
       "    </tr>\n",
       "    <tr>\n",
       "      <th>4</th>\n",
       "      <td>16874594</td>\n",
       "      <td>172888</td>\n",
       "      <td>0.3423</td>\n",
       "    </tr>\n",
       "    <tr>\n",
       "      <th>2</th>\n",
       "      <td>16874594</td>\n",
       "      <td>162754</td>\n",
       "      <td>0.2390</td>\n",
       "    </tr>\n",
       "    <tr>\n",
       "      <th>1</th>\n",
       "      <td>16874594</td>\n",
       "      <td>150083</td>\n",
       "      <td>0.0679</td>\n",
       "    </tr>\n",
       "    <tr>\n",
       "      <th>0</th>\n",
       "      <td>16874594</td>\n",
       "      <td>66758</td>\n",
       "      <td>0.0661</td>\n",
       "    </tr>\n",
       "    <tr>\n",
       "      <th>5</th>\n",
       "      <td>16874594</td>\n",
       "      <td>180797</td>\n",
       "      <td>0.0288</td>\n",
       "    </tr>\n",
       "  </tbody>\n",
       "</table>\n",
       "</div>"
      ],
      "text/plain": [
       "   display_id   ad_id     ctr\n",
       "3    16874594  170392  0.3495\n",
       "4    16874594  172888  0.3423\n",
       "2    16874594  162754  0.2390\n",
       "1    16874594  150083  0.0679\n",
       "0    16874594   66758  0.0661\n",
       "5    16874594  180797  0.0288"
      ]
     },
     "execution_count": 33,
     "metadata": {},
     "output_type": "execute_result"
    }
   ],
   "source": [
    "# CTR 내림차순으로 잘 정렬되었나 확인하기 -> 확인완료\n",
    "ready_for_submission[ready_for_submission['display_id']==16874594]"
   ]
  },
  {
   "cell_type": "markdown",
   "metadata": {},
   "source": [
    "# train set에서 CTR 분포 살펴보기"
   ]
  },
  {
   "cell_type": "code",
   "execution_count": 77,
   "metadata": {},
   "outputs": [
    {
     "name": "stdout",
     "output_type": "stream",
     "text": [
      "ctr\n",
      "0.00    224814\n",
      "0.17         1\n",
      "0.19         1\n",
      "0.23         1\n",
      "0.25         1\n",
      "0.26         1\n",
      "0.29         1\n",
      "0.31         1\n",
      "0.33         1\n",
      "0.34         2\n",
      "Name: ctr, dtype: int64\n",
      "41.12952799121844\n"
     ]
    }
   ],
   "source": [
    "# train에서 CTR 수치별 분포를 살펴보자\n",
    "train_copy = clicks_train.copy()\n",
    "train_copy[\"ctr\"] = ctr*100\n",
    "train_ctr = train_copy.groupby('ctr')['ctr'].count() # CTR별로 grouping\n",
    "print(train_ctr.head(10))\n",
    "print(224814/len(train_ctr)) # proportion of 0%"
   ]
  },
  {
   "cell_type": "code",
   "execution_count": 75,
   "metadata": {},
   "outputs": [
    {
     "name": "stdout",
     "output_type": "stream",
     "text": [
      "5394\n"
     ]
    },
    {
     "name": "stderr",
     "output_type": "stream",
     "text": [
      "/usr/local/envs/py3env/lib/python3.5/site-packages/matplotlib/font_manager.py:1320: UserWarning: findfont: Font family ['sans-serif'] not found. Falling back to DejaVu Sans\n",
      "  (prop.get_family(), self.defaultFamily[fontext]))\n"
     ]
    },
    {
     "data": {
      "image/png": "[encoded data removed]",
      "text/plain": [
       "<matplotlib.figure.Figure at 0x7fc2842a9278>"
      ]
     },
     "metadata": {},
     "output_type": "display_data"
    }
   ],
   "source": [
    "# plotting\n",
    "train_ctr_notzero = train_ctr[1:] # except ctr=0 \n",
    "print(len(train_ctr_notzero))\n",
    "\n",
    "plt.figure(figsize=(12,6))\n",
    "plt.plot(train_ctr_notzero.index, train_ctr_notzero.values)\n",
    "plt.xlabel('CTR', fontsize=12)\n",
    "plt.ylabel('Observation', fontsize=12)\n",
    "plt.show()"
   ]
  }
 ],
 "metadata": {
  "kernelspec": {
   "display_name": "Python 3",
   "language": "python",
   "name": "python3"
  },
  "language_info": {
   "codemirror_mode": {
    "name": "ipython",
    "version": 3
   },
   "file_extension": ".py",
   "mimetype": "text/x-python",
   "name": "python",
   "nbconvert_exporter": "python",
   "pygments_lexer": "ipython3",
   "version": "3.5.5"
  }
 },
 "nbformat": 4,
 "nbformat_minor": 2
}
